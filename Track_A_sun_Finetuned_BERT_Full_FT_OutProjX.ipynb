{
 "cells": [
  {
   "cell_type": "markdown",
   "metadata": {},
   "source": [
    "### References\n",
    "- Multi-Label Classification Model From Scratch: Step-by-Step Tutorial (https://huggingface.co/blog/Valerii-Knowledgator/multi-label-classification)\n",
    "- https://github.com/NielsRogge/Transformers-Tutorials/blob/master/BERT/Fine_tuning_BERT_(and_friends)_for_multi_label_text_classification.ipynb\n",
    "- https://github.com/huggingface/notebooks/blob/main/examples/text_classification.ipynb"
   ]
  },
  {
   "cell_type": "markdown",
   "metadata": {},
   "source": [
    "# Libraries"
   ]
  },
  {
   "cell_type": "code",
   "execution_count": 1,
   "metadata": {},
   "outputs": [
    {
     "name": "stdout",
     "output_type": "stream",
     "text": [
      "\u001b[2K   \u001b[90m━━━━━━━━━━━━━━━━━━━━━━━━━━━━━━━━━━━━━━━━\u001b[0m \u001b[32m480.6/480.6 kB\u001b[0m \u001b[31m17.5 MB/s\u001b[0m eta \u001b[36m0:00:00\u001b[0m\n",
      "\u001b[2K   \u001b[90m━━━━━━━━━━━━━━━━━━━━━━━━━━━━━━━━━━━━━━━━\u001b[0m \u001b[32m116.3/116.3 kB\u001b[0m \u001b[31m9.8 MB/s\u001b[0m eta \u001b[36m0:00:00\u001b[0m\n",
      "\u001b[2K   \u001b[90m━━━━━━━━━━━━━━━━━━━━━━━━━━━━━━━━━━━━━━━━\u001b[0m \u001b[32m179.3/179.3 kB\u001b[0m \u001b[31m15.9 MB/s\u001b[0m eta \u001b[36m0:00:00\u001b[0m\n",
      "\u001b[2K   \u001b[90m━━━━━━━━━━━━━━━━━━━━━━━━━━━━━━━━━━━━━━━━\u001b[0m \u001b[32m134.8/134.8 kB\u001b[0m \u001b[31m13.0 MB/s\u001b[0m eta \u001b[36m0:00:00\u001b[0m\n",
      "\u001b[2K   \u001b[90m━━━━━━━━━━━━━━━━━━━━━━━━━━━━━━━━━━━━━━━━\u001b[0m \u001b[32m194.1/194.1 kB\u001b[0m \u001b[31m17.7 MB/s\u001b[0m eta \u001b[36m0:00:00\u001b[0m\n",
      "\u001b[?25h\u001b[31mERROR: pip's dependency resolver does not currently take into account all the packages that are installed. This behaviour is the source of the following dependency conflicts.\n",
      "gcsfs 2024.10.0 requires fsspec==2024.10.0, but you have fsspec 2024.9.0 which is incompatible.\u001b[0m\u001b[31m\n",
      "\u001b[0m"
     ]
    }
   ],
   "source": [
    "%pip install -q -U datasets transformers accelerate sentencepiece"
   ]
  },
  {
   "cell_type": "code",
   "execution_count": 2,
   "metadata": {},
   "outputs": [],
   "source": [
    "import os\n",
    "import random\n",
    "import numpy as np\n",
    "import torch\n",
    "import transformers\n",
    "from pprint import pprint\n",
    "from datetime import datetime\n",
    "from datasets import load_dataset\n",
    "from transformers import AutoModelForSequenceClassification, AutoTokenizer, DataCollatorWithPadding, Trainer, TrainingArguments\n",
    "from sklearn.metrics import f1_score"
   ]
  },
  {
   "cell_type": "markdown",
   "metadata": {},
   "source": [
    "# Config"
   ]
  },
  {
   "cell_type": "code",
   "execution_count": 30,
   "metadata": {},
   "outputs": [
    {
     "name": "stdout",
     "output_type": "stream",
     "text": [
      "Project name: RoBERTa-Base-SE2025T11A-sun-v20250108144055\n"
     ]
    }
   ],
   "source": [
    "seed = 42\n",
    "lang = 'sun'\n",
    "project_name = f'RoBERTa-Base-SE2025T11A-{lang}-v{datetime.now().strftime(\"%Y%m%d%H%M%S\")}'\n",
    "print(\"Project name:\", project_name)\n",
    "\n",
    "# hf_model_id = 'bhadresh-savani/roberta-base-emotion'\n",
    "# hf_model_id = 'bhadresh-savani/bert-base-uncased-emotion'\n",
    "# hf_model_id = 'w11wo/sundanese-bert-base-emotion-classifier'\n",
    "hf_model_id = 'w11wo/sundanese-roberta-base-emotion-classifier'\n",
    "# hf_model_id = 'w11wo/sundanese-roberta-base'\n",
    "# hf_model_id = 'alxxtexxr/XLM-RoBERTa-Base-Sundanese-Emotion-Classifier-v20241222170134'\n",
    "hf_tokenizer_id = hf_model_id\n",
    "hf_data_id = 'alxxtexxr/SemEval2025-Task11-Dataset'\n",
    "# hf_data_config = 'track_a_sun_70_15_15_stratify_v2'\n",
    "hf_data_config = 'track_a_sun_go_emotions_70_15_15_stratify_v2'\n",
    "# hf_data_config = 'track_a_sun_go_emotions_70_15_15_balanced'\n",
    "\n",
    "num_epochs = 8"
   ]
  },
  {
   "cell_type": "code",
   "execution_count": 31,
   "metadata": {},
   "outputs": [
    {
     "name": "stdout",
     "output_type": "stream",
     "text": [
      "Random seed set to: 42\n"
     ]
    }
   ],
   "source": [
    "def set_seed(seed):\n",
    "    # Set random seed for NumPy\n",
    "    np.random.seed(seed)\n",
    "\n",
    "    # Set random seed for Torch\n",
    "    torch.manual_seed(seed)\n",
    "    torch.cuda.manual_seed(seed)\n",
    "    torch.cuda.manual_seed_all(seed)  # if using multi-GPU\n",
    "    torch.backends.cudnn.deterministic = True  # Ensures deterministic results\n",
    "    torch.backends.cudnn.benchmark = False  # Avoids non-deterministic algorithms\n",
    "\n",
    "    # Set random seed for Transformers\n",
    "    transformers.set_seed(seed)\n",
    "\n",
    "    # Optionally set random seed for sklearn and Python's own random module\n",
    "    random.seed(seed)\n",
    "\n",
    "    # Set random seed for os\n",
    "    os.environ['PYTHONHASHSEED'] = str(seed)\n",
    "\n",
    "    print(f\"Random seed set to: {seed}\")\n",
    "\n",
    "set_seed(seed)"
   ]
  },
  {
   "cell_type": "markdown",
   "metadata": {},
   "source": [
    "# Data"
   ]
  },
  {
   "cell_type": "markdown",
   "metadata": {},
   "source": [
    "## Load Data"
   ]
  },
  {
   "cell_type": "code",
   "execution_count": 32,
   "metadata": {},
   "outputs": [
    {
     "name": "stdout",
     "output_type": "stream",
     "text": [
      "Data columns: ['text', 'emotion', 'marah', 'jijik', 'takut', 'senang', 'sedih', 'terkejut', 'biasa']\n",
      "Emotions columns: ['marah', 'jijik', 'takut', 'senang', 'sedih', 'terkejut', 'biasa']\n"
     ]
    }
   ],
   "source": [
    "datasets = load_dataset(hf_data_id, hf_data_config)\n",
    "\n",
    "cols = list(datasets['train'].features)\n",
    "emotion_cols = [col for col in cols if col not in ['Unnamed: 0', 'text', 'emotion']]\n",
    "splits = [*datasets.keys()]\n",
    "\n",
    "print(\"Data columns:\", cols)\n",
    "print(\"Emotions columns:\", emotion_cols)"
   ]
  },
  {
   "cell_type": "code",
   "execution_count": 33,
   "metadata": {},
   "outputs": [],
   "source": [
    "# Reorder emotion columns\n",
    "emotion_cols = ['senang', 'marah', 'sedih', 'takut', 'jijik', 'terkejut', 'biasa']"
   ]
  },
  {
   "cell_type": "code",
   "execution_count": 34,
   "metadata": {},
   "outputs": [
    {
     "name": "stdout",
     "output_type": "stream",
     "text": [
      "Class to ID:\n",
      "{'biasa': 6,\n",
      " 'jijik': 4,\n",
      " 'marah': 1,\n",
      " 'sedih': 2,\n",
      " 'senang': 0,\n",
      " 'takut': 3,\n",
      " 'terkejut': 5}\n",
      "\n",
      "ID to Class:\n",
      "{0: 'senang',\n",
      " 1: 'marah',\n",
      " 2: 'sedih',\n",
      " 3: 'takut',\n",
      " 4: 'jijik',\n",
      " 5: 'terkejut',\n",
      " 6: 'biasa'}\n"
     ]
    }
   ],
   "source": [
    "class2id = {class_:id for id, class_ in enumerate(emotion_cols)}\n",
    "id2class = {id:class_ for class_, id in class2id.items()}\n",
    "\n",
    "print(\"Class to ID:\")\n",
    "pprint(class2id, width=1)\n",
    "print()\n",
    "print(\"ID to Class:\")\n",
    "pprint(id2class, width=1)"
   ]
  },
  {
   "cell_type": "markdown",
   "metadata": {},
   "source": [
    "## Preprocess Data"
   ]
  },
  {
   "cell_type": "code",
   "execution_count": 35,
   "metadata": {},
   "outputs": [
    {
     "data": {
      "application/vnd.jupyter.widget-view+json": {
       "model_id": "1b742819d33b49deafb2fd3a0055c3ba",
       "version_major": 2,
       "version_minor": 0
      },
      "text/plain": [
       "tokenizer_config.json:   0%|          | 0.00/318 [00:00<?, ?B/s]"
      ]
     },
     "metadata": {},
     "output_type": "display_data"
    },
    {
     "data": {
      "application/vnd.jupyter.widget-view+json": {
       "model_id": "50ab608f7cc64c47bf0db1614387a0e9",
       "version_major": 2,
       "version_minor": 0
      },
      "text/plain": [
       "vocab.json:   0%|          | 0.00/786k [00:00<?, ?B/s]"
      ]
     },
     "metadata": {},
     "output_type": "display_data"
    },
    {
     "data": {
      "application/vnd.jupyter.widget-view+json": {
       "model_id": "c08b062df0db4c4f8957fe116db1d58b",
       "version_major": 2,
       "version_minor": 0
      },
      "text/plain": [
       "merges.txt:   0%|          | 0.00/445k [00:00<?, ?B/s]"
      ]
     },
     "metadata": {},
     "output_type": "display_data"
    },
    {
     "data": {
      "application/vnd.jupyter.widget-view+json": {
       "model_id": "28d51015b2e14d29bbd6e0658b09cbe7",
       "version_major": 2,
       "version_minor": 0
      },
      "text/plain": [
       "tokenizer.json:   0%|          | 0.00/1.33M [00:00<?, ?B/s]"
      ]
     },
     "metadata": {},
     "output_type": "display_data"
    },
    {
     "data": {
      "application/vnd.jupyter.widget-view+json": {
       "model_id": "c872f2107b7942dc9b25554014a0dbde",
       "version_major": 2,
       "version_minor": 0
      },
      "text/plain": [
       "special_tokens_map.json:   0%|          | 0.00/239 [00:00<?, ?B/s]"
      ]
     },
     "metadata": {},
     "output_type": "display_data"
    }
   ],
   "source": [
    "tokenizer = AutoTokenizer.from_pretrained(hf_tokenizer_id)"
   ]
  },
  {
   "cell_type": "code",
   "execution_count": 36,
   "metadata": {},
   "outputs": [
    {
     "data": {
      "application/vnd.jupyter.widget-view+json": {
       "model_id": "ef18b6078b43448684b348e493b0c838",
       "version_major": 2,
       "version_minor": 0
      },
      "text/plain": [
       "Map:   0%|          | 0/1765 [00:00<?, ? examples/s]"
      ]
     },
     "metadata": {},
     "output_type": "display_data"
    },
    {
     "name": "stderr",
     "output_type": "stream",
     "text": [
      "Asking to truncate to max_length but no maximum length is provided and the model has no predefined maximum length. Default to no truncation.\n"
     ]
    },
    {
     "data": {
      "application/vnd.jupyter.widget-view+json": {
       "model_id": "f4204c2a573d4ecc88508c272875c4db",
       "version_major": 2,
       "version_minor": 0
      },
      "text/plain": [
       "Map:   0%|          | 0/365 [00:00<?, ? examples/s]"
      ]
     },
     "metadata": {},
     "output_type": "display_data"
    },
    {
     "data": {
      "application/vnd.jupyter.widget-view+json": {
       "model_id": "9dcaf5f8c4c747939771268024bd78ed",
       "version_major": 2,
       "version_minor": 0
      },
      "text/plain": [
       "Map:   0%|          | 0/365 [00:00<?, ? examples/s]"
      ]
     },
     "metadata": {},
     "output_type": "display_data"
    }
   ],
   "source": [
    "def one_hot_encode_emotion(emotion, emotion_cols):\n",
    "    emotions = emotion.replace(\" \", \"\").split(\",\")\n",
    "    one_hot_emotion = [1.0 if emotion_col in emotions else 0.0 for emotion_col in emotion_cols] # Ensure that the label is float, not int\n",
    "    return one_hot_emotion\n",
    "\n",
    "def preprocess_function(data):\n",
    "   text = data['text']\n",
    "   emotion = data['emotion']\n",
    "   labels = one_hot_encode_emotion(emotion, emotion_cols)\n",
    "   data = tokenizer(text, truncation=True)\n",
    "   data['labels'] = labels\n",
    "   return data\n",
    "\n",
    "tokenized_datasets = {split: datasets[split].map(preprocess_function) for split in splits}"
   ]
  },
  {
   "cell_type": "code",
   "execution_count": 37,
   "metadata": {},
   "outputs": [
    {
     "name": "stdout",
     "output_type": "stream",
     "text": [
      "Text: Sigana anjeun lalaki séjén anu henteu resep ka legion ;D\n",
      "Emotion(s): marah, jijik\n",
      "Labels: [0.0, 1.0, 0.0, 0.0, 1.0, 0.0, 0.0] --> ['senang', 'marah', 'sedih', 'takut', 'jijik', 'terkejut', 'biasa']\n"
     ]
    }
   ],
   "source": [
    "# Sanity check\n",
    "data = tokenized_datasets['train'][5]\n",
    "\n",
    "print(\"Text:\", data['text'])\n",
    "print(\"Emotion(s):\", data['emotion'])\n",
    "print(\"Labels:\", data['labels'], '-->', emotion_cols)"
   ]
  },
  {
   "cell_type": "code",
   "execution_count": 38,
   "metadata": {},
   "outputs": [],
   "source": [
    "data_collator = DataCollatorWithPadding(tokenizer)"
   ]
  },
  {
   "cell_type": "markdown",
   "metadata": {},
   "source": [
    "# Model"
   ]
  },
  {
   "cell_type": "code",
   "execution_count": 39,
   "metadata": {},
   "outputs": [
    {
     "data": {
      "application/vnd.jupyter.widget-view+json": {
       "model_id": "cd4212e6bb6349b7bbe82a501786f895",
       "version_major": 2,
       "version_minor": 0
      },
      "text/plain": [
       "config.json:   0%|          | 0.00/942 [00:00<?, ?B/s]"
      ]
     },
     "metadata": {},
     "output_type": "display_data"
    },
    {
     "data": {
      "application/vnd.jupyter.widget-view+json": {
       "model_id": "b7043430bdb84b338c6438cba66fbdf3",
       "version_major": 2,
       "version_minor": 0
      },
      "text/plain": [
       "model.safetensors:   0%|          | 0.00/499M [00:00<?, ?B/s]"
      ]
     },
     "metadata": {},
     "output_type": "display_data"
    },
    {
     "name": "stdout",
     "output_type": "stream",
     "text": [
      "RobertaClassificationHead(\n",
      "  (dense): Linear(in_features=768, out_features=768, bias=True)\n",
      "  (dropout): Dropout(p=0.1, inplace=False)\n",
      "  (out_proj): Linear(in_features=768, out_features=4, bias=True)\n",
      ")\n"
     ]
    }
   ],
   "source": [
    "# ################################ TRANSFER LEARNING ################################\n",
    "model = AutoModelForSequenceClassification.from_pretrained(\n",
    "    hf_model_id, \n",
    "    # num_labels=len(emotion_cols),\n",
    "    # id2label=id2class, \n",
    "    # label2id=class2id,\n",
    "    problem_type = \"multi_label_classification\",\n",
    ")\n",
    "print(model.classifier)\n",
    "\n",
    "# Freeze the rest of the layers for transfer learning\n",
    "# for param in model.parameters():\n",
    "#     param.requires_grad = False\n",
    "\n",
    "# model.classifier.out_proj = torch.nn.Linear(in_features=768, out_features=len(emotion_cols), bias=True)\n",
    "# print(model.classifier)"
   ]
  },
  {
   "cell_type": "code",
   "execution_count": 46,
   "metadata": {},
   "outputs": [
    {
     "name": "stdout",
     "output_type": "stream",
     "text": [
      "out_proj weight shape: torch.Size([4, 768])\n",
      "out_proj bias shape: torch.Size([4])\n",
      "\n",
      "out_proj weight shape (extended): torch.Size([7, 768])\n",
      "out_proj bias shape (extended): torch.Size([7])\n"
     ]
    }
   ],
   "source": [
    "out_proj = model.classifier.out_proj\n",
    "out_proj_w = model.classifier.out_proj.weight.data\n",
    "out_proj_b = model.classifier.out_proj.bias.data\n",
    "print(\"out_proj weight shape:\", out_proj_w.shape)\n",
    "print(\"out_proj bias shape:\", out_proj_b.shape)\n",
    "print()\n",
    "\n",
    "# Extend out_proj layer\n",
    "out_proj_w_extended = torch.cat([out_proj_w, torch.randn(len(emotion_cols) - out_proj_w.shape[0], out_proj_w.shape[1])], dim=0)\n",
    "out_proj_b_extended = torch.cat([out_proj_b, torch.randn(len(emotion_cols) - out_proj_b.shape[0])], dim=0)\n",
    "print(\"out_proj weight shape (extended):\", out_proj_w_extended.shape)\n",
    "print(\"out_proj bias shape (extended):\", out_proj_b_extended.shape)\n",
    "\n",
    "out_proj_extended = torch.nn.Linear(in_features=out_proj_w.shape[1], out_features=len(emotion_cols), bias=True)"
   ]
  },
  {
   "cell_type": "markdown",
   "metadata": {},
   "source": [
    "# Finetuning"
   ]
  },
  {
   "cell_type": "code",
   "execution_count": 13,
   "metadata": {},
   "outputs": [],
   "source": [
    "def sigmoid(x):\n",
    "   return 1/(1 + np.exp(-x))\n",
    "\n",
    "def compute_metrics(eval_pred):\n",
    "    predictions, labels = eval_pred\n",
    "    probs = sigmoid(predictions)\n",
    "    y_pred = (probs > 0.5).astype(int)\n",
    "    y_true = labels.astype(int)\n",
    "\n",
    "    # Compute F1 score for each type of averaging method\n",
    "    f1_micro = f1_score(y_true, y_pred, average='micro', zero_division=0.0)\n",
    "    f1_macro = f1_score(y_true, y_pred, average='macro', zero_division=0.0)\n",
    "    f1_weighted = f1_score(y_true, y_pred, average='weighted', zero_division=0.0)\n",
    "    f1_samples = f1_score(y_true, y_pred, average='samples', zero_division=0.0)\n",
    "    f1_labels = f1_score(y_true, y_pred, average=None, zero_division=0.0)\n",
    "    f1_labels_dict = {f'f1_label_{emotion_cols[i]}': f1_labels[i] for i in range(len(f1_labels))}\n",
    "\n",
    "    return {\n",
    "        'f1_macro': f1_macro,\n",
    "        'f1_micro': f1_micro,\n",
    "        'f1_weighted': f1_weighted,\n",
    "        'f1_samples': f1_samples,\n",
    "        **f1_labels_dict,\n",
    "    }"
   ]
  },
  {
   "cell_type": "code",
   "execution_count": 14,
   "metadata": {},
   "outputs": [
    {
     "name": "stderr",
     "output_type": "stream",
     "text": [
      "<ipython-input-14-dc5948f208f6>:23: FutureWarning: `tokenizer` is deprecated and will be removed in version 5.0.0 for `Trainer.__init__`. Use `processing_class` instead.\n",
      "  trainer = Trainer(\n"
     ]
    }
   ],
   "source": [
    "train_args = TrainingArguments(\n",
    "    # Training config\n",
    "    per_device_train_batch_size=2,\n",
    "    num_train_epochs=num_epochs,\n",
    "    learning_rate=2e-5,\n",
    "    weight_decay=0.01,\n",
    "\n",
    "    # Logging config for training\n",
    "    logging_strategy='steps',\n",
    "    logging_steps=100,\n",
    "\n",
    "    # Evaluation config during training\n",
    "    per_device_eval_batch_size=2,\n",
    "    eval_strategy='steps',\n",
    "    eval_steps=100,\n",
    "\n",
    "    # Model saving config\n",
    "    output_dir=project_name,\n",
    "    save_strategy='epoch',\n",
    "    # load_best_model_at_end=True,\n",
    ")\n",
    "\n",
    "trainer = Trainer(\n",
    "    model=model,\n",
    "    args=train_args,\n",
    "    train_dataset=tokenized_datasets['train'],\n",
    "    eval_dataset=tokenized_datasets['val'],\n",
    "    tokenizer=tokenizer,\n",
    "    data_collator=data_collator,\n",
    "    compute_metrics=compute_metrics,\n",
    ")"
   ]
  },
  {
   "cell_type": "code",
   "execution_count": 15,
   "metadata": {},
   "outputs": [
    {
     "name": "stderr",
     "output_type": "stream",
     "text": [
      "\u001b[34m\u001b[1mwandb\u001b[0m: \u001b[33mWARNING\u001b[0m The `run_name` is currently set to the same value as `TrainingArguments.output_dir`. If this was not intended, please specify a different run name by setting the `TrainingArguments.run_name` parameter.\n",
      "\u001b[34m\u001b[1mwandb\u001b[0m: Using wandb-core as the SDK backend.  Please refer to https://wandb.me/wandb-core for more information.\n",
      "\u001b[34m\u001b[1mwandb\u001b[0m: Currently logged in as: \u001b[33malimtegar\u001b[0m. Use \u001b[1m`wandb login --relogin`\u001b[0m to force relogin\n"
     ]
    },
    {
     "data": {
      "text/html": [
       "Tracking run with wandb version 0.19.1"
      ],
      "text/plain": [
       "<IPython.core.display.HTML object>"
      ]
     },
     "metadata": {},
     "output_type": "display_data"
    },
    {
     "data": {
      "text/html": [
       "Run data is saved locally in <code>/content/wandb/run-20250108_112342-zo0tera2</code>"
      ],
      "text/plain": [
       "<IPython.core.display.HTML object>"
      ]
     },
     "metadata": {},
     "output_type": "display_data"
    },
    {
     "data": {
      "text/html": [
       "Syncing run <strong><a href='https://wandb.ai/alimtegar/huggingface/runs/zo0tera2' target=\"_blank\">RoBERTa-Base-SE2025T11A-sun-v20250108112315</a></strong> to <a href='https://wandb.ai/alimtegar/huggingface' target=\"_blank\">Weights & Biases</a> (<a href='https://wandb.me/developer-guide' target=\"_blank\">docs</a>)<br>"
      ],
      "text/plain": [
       "<IPython.core.display.HTML object>"
      ]
     },
     "metadata": {},
     "output_type": "display_data"
    },
    {
     "data": {
      "text/html": [
       " View project at <a href='https://wandb.ai/alimtegar/huggingface' target=\"_blank\">https://wandb.ai/alimtegar/huggingface</a>"
      ],
      "text/plain": [
       "<IPython.core.display.HTML object>"
      ]
     },
     "metadata": {},
     "output_type": "display_data"
    },
    {
     "data": {
      "text/html": [
       " View run at <a href='https://wandb.ai/alimtegar/huggingface/runs/zo0tera2' target=\"_blank\">https://wandb.ai/alimtegar/huggingface/runs/zo0tera2</a>"
      ],
      "text/plain": [
       "<IPython.core.display.HTML object>"
      ]
     },
     "metadata": {},
     "output_type": "display_data"
    },
    {
     "data": {
      "text/html": [
       "\n",
       "    <div>\n",
       "      \n",
       "      <progress value='3711' max='4432' style='width:300px; height:20px; vertical-align: middle;'></progress>\n",
       "      [3711/4432 07:40 < 01:29, 8.05 it/s, Epoch 6.70/8]\n",
       "    </div>\n",
       "    <table border=\"1\" class=\"dataframe\">\n",
       "  <thead>\n",
       " <tr style=\"text-align: left;\">\n",
       "      <th>Step</th>\n",
       "      <th>Training Loss</th>\n",
       "      <th>Validation Loss</th>\n",
       "      <th>F1 Macro</th>\n",
       "      <th>F1 Micro</th>\n",
       "      <th>F1 Weighted</th>\n",
       "      <th>F1 Samples</th>\n",
       "      <th>F1 Label Marah</th>\n",
       "      <th>F1 Label Jijik</th>\n",
       "      <th>F1 Label Takut</th>\n",
       "      <th>F1 Label Senang</th>\n",
       "      <th>F1 Label Sedih</th>\n",
       "      <th>F1 Label Terkejut</th>\n",
       "      <th>F1 Label Biasa</th>\n",
       "    </tr>\n",
       "  </thead>\n",
       "  <tbody>\n",
       "    <tr>\n",
       "      <td>100</td>\n",
       "      <td>0.502600</td>\n",
       "      <td>0.454445</td>\n",
       "      <td>0.038079</td>\n",
       "      <td>0.053872</td>\n",
       "      <td>0.049748</td>\n",
       "      <td>0.034535</td>\n",
       "      <td>0.161290</td>\n",
       "      <td>0.105263</td>\n",
       "      <td>0.000000</td>\n",
       "      <td>0.000000</td>\n",
       "      <td>0.000000</td>\n",
       "      <td>0.000000</td>\n",
       "      <td>0.000000</td>\n",
       "    </tr>\n",
       "    <tr>\n",
       "      <td>200</td>\n",
       "      <td>0.493400</td>\n",
       "      <td>0.431956</td>\n",
       "      <td>0.020420</td>\n",
       "      <td>0.020906</td>\n",
       "      <td>0.019824</td>\n",
       "      <td>0.012012</td>\n",
       "      <td>0.000000</td>\n",
       "      <td>0.000000</td>\n",
       "      <td>0.054054</td>\n",
       "      <td>0.088889</td>\n",
       "      <td>0.000000</td>\n",
       "      <td>0.000000</td>\n",
       "      <td>0.000000</td>\n",
       "    </tr>\n",
       "    <tr>\n",
       "      <td>300</td>\n",
       "      <td>0.419900</td>\n",
       "      <td>0.417166</td>\n",
       "      <td>0.110476</td>\n",
       "      <td>0.204819</td>\n",
       "      <td>0.113570</td>\n",
       "      <td>0.127628</td>\n",
       "      <td>0.000000</td>\n",
       "      <td>0.040000</td>\n",
       "      <td>0.000000</td>\n",
       "      <td>0.733333</td>\n",
       "      <td>0.000000</td>\n",
       "      <td>0.000000</td>\n",
       "      <td>0.000000</td>\n",
       "    </tr>\n",
       "    <tr>\n",
       "      <td>400</td>\n",
       "      <td>0.432800</td>\n",
       "      <td>0.388332</td>\n",
       "      <td>0.196371</td>\n",
       "      <td>0.288000</td>\n",
       "      <td>0.210697</td>\n",
       "      <td>0.170721</td>\n",
       "      <td>0.035714</td>\n",
       "      <td>0.276923</td>\n",
       "      <td>0.000000</td>\n",
       "      <td>0.719101</td>\n",
       "      <td>0.000000</td>\n",
       "      <td>0.342857</td>\n",
       "      <td>0.000000</td>\n",
       "    </tr>\n",
       "    <tr>\n",
       "      <td>500</td>\n",
       "      <td>0.433700</td>\n",
       "      <td>0.382390</td>\n",
       "      <td>0.233520</td>\n",
       "      <td>0.318919</td>\n",
       "      <td>0.239842</td>\n",
       "      <td>0.234234</td>\n",
       "      <td>0.135593</td>\n",
       "      <td>0.148148</td>\n",
       "      <td>0.483871</td>\n",
       "      <td>0.725275</td>\n",
       "      <td>0.095238</td>\n",
       "      <td>0.046512</td>\n",
       "      <td>0.000000</td>\n",
       "    </tr>\n",
       "    <tr>\n",
       "      <td>600</td>\n",
       "      <td>0.382400</td>\n",
       "      <td>0.353319</td>\n",
       "      <td>0.366869</td>\n",
       "      <td>0.432432</td>\n",
       "      <td>0.396388</td>\n",
       "      <td>0.340841</td>\n",
       "      <td>0.430380</td>\n",
       "      <td>0.363636</td>\n",
       "      <td>0.434783</td>\n",
       "      <td>0.720930</td>\n",
       "      <td>0.444444</td>\n",
       "      <td>0.173913</td>\n",
       "      <td>0.000000</td>\n",
       "    </tr>\n",
       "    <tr>\n",
       "      <td>700</td>\n",
       "      <td>0.346100</td>\n",
       "      <td>0.369144</td>\n",
       "      <td>0.443342</td>\n",
       "      <td>0.512821</td>\n",
       "      <td>0.485617</td>\n",
       "      <td>0.450751</td>\n",
       "      <td>0.589286</td>\n",
       "      <td>0.495413</td>\n",
       "      <td>0.539683</td>\n",
       "      <td>0.693333</td>\n",
       "      <td>0.297872</td>\n",
       "      <td>0.487805</td>\n",
       "      <td>0.000000</td>\n",
       "    </tr>\n",
       "    <tr>\n",
       "      <td>800</td>\n",
       "      <td>0.322400</td>\n",
       "      <td>0.347169</td>\n",
       "      <td>0.396376</td>\n",
       "      <td>0.462243</td>\n",
       "      <td>0.426871</td>\n",
       "      <td>0.392643</td>\n",
       "      <td>0.318841</td>\n",
       "      <td>0.495050</td>\n",
       "      <td>0.325581</td>\n",
       "      <td>0.746988</td>\n",
       "      <td>0.533333</td>\n",
       "      <td>0.354839</td>\n",
       "      <td>0.000000</td>\n",
       "    </tr>\n",
       "    <tr>\n",
       "      <td>900</td>\n",
       "      <td>0.335000</td>\n",
       "      <td>0.323669</td>\n",
       "      <td>0.549882</td>\n",
       "      <td>0.567227</td>\n",
       "      <td>0.548736</td>\n",
       "      <td>0.504805</td>\n",
       "      <td>0.612245</td>\n",
       "      <td>0.415584</td>\n",
       "      <td>0.645161</td>\n",
       "      <td>0.783784</td>\n",
       "      <td>0.604651</td>\n",
       "      <td>0.269231</td>\n",
       "      <td>0.518519</td>\n",
       "    </tr>\n",
       "    <tr>\n",
       "      <td>1000</td>\n",
       "      <td>0.331200</td>\n",
       "      <td>0.322581</td>\n",
       "      <td>0.522556</td>\n",
       "      <td>0.555789</td>\n",
       "      <td>0.534288</td>\n",
       "      <td>0.462312</td>\n",
       "      <td>0.541176</td>\n",
       "      <td>0.295082</td>\n",
       "      <td>0.677966</td>\n",
       "      <td>0.738095</td>\n",
       "      <td>0.628571</td>\n",
       "      <td>0.516129</td>\n",
       "      <td>0.260870</td>\n",
       "    </tr>\n",
       "    <tr>\n",
       "      <td>1100</td>\n",
       "      <td>0.314800</td>\n",
       "      <td>0.314315</td>\n",
       "      <td>0.503494</td>\n",
       "      <td>0.579055</td>\n",
       "      <td>0.548371</td>\n",
       "      <td>0.545646</td>\n",
       "      <td>0.636364</td>\n",
       "      <td>0.526316</td>\n",
       "      <td>0.588235</td>\n",
       "      <td>0.795699</td>\n",
       "      <td>0.509091</td>\n",
       "      <td>0.468750</td>\n",
       "      <td>0.000000</td>\n",
       "    </tr>\n",
       "    <tr>\n",
       "      <td>1200</td>\n",
       "      <td>0.227200</td>\n",
       "      <td>0.320325</td>\n",
       "      <td>0.582462</td>\n",
       "      <td>0.590551</td>\n",
       "      <td>0.590351</td>\n",
       "      <td>0.566216</td>\n",
       "      <td>0.574468</td>\n",
       "      <td>0.560748</td>\n",
       "      <td>0.677419</td>\n",
       "      <td>0.756757</td>\n",
       "      <td>0.557377</td>\n",
       "      <td>0.506024</td>\n",
       "      <td>0.444444</td>\n",
       "    </tr>\n",
       "    <tr>\n",
       "      <td>1300</td>\n",
       "      <td>0.241300</td>\n",
       "      <td>0.310641</td>\n",
       "      <td>0.552073</td>\n",
       "      <td>0.582645</td>\n",
       "      <td>0.566280</td>\n",
       "      <td>0.546547</td>\n",
       "      <td>0.625000</td>\n",
       "      <td>0.393939</td>\n",
       "      <td>0.650602</td>\n",
       "      <td>0.736842</td>\n",
       "      <td>0.597015</td>\n",
       "      <td>0.527778</td>\n",
       "      <td>0.333333</td>\n",
       "    </tr>\n",
       "    <tr>\n",
       "      <td>1400</td>\n",
       "      <td>0.217900</td>\n",
       "      <td>0.337898</td>\n",
       "      <td>0.568163</td>\n",
       "      <td>0.594912</td>\n",
       "      <td>0.585075</td>\n",
       "      <td>0.570120</td>\n",
       "      <td>0.545455</td>\n",
       "      <td>0.580645</td>\n",
       "      <td>0.576923</td>\n",
       "      <td>0.761905</td>\n",
       "      <td>0.657143</td>\n",
       "      <td>0.521739</td>\n",
       "      <td>0.333333</td>\n",
       "    </tr>\n",
       "    <tr>\n",
       "      <td>1500</td>\n",
       "      <td>0.210700</td>\n",
       "      <td>0.316030</td>\n",
       "      <td>0.570834</td>\n",
       "      <td>0.597610</td>\n",
       "      <td>0.586379</td>\n",
       "      <td>0.563213</td>\n",
       "      <td>0.680000</td>\n",
       "      <td>0.450000</td>\n",
       "      <td>0.620690</td>\n",
       "      <td>0.752688</td>\n",
       "      <td>0.566667</td>\n",
       "      <td>0.541176</td>\n",
       "      <td>0.384615</td>\n",
       "    </tr>\n",
       "    <tr>\n",
       "      <td>1600</td>\n",
       "      <td>0.206400</td>\n",
       "      <td>0.314707</td>\n",
       "      <td>0.571834</td>\n",
       "      <td>0.610442</td>\n",
       "      <td>0.598603</td>\n",
       "      <td>0.575826</td>\n",
       "      <td>0.679245</td>\n",
       "      <td>0.518519</td>\n",
       "      <td>0.677419</td>\n",
       "      <td>0.771084</td>\n",
       "      <td>0.593750</td>\n",
       "      <td>0.512821</td>\n",
       "      <td>0.250000</td>\n",
       "    </tr>\n",
       "    <tr>\n",
       "      <td>1700</td>\n",
       "      <td>0.193400</td>\n",
       "      <td>0.322882</td>\n",
       "      <td>0.643882</td>\n",
       "      <td>0.634799</td>\n",
       "      <td>0.634611</td>\n",
       "      <td>0.612462</td>\n",
       "      <td>0.640777</td>\n",
       "      <td>0.517647</td>\n",
       "      <td>0.677966</td>\n",
       "      <td>0.734177</td>\n",
       "      <td>0.628571</td>\n",
       "      <td>0.602151</td>\n",
       "      <td>0.705882</td>\n",
       "    </tr>\n",
       "    <tr>\n",
       "      <td>1800</td>\n",
       "      <td>0.141500</td>\n",
       "      <td>0.339467</td>\n",
       "      <td>0.599841</td>\n",
       "      <td>0.601134</td>\n",
       "      <td>0.590192</td>\n",
       "      <td>0.592042</td>\n",
       "      <td>0.635514</td>\n",
       "      <td>0.388889</td>\n",
       "      <td>0.597403</td>\n",
       "      <td>0.758621</td>\n",
       "      <td>0.613333</td>\n",
       "      <td>0.538462</td>\n",
       "      <td>0.666667</td>\n",
       "    </tr>\n",
       "    <tr>\n",
       "      <td>1900</td>\n",
       "      <td>0.147300</td>\n",
       "      <td>0.340906</td>\n",
       "      <td>0.618106</td>\n",
       "      <td>0.615385</td>\n",
       "      <td>0.612193</td>\n",
       "      <td>0.594895</td>\n",
       "      <td>0.631579</td>\n",
       "      <td>0.543478</td>\n",
       "      <td>0.642857</td>\n",
       "      <td>0.775000</td>\n",
       "      <td>0.567164</td>\n",
       "      <td>0.500000</td>\n",
       "      <td>0.666667</td>\n",
       "    </tr>\n",
       "    <tr>\n",
       "      <td>2000</td>\n",
       "      <td>0.129400</td>\n",
       "      <td>0.353682</td>\n",
       "      <td>0.638012</td>\n",
       "      <td>0.631579</td>\n",
       "      <td>0.631938</td>\n",
       "      <td>0.624174</td>\n",
       "      <td>0.606061</td>\n",
       "      <td>0.568421</td>\n",
       "      <td>0.649351</td>\n",
       "      <td>0.775000</td>\n",
       "      <td>0.611111</td>\n",
       "      <td>0.589474</td>\n",
       "      <td>0.666667</td>\n",
       "    </tr>\n",
       "    <tr>\n",
       "      <td>2100</td>\n",
       "      <td>0.116700</td>\n",
       "      <td>0.350197</td>\n",
       "      <td>0.621358</td>\n",
       "      <td>0.627151</td>\n",
       "      <td>0.621867</td>\n",
       "      <td>0.622673</td>\n",
       "      <td>0.647059</td>\n",
       "      <td>0.547619</td>\n",
       "      <td>0.684932</td>\n",
       "      <td>0.767442</td>\n",
       "      <td>0.575758</td>\n",
       "      <td>0.538462</td>\n",
       "      <td>0.588235</td>\n",
       "    </tr>\n",
       "    <tr>\n",
       "      <td>2200</td>\n",
       "      <td>0.143400</td>\n",
       "      <td>0.358971</td>\n",
       "      <td>0.620774</td>\n",
       "      <td>0.621072</td>\n",
       "      <td>0.619113</td>\n",
       "      <td>0.623724</td>\n",
       "      <td>0.623853</td>\n",
       "      <td>0.556701</td>\n",
       "      <td>0.647059</td>\n",
       "      <td>0.756098</td>\n",
       "      <td>0.615385</td>\n",
       "      <td>0.535211</td>\n",
       "      <td>0.611111</td>\n",
       "    </tr>\n",
       "    <tr>\n",
       "      <td>2300</td>\n",
       "      <td>0.128100</td>\n",
       "      <td>0.360409</td>\n",
       "      <td>0.615037</td>\n",
       "      <td>0.620301</td>\n",
       "      <td>0.618157</td>\n",
       "      <td>0.605105</td>\n",
       "      <td>0.666667</td>\n",
       "      <td>0.545455</td>\n",
       "      <td>0.608696</td>\n",
       "      <td>0.756098</td>\n",
       "      <td>0.611111</td>\n",
       "      <td>0.536585</td>\n",
       "      <td>0.580645</td>\n",
       "    </tr>\n",
       "    <tr>\n",
       "      <td>2400</td>\n",
       "      <td>0.083700</td>\n",
       "      <td>0.366032</td>\n",
       "      <td>0.616646</td>\n",
       "      <td>0.612844</td>\n",
       "      <td>0.611950</td>\n",
       "      <td>0.604955</td>\n",
       "      <td>0.628571</td>\n",
       "      <td>0.531915</td>\n",
       "      <td>0.638889</td>\n",
       "      <td>0.746988</td>\n",
       "      <td>0.600000</td>\n",
       "      <td>0.525000</td>\n",
       "      <td>0.645161</td>\n",
       "    </tr>\n",
       "    <tr>\n",
       "      <td>2500</td>\n",
       "      <td>0.080400</td>\n",
       "      <td>0.379654</td>\n",
       "      <td>0.618512</td>\n",
       "      <td>0.616541</td>\n",
       "      <td>0.616129</td>\n",
       "      <td>0.597598</td>\n",
       "      <td>0.641509</td>\n",
       "      <td>0.505747</td>\n",
       "      <td>0.675676</td>\n",
       "      <td>0.763158</td>\n",
       "      <td>0.608696</td>\n",
       "      <td>0.528736</td>\n",
       "      <td>0.606061</td>\n",
       "    </tr>\n",
       "    <tr>\n",
       "      <td>2600</td>\n",
       "      <td>0.099900</td>\n",
       "      <td>0.395335</td>\n",
       "      <td>0.606731</td>\n",
       "      <td>0.609665</td>\n",
       "      <td>0.608163</td>\n",
       "      <td>0.606306</td>\n",
       "      <td>0.633663</td>\n",
       "      <td>0.566038</td>\n",
       "      <td>0.655738</td>\n",
       "      <td>0.735632</td>\n",
       "      <td>0.545455</td>\n",
       "      <td>0.531646</td>\n",
       "      <td>0.578947</td>\n",
       "    </tr>\n",
       "    <tr>\n",
       "      <td>2700</td>\n",
       "      <td>0.072600</td>\n",
       "      <td>0.393653</td>\n",
       "      <td>0.610284</td>\n",
       "      <td>0.613027</td>\n",
       "      <td>0.610623</td>\n",
       "      <td>0.604805</td>\n",
       "      <td>0.626263</td>\n",
       "      <td>0.540000</td>\n",
       "      <td>0.620690</td>\n",
       "      <td>0.767442</td>\n",
       "      <td>0.597015</td>\n",
       "      <td>0.535211</td>\n",
       "      <td>0.585366</td>\n",
       "    </tr>\n",
       "    <tr>\n",
       "      <td>2800</td>\n",
       "      <td>0.087200</td>\n",
       "      <td>0.401060</td>\n",
       "      <td>0.609696</td>\n",
       "      <td>0.611111</td>\n",
       "      <td>0.610368</td>\n",
       "      <td>0.608859</td>\n",
       "      <td>0.654206</td>\n",
       "      <td>0.549020</td>\n",
       "      <td>0.606061</td>\n",
       "      <td>0.756098</td>\n",
       "      <td>0.571429</td>\n",
       "      <td>0.525000</td>\n",
       "      <td>0.606061</td>\n",
       "    </tr>\n",
       "    <tr>\n",
       "      <td>2900</td>\n",
       "      <td>0.066400</td>\n",
       "      <td>0.410431</td>\n",
       "      <td>0.601076</td>\n",
       "      <td>0.605948</td>\n",
       "      <td>0.601839</td>\n",
       "      <td>0.593093</td>\n",
       "      <td>0.634615</td>\n",
       "      <td>0.494118</td>\n",
       "      <td>0.591549</td>\n",
       "      <td>0.767442</td>\n",
       "      <td>0.623377</td>\n",
       "      <td>0.525000</td>\n",
       "      <td>0.571429</td>\n",
       "    </tr>\n",
       "    <tr>\n",
       "      <td>3000</td>\n",
       "      <td>0.056100</td>\n",
       "      <td>0.410067</td>\n",
       "      <td>0.613376</td>\n",
       "      <td>0.616514</td>\n",
       "      <td>0.614931</td>\n",
       "      <td>0.610360</td>\n",
       "      <td>0.648148</td>\n",
       "      <td>0.551724</td>\n",
       "      <td>0.594595</td>\n",
       "      <td>0.756098</td>\n",
       "      <td>0.605263</td>\n",
       "      <td>0.543210</td>\n",
       "      <td>0.594595</td>\n",
       "    </tr>\n",
       "    <tr>\n",
       "      <td>3100</td>\n",
       "      <td>0.061200</td>\n",
       "      <td>0.413737</td>\n",
       "      <td>0.604526</td>\n",
       "      <td>0.612245</td>\n",
       "      <td>0.611077</td>\n",
       "      <td>0.607357</td>\n",
       "      <td>0.653846</td>\n",
       "      <td>0.560000</td>\n",
       "      <td>0.590164</td>\n",
       "      <td>0.771084</td>\n",
       "      <td>0.586667</td>\n",
       "      <td>0.533333</td>\n",
       "      <td>0.536585</td>\n",
       "    </tr>\n",
       "    <tr>\n",
       "      <td>3200</td>\n",
       "      <td>0.061200</td>\n",
       "      <td>0.422342</td>\n",
       "      <td>0.617509</td>\n",
       "      <td>0.617375</td>\n",
       "      <td>0.618657</td>\n",
       "      <td>0.603003</td>\n",
       "      <td>0.647619</td>\n",
       "      <td>0.563107</td>\n",
       "      <td>0.567164</td>\n",
       "      <td>0.773333</td>\n",
       "      <td>0.607595</td>\n",
       "      <td>0.552632</td>\n",
       "      <td>0.611111</td>\n",
       "    </tr>\n",
       "    <tr>\n",
       "      <td>3300</td>\n",
       "      <td>0.053200</td>\n",
       "      <td>0.426216</td>\n",
       "      <td>0.627111</td>\n",
       "      <td>0.625229</td>\n",
       "      <td>0.625526</td>\n",
       "      <td>0.622523</td>\n",
       "      <td>0.642202</td>\n",
       "      <td>0.565657</td>\n",
       "      <td>0.657895</td>\n",
       "      <td>0.763158</td>\n",
       "      <td>0.597403</td>\n",
       "      <td>0.538462</td>\n",
       "      <td>0.625000</td>\n",
       "    </tr>\n",
       "    <tr>\n",
       "      <td>3400</td>\n",
       "      <td>0.043700</td>\n",
       "      <td>0.423273</td>\n",
       "      <td>0.632322</td>\n",
       "      <td>0.632353</td>\n",
       "      <td>0.630862</td>\n",
       "      <td>0.629129</td>\n",
       "      <td>0.684211</td>\n",
       "      <td>0.576923</td>\n",
       "      <td>0.606061</td>\n",
       "      <td>0.740741</td>\n",
       "      <td>0.611111</td>\n",
       "      <td>0.540541</td>\n",
       "      <td>0.666667</td>\n",
       "    </tr>\n",
       "    <tr>\n",
       "      <td>3500</td>\n",
       "      <td>0.036800</td>\n",
       "      <td>0.443874</td>\n",
       "      <td>0.616401</td>\n",
       "      <td>0.619820</td>\n",
       "      <td>0.619637</td>\n",
       "      <td>0.620120</td>\n",
       "      <td>0.684211</td>\n",
       "      <td>0.576577</td>\n",
       "      <td>0.600000</td>\n",
       "      <td>0.725000</td>\n",
       "      <td>0.575342</td>\n",
       "      <td>0.547619</td>\n",
       "      <td>0.606061</td>\n",
       "    </tr>\n",
       "    <tr>\n",
       "      <td>3600</td>\n",
       "      <td>0.047000</td>\n",
       "      <td>0.426328</td>\n",
       "      <td>0.620108</td>\n",
       "      <td>0.622302</td>\n",
       "      <td>0.621076</td>\n",
       "      <td>0.634084</td>\n",
       "      <td>0.661017</td>\n",
       "      <td>0.565217</td>\n",
       "      <td>0.626866</td>\n",
       "      <td>0.765432</td>\n",
       "      <td>0.567901</td>\n",
       "      <td>0.543210</td>\n",
       "      <td>0.611111</td>\n",
       "    </tr>\n",
       "    <tr>\n",
       "      <td>3700</td>\n",
       "      <td>0.048400</td>\n",
       "      <td>0.437989</td>\n",
       "      <td>0.621757</td>\n",
       "      <td>0.633700</td>\n",
       "      <td>0.629868</td>\n",
       "      <td>0.638138</td>\n",
       "      <td>0.678261</td>\n",
       "      <td>0.583333</td>\n",
       "      <td>0.612903</td>\n",
       "      <td>0.781609</td>\n",
       "      <td>0.591549</td>\n",
       "      <td>0.564103</td>\n",
       "      <td>0.540541</td>\n",
       "    </tr>\n",
       "  </tbody>\n",
       "</table><p>"
      ],
      "text/plain": [
       "<IPython.core.display.HTML object>"
      ]
     },
     "metadata": {},
     "output_type": "display_data"
    }
   ],
   "source": [
    "trainer.train()"
   ]
  },
  {
   "cell_type": "code",
   "execution_count": null,
   "metadata": {},
   "outputs": [
    {
     "data": {
      "application/vnd.jupyter.widget-view+json": {
       "model_id": "2c57e09f671d4a09ae9b7b445b8b1aa3",
       "version_major": 2,
       "version_minor": 0
      },
      "text/plain": [
       "model.safetensors:   0%|          | 0.00/499M [00:00<?, ?B/s]"
      ]
     },
     "metadata": {},
     "output_type": "display_data"
    },
    {
     "data": {
      "application/vnd.jupyter.widget-view+json": {
       "model_id": "54d57282044f4805b5c75139d5a882e0",
       "version_major": 2,
       "version_minor": 0
      },
      "text/plain": [
       "events.out.tfevents.1736334474.32df0236926e.901.0:   0%|          | 0.00/66.4k [00:00<?, ?B/s]"
      ]
     },
     "metadata": {},
     "output_type": "display_data"
    },
    {
     "data": {
      "application/vnd.jupyter.widget-view+json": {
       "model_id": "fa50a1854fe94c58a9b9adc498cd9322",
       "version_major": 2,
       "version_minor": 0
      },
      "text/plain": [
       "training_args.bin:   0%|          | 0.00/5.37k [00:00<?, ?B/s]"
      ]
     },
     "metadata": {},
     "output_type": "display_data"
    },
    {
     "data": {
      "application/vnd.jupyter.widget-view+json": {
       "model_id": "8b33de3b123741f8944d0f65d61db667",
       "version_major": 2,
       "version_minor": 0
      },
      "text/plain": [
       "Upload 3 LFS files:   0%|          | 0/3 [00:00<?, ?it/s]"
      ]
     },
     "metadata": {},
     "output_type": "display_data"
    },
    {
     "data": {
      "application/vnd.google.colaboratory.intrinsic+json": {
       "type": "string"
      },
      "text/plain": [
       "CommitInfo(commit_url='https://huggingface.co/alxxtexxr/RoBERTa-Base-SE2025T11A-sun-v20250108110637/commit/b84f649707e055e88b5551dc050251729a7274ac', commit_message='End of training', commit_description='', oid='b84f649707e055e88b5551dc050251729a7274ac', pr_url=None, repo_url=RepoUrl('https://huggingface.co/alxxtexxr/RoBERTa-Base-SE2025T11A-sun-v20250108110637', endpoint='https://huggingface.co', repo_type='model', repo_id='alxxtexxr/RoBERTa-Base-SE2025T11A-sun-v20250108110637'), pr_revision=None, pr_num=None)"
      ]
     },
     "execution_count": 18,
     "metadata": {},
     "output_type": "execute_result"
    }
   ],
   "source": [
    "trainer.push_to_hub()"
   ]
  },
  {
   "cell_type": "markdown",
   "metadata": {},
   "source": [
    "# Evaluation"
   ]
  },
  {
   "cell_type": "code",
   "execution_count": null,
   "metadata": {},
   "outputs": [
    {
     "data": {
      "text/html": [
       "\n",
       "    <div>\n",
       "      \n",
       "      <progress value='111' max='111' style='width:300px; height:20px; vertical-align: middle;'></progress>\n",
       "      [111/111 00:01]\n",
       "    </div>\n",
       "    "
      ],
      "text/plain": [
       "<IPython.core.display.HTML object>"
      ]
     },
     "metadata": {},
     "output_type": "display_data"
    },
    {
     "name": "stdout",
     "output_type": "stream",
     "text": [
      "Evaluation to copy:\n",
      "0.611119992489139\t0.6214285714285714\t0.6179751658709299\t0.6273273273273275\t0.591304347826087\t0.5348837209302325\t0.631578947368421\t0.7710843373493976\t0.7209302325581395\t0.5432098765432098\t0.48484848484848486\n",
      "\n",
      "Evaluation full results:\n",
      "{'epoch': 10.0,\n",
      " 'eval_f1_label_biasa': 0.48484848484848486,\n",
      " 'eval_f1_label_jijik': 0.5348837209302325,\n",
      " 'eval_f1_label_marah': 0.591304347826087,\n",
      " 'eval_f1_label_sedih': 0.7209302325581395,\n",
      " 'eval_f1_label_senang': 0.7710843373493976,\n",
      " 'eval_f1_label_takut': 0.631578947368421,\n",
      " 'eval_f1_label_terkejut': 0.5432098765432098,\n",
      " 'eval_f1_macro': 0.611119992489139,\n",
      " 'eval_f1_micro': 0.6214285714285714,\n",
      " 'eval_f1_samples': 0.6273273273273275,\n",
      " 'eval_f1_weighted': 0.6179751658709299,\n",
      " 'eval_loss': 0.5053707957267761,\n",
      " 'eval_runtime': 1.1701,\n",
      " 'eval_samples_per_second': 189.734,\n",
      " 'eval_steps_per_second': 94.867}\n"
     ]
    }
   ],
   "source": [
    "eval = trainer.evaluate(eval_dataset=tokenized_datasets['test'])\n",
    "\n",
    "print(\"Evaluation to copy:\")\n",
    "f1_keys = [eval_key for eval_key in eval.keys() if 'f1' in eval_key]\n",
    "for i, k in enumerate(f1_keys): print(eval[k], end=\"\\t\" if i + 1 < len(f1_keys) else \"\")\n",
    "print()\n",
    "print()\n",
    "print(\"Evaluation full results:\")\n",
    "pprint(eval)"
   ]
  },
  {
   "cell_type": "markdown",
   "metadata": {},
   "source": [
    "# Inference"
   ]
  },
  {
   "cell_type": "code",
   "execution_count": null,
   "metadata": {},
   "outputs": [
    {
     "name": "stdout",
     "output_type": "stream",
     "text": [
      "Text: Maksud kuring, kaos away maranéhanana éfektif janten seragam home urang.\n",
      "True emotion(s): biasa\n",
      "Predicted emotion(s): marah\n"
     ]
    }
   ],
   "source": [
    "data = datasets['val'][1]\n",
    "text = data['text']\n",
    "emotion_true = data['emotion']\n",
    "\n",
    "inputs = tokenizer(text, return_tensors='pt').to(model.device)\n",
    "\n",
    "outputs = trainer.model(**inputs)\n",
    "logits = outputs.logits\n",
    "probs = sigmoid(logits.squeeze().detach().cpu().numpy()) # apply sigmoid + threshold\n",
    "labels_pred = (probs > 0.5).astype(int)\n",
    "emotion_pred = [id2class[idx] for idx, label in enumerate(labels_pred) if label == 1.0] # turn predicted id's into actual label names\n",
    "\n",
    "print(\"Text:\", text)\n",
    "print(\"True emotion(s):\", emotion_true)\n",
    "print(\"Predicted emotion(s):\", \", \".join(emotion_pred))"
   ]
  }
 ],
 "metadata": {
  "kernelspec": {
   "display_name": "Python 3",
   "language": "python",
   "name": "python3"
  },
  "language_info": {
   "codemirror_mode": {
    "name": "ipython",
    "version": 3
   },
   "file_extension": ".py",
   "mimetype": "text/x-python",
   "name": "python",
   "nbconvert_exporter": "python",
   "pygments_lexer": "ipython3",
   "version": "3.10.12"
  }
 },
 "nbformat": 4,
 "nbformat_minor": 2
}

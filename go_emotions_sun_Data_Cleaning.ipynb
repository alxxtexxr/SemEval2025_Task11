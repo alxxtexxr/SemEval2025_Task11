{
 "cells": [
  {
   "cell_type": "markdown",
   "metadata": {},
   "source": [
    "# Libraries"
   ]
  },
  {
   "cell_type": "code",
   "execution_count": 102,
   "metadata": {},
   "outputs": [],
   "source": [
    "import pandas as pd"
   ]
  },
  {
   "cell_type": "markdown",
   "metadata": {},
   "source": [
    "# Config"
   ]
  },
  {
   "cell_type": "code",
   "execution_count": 103,
   "metadata": {},
   "outputs": [],
   "source": [
    "data_path = 'data/go_emotions_sun/neutral_single_50_comb_0_translated_cleaned_curation.csv'\n",
    "\n",
    "idn2eng_emotion_map = {\n",
    "    'marah': 'anger',\n",
    "    'jijik': 'disgust',\n",
    "    'takut': 'fear',\n",
    "    'senang': 'joy',\n",
    "    'sedih': 'sadness',\n",
    "    'terkejut': 'surprise',\n",
    "    'biasa': 'neutral',\n",
    "}\n",
    "valid_emotions = ['marah', 'jijik', 'takut', 'senang', 'sedih', 'terkejut', 'biasa']\n",
    "selected_emotion = 'biasa'\n",
    "# prev_selected_emotions = ['senang']"
   ]
  },
  {
   "cell_type": "markdown",
   "metadata": {},
   "source": [
    "# Data"
   ]
  },
  {
   "cell_type": "markdown",
   "metadata": {},
   "source": [
    "## Load Data"
   ]
  },
  {
   "cell_type": "code",
   "execution_count": 104,
   "metadata": {},
   "outputs": [
    {
     "name": "stdout",
     "output_type": "stream",
     "text": [
      "DF size: 50\n"
     ]
    },
    {
     "data": {
      "text/html": [
       "<div>\n",
       "<style scoped>\n",
       "    .dataframe tbody tr th:only-of-type {\n",
       "        vertical-align: middle;\n",
       "    }\n",
       "\n",
       "    .dataframe tbody tr th {\n",
       "        vertical-align: top;\n",
       "    }\n",
       "\n",
       "    .dataframe thead th {\n",
       "        text-align: right;\n",
       "    }\n",
       "</style>\n",
       "<table border=\"1\" class=\"dataframe\">\n",
       "  <thead>\n",
       "    <tr style=\"text-align: right;\">\n",
       "      <th></th>\n",
       "      <th>id</th>\n",
       "      <th>curation_status</th>\n",
       "      <th>text</th>\n",
       "      <th>text_translated</th>\n",
       "      <th>emotion</th>\n",
       "      <th>marah</th>\n",
       "      <th>jijik</th>\n",
       "      <th>takut</th>\n",
       "      <th>senang</th>\n",
       "      <th>sedih</th>\n",
       "      <th>terkejut</th>\n",
       "      <th>biasa</th>\n",
       "    </tr>\n",
       "  </thead>\n",
       "  <tbody>\n",
       "    <tr>\n",
       "      <th>0</th>\n",
       "      <td>ef4fl50</td>\n",
       "      <td>1</td>\n",
       "      <td>reddit was having server issues</td>\n",
       "      <td>reddit keur boga masalah server</td>\n",
       "      <td>biasa</td>\n",
       "      <td>0</td>\n",
       "      <td>0</td>\n",
       "      <td>0</td>\n",
       "      <td>0</td>\n",
       "      <td>0</td>\n",
       "      <td>0</td>\n",
       "      <td>1</td>\n",
       "    </tr>\n",
       "    <tr>\n",
       "      <th>1</th>\n",
       "      <td>ee31gyc</td>\n",
       "      <td>1</td>\n",
       "      <td>I just don't see it.</td>\n",
       "      <td>Abdi teu ningali éta.</td>\n",
       "      <td>biasa</td>\n",
       "      <td>0</td>\n",
       "      <td>0</td>\n",
       "      <td>0</td>\n",
       "      <td>0</td>\n",
       "      <td>0</td>\n",
       "      <td>0</td>\n",
       "      <td>1</td>\n",
       "    </tr>\n",
       "    <tr>\n",
       "      <th>2</th>\n",
       "      <td>eeyxd7d</td>\n",
       "      <td>1</td>\n",
       "      <td>That thing is rather thin , it wouldn't be a b...</td>\n",
       "      <td>Eta barang rada ipis, teu bakal jadi masalah g...</td>\n",
       "      <td>biasa</td>\n",
       "      <td>0</td>\n",
       "      <td>0</td>\n",
       "      <td>0</td>\n",
       "      <td>0</td>\n",
       "      <td>0</td>\n",
       "      <td>0</td>\n",
       "      <td>1</td>\n",
       "    </tr>\n",
       "    <tr>\n",
       "      <th>3</th>\n",
       "      <td>eczusn7</td>\n",
       "      <td>1</td>\n",
       "      <td>its north park</td>\n",
       "      <td>eta taman kalér</td>\n",
       "      <td>biasa</td>\n",
       "      <td>0</td>\n",
       "      <td>0</td>\n",
       "      <td>0</td>\n",
       "      <td>0</td>\n",
       "      <td>0</td>\n",
       "      <td>0</td>\n",
       "      <td>1</td>\n",
       "    </tr>\n",
       "    <tr>\n",
       "      <th>4</th>\n",
       "      <td>edqjl3r</td>\n",
       "      <td>1</td>\n",
       "      <td>I have mixed feelings about discovering aliens...</td>\n",
       "      <td>Abdi gaduh perasaan campur aduk ngeunaan menda...</td>\n",
       "      <td>takut</td>\n",
       "      <td>0</td>\n",
       "      <td>0</td>\n",
       "      <td>1</td>\n",
       "      <td>0</td>\n",
       "      <td>0</td>\n",
       "      <td>0</td>\n",
       "      <td>0</td>\n",
       "    </tr>\n",
       "  </tbody>\n",
       "</table>\n",
       "</div>"
      ],
      "text/plain": [
       "        id  curation_status  \\\n",
       "0  ef4fl50                1   \n",
       "1  ee31gyc                1   \n",
       "2  eeyxd7d                1   \n",
       "3  eczusn7                1   \n",
       "4  edqjl3r                1   \n",
       "\n",
       "                                                text  \\\n",
       "0                    reddit was having server issues   \n",
       "1                               I just don't see it.   \n",
       "2  That thing is rather thin , it wouldn't be a b...   \n",
       "3                                     its north park   \n",
       "4  I have mixed feelings about discovering aliens...   \n",
       "\n",
       "                                     text_translated emotion  marah  jijik  \\\n",
       "0                    reddit keur boga masalah server   biasa      0      0   \n",
       "1                              Abdi teu ningali éta.   biasa      0      0   \n",
       "2  Eta barang rada ipis, teu bakal jadi masalah g...   biasa      0      0   \n",
       "3                                    eta taman kalér   biasa      0      0   \n",
       "4  Abdi gaduh perasaan campur aduk ngeunaan menda...   takut      0      0   \n",
       "\n",
       "   takut  senang  sedih  terkejut  biasa  \n",
       "0      0       0      0         0      1  \n",
       "1      0       0      0         0      1  \n",
       "2      0       0      0         0      1  \n",
       "3      0       0      0         0      1  \n",
       "4      1       0      0         0      0  "
      ]
     },
     "execution_count": 104,
     "metadata": {},
     "output_type": "execute_result"
    }
   ],
   "source": [
    "df = pd.read_csv(data_path)\n",
    "print(\"DF size:\", len(df))\n",
    "df.head()"
   ]
  },
  {
   "cell_type": "markdown",
   "metadata": {},
   "source": [
    "## Clean Data"
   ]
  },
  {
   "cell_type": "code",
   "execution_count": 105,
   "metadata": {},
   "outputs": [
    {
     "name": "stdout",
     "output_type": "stream",
     "text": [
      "Cleaned DF size (after curation): 11\n"
     ]
    }
   ],
   "source": [
    "if 'curation_status' in df.columns:\n",
    "    df_cleaned = df[df['curation_status'] == 1]\n",
    "    print(\"Cleaned DF size (after curation):\", len(df_cleaned))\n",
    "else:\n",
    "    df_cleaned = df"
   ]
  },
  {
   "cell_type": "code",
   "execution_count": 106,
   "metadata": {},
   "outputs": [
    {
     "name": "stdout",
     "output_type": "stream",
     "text": [
      "Cleaned DF size (after matching with the population): 11\n"
     ]
    }
   ],
   "source": [
    "population_df = pd.read_csv('data/go_emotions_sun/filtered.csv')\n",
    "\n",
    "df_cleaned = df_cleaned[df_cleaned['id'].isin(population_df['id'])]\n",
    "print(\"Cleaned DF size (after matching with the population):\", len(df_cleaned))"
   ]
  },
  {
   "cell_type": "code",
   "execution_count": 107,
   "metadata": {},
   "outputs": [
    {
     "name": "stdout",
     "output_type": "stream",
     "text": [
      "marah        0\n",
      "jijik        0\n",
      "takut        1\n",
      "senang       0\n",
      "sedih        0\n",
      "terkejut     0\n",
      "biasa       10\n",
      "dtype: int64\n",
      "\n"
     ]
    }
   ],
   "source": [
    "print(df_cleaned[valid_emotions].sum())\n",
    "print()\n",
    "\n",
    "if 'prev_selected_emotions' in globals():\n",
    "    df_cleaned = df_cleaned[(df_cleaned[prev_selected_emotions] == 0).all(axis=1)] # type: ignore\n",
    "    print(df_cleaned[valid_emotions].sum())"
   ]
  },
  {
   "cell_type": "code",
   "execution_count": 108,
   "metadata": {},
   "outputs": [
    {
     "name": "stdout",
     "output_type": "stream",
     "text": [
      "Total duplicates: 0\n",
      "Total duplicates (after cleaning duplicates): 0\n",
      "\n",
      "Cleaned DF size (after cleaning duplicates): 11\n"
     ]
    }
   ],
   "source": [
    "print(\"Total duplicates:\", df_cleaned['text'].duplicated().sum())\n",
    "df_cleaned = df_cleaned.drop_duplicates(subset=['text'], keep='first')\n",
    "print(\"Total duplicates (after cleaning duplicates):\", df_cleaned['text'].duplicated().sum())\n",
    "print()\n",
    "print(\"Cleaned DF size (after cleaning duplicates):\", len(df_cleaned))"
   ]
  },
  {
   "cell_type": "code",
   "execution_count": 109,
   "metadata": {},
   "outputs": [
    {
     "name": "stdout",
     "output_type": "stream",
     "text": [
      "Cleaned DF size (after cleaning with specific conditions): 11\n"
     ]
    },
    {
     "data": {
      "text/html": [
       "<div>\n",
       "<style scoped>\n",
       "    .dataframe tbody tr th:only-of-type {\n",
       "        vertical-align: middle;\n",
       "    }\n",
       "\n",
       "    .dataframe tbody tr th {\n",
       "        vertical-align: top;\n",
       "    }\n",
       "\n",
       "    .dataframe thead th {\n",
       "        text-align: right;\n",
       "    }\n",
       "</style>\n",
       "<table border=\"1\" class=\"dataframe\">\n",
       "  <thead>\n",
       "    <tr style=\"text-align: right;\">\n",
       "      <th></th>\n",
       "      <th>id</th>\n",
       "      <th>curation_status</th>\n",
       "      <th>text</th>\n",
       "      <th>text_translated</th>\n",
       "      <th>emotion</th>\n",
       "      <th>marah</th>\n",
       "      <th>jijik</th>\n",
       "      <th>takut</th>\n",
       "      <th>senang</th>\n",
       "      <th>sedih</th>\n",
       "      <th>terkejut</th>\n",
       "      <th>biasa</th>\n",
       "    </tr>\n",
       "  </thead>\n",
       "  <tbody>\n",
       "    <tr>\n",
       "      <th>0</th>\n",
       "      <td>ef4fl50</td>\n",
       "      <td>1</td>\n",
       "      <td>reddit was having server issues</td>\n",
       "      <td>reddit keur boga masalah server</td>\n",
       "      <td>biasa</td>\n",
       "      <td>0</td>\n",
       "      <td>0</td>\n",
       "      <td>0</td>\n",
       "      <td>0</td>\n",
       "      <td>0</td>\n",
       "      <td>0</td>\n",
       "      <td>1</td>\n",
       "    </tr>\n",
       "    <tr>\n",
       "      <th>1</th>\n",
       "      <td>ee31gyc</td>\n",
       "      <td>1</td>\n",
       "      <td>I just don't see it.</td>\n",
       "      <td>Abdi teu ningali éta.</td>\n",
       "      <td>biasa</td>\n",
       "      <td>0</td>\n",
       "      <td>0</td>\n",
       "      <td>0</td>\n",
       "      <td>0</td>\n",
       "      <td>0</td>\n",
       "      <td>0</td>\n",
       "      <td>1</td>\n",
       "    </tr>\n",
       "    <tr>\n",
       "      <th>2</th>\n",
       "      <td>eeyxd7d</td>\n",
       "      <td>1</td>\n",
       "      <td>That thing is rather thin , it wouldn't be a b...</td>\n",
       "      <td>Eta barang rada ipis, teu bakal jadi masalah g...</td>\n",
       "      <td>biasa</td>\n",
       "      <td>0</td>\n",
       "      <td>0</td>\n",
       "      <td>0</td>\n",
       "      <td>0</td>\n",
       "      <td>0</td>\n",
       "      <td>0</td>\n",
       "      <td>1</td>\n",
       "    </tr>\n",
       "    <tr>\n",
       "      <th>3</th>\n",
       "      <td>eczusn7</td>\n",
       "      <td>1</td>\n",
       "      <td>its north park</td>\n",
       "      <td>eta taman kalér</td>\n",
       "      <td>biasa</td>\n",
       "      <td>0</td>\n",
       "      <td>0</td>\n",
       "      <td>0</td>\n",
       "      <td>0</td>\n",
       "      <td>0</td>\n",
       "      <td>0</td>\n",
       "      <td>1</td>\n",
       "    </tr>\n",
       "    <tr>\n",
       "      <th>4</th>\n",
       "      <td>edqjl3r</td>\n",
       "      <td>1</td>\n",
       "      <td>I have mixed feelings about discovering aliens...</td>\n",
       "      <td>Abdi gaduh perasaan campur aduk ngeunaan menda...</td>\n",
       "      <td>takut</td>\n",
       "      <td>0</td>\n",
       "      <td>0</td>\n",
       "      <td>1</td>\n",
       "      <td>0</td>\n",
       "      <td>0</td>\n",
       "      <td>0</td>\n",
       "      <td>0</td>\n",
       "    </tr>\n",
       "  </tbody>\n",
       "</table>\n",
       "</div>"
      ],
      "text/plain": [
       "        id  curation_status  \\\n",
       "0  ef4fl50                1   \n",
       "1  ee31gyc                1   \n",
       "2  eeyxd7d                1   \n",
       "3  eczusn7                1   \n",
       "4  edqjl3r                1   \n",
       "\n",
       "                                                text  \\\n",
       "0                    reddit was having server issues   \n",
       "1                               I just don't see it.   \n",
       "2  That thing is rather thin , it wouldn't be a b...   \n",
       "3                                     its north park   \n",
       "4  I have mixed feelings about discovering aliens...   \n",
       "\n",
       "                                     text_translated emotion  marah  jijik  \\\n",
       "0                    reddit keur boga masalah server   biasa      0      0   \n",
       "1                              Abdi teu ningali éta.   biasa      0      0   \n",
       "2  Eta barang rada ipis, teu bakal jadi masalah g...   biasa      0      0   \n",
       "3                                    eta taman kalér   biasa      0      0   \n",
       "4  Abdi gaduh perasaan campur aduk ngeunaan menda...   takut      0      0   \n",
       "\n",
       "   takut  senang  sedih  terkejut  biasa  \n",
       "0      0       0      0         0      1  \n",
       "1      0       0      0         0      1  \n",
       "2      0       0      0         0      1  \n",
       "3      0       0      0         0      1  \n",
       "4      1       0      0         0      0  "
      ]
     },
     "execution_count": 109,
     "metadata": {},
     "output_type": "execute_result"
    }
   ],
   "source": [
    "cond_r = df_cleaned['text_translated'].str.contains(\"r/\")\n",
    "cond_u = df_cleaned['text_translated'].str.contains(\"/u/\")\n",
    "cond_maaf = df_cleaned['text_translated'].str.lower().str.contains(\"maaf\")\n",
    "# cond_terjemah = df_cleaned['text_translated'].str.contains('terjemah')\n",
    "# cond_double = df_cleaned['text_translated'].str.contains(r'(.)\\1{2,}')\n",
    "\n",
    "df_cleaned = df_cleaned[~(cond_r | cond_u | cond_maaf)]\n",
    "print(\"Cleaned DF size (after cleaning with specific conditions):\", len(df_cleaned))\n",
    "df_cleaned.head()"
   ]
  },
  {
   "cell_type": "code",
   "execution_count": 110,
   "metadata": {},
   "outputs": [
    {
     "name": "stdout",
     "output_type": "stream",
     "text": [
      "Total cleaned data with single emotion: 10\n",
      "Total cleaned data with combined emotions: 0\n"
     ]
    }
   ],
   "source": [
    "df_cleaned.loc[:, 'num_emotions'] = df_cleaned.apply(lambda row: int(sum(row[valid_emotions].tolist())), axis=1)\n",
    "\n",
    "df_cleaned_single = df_cleaned[(df_cleaned[selected_emotion] == 1) & (df_cleaned['num_emotions'] == 1)]\n",
    "df_cleaned_comb = df_cleaned[(df_cleaned[selected_emotion] == 1) & (df_cleaned['num_emotions'] > 1)]\n",
    "\n",
    "print(\"Total cleaned data with single emotion:\", len(df_cleaned_single))\n",
    "print(\"Total cleaned data with combined emotions:\", len(df_cleaned_comb))"
   ]
  },
  {
   "cell_type": "markdown",
   "metadata": {},
   "source": [
    "## Save Data"
   ]
  },
  {
   "cell_type": "code",
   "execution_count": 111,
   "metadata": {},
   "outputs": [
    {
     "name": "stdout",
     "output_type": "stream",
     "text": [
      "Saved to: data/go_emotions_sun/neutral_single_10_comb_0_translated_cleaned_curated.csv\n"
     ]
    }
   ],
   "source": [
    "if 'num_emotions' in df_cleaned.columns:\n",
    "    df_cleaned.drop('num_emotions', axis=1, inplace=True)\n",
    "\n",
    "save_path = f'data/go_emotions_sun/{idn2eng_emotion_map[selected_emotion]}_single_{len(df_cleaned_single)}_comb_{len(df_cleaned_comb)}_translated_cleaned{\"_curated\" if \"curation_status\" in df.columns else \"\"}.csv'\n",
    "df_cleaned.to_csv(save_path, index=False)\n",
    "print(\"Saved to:\", save_path)"
   ]
  }
 ],
 "metadata": {
  "kernelspec": {
   "display_name": "alxxtexxr_py312",
   "language": "python",
   "name": "python3"
  },
  "language_info": {
   "codemirror_mode": {
    "name": "ipython",
    "version": 3
   },
   "file_extension": ".py",
   "mimetype": "text/x-python",
   "name": "python",
   "nbconvert_exporter": "python",
   "pygments_lexer": "ipython3",
   "version": "3.12.4"
  }
 },
 "nbformat": 4,
 "nbformat_minor": 2
}

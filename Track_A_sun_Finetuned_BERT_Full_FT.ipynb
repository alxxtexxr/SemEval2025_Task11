{
 "cells": [
  {
   "cell_type": "markdown",
   "metadata": {},
   "source": [
    "### References\n",
    "- Multi-Label Classification Model From Scratch: Step-by-Step Tutorial (https://huggingface.co/blog/Valerii-Knowledgator/multi-label-classification)\n",
    "- https://github.com/NielsRogge/Transformers-Tutorials/blob/master/BERT/Fine_tuning_BERT_(and_friends)_for_multi_label_text_classification.ipynb\n",
    "- https://github.com/huggingface/notebooks/blob/main/examples/text_classification.ipynb"
   ]
  },
  {
   "cell_type": "markdown",
   "metadata": {},
   "source": [
    "# Libraries"
   ]
  },
  {
   "cell_type": "code",
   "execution_count": 19,
   "metadata": {},
   "outputs": [],
   "source": [
    "%pip install -q -U datasets transformers accelerate sentencepiece"
   ]
  },
  {
   "cell_type": "code",
   "execution_count": 20,
   "metadata": {},
   "outputs": [],
   "source": [
    "import os\n",
    "import random\n",
    "import numpy as np\n",
    "import torch\n",
    "import transformers\n",
    "from pprint import pprint\n",
    "from datetime import datetime\n",
    "from datasets import load_dataset\n",
    "from transformers import AutoModelForSequenceClassification, AutoTokenizer, DataCollatorWithPadding, Trainer, TrainingArguments\n",
    "from sklearn.metrics import f1_score"
   ]
  },
  {
   "cell_type": "markdown",
   "metadata": {},
   "source": [
    "# Config"
   ]
  },
  {
   "cell_type": "code",
   "execution_count": 21,
   "metadata": {},
   "outputs": [
    {
     "name": "stdout",
     "output_type": "stream",
     "text": [
      "Project name: RoBERTa-Base-SE2025T11A-sun-v20250111150219\n"
     ]
    }
   ],
   "source": [
    "seed = 42\n",
    "lang = 'sun'\n",
    "project_name = f'RoBERTa-Base-SE2025T11A-{lang}-v{datetime.now().strftime(\"%Y%m%d%H%M%S\")}'\n",
    "print(\"Project name:\", project_name)\n",
    "\n",
    "# hf_model_id = 'bhadresh-savani/roberta-base-emotion'\n",
    "# hf_model_id = 'bhadresh-savani/bert-base-uncased-emotion'\n",
    "# hf_model_id = 'w11wo/sundanese-bert-base-emotion-classifier'\n",
    "hf_model_id = 'w11wo/sundanese-roberta-base-emotion-classifier'\n",
    "# hf_model_id = 'w11wo/sundanese-roberta-base'\n",
    "# hf_model_id = 'alxxtexxr/XLM-RoBERTa-Base-Sundanese-Emotion-Classifier-v20241222170134'\n",
    "hf_tokenizer_id = hf_model_id\n",
    "hf_data_id = 'alxxtexxr/SemEval2025-Task11-Dataset'\n",
    "# hf_data_config = 'track_a_sun_70_15_15_stratify_v2'\n",
    "hf_data_config = 'track_a_sun_go_emotions_80_10_10'\n",
    "# hf_data_config = 'track_a_sun_go_emotions_70_15_15_balanced'\n",
    "\n",
    "num_epochs = 2"
   ]
  },
  {
   "cell_type": "code",
   "execution_count": 22,
   "metadata": {},
   "outputs": [
    {
     "name": "stdout",
     "output_type": "stream",
     "text": [
      "Random seed set to: 42\n"
     ]
    }
   ],
   "source": [
    "def set_seed(seed):\n",
    "    # Set random seed for NumPy\n",
    "    np.random.seed(seed)\n",
    "\n",
    "    # Set random seed for Torch\n",
    "    torch.manual_seed(seed)\n",
    "    torch.cuda.manual_seed(seed)\n",
    "    torch.cuda.manual_seed_all(seed)  # if using multi-GPU\n",
    "    torch.backends.cudnn.deterministic = True  # Ensures deterministic results\n",
    "    torch.backends.cudnn.benchmark = False  # Avoids non-deterministic algorithms\n",
    "\n",
    "    # Set random seed for Transformers\n",
    "    transformers.set_seed(seed)\n",
    "\n",
    "    # Optionally set random seed for sklearn and Python's own random module\n",
    "    random.seed(seed)\n",
    "\n",
    "    # Set random seed for os\n",
    "    os.environ['PYTHONHASHSEED'] = str(seed)\n",
    "\n",
    "    print(f\"Random seed set to: {seed}\")\n",
    "\n",
    "set_seed(seed)"
   ]
  },
  {
   "cell_type": "markdown",
   "metadata": {},
   "source": [
    "# Data"
   ]
  },
  {
   "cell_type": "markdown",
   "metadata": {},
   "source": [
    "## Load Data"
   ]
  },
  {
   "cell_type": "code",
   "execution_count": 23,
   "metadata": {},
   "outputs": [
    {
     "data": {
      "application/vnd.jupyter.widget-view+json": {
       "model_id": "a8cb1e4fe7c740b4a95c873cd9df429e",
       "version_major": 2,
       "version_minor": 0
      },
      "text/plain": [
       "(…)ack_a/sun_go_emotions_80_10_10/train.csv:   0%|          | 0.00/198k [00:00<?, ?B/s]"
      ]
     },
     "metadata": {},
     "output_type": "display_data"
    },
    {
     "data": {
      "application/vnd.jupyter.widget-view+json": {
       "model_id": "2b238909d64f4f9db39988ef91c7a0f6",
       "version_major": 2,
       "version_minor": 0
      },
      "text/plain": [
       "(…)track_a/sun_go_emotions_80_10_10/val.csv:   0%|          | 0.00/22.8k [00:00<?, ?B/s]"
      ]
     },
     "metadata": {},
     "output_type": "display_data"
    },
    {
     "data": {
      "application/vnd.jupyter.widget-view+json": {
       "model_id": "e150e97264084b7d9e158112f1991bad",
       "version_major": 2,
       "version_minor": 0
      },
      "text/plain": [
       "(…)rack_a/sun_go_emotions_80_10_10/test.csv:   0%|          | 0.00/24.3k [00:00<?, ?B/s]"
      ]
     },
     "metadata": {},
     "output_type": "display_data"
    },
    {
     "data": {
      "application/vnd.jupyter.widget-view+json": {
       "model_id": "3023725a786541cf8eeb71bd8b2ce348",
       "version_major": 2,
       "version_minor": 0
      },
      "text/plain": [
       "Generating train split: 0 examples [00:00, ? examples/s]"
      ]
     },
     "metadata": {},
     "output_type": "display_data"
    },
    {
     "data": {
      "application/vnd.jupyter.widget-view+json": {
       "model_id": "a84441913a9a443ab4c52c3697dcc3cc",
       "version_major": 2,
       "version_minor": 0
      },
      "text/plain": [
       "Generating val split: 0 examples [00:00, ? examples/s]"
      ]
     },
     "metadata": {},
     "output_type": "display_data"
    },
    {
     "data": {
      "application/vnd.jupyter.widget-view+json": {
       "model_id": "81b04682020f42e08197a0ea44ec4d75",
       "version_major": 2,
       "version_minor": 0
      },
      "text/plain": [
       "Generating test split: 0 examples [00:00, ? examples/s]"
      ]
     },
     "metadata": {},
     "output_type": "display_data"
    },
    {
     "name": "stdout",
     "output_type": "stream",
     "text": [
      "DatasetDict({\n",
      "    train: Dataset({\n",
      "        features: ['text', 'emotion', 'marah', 'jijik', 'takut', 'senang', 'sedih', 'terkejut', 'biasa'],\n",
      "        num_rows: 2014\n",
      "    })\n",
      "    val: Dataset({\n",
      "        features: ['text', 'emotion', 'marah', 'jijik', 'takut', 'senang', 'sedih', 'terkejut', 'biasa'],\n",
      "        num_rows: 240\n",
      "    })\n",
      "    test: Dataset({\n",
      "        features: ['text', 'emotion', 'marah', 'jijik', 'takut', 'senang', 'sedih', 'terkejut', 'biasa'],\n",
      "        num_rows: 241\n",
      "    })\n",
      "})\n",
      "\n",
      "Data columns: ['text', 'emotion', 'marah', 'jijik', 'takut', 'senang', 'sedih', 'terkejut', 'biasa']\n",
      "Emotions columns: ['marah', 'jijik', 'takut', 'senang', 'sedih', 'terkejut', 'biasa']\n"
     ]
    }
   ],
   "source": [
    "datasets = load_dataset(hf_data_id, hf_data_config)\n",
    "print(datasets)\n",
    "print()\n",
    "\n",
    "cols = list(datasets['train'].features)\n",
    "emotion_cols = [col for col in cols if col not in ['Unnamed: 0', 'text', 'emotion', 'stratify', 'aug_go_emotions']]\n",
    "splits = [*datasets.keys()]\n",
    "\n",
    "print(\"Data columns:\", cols)\n",
    "print(\"Emotions columns:\", emotion_cols)"
   ]
  },
  {
   "cell_type": "code",
   "execution_count": 24,
   "metadata": {},
   "outputs": [
    {
     "name": "stdout",
     "output_type": "stream",
     "text": [
      "Class to ID:\n",
      "{'biasa': 6,\n",
      " 'jijik': 1,\n",
      " 'marah': 0,\n",
      " 'sedih': 4,\n",
      " 'senang': 3,\n",
      " 'takut': 2,\n",
      " 'terkejut': 5}\n",
      "\n",
      "ID to Class:\n",
      "{0: 'marah',\n",
      " 1: 'jijik',\n",
      " 2: 'takut',\n",
      " 3: 'senang',\n",
      " 4: 'sedih',\n",
      " 5: 'terkejut',\n",
      " 6: 'biasa'}\n"
     ]
    }
   ],
   "source": [
    "class2id = {class_:id for id, class_ in enumerate(emotion_cols)}\n",
    "id2class = {id:class_ for class_, id in class2id.items()}\n",
    "\n",
    "print(\"Class to ID:\")\n",
    "pprint(class2id, width=1)\n",
    "print()\n",
    "print(\"ID to Class:\")\n",
    "pprint(id2class, width=1)"
   ]
  },
  {
   "cell_type": "markdown",
   "metadata": {},
   "source": [
    "## Preprocess Data"
   ]
  },
  {
   "cell_type": "code",
   "execution_count": 25,
   "metadata": {},
   "outputs": [],
   "source": [
    "tokenizer = AutoTokenizer.from_pretrained(hf_tokenizer_id)"
   ]
  },
  {
   "cell_type": "code",
   "execution_count": 26,
   "metadata": {},
   "outputs": [
    {
     "data": {
      "application/vnd.jupyter.widget-view+json": {
       "model_id": "0f1da52041e646d9a7af123e2403702a",
       "version_major": 2,
       "version_minor": 0
      },
      "text/plain": [
       "Map:   0%|          | 0/2014 [00:00<?, ? examples/s]"
      ]
     },
     "metadata": {},
     "output_type": "display_data"
    },
    {
     "name": "stderr",
     "output_type": "stream",
     "text": [
      "Asking to truncate to max_length but no maximum length is provided and the model has no predefined maximum length. Default to no truncation.\n"
     ]
    },
    {
     "data": {
      "application/vnd.jupyter.widget-view+json": {
       "model_id": "2a7e7f60b59b47d0a7908c312cdb246d",
       "version_major": 2,
       "version_minor": 0
      },
      "text/plain": [
       "Map:   0%|          | 0/240 [00:00<?, ? examples/s]"
      ]
     },
     "metadata": {},
     "output_type": "display_data"
    },
    {
     "data": {
      "application/vnd.jupyter.widget-view+json": {
       "model_id": "dafbd9270d0a4f9189f905f90c8027f4",
       "version_major": 2,
       "version_minor": 0
      },
      "text/plain": [
       "Map:   0%|          | 0/241 [00:00<?, ? examples/s]"
      ]
     },
     "metadata": {},
     "output_type": "display_data"
    }
   ],
   "source": [
    "def one_hot_encode_emotion(emotion, emotion_cols):\n",
    "    emotions = emotion.replace(\" \", \"\").split(\",\")\n",
    "    one_hot_emotion = [1.0 if emotion_col in emotions else 0.0 for emotion_col in emotion_cols] # Ensure that the label is float, not int\n",
    "    return one_hot_emotion\n",
    "\n",
    "def preprocess_function(data):\n",
    "   text = data['text']\n",
    "   emotion = data['emotion']\n",
    "   labels = one_hot_encode_emotion(emotion, emotion_cols)\n",
    "   data = tokenizer(text, truncation=True)\n",
    "   data['labels'] = labels\n",
    "   return data\n",
    "\n",
    "tokenized_datasets = {split: datasets[split].map(preprocess_function) for split in splits}"
   ]
  },
  {
   "cell_type": "code",
   "execution_count": 27,
   "metadata": {},
   "outputs": [
    {
     "name": "stdout",
     "output_type": "stream",
     "text": [
      "Text: min ai mnh teu cape lulumpatan wae :v kumaha weh ngagawe keun jelma mah ceuk mang dana ge :v\n",
      "Emotion(s): senang, terkejut\n",
      "Labels: [0.0, 0.0, 0.0, 1.0, 0.0, 1.0, 0.0] --> ['marah', 'jijik', 'takut', 'senang', 'sedih', 'terkejut', 'biasa']\n"
     ]
    }
   ],
   "source": [
    "# Sanity check\n",
    "data = tokenized_datasets['train'][5]\n",
    "\n",
    "print(\"Text:\", data['text'])\n",
    "print(\"Emotion(s):\", data['emotion'])\n",
    "print(\"Labels:\", data['labels'], '-->', emotion_cols)"
   ]
  },
  {
   "cell_type": "code",
   "execution_count": 28,
   "metadata": {},
   "outputs": [],
   "source": [
    "data_collator = DataCollatorWithPadding(tokenizer)"
   ]
  },
  {
   "cell_type": "markdown",
   "metadata": {},
   "source": [
    "# Model"
   ]
  },
  {
   "cell_type": "code",
   "execution_count": 29,
   "metadata": {},
   "outputs": [
    {
     "name": "stdout",
     "output_type": "stream",
     "text": [
      "RobertaClassificationHead(\n",
      "  (dense): Linear(in_features=768, out_features=768, bias=True)\n",
      "  (dropout): Dropout(p=0.1, inplace=False)\n",
      "  (out_proj): Linear(in_features=768, out_features=4, bias=True)\n",
      ")\n",
      "RobertaClassificationHead(\n",
      "  (dense): Linear(in_features=768, out_features=768, bias=True)\n",
      "  (dropout): Dropout(p=0.1, inplace=False)\n",
      "  (out_proj): Linear(in_features=768, out_features=7, bias=True)\n",
      ")\n"
     ]
    }
   ],
   "source": [
    "# model = AutoModelForSequenceClassification.from_pretrained(\n",
    "#     hf_model_id, \n",
    "#     num_labels=len(emotion_cols),\n",
    "#     id2label=id2class, \n",
    "#     label2id=class2id,\n",
    "#     problem_type = \"multi_label_classification\",\n",
    "# )\n",
    "\n",
    "################ TRANSFER LEARNING ################\n",
    "model = AutoModelForSequenceClassification.from_pretrained(\n",
    "    hf_model_id, \n",
    "    # num_labels=len(emotion_cols),\n",
    "    # id2label=id2class, \n",
    "    # label2id=class2id,\n",
    "    problem_type = \"multi_label_classification\",\n",
    ")\n",
    "print(model.classifier)\n",
    "\n",
    "model.classifier.out_proj = torch.nn.Linear(in_features=768, out_features=len(emotion_cols), bias=True)\n",
    "print(model.classifier)\n",
    "\n",
    "# Freeze the rest of the layers for transfer learning\n",
    "# for param in model.parameters():\n",
    "#     param.requires_grad = False"
   ]
  },
  {
   "cell_type": "markdown",
   "metadata": {},
   "source": [
    "# Finetuning"
   ]
  },
  {
   "cell_type": "code",
   "execution_count": 30,
   "metadata": {},
   "outputs": [],
   "source": [
    "def sigmoid(x):\n",
    "   return 1/(1 + np.exp(-x))\n",
    "\n",
    "def compute_metrics(eval_pred):\n",
    "    predictions, labels = eval_pred\n",
    "    probs = sigmoid(predictions)\n",
    "    y_pred = (probs > 0.5).astype(int)\n",
    "    y_true = labels.astype(int)\n",
    "\n",
    "    # Compute F1 score for each type of averaging method\n",
    "    f1_micro = f1_score(y_true, y_pred, average='micro', zero_division=0.0)\n",
    "    f1_macro = f1_score(y_true, y_pred, average='macro', zero_division=0.0)\n",
    "    f1_weighted = f1_score(y_true, y_pred, average='weighted', zero_division=0.0)\n",
    "    f1_samples = f1_score(y_true, y_pred, average='samples', zero_division=0.0)\n",
    "    f1_labels = f1_score(y_true, y_pred, average=None, zero_division=0.0)\n",
    "    f1_labels_dict = {f'f1_label_{emotion_cols[i]}': f1_labels[i] for i in range(len(f1_labels))}\n",
    "\n",
    "    return {\n",
    "        'f1_macro': f1_macro,\n",
    "        'f1_micro': f1_micro,\n",
    "        'f1_weighted': f1_weighted,\n",
    "        'f1_samples': f1_samples,\n",
    "        **f1_labels_dict,\n",
    "    }"
   ]
  },
  {
   "cell_type": "code",
   "execution_count": 31,
   "metadata": {},
   "outputs": [
    {
     "name": "stderr",
     "output_type": "stream",
     "text": [
      "<ipython-input-31-dc5948f208f6>:23: FutureWarning: `tokenizer` is deprecated and will be removed in version 5.0.0 for `Trainer.__init__`. Use `processing_class` instead.\n",
      "  trainer = Trainer(\n"
     ]
    }
   ],
   "source": [
    "train_args = TrainingArguments(\n",
    "    # Training config\n",
    "    per_device_train_batch_size=2,\n",
    "    num_train_epochs=num_epochs,\n",
    "    learning_rate=2e-5,\n",
    "    weight_decay=0.01,\n",
    "\n",
    "    # Logging config for training\n",
    "    logging_strategy='steps',\n",
    "    logging_steps=100,\n",
    "\n",
    "    # Evaluation config during training\n",
    "    per_device_eval_batch_size=2,\n",
    "    eval_strategy='steps',\n",
    "    eval_steps=100,\n",
    "\n",
    "    # Model saving config\n",
    "    output_dir=project_name,\n",
    "    save_strategy='epoch',\n",
    "    # load_best_model_at_end=True,\n",
    ")\n",
    "\n",
    "trainer = Trainer(\n",
    "    model=model,\n",
    "    args=train_args,\n",
    "    train_dataset=tokenized_datasets['train'],\n",
    "    eval_dataset=tokenized_datasets['val'],\n",
    "    tokenizer=tokenizer,\n",
    "    data_collator=data_collator,\n",
    "    compute_metrics=compute_metrics,\n",
    ")"
   ]
  },
  {
   "cell_type": "code",
   "execution_count": 32,
   "metadata": {},
   "outputs": [
    {
     "data": {
      "text/html": [
       "\n",
       "    <div>\n",
       "      \n",
       "      <progress value='2014' max='2014' style='width:300px; height:20px; vertical-align: middle;'></progress>\n",
       "      [2014/2014 03:44, Epoch 2/2]\n",
       "    </div>\n",
       "    <table border=\"1\" class=\"dataframe\">\n",
       "  <thead>\n",
       " <tr style=\"text-align: left;\">\n",
       "      <th>Step</th>\n",
       "      <th>Training Loss</th>\n",
       "      <th>Validation Loss</th>\n",
       "      <th>F1 Macro</th>\n",
       "      <th>F1 Micro</th>\n",
       "      <th>F1 Weighted</th>\n",
       "      <th>F1 Samples</th>\n",
       "      <th>F1 Label Marah</th>\n",
       "      <th>F1 Label Jijik</th>\n",
       "      <th>F1 Label Takut</th>\n",
       "      <th>F1 Label Senang</th>\n",
       "      <th>F1 Label Sedih</th>\n",
       "      <th>F1 Label Terkejut</th>\n",
       "      <th>F1 Label Biasa</th>\n",
       "    </tr>\n",
       "  </thead>\n",
       "  <tbody>\n",
       "    <tr>\n",
       "      <td>100</td>\n",
       "      <td>0.488400</td>\n",
       "      <td>0.410573</td>\n",
       "      <td>0.114975</td>\n",
       "      <td>0.225434</td>\n",
       "      <td>0.160473</td>\n",
       "      <td>0.142361</td>\n",
       "      <td>0.000000</td>\n",
       "      <td>0.000000</td>\n",
       "      <td>0.000000</td>\n",
       "      <td>0.596491</td>\n",
       "      <td>0.208333</td>\n",
       "      <td>0.000000</td>\n",
       "      <td>0.000000</td>\n",
       "    </tr>\n",
       "    <tr>\n",
       "      <td>200</td>\n",
       "      <td>0.421900</td>\n",
       "      <td>0.370646</td>\n",
       "      <td>0.247847</td>\n",
       "      <td>0.387597</td>\n",
       "      <td>0.297266</td>\n",
       "      <td>0.282639</td>\n",
       "      <td>0.086957</td>\n",
       "      <td>0.000000</td>\n",
       "      <td>0.434783</td>\n",
       "      <td>0.784615</td>\n",
       "      <td>0.428571</td>\n",
       "      <td>0.000000</td>\n",
       "      <td>0.000000</td>\n",
       "    </tr>\n",
       "    <tr>\n",
       "      <td>300</td>\n",
       "      <td>0.391900</td>\n",
       "      <td>0.356718</td>\n",
       "      <td>0.297764</td>\n",
       "      <td>0.442822</td>\n",
       "      <td>0.350903</td>\n",
       "      <td>0.338889</td>\n",
       "      <td>0.000000</td>\n",
       "      <td>0.000000</td>\n",
       "      <td>0.470588</td>\n",
       "      <td>0.800000</td>\n",
       "      <td>0.628571</td>\n",
       "      <td>0.185185</td>\n",
       "      <td>0.000000</td>\n",
       "    </tr>\n",
       "    <tr>\n",
       "      <td>400</td>\n",
       "      <td>0.380700</td>\n",
       "      <td>0.355507</td>\n",
       "      <td>0.385381</td>\n",
       "      <td>0.491304</td>\n",
       "      <td>0.440722</td>\n",
       "      <td>0.430556</td>\n",
       "      <td>0.437500</td>\n",
       "      <td>0.177778</td>\n",
       "      <td>0.372093</td>\n",
       "      <td>0.806202</td>\n",
       "      <td>0.593750</td>\n",
       "      <td>0.310345</td>\n",
       "      <td>0.000000</td>\n",
       "    </tr>\n",
       "    <tr>\n",
       "      <td>500</td>\n",
       "      <td>0.343600</td>\n",
       "      <td>0.347267</td>\n",
       "      <td>0.396919</td>\n",
       "      <td>0.520000</td>\n",
       "      <td>0.450993</td>\n",
       "      <td>0.450000</td>\n",
       "      <td>0.379310</td>\n",
       "      <td>0.000000</td>\n",
       "      <td>0.566667</td>\n",
       "      <td>0.817518</td>\n",
       "      <td>0.603175</td>\n",
       "      <td>0.411765</td>\n",
       "      <td>0.000000</td>\n",
       "    </tr>\n",
       "    <tr>\n",
       "      <td>600</td>\n",
       "      <td>0.349400</td>\n",
       "      <td>0.335597</td>\n",
       "      <td>0.423649</td>\n",
       "      <td>0.511737</td>\n",
       "      <td>0.472542</td>\n",
       "      <td>0.419444</td>\n",
       "      <td>0.370370</td>\n",
       "      <td>0.333333</td>\n",
       "      <td>0.530612</td>\n",
       "      <td>0.783333</td>\n",
       "      <td>0.597015</td>\n",
       "      <td>0.350877</td>\n",
       "      <td>0.000000</td>\n",
       "    </tr>\n",
       "    <tr>\n",
       "      <td>700</td>\n",
       "      <td>0.360700</td>\n",
       "      <td>0.324403</td>\n",
       "      <td>0.454008</td>\n",
       "      <td>0.535469</td>\n",
       "      <td>0.491914</td>\n",
       "      <td>0.447222</td>\n",
       "      <td>0.235294</td>\n",
       "      <td>0.352941</td>\n",
       "      <td>0.500000</td>\n",
       "      <td>0.812030</td>\n",
       "      <td>0.626866</td>\n",
       "      <td>0.392857</td>\n",
       "      <td>0.258065</td>\n",
       "    </tr>\n",
       "    <tr>\n",
       "      <td>800</td>\n",
       "      <td>0.329900</td>\n",
       "      <td>0.328007</td>\n",
       "      <td>0.463136</td>\n",
       "      <td>0.552846</td>\n",
       "      <td>0.517104</td>\n",
       "      <td>0.511111</td>\n",
       "      <td>0.454545</td>\n",
       "      <td>0.400000</td>\n",
       "      <td>0.500000</td>\n",
       "      <td>0.832117</td>\n",
       "      <td>0.593750</td>\n",
       "      <td>0.461538</td>\n",
       "      <td>0.000000</td>\n",
       "    </tr>\n",
       "    <tr>\n",
       "      <td>900</td>\n",
       "      <td>0.316800</td>\n",
       "      <td>0.316950</td>\n",
       "      <td>0.510548</td>\n",
       "      <td>0.584677</td>\n",
       "      <td>0.556984</td>\n",
       "      <td>0.548611</td>\n",
       "      <td>0.520833</td>\n",
       "      <td>0.421053</td>\n",
       "      <td>0.520000</td>\n",
       "      <td>0.846154</td>\n",
       "      <td>0.617647</td>\n",
       "      <td>0.500000</td>\n",
       "      <td>0.148148</td>\n",
       "    </tr>\n",
       "    <tr>\n",
       "      <td>1000</td>\n",
       "      <td>0.383200</td>\n",
       "      <td>0.314899</td>\n",
       "      <td>0.496566</td>\n",
       "      <td>0.565957</td>\n",
       "      <td>0.537455</td>\n",
       "      <td>0.505556</td>\n",
       "      <td>0.481013</td>\n",
       "      <td>0.326531</td>\n",
       "      <td>0.542373</td>\n",
       "      <td>0.816000</td>\n",
       "      <td>0.628571</td>\n",
       "      <td>0.474576</td>\n",
       "      <td>0.206897</td>\n",
       "    </tr>\n",
       "    <tr>\n",
       "      <td>1100</td>\n",
       "      <td>0.290800</td>\n",
       "      <td>0.313665</td>\n",
       "      <td>0.537474</td>\n",
       "      <td>0.582031</td>\n",
       "      <td>0.569690</td>\n",
       "      <td>0.565278</td>\n",
       "      <td>0.457831</td>\n",
       "      <td>0.478873</td>\n",
       "      <td>0.520000</td>\n",
       "      <td>0.837209</td>\n",
       "      <td>0.619718</td>\n",
       "      <td>0.473684</td>\n",
       "      <td>0.375000</td>\n",
       "    </tr>\n",
       "    <tr>\n",
       "      <td>1200</td>\n",
       "      <td>0.233500</td>\n",
       "      <td>0.322803</td>\n",
       "      <td>0.566132</td>\n",
       "      <td>0.597656</td>\n",
       "      <td>0.583637</td>\n",
       "      <td>0.575000</td>\n",
       "      <td>0.366667</td>\n",
       "      <td>0.514286</td>\n",
       "      <td>0.538462</td>\n",
       "      <td>0.828125</td>\n",
       "      <td>0.600000</td>\n",
       "      <td>0.500000</td>\n",
       "      <td>0.615385</td>\n",
       "    </tr>\n",
       "    <tr>\n",
       "      <td>1300</td>\n",
       "      <td>0.261000</td>\n",
       "      <td>0.309750</td>\n",
       "      <td>0.576473</td>\n",
       "      <td>0.608350</td>\n",
       "      <td>0.597032</td>\n",
       "      <td>0.584722</td>\n",
       "      <td>0.463768</td>\n",
       "      <td>0.527778</td>\n",
       "      <td>0.538462</td>\n",
       "      <td>0.821705</td>\n",
       "      <td>0.647887</td>\n",
       "      <td>0.485714</td>\n",
       "      <td>0.550000</td>\n",
       "    </tr>\n",
       "    <tr>\n",
       "      <td>1400</td>\n",
       "      <td>0.261100</td>\n",
       "      <td>0.313126</td>\n",
       "      <td>0.599195</td>\n",
       "      <td>0.625243</td>\n",
       "      <td>0.614231</td>\n",
       "      <td>0.612500</td>\n",
       "      <td>0.454545</td>\n",
       "      <td>0.547945</td>\n",
       "      <td>0.561404</td>\n",
       "      <td>0.846154</td>\n",
       "      <td>0.617647</td>\n",
       "      <td>0.500000</td>\n",
       "      <td>0.666667</td>\n",
       "    </tr>\n",
       "    <tr>\n",
       "      <td>1500</td>\n",
       "      <td>0.270100</td>\n",
       "      <td>0.311359</td>\n",
       "      <td>0.593305</td>\n",
       "      <td>0.621359</td>\n",
       "      <td>0.610387</td>\n",
       "      <td>0.604861</td>\n",
       "      <td>0.505747</td>\n",
       "      <td>0.507937</td>\n",
       "      <td>0.576271</td>\n",
       "      <td>0.837209</td>\n",
       "      <td>0.647059</td>\n",
       "      <td>0.466667</td>\n",
       "      <td>0.612245</td>\n",
       "    </tr>\n",
       "    <tr>\n",
       "      <td>1600</td>\n",
       "      <td>0.267000</td>\n",
       "      <td>0.304837</td>\n",
       "      <td>0.595096</td>\n",
       "      <td>0.624754</td>\n",
       "      <td>0.615565</td>\n",
       "      <td>0.602778</td>\n",
       "      <td>0.500000</td>\n",
       "      <td>0.512195</td>\n",
       "      <td>0.518519</td>\n",
       "      <td>0.843750</td>\n",
       "      <td>0.676056</td>\n",
       "      <td>0.515152</td>\n",
       "      <td>0.600000</td>\n",
       "    </tr>\n",
       "    <tr>\n",
       "      <td>1700</td>\n",
       "      <td>0.255400</td>\n",
       "      <td>0.306981</td>\n",
       "      <td>0.593234</td>\n",
       "      <td>0.625243</td>\n",
       "      <td>0.614849</td>\n",
       "      <td>0.609722</td>\n",
       "      <td>0.533333</td>\n",
       "      <td>0.537313</td>\n",
       "      <td>0.561404</td>\n",
       "      <td>0.839695</td>\n",
       "      <td>0.666667</td>\n",
       "      <td>0.473684</td>\n",
       "      <td>0.540541</td>\n",
       "    </tr>\n",
       "    <tr>\n",
       "      <td>1800</td>\n",
       "      <td>0.263600</td>\n",
       "      <td>0.305776</td>\n",
       "      <td>0.613014</td>\n",
       "      <td>0.639216</td>\n",
       "      <td>0.626735</td>\n",
       "      <td>0.616667</td>\n",
       "      <td>0.567568</td>\n",
       "      <td>0.529412</td>\n",
       "      <td>0.545455</td>\n",
       "      <td>0.837209</td>\n",
       "      <td>0.676056</td>\n",
       "      <td>0.454545</td>\n",
       "      <td>0.680851</td>\n",
       "    </tr>\n",
       "    <tr>\n",
       "      <td>1900</td>\n",
       "      <td>0.278900</td>\n",
       "      <td>0.304600</td>\n",
       "      <td>0.612974</td>\n",
       "      <td>0.642023</td>\n",
       "      <td>0.628258</td>\n",
       "      <td>0.627778</td>\n",
       "      <td>0.545455</td>\n",
       "      <td>0.507937</td>\n",
       "      <td>0.555556</td>\n",
       "      <td>0.843750</td>\n",
       "      <td>0.702703</td>\n",
       "      <td>0.468750</td>\n",
       "      <td>0.666667</td>\n",
       "    </tr>\n",
       "    <tr>\n",
       "      <td>2000</td>\n",
       "      <td>0.273100</td>\n",
       "      <td>0.304677</td>\n",
       "      <td>0.601693</td>\n",
       "      <td>0.633010</td>\n",
       "      <td>0.621161</td>\n",
       "      <td>0.616667</td>\n",
       "      <td>0.531646</td>\n",
       "      <td>0.545455</td>\n",
       "      <td>0.555556</td>\n",
       "      <td>0.846154</td>\n",
       "      <td>0.676056</td>\n",
       "      <td>0.468750</td>\n",
       "      <td>0.588235</td>\n",
       "    </tr>\n",
       "  </tbody>\n",
       "</table><p>"
      ],
      "text/plain": [
       "<IPython.core.display.HTML object>"
      ]
     },
     "metadata": {},
     "output_type": "display_data"
    },
    {
     "data": {
      "text/plain": [
       "TrainOutput(global_step=2014, training_loss=0.3204741385629421, metrics={'train_runtime': 224.2165, 'train_samples_per_second': 17.965, 'train_steps_per_second': 8.982, 'total_flos': 43847986865700.0, 'train_loss': 0.3204741385629421, 'epoch': 2.0})"
      ]
     },
     "execution_count": 32,
     "metadata": {},
     "output_type": "execute_result"
    }
   ],
   "source": [
    "trainer.train()"
   ]
  },
  {
   "cell_type": "code",
   "execution_count": 33,
   "metadata": {},
   "outputs": [
    {
     "data": {
      "application/vnd.jupyter.widget-view+json": {
       "model_id": "96c4e49eb47f4f3bbcf8f04e224f6cf3",
       "version_major": 2,
       "version_minor": 0
      },
      "text/plain": [
       "Upload 3 LFS files:   0%|          | 0/3 [00:00<?, ?it/s]"
      ]
     },
     "metadata": {},
     "output_type": "display_data"
    },
    {
     "data": {
      "application/vnd.jupyter.widget-view+json": {
       "model_id": "715bc236c42441ae95df05d9b29dc1ae",
       "version_major": 2,
       "version_minor": 0
      },
      "text/plain": [
       "events.out.tfevents.1736607778.2f4d2fe78b76.1312.2:   0%|          | 0.00/27.9k [00:00<?, ?B/s]"
      ]
     },
     "metadata": {},
     "output_type": "display_data"
    },
    {
     "data": {
      "application/vnd.jupyter.widget-view+json": {
       "model_id": "920cd743f15b4ec499b8dd763491c7bd",
       "version_major": 2,
       "version_minor": 0
      },
      "text/plain": [
       "training_args.bin:   0%|          | 0.00/5.37k [00:00<?, ?B/s]"
      ]
     },
     "metadata": {},
     "output_type": "display_data"
    },
    {
     "data": {
      "application/vnd.jupyter.widget-view+json": {
       "model_id": "fcca602a772c445e822616924c840c43",
       "version_major": 2,
       "version_minor": 0
      },
      "text/plain": [
       "model.safetensors:   0%|          | 0.00/499M [00:00<?, ?B/s]"
      ]
     },
     "metadata": {},
     "output_type": "display_data"
    },
    {
     "data": {
      "application/vnd.google.colaboratory.intrinsic+json": {
       "type": "string"
      },
      "text/plain": [
       "CommitInfo(commit_url='https://huggingface.co/alxxtexxr/RoBERTa-Base-SE2025T11A-sun-v20250111150219/commit/d7f67ae58d2779c2bc259980d90a6c399b322931', commit_message='End of training', commit_description='', oid='d7f67ae58d2779c2bc259980d90a6c399b322931', pr_url=None, repo_url=RepoUrl('https://huggingface.co/alxxtexxr/RoBERTa-Base-SE2025T11A-sun-v20250111150219', endpoint='https://huggingface.co', repo_type='model', repo_id='alxxtexxr/RoBERTa-Base-SE2025T11A-sun-v20250111150219'), pr_revision=None, pr_num=None)"
      ]
     },
     "execution_count": 33,
     "metadata": {},
     "output_type": "execute_result"
    }
   ],
   "source": [
    "trainer.push_to_hub()"
   ]
  },
  {
   "cell_type": "markdown",
   "metadata": {},
   "source": [
    "# Evaluation"
   ]
  },
  {
   "cell_type": "code",
   "execution_count": 34,
   "metadata": {},
   "outputs": [
    {
     "data": {
      "text/html": [
       "\n",
       "    <div>\n",
       "      \n",
       "      <progress value='121' max='121' style='width:300px; height:20px; vertical-align: middle;'></progress>\n",
       "      [121/121 00:01]\n",
       "    </div>\n",
       "    "
      ],
      "text/plain": [
       "<IPython.core.display.HTML object>"
      ]
     },
     "metadata": {},
     "output_type": "display_data"
    },
    {
     "name": "stdout",
     "output_type": "stream",
     "text": [
      "Evaluation to copy:\n",
      "0.6025994780411946\t0.6301369863013698\t0.6223253289738249\t0.6147994467496541\t0.6578947368421053\t0.5\t0.5925925925925926\t0.8031496062992126\t0.5753424657534246\t0.5526315789473685\t0.5365853658536586\n",
      "\n",
      "Evaluation full results:\n",
      "{'epoch': 2.0,\n",
      " 'eval_f1_label_biasa': 0.5365853658536586,\n",
      " 'eval_f1_label_jijik': 0.5,\n",
      " 'eval_f1_label_marah': 0.6578947368421053,\n",
      " 'eval_f1_label_sedih': 0.5753424657534246,\n",
      " 'eval_f1_label_senang': 0.8031496062992126,\n",
      " 'eval_f1_label_takut': 0.5925925925925926,\n",
      " 'eval_f1_label_terkejut': 0.5526315789473685,\n",
      " 'eval_f1_macro': 0.6025994780411946,\n",
      " 'eval_f1_micro': 0.6301369863013698,\n",
      " 'eval_f1_samples': 0.6147994467496541,\n",
      " 'eval_f1_weighted': 0.6223253289738249,\n",
      " 'eval_loss': 0.2972015142440796,\n",
      " 'eval_runtime': 1.3082,\n",
      " 'eval_samples_per_second': 184.227,\n",
      " 'eval_steps_per_second': 92.496}\n"
     ]
    }
   ],
   "source": [
    "eval = trainer.evaluate(eval_dataset=tokenized_datasets['test'])\n",
    "\n",
    "print(\"Evaluation to copy:\")\n",
    "f1_keys = [eval_key for eval_key in eval.keys() if 'f1' in eval_key]\n",
    "for i, k in enumerate(f1_keys): print(eval[k], end=\"\\t\" if i + 1 < len(f1_keys) else \"\")\n",
    "print()\n",
    "print()\n",
    "print(\"Evaluation full results:\")\n",
    "pprint(eval)"
   ]
  },
  {
   "cell_type": "markdown",
   "metadata": {},
   "source": [
    "# Inference"
   ]
  },
  {
   "cell_type": "code",
   "execution_count": 35,
   "metadata": {},
   "outputs": [
    {
     "name": "stdout",
     "output_type": "stream",
     "text": [
      "Text: Request doel sumbang mang anu naha salah judul na\n",
      "True emotion(s): takut, senang\n",
      "Predicted emotion(s): senang\n"
     ]
    }
   ],
   "source": [
    "data = datasets['val'][1]\n",
    "text = data['text']\n",
    "emotion_true = data['emotion']\n",
    "\n",
    "inputs = tokenizer(text, return_tensors='pt').to(model.device)\n",
    "\n",
    "outputs = trainer.model(**inputs)\n",
    "logits = outputs.logits\n",
    "probs = sigmoid(logits.squeeze().detach().cpu().numpy()) # apply sigmoid + threshold\n",
    "labels_pred = (probs > 0.5).astype(int)\n",
    "emotion_pred = [id2class[idx] for idx, label in enumerate(labels_pred) if label == 1.0] # turn predicted id's into actual label names\n",
    "\n",
    "print(\"Text:\", text)\n",
    "print(\"True emotion(s):\", emotion_true)\n",
    "print(\"Predicted emotion(s):\", \", \".join(emotion_pred))"
   ]
  }
 ],
 "metadata": {
  "kernelspec": {
   "display_name": "Python 3",
   "language": "python",
   "name": "python3"
  },
  "language_info": {
   "codemirror_mode": {
    "name": "ipython",
    "version": 3
   },
   "file_extension": ".py",
   "mimetype": "text/x-python",
   "name": "python",
   "nbconvert_exporter": "python",
   "pygments_lexer": "ipython3",
   "version": "3.10.12"
  }
 },
 "nbformat": 4,
 "nbformat_minor": 2
}

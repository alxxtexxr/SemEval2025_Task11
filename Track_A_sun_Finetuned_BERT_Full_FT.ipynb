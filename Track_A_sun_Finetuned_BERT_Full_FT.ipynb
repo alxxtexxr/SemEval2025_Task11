{
 "cells": [
  {
   "cell_type": "markdown",
   "metadata": {},
   "source": [
    "### References\n",
    "- Multi-Label Classification Model From Scratch: Step-by-Step Tutorial (https://huggingface.co/blog/Valerii-Knowledgator/multi-label-classification)\n",
    "- https://github.com/NielsRogge/Transformers-Tutorials/blob/master/BERT/Fine_tuning_BERT_(and_friends)_for_multi_label_text_classification.ipynb\n",
    "- https://github.com/huggingface/notebooks/blob/main/examples/text_classification.ipynb"
   ]
  },
  {
   "cell_type": "markdown",
   "metadata": {},
   "source": [
    "# Libraries"
   ]
  },
  {
   "cell_type": "code",
   "execution_count": 1,
   "metadata": {},
   "outputs": [],
   "source": [
    "%pip install -q -U datasets transformers accelerate sentencepiece"
   ]
  },
  {
   "cell_type": "code",
   "execution_count": 2,
   "metadata": {},
   "outputs": [],
   "source": [
    "import os\n",
    "import random\n",
    "import numpy as np\n",
    "import torch\n",
    "import transformers\n",
    "from pprint import pprint\n",
    "from datetime import datetime\n",
    "from datasets import load_dataset\n",
    "from transformers import AutoModelForSequenceClassification, AutoTokenizer, DataCollatorWithPadding, Trainer, TrainingArguments\n",
    "from sklearn.metrics import f1_score"
   ]
  },
  {
   "cell_type": "markdown",
   "metadata": {},
   "source": [
    "# Config"
   ]
  },
  {
   "cell_type": "code",
   "execution_count": 3,
   "metadata": {},
   "outputs": [
    {
     "name": "stdout",
     "output_type": "stream",
     "text": [
      "Project name: RoBERTa-Base-SE2025T11A-sun-v20250110153806\n"
     ]
    }
   ],
   "source": [
    "seed = 42\n",
    "lang = 'sun'\n",
    "project_name = f'RoBERTa-Base-SE2025T11A-{lang}-v{datetime.now().strftime(\"%Y%m%d%H%M%S\")}'\n",
    "print(\"Project name:\", project_name)\n",
    "\n",
    "# hf_model_id = 'bhadresh-savani/roberta-base-emotion'\n",
    "# hf_model_id = 'bhadresh-savani/bert-base-uncased-emotion'\n",
    "# hf_model_id = 'w11wo/sundanese-bert-base-emotion-classifier'\n",
    "# hf_model_id = 'w11wo/sundanese-roberta-base-emotion-classifier'\n",
    "hf_model_id = 'w11wo/sundanese-roberta-base'\n",
    "# hf_model_id = 'alxxtexxr/XLM-RoBERTa-Base-Sundanese-Emotion-Classifier-v20241222170134'\n",
    "hf_tokenizer_id = hf_model_id\n",
    "hf_data_id = 'alxxtexxr/SemEval2025-Task11-Dataset'\n",
    "# hf_data_config = 'track_a_sun_70_15_15_stratify_v2'\n",
    "hf_data_config = 'track_a_sun_go_emotions_70_15_15_stratify_v2'\n",
    "# hf_data_config = 'track_a_sun_go_emotions_70_15_15_balanced'\n",
    "\n",
    "num_epochs = 1"
   ]
  },
  {
   "cell_type": "code",
   "execution_count": 4,
   "metadata": {},
   "outputs": [
    {
     "name": "stdout",
     "output_type": "stream",
     "text": [
      "Random seed set to: 42\n"
     ]
    }
   ],
   "source": [
    "def set_seed(seed):\n",
    "    # Set random seed for NumPy\n",
    "    np.random.seed(seed)\n",
    "\n",
    "    # Set random seed for Torch\n",
    "    torch.manual_seed(seed)\n",
    "    torch.cuda.manual_seed(seed)\n",
    "    torch.cuda.manual_seed_all(seed)  # if using multi-GPU\n",
    "    torch.backends.cudnn.deterministic = True  # Ensures deterministic results\n",
    "    torch.backends.cudnn.benchmark = False  # Avoids non-deterministic algorithms\n",
    "\n",
    "    # Set random seed for Transformers\n",
    "    transformers.set_seed(seed)\n",
    "\n",
    "    # Optionally set random seed for sklearn and Python's own random module\n",
    "    random.seed(seed)\n",
    "\n",
    "    # Set random seed for os\n",
    "    os.environ['PYTHONHASHSEED'] = str(seed)\n",
    "\n",
    "    print(f\"Random seed set to: {seed}\")\n",
    "\n",
    "set_seed(seed)"
   ]
  },
  {
   "cell_type": "markdown",
   "metadata": {},
   "source": [
    "# Data"
   ]
  },
  {
   "cell_type": "markdown",
   "metadata": {},
   "source": [
    "## Load Data"
   ]
  },
  {
   "cell_type": "code",
   "execution_count": 5,
   "metadata": {},
   "outputs": [
    {
     "name": "stderr",
     "output_type": "stream",
     "text": [
      "/usr/local/lib/python3.10/dist-packages/huggingface_hub/utils/_auth.py:104: UserWarning: \n",
      "Error while fetching `HF_TOKEN` secret value from your vault: 'Requesting secret HF_TOKEN timed out. Secrets can only be fetched when running from the Colab UI.'.\n",
      "You are not authenticated with the Hugging Face Hub in this notebook.\n",
      "If the error persists, please let us know by opening an issue on GitHub (https://github.com/huggingface/huggingface_hub/issues/new).\n",
      "  warnings.warn(\n"
     ]
    },
    {
     "name": "stdout",
     "output_type": "stream",
     "text": [
      "Data columns: ['text', 'emotion', 'marah', 'jijik', 'takut', 'senang', 'sedih', 'terkejut', 'biasa']\n",
      "Emotions columns: ['marah', 'jijik', 'takut', 'senang', 'sedih', 'terkejut', 'biasa']\n"
     ]
    }
   ],
   "source": [
    "datasets = load_dataset(hf_data_id, hf_data_config)\n",
    "\n",
    "cols = list(datasets['train'].features)\n",
    "emotion_cols = [col for col in cols if col not in ['Unnamed: 0', 'text', 'emotion']]\n",
    "splits = [*datasets.keys()]\n",
    "\n",
    "print(\"Data columns:\", cols)\n",
    "print(\"Emotions columns:\", emotion_cols)"
   ]
  },
  {
   "cell_type": "code",
   "execution_count": 6,
   "metadata": {},
   "outputs": [
    {
     "name": "stdout",
     "output_type": "stream",
     "text": [
      "Class to ID:\n",
      "{'biasa': 6,\n",
      " 'jijik': 1,\n",
      " 'marah': 0,\n",
      " 'sedih': 4,\n",
      " 'senang': 3,\n",
      " 'takut': 2,\n",
      " 'terkejut': 5}\n",
      "\n",
      "ID to Class:\n",
      "{0: 'marah',\n",
      " 1: 'jijik',\n",
      " 2: 'takut',\n",
      " 3: 'senang',\n",
      " 4: 'sedih',\n",
      " 5: 'terkejut',\n",
      " 6: 'biasa'}\n"
     ]
    }
   ],
   "source": [
    "class2id = {class_:id for id, class_ in enumerate(emotion_cols)}\n",
    "id2class = {id:class_ for class_, id in class2id.items()}\n",
    "\n",
    "print(\"Class to ID:\")\n",
    "pprint(class2id, width=1)\n",
    "print()\n",
    "print(\"ID to Class:\")\n",
    "pprint(id2class, width=1)"
   ]
  },
  {
   "cell_type": "markdown",
   "metadata": {},
   "source": [
    "## Preprocess Data"
   ]
  },
  {
   "cell_type": "code",
   "execution_count": 7,
   "metadata": {},
   "outputs": [],
   "source": [
    "tokenizer = AutoTokenizer.from_pretrained(hf_tokenizer_id)"
   ]
  },
  {
   "cell_type": "code",
   "execution_count": 8,
   "metadata": {},
   "outputs": [],
   "source": [
    "def one_hot_encode_emotion(emotion, emotion_cols):\n",
    "    emotions = emotion.replace(\" \", \"\").split(\",\")\n",
    "    one_hot_emotion = [1.0 if emotion_col in emotions else 0.0 for emotion_col in emotion_cols] # Ensure that the label is float, not int\n",
    "    return one_hot_emotion\n",
    "\n",
    "def preprocess_function(data):\n",
    "   text = data['text']\n",
    "   emotion = data['emotion']\n",
    "   labels = one_hot_encode_emotion(emotion, emotion_cols)\n",
    "   data = tokenizer(text, truncation=True)\n",
    "   data['labels'] = labels\n",
    "   return data\n",
    "\n",
    "tokenized_datasets = {split: datasets[split].map(preprocess_function) for split in splits}"
   ]
  },
  {
   "cell_type": "code",
   "execution_count": 9,
   "metadata": {},
   "outputs": [
    {
     "name": "stdout",
     "output_type": "stream",
     "text": [
      "Text: Sigana anjeun lalaki séjén anu henteu resep ka legion ;D\n",
      "Emotion(s): marah, jijik\n",
      "Labels: [1.0, 1.0, 0.0, 0.0, 0.0, 0.0, 0.0] --> ['marah', 'jijik', 'takut', 'senang', 'sedih', 'terkejut', 'biasa']\n"
     ]
    }
   ],
   "source": [
    "# Sanity check\n",
    "data = tokenized_datasets['train'][5]\n",
    "\n",
    "print(\"Text:\", data['text'])\n",
    "print(\"Emotion(s):\", data['emotion'])\n",
    "print(\"Labels:\", data['labels'], '-->', emotion_cols)"
   ]
  },
  {
   "cell_type": "code",
   "execution_count": 10,
   "metadata": {},
   "outputs": [],
   "source": [
    "data_collator = DataCollatorWithPadding(tokenizer)"
   ]
  },
  {
   "cell_type": "markdown",
   "metadata": {},
   "source": [
    "# Model"
   ]
  },
  {
   "cell_type": "code",
   "execution_count": 11,
   "metadata": {},
   "outputs": [
    {
     "name": "stderr",
     "output_type": "stream",
     "text": [
      "Some weights of RobertaForSequenceClassification were not initialized from the model checkpoint at w11wo/sundanese-roberta-base and are newly initialized: ['classifier.dense.bias', 'classifier.dense.weight', 'classifier.out_proj.bias', 'classifier.out_proj.weight']\n",
      "You should probably TRAIN this model on a down-stream task to be able to use it for predictions and inference.\n"
     ]
    }
   ],
   "source": [
    "model = AutoModelForSequenceClassification.from_pretrained(\n",
    "    hf_model_id, \n",
    "    num_labels=len(emotion_cols),\n",
    "    id2label=id2class, \n",
    "    label2id=class2id,\n",
    "    problem_type = \"multi_label_classification\",\n",
    ")\n",
    "\n",
    "################ TRANSFER LEARNING ################\n",
    "# model = AutoModelForSequenceClassification.from_pretrained(\n",
    "#     hf_model_id, \n",
    "#     # num_labels=len(emotion_cols),\n",
    "#     # id2label=id2class, \n",
    "#     # label2id=class2id,\n",
    "#     problem_type = \"multi_label_classification\",\n",
    "# )\n",
    "# print(model.classifier)\n",
    "# # Freeze the rest of the layers for transfer learning\n",
    "# # for param in model.parameters():\n",
    "# #     param.requires_grad = False\n",
    "\n",
    "# model.classifier.out_proj = torch.nn.Linear(in_features=768, out_features=len(emotion_cols), bias=True)\n",
    "# print(model.classifier)"
   ]
  },
  {
   "cell_type": "markdown",
   "metadata": {},
   "source": [
    "# Finetuning"
   ]
  },
  {
   "cell_type": "code",
   "execution_count": 12,
   "metadata": {},
   "outputs": [],
   "source": [
    "def sigmoid(x):\n",
    "   return 1/(1 + np.exp(-x))\n",
    "\n",
    "def compute_metrics(eval_pred):\n",
    "    predictions, labels = eval_pred\n",
    "    probs = sigmoid(predictions)\n",
    "    y_pred = (probs > 0.5).astype(int)\n",
    "    y_true = labels.astype(int)\n",
    "\n",
    "    # Compute F1 score for each type of averaging method\n",
    "    f1_micro = f1_score(y_true, y_pred, average='micro', zero_division=0.0)\n",
    "    f1_macro = f1_score(y_true, y_pred, average='macro', zero_division=0.0)\n",
    "    f1_weighted = f1_score(y_true, y_pred, average='weighted', zero_division=0.0)\n",
    "    f1_samples = f1_score(y_true, y_pred, average='samples', zero_division=0.0)\n",
    "    f1_labels = f1_score(y_true, y_pred, average=None, zero_division=0.0)\n",
    "    f1_labels_dict = {f'f1_label_{emotion_cols[i]}': f1_labels[i] for i in range(len(f1_labels))}\n",
    "\n",
    "    return {\n",
    "        'f1_macro': f1_macro,\n",
    "        'f1_micro': f1_micro,\n",
    "        'f1_weighted': f1_weighted,\n",
    "        'f1_samples': f1_samples,\n",
    "        **f1_labels_dict,\n",
    "    }"
   ]
  },
  {
   "cell_type": "code",
   "execution_count": 13,
   "metadata": {},
   "outputs": [
    {
     "name": "stderr",
     "output_type": "stream",
     "text": [
      "<ipython-input-13-dc5948f208f6>:23: FutureWarning: `tokenizer` is deprecated and will be removed in version 5.0.0 for `Trainer.__init__`. Use `processing_class` instead.\n",
      "  trainer = Trainer(\n"
     ]
    }
   ],
   "source": [
    "train_args = TrainingArguments(\n",
    "    # Training config\n",
    "    per_device_train_batch_size=2,\n",
    "    num_train_epochs=num_epochs,\n",
    "    learning_rate=2e-5,\n",
    "    weight_decay=0.01,\n",
    "\n",
    "    # Logging config for training\n",
    "    logging_strategy='steps',\n",
    "    logging_steps=100,\n",
    "\n",
    "    # Evaluation config during training\n",
    "    per_device_eval_batch_size=2,\n",
    "    eval_strategy='steps',\n",
    "    eval_steps=100,\n",
    "\n",
    "    # Model saving config\n",
    "    output_dir=project_name,\n",
    "    save_strategy='epoch',\n",
    "    # load_best_model_at_end=True,\n",
    ")\n",
    "\n",
    "trainer = Trainer(\n",
    "    model=model,\n",
    "    args=train_args,\n",
    "    train_dataset=tokenized_datasets['train'],\n",
    "    eval_dataset=tokenized_datasets['val'],\n",
    "    tokenizer=tokenizer,\n",
    "    data_collator=data_collator,\n",
    "    compute_metrics=compute_metrics,\n",
    ")"
   ]
  },
  {
   "cell_type": "code",
   "execution_count": 14,
   "metadata": {},
   "outputs": [
    {
     "name": "stderr",
     "output_type": "stream",
     "text": [
      "\u001b[34m\u001b[1mwandb\u001b[0m: \u001b[33mWARNING\u001b[0m The `run_name` is currently set to the same value as `TrainingArguments.output_dir`. If this was not intended, please specify a different run name by setting the `TrainingArguments.run_name` parameter.\n",
      "\u001b[34m\u001b[1mwandb\u001b[0m: Using wandb-core as the SDK backend.  Please refer to https://wandb.me/wandb-core for more information.\n",
      "\u001b[34m\u001b[1mwandb\u001b[0m: Currently logged in as: \u001b[33malimtegar\u001b[0m. Use \u001b[1m`wandb login --relogin`\u001b[0m to force relogin\n"
     ]
    },
    {
     "data": {
      "text/html": [
       "Tracking run with wandb version 0.19.1"
      ],
      "text/plain": [
       "<IPython.core.display.HTML object>"
      ]
     },
     "metadata": {},
     "output_type": "display_data"
    },
    {
     "data": {
      "text/html": [
       "Run data is saved locally in <code>/content/wandb/run-20250110_153833-vx1dfojl</code>"
      ],
      "text/plain": [
       "<IPython.core.display.HTML object>"
      ]
     },
     "metadata": {},
     "output_type": "display_data"
    },
    {
     "data": {
      "text/html": [
       "Syncing run <strong><a href='https://wandb.ai/alimtegar/huggingface/runs/vx1dfojl' target=\"_blank\">RoBERTa-Base-SE2025T11A-sun-v20250110153806</a></strong> to <a href='https://wandb.ai/alimtegar/huggingface' target=\"_blank\">Weights & Biases</a> (<a href='https://wandb.me/developer-guide' target=\"_blank\">docs</a>)<br>"
      ],
      "text/plain": [
       "<IPython.core.display.HTML object>"
      ]
     },
     "metadata": {},
     "output_type": "display_data"
    },
    {
     "data": {
      "text/html": [
       " View project at <a href='https://wandb.ai/alimtegar/huggingface' target=\"_blank\">https://wandb.ai/alimtegar/huggingface</a>"
      ],
      "text/plain": [
       "<IPython.core.display.HTML object>"
      ]
     },
     "metadata": {},
     "output_type": "display_data"
    },
    {
     "data": {
      "text/html": [
       " View run at <a href='https://wandb.ai/alimtegar/huggingface/runs/vx1dfojl' target=\"_blank\">https://wandb.ai/alimtegar/huggingface/runs/vx1dfojl</a>"
      ],
      "text/plain": [
       "<IPython.core.display.HTML object>"
      ]
     },
     "metadata": {},
     "output_type": "display_data"
    },
    {
     "data": {
      "text/html": [
       "\n",
       "    <div>\n",
       "      \n",
       "      <progress value='1766' max='1766' style='width:300px; height:20px; vertical-align: middle;'></progress>\n",
       "      [1766/1766 03:38, Epoch 2/2]\n",
       "    </div>\n",
       "    <table border=\"1\" class=\"dataframe\">\n",
       "  <thead>\n",
       " <tr style=\"text-align: left;\">\n",
       "      <th>Step</th>\n",
       "      <th>Training Loss</th>\n",
       "      <th>Validation Loss</th>\n",
       "      <th>F1 Macro</th>\n",
       "      <th>F1 Micro</th>\n",
       "      <th>F1 Weighted</th>\n",
       "      <th>F1 Samples</th>\n",
       "      <th>F1 Label Marah</th>\n",
       "      <th>F1 Label Jijik</th>\n",
       "      <th>F1 Label Takut</th>\n",
       "      <th>F1 Label Senang</th>\n",
       "      <th>F1 Label Sedih</th>\n",
       "      <th>F1 Label Terkejut</th>\n",
       "      <th>F1 Label Biasa</th>\n",
       "    </tr>\n",
       "  </thead>\n",
       "  <tbody>\n",
       "    <tr>\n",
       "      <td>100</td>\n",
       "      <td>0.498100</td>\n",
       "      <td>0.422942</td>\n",
       "      <td>0.109705</td>\n",
       "      <td>0.311111</td>\n",
       "      <td>0.166039</td>\n",
       "      <td>0.221918</td>\n",
       "      <td>0.000000</td>\n",
       "      <td>0.000000</td>\n",
       "      <td>0.000000</td>\n",
       "      <td>0.767932</td>\n",
       "      <td>0.000000</td>\n",
       "      <td>0.000000</td>\n",
       "      <td>0.000000</td>\n",
       "    </tr>\n",
       "    <tr>\n",
       "      <td>200</td>\n",
       "      <td>0.443600</td>\n",
       "      <td>0.404904</td>\n",
       "      <td>0.111628</td>\n",
       "      <td>0.298401</td>\n",
       "      <td>0.168950</td>\n",
       "      <td>0.203653</td>\n",
       "      <td>0.000000</td>\n",
       "      <td>0.000000</td>\n",
       "      <td>0.000000</td>\n",
       "      <td>0.781395</td>\n",
       "      <td>0.000000</td>\n",
       "      <td>0.000000</td>\n",
       "      <td>0.000000</td>\n",
       "    </tr>\n",
       "    <tr>\n",
       "      <td>300</td>\n",
       "      <td>0.415600</td>\n",
       "      <td>0.401269</td>\n",
       "      <td>0.112637</td>\n",
       "      <td>0.294964</td>\n",
       "      <td>0.170478</td>\n",
       "      <td>0.198174</td>\n",
       "      <td>0.000000</td>\n",
       "      <td>0.000000</td>\n",
       "      <td>0.000000</td>\n",
       "      <td>0.788462</td>\n",
       "      <td>0.000000</td>\n",
       "      <td>0.000000</td>\n",
       "      <td>0.000000</td>\n",
       "    </tr>\n",
       "    <tr>\n",
       "      <td>400</td>\n",
       "      <td>0.419800</td>\n",
       "      <td>0.388090</td>\n",
       "      <td>0.123162</td>\n",
       "      <td>0.316901</td>\n",
       "      <td>0.183322</td>\n",
       "      <td>0.220091</td>\n",
       "      <td>0.000000</td>\n",
       "      <td>0.000000</td>\n",
       "      <td>0.000000</td>\n",
       "      <td>0.807339</td>\n",
       "      <td>0.000000</td>\n",
       "      <td>0.054795</td>\n",
       "      <td>0.000000</td>\n",
       "    </tr>\n",
       "    <tr>\n",
       "      <td>500</td>\n",
       "      <td>0.389200</td>\n",
       "      <td>0.362715</td>\n",
       "      <td>0.183417</td>\n",
       "      <td>0.337979</td>\n",
       "      <td>0.237080</td>\n",
       "      <td>0.239269</td>\n",
       "      <td>0.060606</td>\n",
       "      <td>0.000000</td>\n",
       "      <td>0.303030</td>\n",
       "      <td>0.792079</td>\n",
       "      <td>0.000000</td>\n",
       "      <td>0.128205</td>\n",
       "      <td>0.000000</td>\n",
       "    </tr>\n",
       "    <tr>\n",
       "      <td>600</td>\n",
       "      <td>0.392700</td>\n",
       "      <td>0.351078</td>\n",
       "      <td>0.277143</td>\n",
       "      <td>0.413333</td>\n",
       "      <td>0.337725</td>\n",
       "      <td>0.308676</td>\n",
       "      <td>0.202899</td>\n",
       "      <td>0.000000</td>\n",
       "      <td>0.250000</td>\n",
       "      <td>0.793970</td>\n",
       "      <td>0.390805</td>\n",
       "      <td>0.302326</td>\n",
       "      <td>0.000000</td>\n",
       "    </tr>\n",
       "    <tr>\n",
       "      <td>700</td>\n",
       "      <td>0.340100</td>\n",
       "      <td>0.340449</td>\n",
       "      <td>0.327133</td>\n",
       "      <td>0.462016</td>\n",
       "      <td>0.384273</td>\n",
       "      <td>0.368950</td>\n",
       "      <td>0.311688</td>\n",
       "      <td>0.000000</td>\n",
       "      <td>0.421053</td>\n",
       "      <td>0.790909</td>\n",
       "      <td>0.444444</td>\n",
       "      <td>0.321839</td>\n",
       "      <td>0.000000</td>\n",
       "    </tr>\n",
       "    <tr>\n",
       "      <td>800</td>\n",
       "      <td>0.358200</td>\n",
       "      <td>0.324638</td>\n",
       "      <td>0.404327</td>\n",
       "      <td>0.532562</td>\n",
       "      <td>0.462463</td>\n",
       "      <td>0.458904</td>\n",
       "      <td>0.586207</td>\n",
       "      <td>0.000000</td>\n",
       "      <td>0.506667</td>\n",
       "      <td>0.819048</td>\n",
       "      <td>0.551020</td>\n",
       "      <td>0.367347</td>\n",
       "      <td>0.000000</td>\n",
       "    </tr>\n",
       "    <tr>\n",
       "      <td>900</td>\n",
       "      <td>0.351300</td>\n",
       "      <td>0.319052</td>\n",
       "      <td>0.472298</td>\n",
       "      <td>0.575458</td>\n",
       "      <td>0.523342</td>\n",
       "      <td>0.496804</td>\n",
       "      <td>0.470588</td>\n",
       "      <td>0.505051</td>\n",
       "      <td>0.500000</td>\n",
       "      <td>0.826291</td>\n",
       "      <td>0.678571</td>\n",
       "      <td>0.325581</td>\n",
       "      <td>0.000000</td>\n",
       "    </tr>\n",
       "    <tr>\n",
       "      <td>1000</td>\n",
       "      <td>0.293600</td>\n",
       "      <td>0.304209</td>\n",
       "      <td>0.542220</td>\n",
       "      <td>0.604278</td>\n",
       "      <td>0.574732</td>\n",
       "      <td>0.547032</td>\n",
       "      <td>0.600000</td>\n",
       "      <td>0.380952</td>\n",
       "      <td>0.536585</td>\n",
       "      <td>0.838095</td>\n",
       "      <td>0.660870</td>\n",
       "      <td>0.404040</td>\n",
       "      <td>0.375000</td>\n",
       "    </tr>\n",
       "    <tr>\n",
       "      <td>1100</td>\n",
       "      <td>0.285800</td>\n",
       "      <td>0.301354</td>\n",
       "      <td>0.487887</td>\n",
       "      <td>0.589849</td>\n",
       "      <td>0.541458</td>\n",
       "      <td>0.530594</td>\n",
       "      <td>0.637931</td>\n",
       "      <td>0.257143</td>\n",
       "      <td>0.519481</td>\n",
       "      <td>0.832536</td>\n",
       "      <td>0.690909</td>\n",
       "      <td>0.425926</td>\n",
       "      <td>0.051282</td>\n",
       "    </tr>\n",
       "    <tr>\n",
       "      <td>1200</td>\n",
       "      <td>0.307200</td>\n",
       "      <td>0.295241</td>\n",
       "      <td>0.589093</td>\n",
       "      <td>0.635443</td>\n",
       "      <td>0.614529</td>\n",
       "      <td>0.598356</td>\n",
       "      <td>0.617647</td>\n",
       "      <td>0.623853</td>\n",
       "      <td>0.519481</td>\n",
       "      <td>0.816327</td>\n",
       "      <td>0.709677</td>\n",
       "      <td>0.420000</td>\n",
       "      <td>0.416667</td>\n",
       "    </tr>\n",
       "    <tr>\n",
       "      <td>1300</td>\n",
       "      <td>0.275200</td>\n",
       "      <td>0.294726</td>\n",
       "      <td>0.603587</td>\n",
       "      <td>0.637419</td>\n",
       "      <td>0.618672</td>\n",
       "      <td>0.600183</td>\n",
       "      <td>0.629921</td>\n",
       "      <td>0.488372</td>\n",
       "      <td>0.519481</td>\n",
       "      <td>0.810000</td>\n",
       "      <td>0.704000</td>\n",
       "      <td>0.440000</td>\n",
       "      <td>0.633333</td>\n",
       "    </tr>\n",
       "    <tr>\n",
       "      <td>1400</td>\n",
       "      <td>0.254100</td>\n",
       "      <td>0.297010</td>\n",
       "      <td>0.579022</td>\n",
       "      <td>0.622222</td>\n",
       "      <td>0.597498</td>\n",
       "      <td>0.583562</td>\n",
       "      <td>0.596491</td>\n",
       "      <td>0.494382</td>\n",
       "      <td>0.500000</td>\n",
       "      <td>0.823529</td>\n",
       "      <td>0.692913</td>\n",
       "      <td>0.369565</td>\n",
       "      <td>0.576271</td>\n",
       "    </tr>\n",
       "    <tr>\n",
       "      <td>1500</td>\n",
       "      <td>0.260000</td>\n",
       "      <td>0.291813</td>\n",
       "      <td>0.595918</td>\n",
       "      <td>0.634961</td>\n",
       "      <td>0.616017</td>\n",
       "      <td>0.604110</td>\n",
       "      <td>0.574257</td>\n",
       "      <td>0.584906</td>\n",
       "      <td>0.518519</td>\n",
       "      <td>0.823529</td>\n",
       "      <td>0.703125</td>\n",
       "      <td>0.431373</td>\n",
       "      <td>0.535714</td>\n",
       "    </tr>\n",
       "    <tr>\n",
       "      <td>1600</td>\n",
       "      <td>0.319400</td>\n",
       "      <td>0.285527</td>\n",
       "      <td>0.582985</td>\n",
       "      <td>0.621053</td>\n",
       "      <td>0.604232</td>\n",
       "      <td>0.575525</td>\n",
       "      <td>0.585859</td>\n",
       "      <td>0.520833</td>\n",
       "      <td>0.517647</td>\n",
       "      <td>0.814070</td>\n",
       "      <td>0.704918</td>\n",
       "      <td>0.419048</td>\n",
       "      <td>0.518519</td>\n",
       "    </tr>\n",
       "    <tr>\n",
       "      <td>1700</td>\n",
       "      <td>0.276400</td>\n",
       "      <td>0.283943</td>\n",
       "      <td>0.596274</td>\n",
       "      <td>0.628272</td>\n",
       "      <td>0.612290</td>\n",
       "      <td>0.587397</td>\n",
       "      <td>0.613861</td>\n",
       "      <td>0.478261</td>\n",
       "      <td>0.536585</td>\n",
       "      <td>0.814070</td>\n",
       "      <td>0.699187</td>\n",
       "      <td>0.419048</td>\n",
       "      <td>0.612903</td>\n",
       "    </tr>\n",
       "  </tbody>\n",
       "</table><p>"
      ],
      "text/plain": [
       "<IPython.core.display.HTML object>"
      ]
     },
     "metadata": {},
     "output_type": "display_data"
    },
    {
     "data": {
      "text/plain": [
       "TrainOutput(global_step=1766, training_loss=0.34283459038048614, metrics={'train_runtime': 231.1407, 'train_samples_per_second': 15.272, 'train_steps_per_second': 7.64, 'total_flos': 40226963970600.0, 'train_loss': 0.34283459038048614, 'epoch': 2.0})"
      ]
     },
     "execution_count": 14,
     "metadata": {},
     "output_type": "execute_result"
    }
   ],
   "source": [
    "trainer.train()"
   ]
  },
  {
   "cell_type": "code",
   "execution_count": 15,
   "metadata": {},
   "outputs": [
    {
     "data": {
      "application/vnd.jupyter.widget-view+json": {
       "model_id": "fda135f4f111496c99b7f4e63612c52b",
       "version_major": 2,
       "version_minor": 0
      },
      "text/plain": [
       "model.safetensors:   0%|          | 0.00/499M [00:00<?, ?B/s]"
      ]
     },
     "metadata": {},
     "output_type": "display_data"
    },
    {
     "data": {
      "application/vnd.jupyter.widget-view+json": {
       "model_id": "c79014b3201544c5acc23b239d9cd452",
       "version_major": 2,
       "version_minor": 0
      },
      "text/plain": [
       "training_args.bin:   0%|          | 0.00/5.37k [00:00<?, ?B/s]"
      ]
     },
     "metadata": {},
     "output_type": "display_data"
    },
    {
     "data": {
      "application/vnd.jupyter.widget-view+json": {
       "model_id": "567c6afc570046ac933c74771409f52e",
       "version_major": 2,
       "version_minor": 0
      },
      "text/plain": [
       "events.out.tfevents.1736523507.b5bf64fdeef9.12967.0:   0%|          | 0.00/24.7k [00:00<?, ?B/s]"
      ]
     },
     "metadata": {},
     "output_type": "display_data"
    },
    {
     "data": {
      "application/vnd.jupyter.widget-view+json": {
       "model_id": "07d2bdf528a8406ebca1da511fa4493a",
       "version_major": 2,
       "version_minor": 0
      },
      "text/plain": [
       "Upload 3 LFS files:   0%|          | 0/3 [00:00<?, ?it/s]"
      ]
     },
     "metadata": {},
     "output_type": "display_data"
    },
    {
     "data": {
      "application/vnd.google.colaboratory.intrinsic+json": {
       "type": "string"
      },
      "text/plain": [
       "CommitInfo(commit_url='https://huggingface.co/alxxtexxr/RoBERTa-Base-SE2025T11A-sun-v20250110153806/commit/ff7f9beb868ae27f6b1556e240034d038939e52c', commit_message='End of training', commit_description='', oid='ff7f9beb868ae27f6b1556e240034d038939e52c', pr_url=None, repo_url=RepoUrl('https://huggingface.co/alxxtexxr/RoBERTa-Base-SE2025T11A-sun-v20250110153806', endpoint='https://huggingface.co', repo_type='model', repo_id='alxxtexxr/RoBERTa-Base-SE2025T11A-sun-v20250110153806'), pr_revision=None, pr_num=None)"
      ]
     },
     "execution_count": 15,
     "metadata": {},
     "output_type": "execute_result"
    }
   ],
   "source": [
    "trainer.push_to_hub()"
   ]
  },
  {
   "cell_type": "markdown",
   "metadata": {},
   "source": [
    "# Evaluation"
   ]
  },
  {
   "cell_type": "code",
   "execution_count": 16,
   "metadata": {},
   "outputs": [
    {
     "data": {
      "text/html": [
       "\n",
       "    <div>\n",
       "      \n",
       "      <progress value='183' max='183' style='width:300px; height:20px; vertical-align: middle;'></progress>\n",
       "      [183/183 00:02]\n",
       "    </div>\n",
       "    "
      ],
      "text/plain": [
       "<IPython.core.display.HTML object>"
      ]
     },
     "metadata": {},
     "output_type": "display_data"
    },
    {
     "name": "stdout",
     "output_type": "stream",
     "text": [
      "Evaluation to copy:\n",
      "0.6036601697673697\t0.6373056994818653\t0.6221609043305886\t0.6012785388127854\t0.5849056603773585\t0.45454545454545453\t0.7209302325581395\t0.8442211055276382\t0.65\t0.44642857142857145\t0.5245901639344263\n",
      "\n",
      "Evaluation full results:\n",
      "{'epoch': 2.0,\n",
      " 'eval_f1_label_biasa': 0.5245901639344263,\n",
      " 'eval_f1_label_jijik': 0.45454545454545453,\n",
      " 'eval_f1_label_marah': 0.5849056603773585,\n",
      " 'eval_f1_label_sedih': 0.65,\n",
      " 'eval_f1_label_senang': 0.8442211055276382,\n",
      " 'eval_f1_label_takut': 0.7209302325581395,\n",
      " 'eval_f1_label_terkejut': 0.44642857142857145,\n",
      " 'eval_f1_macro': 0.6036601697673697,\n",
      " 'eval_f1_micro': 0.6373056994818653,\n",
      " 'eval_f1_samples': 0.6012785388127854,\n",
      " 'eval_f1_weighted': 0.6221609043305886,\n",
      " 'eval_loss': 0.28281575441360474,\n",
      " 'eval_runtime': 2.1213,\n",
      " 'eval_samples_per_second': 172.061,\n",
      " 'eval_steps_per_second': 86.266}\n"
     ]
    }
   ],
   "source": [
    "eval = trainer.evaluate(eval_dataset=tokenized_datasets['test'])\n",
    "\n",
    "print(\"Evaluation to copy:\")\n",
    "f1_keys = [eval_key for eval_key in eval.keys() if 'f1' in eval_key]\n",
    "for i, k in enumerate(f1_keys): print(eval[k], end=\"\\t\" if i + 1 < len(f1_keys) else \"\")\n",
    "print()\n",
    "print()\n",
    "print(\"Evaluation full results:\")\n",
    "pprint(eval)"
   ]
  },
  {
   "cell_type": "markdown",
   "metadata": {},
   "source": [
    "# Inference"
   ]
  },
  {
   "cell_type": "code",
   "execution_count": 17,
   "metadata": {},
   "outputs": [
    {
     "name": "stdout",
     "output_type": "stream",
     "text": [
      "Text: Abdi hanjakal pisan\n",
      "True emotion(s): sedih\n",
      "Predicted emotion(s): sedih\n"
     ]
    }
   ],
   "source": [
    "data = datasets['val'][1]\n",
    "text = data['text']\n",
    "emotion_true = data['emotion']\n",
    "\n",
    "inputs = tokenizer(text, return_tensors='pt').to(model.device)\n",
    "\n",
    "outputs = trainer.model(**inputs)\n",
    "logits = outputs.logits\n",
    "probs = sigmoid(logits.squeeze().detach().cpu().numpy()) # apply sigmoid + threshold\n",
    "labels_pred = (probs > 0.5).astype(int)\n",
    "emotion_pred = [id2class[idx] for idx, label in enumerate(labels_pred) if label == 1.0] # turn predicted id's into actual label names\n",
    "\n",
    "print(\"Text:\", text)\n",
    "print(\"True emotion(s):\", emotion_true)\n",
    "print(\"Predicted emotion(s):\", \", \".join(emotion_pred))"
   ]
  }
 ],
 "metadata": {
  "kernelspec": {
   "display_name": "Python 3",
   "language": "python",
   "name": "python3"
  },
  "language_info": {
   "codemirror_mode": {
    "name": "ipython",
    "version": 3
   },
   "file_extension": ".py",
   "mimetype": "text/x-python",
   "name": "python",
   "nbconvert_exporter": "python",
   "pygments_lexer": "ipython3",
   "version": "3.10.12"
  }
 },
 "nbformat": 4,
 "nbformat_minor": 2
}

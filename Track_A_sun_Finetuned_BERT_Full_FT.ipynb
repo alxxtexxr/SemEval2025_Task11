{
 "cells": [
  {
   "cell_type": "markdown",
   "metadata": {},
   "source": [
    "### References\n",
    "- Multi-Label Classification Model From Scratch: Step-by-Step Tutorial (https://huggingface.co/blog/Valerii-Knowledgator/multi-label-classification)\n",
    "- https://github.com/NielsRogge/Transformers-Tutorials/blob/master/BERT/Fine_tuning_BERT_(and_friends)_for_multi_label_text_classification.ipynb\n",
    "- https://github.com/huggingface/notebooks/blob/main/examples/text_classification.ipynb"
   ]
  },
  {
   "cell_type": "markdown",
   "metadata": {},
   "source": [
    "# Libraries"
   ]
  },
  {
   "cell_type": "code",
   "execution_count": 19,
   "metadata": {},
   "outputs": [],
   "source": [
    "%pip install -q -U datasets transformers accelerate sentencepiece"
   ]
  },
  {
   "cell_type": "code",
   "execution_count": 20,
   "metadata": {},
   "outputs": [],
   "source": [
    "import os\n",
    "import random\n",
    "import numpy as np\n",
    "import torch\n",
    "import transformers\n",
    "from pprint import pprint\n",
    "from datetime import datetime\n",
    "from datasets import load_dataset\n",
    "from transformers import AutoModelForSequenceClassification, AutoTokenizer, DataCollatorWithPadding, Trainer, TrainingArguments\n",
    "from sklearn.metrics import f1_score"
   ]
  },
  {
   "cell_type": "markdown",
   "metadata": {},
   "source": [
    "# Config"
   ]
  },
  {
   "cell_type": "code",
   "execution_count": 21,
   "metadata": {},
   "outputs": [
    {
     "name": "stdout",
     "output_type": "stream",
     "text": [
      "Project name: RoBERTa-Base-SE2025T11A-sun-v20250112124824\n"
     ]
    }
   ],
   "source": [
    "seed = 42\n",
    "lang = 'sun'\n",
    "project_name = f'RoBERTa-Base-SE2025T11A-{lang}-v{datetime.now().strftime(\"%Y%m%d%H%M%S\")}'\n",
    "print(\"Project name:\", project_name)\n",
    "\n",
    "# hf_model_id = 'bhadresh-savani/roberta-base-emotion'\n",
    "# hf_model_id = 'bhadresh-savani/bert-base-uncased-emotion'\n",
    "# hf_model_id = 'w11wo/sundanese-bert-base-emotion-classifier'\n",
    "hf_model_id = 'w11wo/sundanese-roberta-base-emotion-classifier'\n",
    "# hf_model_id = 'w11wo/sundanese-roberta-base'\n",
    "# hf_model_id = 'alxxtexxr/XLM-RoBERTa-Base-Sundanese-Emotion-Classifier-v20241222170134'\n",
    "hf_tokenizer_id = hf_model_id\n",
    "hf_data_id = 'alxxtexxr/SemEval2025-Task11-Dataset'\n",
    "# hf_data_config = 'track_a_sun_70_15_15_stratify_v2'\n",
    "# hf_data_config = 'track_a_sun_go_emotions_70_15_15_v2'\n",
    "hf_data_config = 'track_a_sun_go_emotions_70_15_15_v6'\n",
    "# hf_data_config = 'track_a_sun_go_emotions_70_15_15_balanced'\n",
    "\n",
    "num_epochs = 2"
   ]
  },
  {
   "cell_type": "code",
   "execution_count": 22,
   "metadata": {},
   "outputs": [
    {
     "name": "stdout",
     "output_type": "stream",
     "text": [
      "Random seed set to: 42\n"
     ]
    }
   ],
   "source": [
    "def set_seed(seed):\n",
    "    # Set random seed for NumPy\n",
    "    np.random.seed(seed)\n",
    "\n",
    "    # Set random seed for Torch\n",
    "    torch.manual_seed(seed)\n",
    "    torch.cuda.manual_seed(seed)\n",
    "    torch.cuda.manual_seed_all(seed)  # if using multi-GPU\n",
    "    torch.backends.cudnn.deterministic = True  # Ensures deterministic results\n",
    "    torch.backends.cudnn.benchmark = False  # Avoids non-deterministic algorithms\n",
    "\n",
    "    # Set random seed for Transformers\n",
    "    transformers.set_seed(seed)\n",
    "\n",
    "    # Optionally set random seed for sklearn and Python's own random module\n",
    "    random.seed(seed)\n",
    "\n",
    "    # Set random seed for os\n",
    "    os.environ['PYTHONHASHSEED'] = str(seed)\n",
    "\n",
    "    print(f\"Random seed set to: {seed}\")\n",
    "\n",
    "set_seed(seed)"
   ]
  },
  {
   "cell_type": "markdown",
   "metadata": {},
   "source": [
    "# Data"
   ]
  },
  {
   "cell_type": "markdown",
   "metadata": {},
   "source": [
    "## Load Data"
   ]
  },
  {
   "cell_type": "code",
   "execution_count": 23,
   "metadata": {},
   "outputs": [
    {
     "data": {
      "application/vnd.jupyter.widget-view+json": {
       "model_id": "2c8fb1dbb1784c4cb6dd837841def3be",
       "version_major": 2,
       "version_minor": 0
      },
      "text/plain": [
       "README.md:   0%|          | 0.00/5.55k [00:00<?, ?B/s]"
      ]
     },
     "metadata": {},
     "output_type": "display_data"
    },
    {
     "data": {
      "application/vnd.jupyter.widget-view+json": {
       "model_id": "d78e337ec3cd4e8eb2c48ece325f285b",
       "version_major": 2,
       "version_minor": 0
      },
      "text/plain": [
       "(…)_a/sun_go_emotions_70_15_15_v5/train.csv:   0%|          | 0.00/175k [00:00<?, ?B/s]"
      ]
     },
     "metadata": {},
     "output_type": "display_data"
    },
    {
     "data": {
      "application/vnd.jupyter.widget-view+json": {
       "model_id": "1494e51b1d7549c99b5232a341900324",
       "version_major": 2,
       "version_minor": 0
      },
      "text/plain": [
       "(…)ck_a/sun_go_emotions_70_15_15_v5/val.csv:   0%|          | 0.00/33.9k [00:00<?, ?B/s]"
      ]
     },
     "metadata": {},
     "output_type": "display_data"
    },
    {
     "data": {
      "application/vnd.jupyter.widget-view+json": {
       "model_id": "0bd20b0d7f9a45e0a22cbfeb005f0917",
       "version_major": 2,
       "version_minor": 0
      },
      "text/plain": [
       "(…)k_a/sun_go_emotions_70_15_15_v5/test.csv:   0%|          | 0.00/35.4k [00:00<?, ?B/s]"
      ]
     },
     "metadata": {},
     "output_type": "display_data"
    },
    {
     "data": {
      "application/vnd.jupyter.widget-view+json": {
       "model_id": "f20cdb5d89ef48a990b3971177550917",
       "version_major": 2,
       "version_minor": 0
      },
      "text/plain": [
       "Generating train split: 0 examples [00:00, ? examples/s]"
      ]
     },
     "metadata": {},
     "output_type": "display_data"
    },
    {
     "data": {
      "application/vnd.jupyter.widget-view+json": {
       "model_id": "859bd1e14ae54cd398cc1e9a39f108d4",
       "version_major": 2,
       "version_minor": 0
      },
      "text/plain": [
       "Generating val split: 0 examples [00:00, ? examples/s]"
      ]
     },
     "metadata": {},
     "output_type": "display_data"
    },
    {
     "data": {
      "application/vnd.jupyter.widget-view+json": {
       "model_id": "01561e950cdc442ea33232e8103faa67",
       "version_major": 2,
       "version_minor": 0
      },
      "text/plain": [
       "Generating test split: 0 examples [00:00, ? examples/s]"
      ]
     },
     "metadata": {},
     "output_type": "display_data"
    },
    {
     "name": "stdout",
     "output_type": "stream",
     "text": [
      "DatasetDict({\n",
      "    train: Dataset({\n",
      "        features: ['text', 'emotion', 'marah', 'jijik', 'takut', 'senang', 'sedih', 'terkejut', 'biasa'],\n",
      "        num_rows: 1764\n",
      "    })\n",
      "    val: Dataset({\n",
      "        features: ['text', 'emotion', 'marah', 'jijik', 'takut', 'senang', 'sedih', 'terkejut', 'biasa'],\n",
      "        num_rows: 365\n",
      "    })\n",
      "    test: Dataset({\n",
      "        features: ['text', 'emotion', 'marah', 'jijik', 'takut', 'senang', 'sedih', 'terkejut', 'biasa'],\n",
      "        num_rows: 365\n",
      "    })\n",
      "})\n",
      "\n",
      "Data columns: ['text', 'emotion', 'marah', 'jijik', 'takut', 'senang', 'sedih', 'terkejut', 'biasa']\n",
      "Emotions columns: ['marah', 'jijik', 'takut', 'senang', 'sedih', 'terkejut', 'biasa']\n"
     ]
    }
   ],
   "source": [
    "datasets = load_dataset(hf_data_id, hf_data_config)\n",
    "print(datasets)\n",
    "print()\n",
    "\n",
    "cols = list(datasets['train'].features)\n",
    "emotion_cols = [col for col in cols if col not in ['Unnamed: 0', 'text', 'emotion', 'stratify', 'aug_go_emotions']]\n",
    "splits = [*datasets.keys()]\n",
    "\n",
    "print(\"Data columns:\", cols)\n",
    "print(\"Emotions columns:\", emotion_cols)"
   ]
  },
  {
   "cell_type": "code",
   "execution_count": 24,
   "metadata": {},
   "outputs": [
    {
     "name": "stdout",
     "output_type": "stream",
     "text": [
      "Class to ID:\n",
      "{'biasa': 6,\n",
      " 'jijik': 1,\n",
      " 'marah': 0,\n",
      " 'sedih': 4,\n",
      " 'senang': 3,\n",
      " 'takut': 2,\n",
      " 'terkejut': 5}\n",
      "\n",
      "ID to Class:\n",
      "{0: 'marah',\n",
      " 1: 'jijik',\n",
      " 2: 'takut',\n",
      " 3: 'senang',\n",
      " 4: 'sedih',\n",
      " 5: 'terkejut',\n",
      " 6: 'biasa'}\n"
     ]
    }
   ],
   "source": [
    "class2id = {class_:id for id, class_ in enumerate(emotion_cols)}\n",
    "id2class = {id:class_ for class_, id in class2id.items()}\n",
    "\n",
    "print(\"Class to ID:\")\n",
    "pprint(class2id, width=1)\n",
    "print()\n",
    "print(\"ID to Class:\")\n",
    "pprint(id2class, width=1)"
   ]
  },
  {
   "cell_type": "markdown",
   "metadata": {},
   "source": [
    "## Preprocess Data"
   ]
  },
  {
   "cell_type": "code",
   "execution_count": 25,
   "metadata": {},
   "outputs": [],
   "source": [
    "tokenizer = AutoTokenizer.from_pretrained(hf_tokenizer_id)"
   ]
  },
  {
   "cell_type": "code",
   "execution_count": 26,
   "metadata": {},
   "outputs": [
    {
     "data": {
      "application/vnd.jupyter.widget-view+json": {
       "model_id": "eeb463fae7dc49b9a4313c1a008026e5",
       "version_major": 2,
       "version_minor": 0
      },
      "text/plain": [
       "Map:   0%|          | 0/1764 [00:00<?, ? examples/s]"
      ]
     },
     "metadata": {},
     "output_type": "display_data"
    },
    {
     "name": "stderr",
     "output_type": "stream",
     "text": [
      "Asking to truncate to max_length but no maximum length is provided and the model has no predefined maximum length. Default to no truncation.\n"
     ]
    },
    {
     "data": {
      "application/vnd.jupyter.widget-view+json": {
       "model_id": "fa49842814b842e4985cb22e85629e57",
       "version_major": 2,
       "version_minor": 0
      },
      "text/plain": [
       "Map:   0%|          | 0/365 [00:00<?, ? examples/s]"
      ]
     },
     "metadata": {},
     "output_type": "display_data"
    },
    {
     "data": {
      "application/vnd.jupyter.widget-view+json": {
       "model_id": "00b2ba92c149447d9952a339328c45b0",
       "version_major": 2,
       "version_minor": 0
      },
      "text/plain": [
       "Map:   0%|          | 0/365 [00:00<?, ? examples/s]"
      ]
     },
     "metadata": {},
     "output_type": "display_data"
    }
   ],
   "source": [
    "def one_hot_encode_emotion(emotion, emotion_cols):\n",
    "    emotions = emotion.replace(\" \", \"\").split(\",\")\n",
    "    one_hot_emotion = [1.0 if emotion_col in emotions else 0.0 for emotion_col in emotion_cols] # Ensure that the label is float, not int\n",
    "    return one_hot_emotion\n",
    "\n",
    "def preprocess_function(data):\n",
    "   text = data['text']\n",
    "   emotion = data['emotion']\n",
    "   labels = one_hot_encode_emotion(emotion, emotion_cols)\n",
    "   data = tokenizer(text, truncation=True)\n",
    "   data['labels'] = labels\n",
    "   return data\n",
    "\n",
    "tokenized_datasets = {split: datasets[split].map(preprocess_function) for split in splits}"
   ]
  },
  {
   "cell_type": "code",
   "execution_count": 27,
   "metadata": {},
   "outputs": [
    {
     "name": "stdout",
     "output_type": "stream",
     "text": [
      "Text: Abdi reuwas yen babaturan sa kamar anjeun nepi-ngancurkeun sesa dahareun anu masih alus ku cara kitu.\n",
      "Emotion(s): marah, jijik\n",
      "Labels: [1.0, 1.0, 0.0, 0.0, 0.0, 0.0, 0.0] --> ['marah', 'jijik', 'takut', 'senang', 'sedih', 'terkejut', 'biasa']\n"
     ]
    }
   ],
   "source": [
    "# Sanity check\n",
    "data = tokenized_datasets['train'][5]\n",
    "\n",
    "print(\"Text:\", data['text'])\n",
    "print(\"Emotion(s):\", data['emotion'])\n",
    "print(\"Labels:\", data['labels'], '-->', emotion_cols)"
   ]
  },
  {
   "cell_type": "code",
   "execution_count": 28,
   "metadata": {},
   "outputs": [],
   "source": [
    "data_collator = DataCollatorWithPadding(tokenizer)"
   ]
  },
  {
   "cell_type": "markdown",
   "metadata": {},
   "source": [
    "# Model"
   ]
  },
  {
   "cell_type": "code",
   "execution_count": 29,
   "metadata": {},
   "outputs": [
    {
     "name": "stdout",
     "output_type": "stream",
     "text": [
      "RobertaClassificationHead(\n",
      "  (dense): Linear(in_features=768, out_features=768, bias=True)\n",
      "  (dropout): Dropout(p=0.1, inplace=False)\n",
      "  (out_proj): Linear(in_features=768, out_features=4, bias=True)\n",
      ")\n",
      "RobertaClassificationHead(\n",
      "  (dense): Linear(in_features=768, out_features=768, bias=True)\n",
      "  (dropout): Dropout(p=0.1, inplace=False)\n",
      "  (out_proj): Linear(in_features=768, out_features=7, bias=True)\n",
      ")\n"
     ]
    }
   ],
   "source": [
    "# model = AutoModelForSequenceClassification.from_pretrained(\n",
    "#     hf_model_id, \n",
    "#     num_labels=len(emotion_cols),\n",
    "#     id2label=id2class, \n",
    "#     label2id=class2id,\n",
    "#     problem_type = \"multi_label_classification\",\n",
    "# )\n",
    "\n",
    "################ TRANSFER LEARNING ################\n",
    "model = AutoModelForSequenceClassification.from_pretrained(\n",
    "    hf_model_id, \n",
    "    # num_labels=len(emotion_cols),\n",
    "    # id2label=id2class, \n",
    "    # label2id=class2id,\n",
    "    problem_type = \"multi_label_classification\",\n",
    ")\n",
    "print(model.classifier)\n",
    "\n",
    "model.classifier.out_proj = torch.nn.Linear(in_features=768, out_features=len(emotion_cols), bias=True)\n",
    "print(model.classifier)\n",
    "\n",
    "# Freeze the rest of the layers for transfer learning\n",
    "# for param in model.parameters():\n",
    "#     param.requires_grad = False"
   ]
  },
  {
   "cell_type": "markdown",
   "metadata": {},
   "source": [
    "# Finetuning"
   ]
  },
  {
   "cell_type": "code",
   "execution_count": 30,
   "metadata": {},
   "outputs": [],
   "source": [
    "def sigmoid(x):\n",
    "   return 1/(1 + np.exp(-x))\n",
    "\n",
    "def compute_metrics(eval_pred):\n",
    "    predictions, labels = eval_pred\n",
    "    probs = sigmoid(predictions)\n",
    "    y_pred = (probs > 0.5).astype(int)\n",
    "    y_true = labels.astype(int)\n",
    "\n",
    "    # Compute F1 score for each type of averaging method\n",
    "    f1_micro = f1_score(y_true, y_pred, average='micro', zero_division=0.0)\n",
    "    f1_macro = f1_score(y_true, y_pred, average='macro', zero_division=0.0)\n",
    "    f1_weighted = f1_score(y_true, y_pred, average='weighted', zero_division=0.0)\n",
    "    f1_samples = f1_score(y_true, y_pred, average='samples', zero_division=0.0)\n",
    "    f1_labels = f1_score(y_true, y_pred, average=None, zero_division=0.0)\n",
    "    f1_labels_dict = {f'f1_label_{emotion_cols[i]}': f1_labels[i] for i in range(len(f1_labels))}\n",
    "\n",
    "    return {\n",
    "        'f1_macro': f1_macro,\n",
    "        'f1_micro': f1_micro,\n",
    "        'f1_weighted': f1_weighted,\n",
    "        'f1_samples': f1_samples,\n",
    "        **f1_labels_dict,\n",
    "    }"
   ]
  },
  {
   "cell_type": "code",
   "execution_count": 31,
   "metadata": {},
   "outputs": [
    {
     "name": "stderr",
     "output_type": "stream",
     "text": [
      "<ipython-input-31-dc5948f208f6>:23: FutureWarning: `tokenizer` is deprecated and will be removed in version 5.0.0 for `Trainer.__init__`. Use `processing_class` instead.\n",
      "  trainer = Trainer(\n"
     ]
    }
   ],
   "source": [
    "train_args = TrainingArguments(\n",
    "    # Training config\n",
    "    per_device_train_batch_size=2,\n",
    "    num_train_epochs=num_epochs,\n",
    "    learning_rate=2e-5,\n",
    "    weight_decay=0.01,\n",
    "\n",
    "    # Logging config for training\n",
    "    logging_strategy='steps',\n",
    "    logging_steps=100,\n",
    "\n",
    "    # Evaluation config during training\n",
    "    per_device_eval_batch_size=2,\n",
    "    eval_strategy='steps',\n",
    "    eval_steps=100,\n",
    "\n",
    "    # Model saving config\n",
    "    output_dir=project_name,\n",
    "    save_strategy='epoch',\n",
    "    # load_best_model_at_end=True,\n",
    ")\n",
    "\n",
    "trainer = Trainer(\n",
    "    model=model,\n",
    "    args=train_args,\n",
    "    train_dataset=tokenized_datasets['train'],\n",
    "    eval_dataset=tokenized_datasets['val'],\n",
    "    tokenizer=tokenizer,\n",
    "    data_collator=data_collator,\n",
    "    compute_metrics=compute_metrics,\n",
    ")"
   ]
  },
  {
   "cell_type": "code",
   "execution_count": 32,
   "metadata": {},
   "outputs": [
    {
     "data": {
      "text/html": [
       "\n",
       "    <div>\n",
       "      \n",
       "      <progress value='1764' max='1764' style='width:300px; height:20px; vertical-align: middle;'></progress>\n",
       "      [1764/1764 03:40, Epoch 2/2]\n",
       "    </div>\n",
       "    <table border=\"1\" class=\"dataframe\">\n",
       "  <thead>\n",
       " <tr style=\"text-align: left;\">\n",
       "      <th>Step</th>\n",
       "      <th>Training Loss</th>\n",
       "      <th>Validation Loss</th>\n",
       "      <th>F1 Macro</th>\n",
       "      <th>F1 Micro</th>\n",
       "      <th>F1 Weighted</th>\n",
       "      <th>F1 Samples</th>\n",
       "      <th>F1 Label Marah</th>\n",
       "      <th>F1 Label Jijik</th>\n",
       "      <th>F1 Label Takut</th>\n",
       "      <th>F1 Label Senang</th>\n",
       "      <th>F1 Label Sedih</th>\n",
       "      <th>F1 Label Terkejut</th>\n",
       "      <th>F1 Label Biasa</th>\n",
       "    </tr>\n",
       "  </thead>\n",
       "  <tbody>\n",
       "    <tr>\n",
       "      <td>100</td>\n",
       "      <td>0.493400</td>\n",
       "      <td>0.415543</td>\n",
       "      <td>0.117673</td>\n",
       "      <td>0.185484</td>\n",
       "      <td>0.152603</td>\n",
       "      <td>0.111872</td>\n",
       "      <td>0.000000</td>\n",
       "      <td>0.000000</td>\n",
       "      <td>0.229508</td>\n",
       "      <td>0.536232</td>\n",
       "      <td>0.057971</td>\n",
       "      <td>0.000000</td>\n",
       "      <td>0.000000</td>\n",
       "    </tr>\n",
       "    <tr>\n",
       "      <td>200</td>\n",
       "      <td>0.402800</td>\n",
       "      <td>0.387063</td>\n",
       "      <td>0.228627</td>\n",
       "      <td>0.397351</td>\n",
       "      <td>0.278948</td>\n",
       "      <td>0.295890</td>\n",
       "      <td>0.090909</td>\n",
       "      <td>0.000000</td>\n",
       "      <td>0.506667</td>\n",
       "      <td>0.816143</td>\n",
       "      <td>0.186667</td>\n",
       "      <td>0.000000</td>\n",
       "      <td>0.000000</td>\n",
       "    </tr>\n",
       "    <tr>\n",
       "      <td>300</td>\n",
       "      <td>0.401300</td>\n",
       "      <td>0.367298</td>\n",
       "      <td>0.320676</td>\n",
       "      <td>0.468606</td>\n",
       "      <td>0.370072</td>\n",
       "      <td>0.373242</td>\n",
       "      <td>0.325000</td>\n",
       "      <td>0.000000</td>\n",
       "      <td>0.560976</td>\n",
       "      <td>0.787330</td>\n",
       "      <td>0.571429</td>\n",
       "      <td>0.000000</td>\n",
       "      <td>0.000000</td>\n",
       "    </tr>\n",
       "    <tr>\n",
       "      <td>400</td>\n",
       "      <td>0.386800</td>\n",
       "      <td>0.335209</td>\n",
       "      <td>0.387990</td>\n",
       "      <td>0.514706</td>\n",
       "      <td>0.442523</td>\n",
       "      <td>0.431507</td>\n",
       "      <td>0.444444</td>\n",
       "      <td>0.000000</td>\n",
       "      <td>0.556962</td>\n",
       "      <td>0.789744</td>\n",
       "      <td>0.656489</td>\n",
       "      <td>0.268293</td>\n",
       "      <td>0.000000</td>\n",
       "    </tr>\n",
       "    <tr>\n",
       "      <td>500</td>\n",
       "      <td>0.371100</td>\n",
       "      <td>0.322632</td>\n",
       "      <td>0.423273</td>\n",
       "      <td>0.550642</td>\n",
       "      <td>0.482325</td>\n",
       "      <td>0.480822</td>\n",
       "      <td>0.561404</td>\n",
       "      <td>0.035088</td>\n",
       "      <td>0.506667</td>\n",
       "      <td>0.814815</td>\n",
       "      <td>0.598131</td>\n",
       "      <td>0.446809</td>\n",
       "      <td>0.000000</td>\n",
       "    </tr>\n",
       "    <tr>\n",
       "      <td>600</td>\n",
       "      <td>0.346900</td>\n",
       "      <td>0.329818</td>\n",
       "      <td>0.447038</td>\n",
       "      <td>0.551724</td>\n",
       "      <td>0.500128</td>\n",
       "      <td>0.483744</td>\n",
       "      <td>0.354430</td>\n",
       "      <td>0.412371</td>\n",
       "      <td>0.506667</td>\n",
       "      <td>0.812785</td>\n",
       "      <td>0.612903</td>\n",
       "      <td>0.430108</td>\n",
       "      <td>0.000000</td>\n",
       "    </tr>\n",
       "    <tr>\n",
       "      <td>700</td>\n",
       "      <td>0.382700</td>\n",
       "      <td>0.312046</td>\n",
       "      <td>0.454060</td>\n",
       "      <td>0.565280</td>\n",
       "      <td>0.509645</td>\n",
       "      <td>0.492694</td>\n",
       "      <td>0.568966</td>\n",
       "      <td>0.133333</td>\n",
       "      <td>0.604651</td>\n",
       "      <td>0.820000</td>\n",
       "      <td>0.621359</td>\n",
       "      <td>0.430108</td>\n",
       "      <td>0.000000</td>\n",
       "    </tr>\n",
       "    <tr>\n",
       "      <td>800</td>\n",
       "      <td>0.360800</td>\n",
       "      <td>0.305962</td>\n",
       "      <td>0.471710</td>\n",
       "      <td>0.577031</td>\n",
       "      <td>0.526896</td>\n",
       "      <td>0.518265</td>\n",
       "      <td>0.532110</td>\n",
       "      <td>0.215385</td>\n",
       "      <td>0.536585</td>\n",
       "      <td>0.837438</td>\n",
       "      <td>0.650000</td>\n",
       "      <td>0.479167</td>\n",
       "      <td>0.051282</td>\n",
       "    </tr>\n",
       "    <tr>\n",
       "      <td>900</td>\n",
       "      <td>0.345300</td>\n",
       "      <td>0.302716</td>\n",
       "      <td>0.513106</td>\n",
       "      <td>0.596206</td>\n",
       "      <td>0.561676</td>\n",
       "      <td>0.543379</td>\n",
       "      <td>0.549020</td>\n",
       "      <td>0.379747</td>\n",
       "      <td>0.584270</td>\n",
       "      <td>0.831683</td>\n",
       "      <td>0.637931</td>\n",
       "      <td>0.509091</td>\n",
       "      <td>0.100000</td>\n",
       "    </tr>\n",
       "    <tr>\n",
       "      <td>1000</td>\n",
       "      <td>0.313100</td>\n",
       "      <td>0.291540</td>\n",
       "      <td>0.569907</td>\n",
       "      <td>0.614570</td>\n",
       "      <td>0.593536</td>\n",
       "      <td>0.579452</td>\n",
       "      <td>0.591304</td>\n",
       "      <td>0.378378</td>\n",
       "      <td>0.558140</td>\n",
       "      <td>0.813725</td>\n",
       "      <td>0.642857</td>\n",
       "      <td>0.489796</td>\n",
       "      <td>0.515152</td>\n",
       "    </tr>\n",
       "    <tr>\n",
       "      <td>1100</td>\n",
       "      <td>0.245400</td>\n",
       "      <td>0.292359</td>\n",
       "      <td>0.582276</td>\n",
       "      <td>0.617219</td>\n",
       "      <td>0.604365</td>\n",
       "      <td>0.576712</td>\n",
       "      <td>0.576923</td>\n",
       "      <td>0.390805</td>\n",
       "      <td>0.586957</td>\n",
       "      <td>0.814433</td>\n",
       "      <td>0.642857</td>\n",
       "      <td>0.524272</td>\n",
       "      <td>0.539683</td>\n",
       "    </tr>\n",
       "    <tr>\n",
       "      <td>1200</td>\n",
       "      <td>0.266400</td>\n",
       "      <td>0.296134</td>\n",
       "      <td>0.583890</td>\n",
       "      <td>0.626566</td>\n",
       "      <td>0.614353</td>\n",
       "      <td>0.598174</td>\n",
       "      <td>0.566372</td>\n",
       "      <td>0.504505</td>\n",
       "      <td>0.584270</td>\n",
       "      <td>0.826531</td>\n",
       "      <td>0.698413</td>\n",
       "      <td>0.522523</td>\n",
       "      <td>0.384615</td>\n",
       "    </tr>\n",
       "    <tr>\n",
       "      <td>1300</td>\n",
       "      <td>0.265400</td>\n",
       "      <td>0.293979</td>\n",
       "      <td>0.585376</td>\n",
       "      <td>0.625798</td>\n",
       "      <td>0.614116</td>\n",
       "      <td>0.599543</td>\n",
       "      <td>0.586207</td>\n",
       "      <td>0.489796</td>\n",
       "      <td>0.541176</td>\n",
       "      <td>0.806452</td>\n",
       "      <td>0.736842</td>\n",
       "      <td>0.523364</td>\n",
       "      <td>0.413793</td>\n",
       "    </tr>\n",
       "    <tr>\n",
       "      <td>1400</td>\n",
       "      <td>0.259500</td>\n",
       "      <td>0.291324</td>\n",
       "      <td>0.580837</td>\n",
       "      <td>0.624187</td>\n",
       "      <td>0.605155</td>\n",
       "      <td>0.598630</td>\n",
       "      <td>0.598291</td>\n",
       "      <td>0.384615</td>\n",
       "      <td>0.518519</td>\n",
       "      <td>0.814070</td>\n",
       "      <td>0.709677</td>\n",
       "      <td>0.509434</td>\n",
       "      <td>0.531250</td>\n",
       "    </tr>\n",
       "    <tr>\n",
       "      <td>1500</td>\n",
       "      <td>0.278500</td>\n",
       "      <td>0.298481</td>\n",
       "      <td>0.576976</td>\n",
       "      <td>0.624187</td>\n",
       "      <td>0.607318</td>\n",
       "      <td>0.595434</td>\n",
       "      <td>0.578947</td>\n",
       "      <td>0.423529</td>\n",
       "      <td>0.580000</td>\n",
       "      <td>0.818653</td>\n",
       "      <td>0.737705</td>\n",
       "      <td>0.500000</td>\n",
       "      <td>0.400000</td>\n",
       "    </tr>\n",
       "    <tr>\n",
       "      <td>1600</td>\n",
       "      <td>0.255300</td>\n",
       "      <td>0.294660</td>\n",
       "      <td>0.604068</td>\n",
       "      <td>0.637280</td>\n",
       "      <td>0.625254</td>\n",
       "      <td>0.626941</td>\n",
       "      <td>0.579439</td>\n",
       "      <td>0.510204</td>\n",
       "      <td>0.610526</td>\n",
       "      <td>0.823529</td>\n",
       "      <td>0.672269</td>\n",
       "      <td>0.509434</td>\n",
       "      <td>0.523077</td>\n",
       "    </tr>\n",
       "    <tr>\n",
       "      <td>1700</td>\n",
       "      <td>0.276000</td>\n",
       "      <td>0.292327</td>\n",
       "      <td>0.580993</td>\n",
       "      <td>0.622909</td>\n",
       "      <td>0.607709</td>\n",
       "      <td>0.604566</td>\n",
       "      <td>0.584071</td>\n",
       "      <td>0.436782</td>\n",
       "      <td>0.584270</td>\n",
       "      <td>0.825871</td>\n",
       "      <td>0.672269</td>\n",
       "      <td>0.504673</td>\n",
       "      <td>0.459016</td>\n",
       "    </tr>\n",
       "  </tbody>\n",
       "</table><p>"
      ],
      "text/plain": [
       "<IPython.core.display.HTML object>"
      ]
     },
     "metadata": {},
     "output_type": "display_data"
    },
    {
     "data": {
      "text/plain": [
       "TrainOutput(global_step=1764, training_loss=0.3298908685610678, metrics={'train_runtime': 220.7751, 'train_samples_per_second': 15.98, 'train_steps_per_second': 7.99, 'total_flos': 38993575530600.0, 'train_loss': 0.3298908685610678, 'epoch': 2.0})"
      ]
     },
     "execution_count": 32,
     "metadata": {},
     "output_type": "execute_result"
    }
   ],
   "source": [
    "trainer.train()"
   ]
  },
  {
   "cell_type": "code",
   "execution_count": 33,
   "metadata": {},
   "outputs": [
    {
     "data": {
      "application/vnd.jupyter.widget-view+json": {
       "model_id": "32a3fd9823d64bf3bc2bac3791b34f75",
       "version_major": 2,
       "version_minor": 0
      },
      "text/plain": [
       "model.safetensors:   0%|          | 0.00/499M [00:00<?, ?B/s]"
      ]
     },
     "metadata": {},
     "output_type": "display_data"
    },
    {
     "data": {
      "application/vnd.jupyter.widget-view+json": {
       "model_id": "c57dc16da8cd4f69a35772ec00305c10",
       "version_major": 2,
       "version_minor": 0
      },
      "text/plain": [
       "training_args.bin:   0%|          | 0.00/5.37k [00:00<?, ?B/s]"
      ]
     },
     "metadata": {},
     "output_type": "display_data"
    },
    {
     "data": {
      "application/vnd.jupyter.widget-view+json": {
       "model_id": "60d0cf35e7654a58be836354df8590ce",
       "version_major": 2,
       "version_minor": 0
      },
      "text/plain": [
       "events.out.tfevents.1736686140.fdd44adb4231.11455.2:   0%|          | 0.00/24.6k [00:00<?, ?B/s]"
      ]
     },
     "metadata": {},
     "output_type": "display_data"
    },
    {
     "data": {
      "application/vnd.jupyter.widget-view+json": {
       "model_id": "5c2fc5adea634b51ab31d2aed04af164",
       "version_major": 2,
       "version_minor": 0
      },
      "text/plain": [
       "Upload 3 LFS files:   0%|          | 0/3 [00:00<?, ?it/s]"
      ]
     },
     "metadata": {},
     "output_type": "display_data"
    },
    {
     "data": {
      "application/vnd.google.colaboratory.intrinsic+json": {
       "type": "string"
      },
      "text/plain": [
       "CommitInfo(commit_url='https://huggingface.co/alxxtexxr/RoBERTa-Base-SE2025T11A-sun-v20250112124824/commit/c2ceeaf749bfec85486e86a733ddd63e81717483', commit_message='End of training', commit_description='', oid='c2ceeaf749bfec85486e86a733ddd63e81717483', pr_url=None, repo_url=RepoUrl('https://huggingface.co/alxxtexxr/RoBERTa-Base-SE2025T11A-sun-v20250112124824', endpoint='https://huggingface.co', repo_type='model', repo_id='alxxtexxr/RoBERTa-Base-SE2025T11A-sun-v20250112124824'), pr_revision=None, pr_num=None)"
      ]
     },
     "execution_count": 33,
     "metadata": {},
     "output_type": "execute_result"
    }
   ],
   "source": [
    "trainer.push_to_hub()"
   ]
  },
  {
   "cell_type": "markdown",
   "metadata": {},
   "source": [
    "# Evaluation"
   ]
  },
  {
   "cell_type": "code",
   "execution_count": 34,
   "metadata": {},
   "outputs": [
    {
     "data": {
      "text/html": [
       "\n",
       "    <div>\n",
       "      \n",
       "      <progress value='183' max='183' style='width:300px; height:20px; vertical-align: middle;'></progress>\n",
       "      [183/183 00:01]\n",
       "    </div>\n",
       "    "
      ],
      "text/plain": [
       "<IPython.core.display.HTML object>"
      ]
     },
     "metadata": {},
     "output_type": "display_data"
    },
    {
     "name": "stdout",
     "output_type": "stream",
     "text": [
      "Evaluation to copy:\n",
      "0.6265821781658331\t0.6503856041131105\t0.640286862353187\t0.6273059360730594\t0.6111111111111112\t0.4883720930232558\t0.6595744680851063\t0.8186528497409327\t0.6666666666666666\t0.5210084033613446\t0.6206896551724138\n",
      "\n",
      "Evaluation full results:\n",
      "{'epoch': 2.0,\n",
      " 'eval_f1_label_biasa': 0.6206896551724138,\n",
      " 'eval_f1_label_jijik': 0.4883720930232558,\n",
      " 'eval_f1_label_marah': 0.6111111111111112,\n",
      " 'eval_f1_label_sedih': 0.6666666666666666,\n",
      " 'eval_f1_label_senang': 0.8186528497409327,\n",
      " 'eval_f1_label_takut': 0.6595744680851063,\n",
      " 'eval_f1_label_terkejut': 0.5210084033613446,\n",
      " 'eval_f1_macro': 0.6265821781658331,\n",
      " 'eval_f1_micro': 0.6503856041131105,\n",
      " 'eval_f1_samples': 0.6273059360730594,\n",
      " 'eval_f1_weighted': 0.640286862353187,\n",
      " 'eval_loss': 0.28505367040634155,\n",
      " 'eval_runtime': 1.9063,\n",
      " 'eval_samples_per_second': 191.465,\n",
      " 'eval_steps_per_second': 95.995}\n"
     ]
    }
   ],
   "source": [
    "eval = trainer.evaluate(eval_dataset=tokenized_datasets['test'])\n",
    "\n",
    "print(\"Evaluation to copy:\")\n",
    "f1_keys = [eval_key for eval_key in eval.keys() if 'f1' in eval_key]\n",
    "for i, k in enumerate(f1_keys): print(eval[k], end=\"\\t\" if i + 1 < len(f1_keys) else \"\")\n",
    "print()\n",
    "print()\n",
    "print(\"Evaluation full results:\")\n",
    "pprint(eval)"
   ]
  },
  {
   "cell_type": "markdown",
   "metadata": {},
   "source": [
    "# Inference"
   ]
  },
  {
   "cell_type": "code",
   "execution_count": 19,
   "metadata": {},
   "outputs": [
    {
     "name": "stdout",
     "output_type": "stream",
     "text": [
      "Text: Abdi hanjakal pisan\n",
      "True emotion(s): sedih\n",
      "Predicted emotion(s): sedih\n"
     ]
    }
   ],
   "source": [
    "data = datasets['val'][1]\n",
    "text = data['text']\n",
    "emotion_true = data['emotion']\n",
    "\n",
    "inputs = tokenizer(text, return_tensors='pt').to(model.device)\n",
    "\n",
    "outputs = trainer.model(**inputs)\n",
    "logits = outputs.logits\n",
    "probs = sigmoid(logits.squeeze().detach().cpu().numpy()) # apply sigmoid + threshold\n",
    "labels_pred = (probs > 0.5).astype(int)\n",
    "emotion_pred = [id2class[idx] for idx, label in enumerate(labels_pred) if label == 1.0] # turn predicted id's into actual label names\n",
    "\n",
    "print(\"Text:\", text)\n",
    "print(\"True emotion(s):\", emotion_true)\n",
    "print(\"Predicted emotion(s):\", \", \".join(emotion_pred))"
   ]
  }
 ],
 "metadata": {
  "kernelspec": {
   "display_name": "Python 3",
   "language": "python",
   "name": "python3"
  },
  "language_info": {
   "codemirror_mode": {
    "name": "ipython",
    "version": 3
   },
   "file_extension": ".py",
   "mimetype": "text/x-python",
   "name": "python",
   "nbconvert_exporter": "python",
   "pygments_lexer": "ipython3",
   "version": "3.10.12"
  }
 },
 "nbformat": 4,
 "nbformat_minor": 2
}

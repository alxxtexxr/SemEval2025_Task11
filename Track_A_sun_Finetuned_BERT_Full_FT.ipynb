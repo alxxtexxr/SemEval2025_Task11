{
 "cells": [
  {
   "cell_type": "markdown",
   "metadata": {},
   "source": [
    "### References\n",
    "- Multi-Label Classification Model From Scratch: Step-by-Step Tutorial (https://huggingface.co/blog/Valerii-Knowledgator/multi-label-classification)\n",
    "- https://github.com/NielsRogge/Transformers-Tutorials/blob/master/BERT/Fine_tuning_BERT_(and_friends)_for_multi_label_text_classification.ipynb\n",
    "- https://github.com/huggingface/notebooks/blob/main/examples/text_classification.ipynb"
   ]
  },
  {
   "cell_type": "markdown",
   "metadata": {},
   "source": [
    "# Libraries"
   ]
  },
  {
   "cell_type": "code",
   "execution_count": 1,
   "metadata": {},
   "outputs": [
    {
     "name": "stdout",
     "output_type": "stream",
     "text": [
      "\u001b[33mWARNING: Ignoring invalid distribution -ransformers (/usr/local/lib/python3.10/dist-packages)\u001b[0m\u001b[33m\n",
      "\u001b[0m\u001b[33mWARNING: Ignoring invalid distribution -ransformers (/usr/local/lib/python3.10/dist-packages)\u001b[0m\u001b[33m\n",
      "\u001b[0m"
     ]
    }
   ],
   "source": [
    "%pip install -q -U datasets transformers accelerate sentencepiece"
   ]
  },
  {
   "cell_type": "code",
   "execution_count": 2,
   "metadata": {},
   "outputs": [],
   "source": [
    "import os\n",
    "import random\n",
    "import numpy as np\n",
    "import torch\n",
    "import transformers\n",
    "from pprint import pprint\n",
    "from datetime import datetime\n",
    "from datasets import load_dataset\n",
    "from transformers import AutoModelForSequenceClassification, AutoTokenizer, DataCollatorWithPadding, Trainer, TrainingArguments\n",
    "from sklearn.metrics import f1_score"
   ]
  },
  {
   "cell_type": "markdown",
   "metadata": {},
   "source": [
    "# Config"
   ]
  },
  {
   "cell_type": "code",
   "execution_count": 3,
   "metadata": {},
   "outputs": [],
   "source": [
    "seed = 42\n",
    "lang = 'sun'\n",
    "\n",
    "# hf_model_id = 'bhadresh-savani/roberta-base-emotion'\n",
    "# hf_model_id = 'bhadresh-savani/bert-base-uncased-emotion'\n",
    "# hf_model_id = 'w11wo/sundanese-bert-base-emotion-classifier'\n",
    "hf_model_id = 'w11wo/sundanese-roberta-base-emotion-classifier'\n",
    "# hf_model_id = 'w11wo/sundanese-roberta-base'\n",
    "# hf_model_id = 'alxxtexxr/XLM-RoBERTa-Base-Sundanese-Emotion-Classifier-v20241222170134'\n",
    "hf_tokenizer_id = hf_model_id\n",
    "hf_data_id = 'alxxtexxr/SemEval2025-Task11-Dataset'\n",
    "# hf_data_config = 'track_a_sun_go_emotions_70_15_15_v2' # BEST\n",
    "hf_data_config = 'track_a_sun_go_emotions_70_15_15_back_translated'\n",
    "\n",
    "# num_epochs = 2\n",
    "num_epochs_list = [10, 8, 5, 3, 2]\n",
    "save_steps = 2 # Save model for every save_steps epoch"
   ]
  },
  {
   "cell_type": "code",
   "execution_count": 4,
   "metadata": {},
   "outputs": [
    {
     "name": "stdout",
     "output_type": "stream",
     "text": [
      "Random seed set to: 42\n"
     ]
    }
   ],
   "source": [
    "def set_seed(seed):\n",
    "    # Set random seed for NumPy\n",
    "    np.random.seed(seed)\n",
    "\n",
    "    # Set random seed for Torch\n",
    "    torch.manual_seed(seed)\n",
    "    torch.cuda.manual_seed(seed)\n",
    "    torch.cuda.manual_seed_all(seed)  # if using multi-GPU\n",
    "    torch.backends.cudnn.deterministic = True  # Ensures deterministic results\n",
    "    torch.backends.cudnn.benchmark = False  # Avoids non-deterministic algorithms\n",
    "\n",
    "    # Set random seed for Transformers\n",
    "    transformers.set_seed(seed)\n",
    "\n",
    "    # Optionally set random seed for sklearn and Python's own random module\n",
    "    random.seed(seed)\n",
    "\n",
    "    # Set random seed for os\n",
    "    os.environ['PYTHONHASHSEED'] = str(seed)\n",
    "\n",
    "    print(f\"Random seed set to: {seed}\")\n",
    "\n",
    "set_seed(seed)"
   ]
  },
  {
   "cell_type": "markdown",
   "metadata": {},
   "source": [
    "# Data"
   ]
  },
  {
   "cell_type": "markdown",
   "metadata": {},
   "source": [
    "## Load Data"
   ]
  },
  {
   "cell_type": "code",
   "execution_count": 5,
   "metadata": {},
   "outputs": [
    {
     "name": "stderr",
     "output_type": "stream",
     "text": [
      "/usr/local/lib/python3.10/dist-packages/huggingface_hub/utils/_auth.py:104: UserWarning: \n",
      "Error while fetching `HF_TOKEN` secret value from your vault: 'Requesting secret HF_TOKEN timed out. Secrets can only be fetched when running from the Colab UI.'.\n",
      "You are not authenticated with the Hugging Face Hub in this notebook.\n",
      "If the error persists, please let us know by opening an issue on GitHub (https://github.com/huggingface/huggingface_hub/issues/new).\n",
      "  warnings.warn(\n"
     ]
    },
    {
     "name": "stdout",
     "output_type": "stream",
     "text": [
      "DatasetDict({\n",
      "    train: Dataset({\n",
      "        features: ['text', 'emotion', 'marah', 'jijik', 'takut', 'senang', 'sedih', 'terkejut', 'biasa'],\n",
      "        num_rows: 1764\n",
      "    })\n",
      "    val: Dataset({\n",
      "        features: ['text', 'emotion', 'marah', 'jijik', 'takut', 'senang', 'sedih', 'terkejut', 'biasa'],\n",
      "        num_rows: 365\n",
      "    })\n",
      "    test: Dataset({\n",
      "        features: ['text', 'emotion', 'marah', 'jijik', 'takut', 'senang', 'sedih', 'terkejut', 'biasa'],\n",
      "        num_rows: 365\n",
      "    })\n",
      "})\n",
      "\n",
      "Data columns: ['text', 'emotion', 'marah', 'jijik', 'takut', 'senang', 'sedih', 'terkejut', 'biasa']\n",
      "Emotions columns: ['marah', 'jijik', 'takut', 'senang', 'sedih', 'terkejut', 'biasa']\n"
     ]
    }
   ],
   "source": [
    "datasets = load_dataset(hf_data_id, hf_data_config)\n",
    "print(datasets)\n",
    "print()\n",
    "\n",
    "cols = list(datasets['train'].features)\n",
    "emotion_cols = [col for col in cols if col not in ['Unnamed: 0', 'text', 'emotion', 'stratify', 'aug_go_emotions']]\n",
    "splits = [*datasets.keys()]\n",
    "\n",
    "print(\"Data columns:\", cols)\n",
    "print(\"Emotions columns:\", emotion_cols)"
   ]
  },
  {
   "cell_type": "code",
   "execution_count": 6,
   "metadata": {},
   "outputs": [
    {
     "name": "stdout",
     "output_type": "stream",
     "text": [
      "Class to ID:\n",
      "{'biasa': 6,\n",
      " 'jijik': 1,\n",
      " 'marah': 0,\n",
      " 'sedih': 4,\n",
      " 'senang': 3,\n",
      " 'takut': 2,\n",
      " 'terkejut': 5}\n",
      "\n",
      "ID to Class:\n",
      "{0: 'marah',\n",
      " 1: 'jijik',\n",
      " 2: 'takut',\n",
      " 3: 'senang',\n",
      " 4: 'sedih',\n",
      " 5: 'terkejut',\n",
      " 6: 'biasa'}\n"
     ]
    }
   ],
   "source": [
    "class2id = {class_:id for id, class_ in enumerate(emotion_cols)}\n",
    "id2class = {id:class_ for class_, id in class2id.items()}\n",
    "\n",
    "print(\"Class to ID:\")\n",
    "pprint(class2id, width=1)\n",
    "print()\n",
    "print(\"ID to Class:\")\n",
    "pprint(id2class, width=1)"
   ]
  },
  {
   "cell_type": "markdown",
   "metadata": {},
   "source": [
    "## Preprocess Data"
   ]
  },
  {
   "cell_type": "code",
   "execution_count": 7,
   "metadata": {},
   "outputs": [],
   "source": [
    "tokenizer = AutoTokenizer.from_pretrained(hf_tokenizer_id)"
   ]
  },
  {
   "cell_type": "code",
   "execution_count": 8,
   "metadata": {},
   "outputs": [
    {
     "data": {
      "application/vnd.jupyter.widget-view+json": {
       "model_id": "ab8bc9f23c46495786f425b86581db76",
       "version_major": 2,
       "version_minor": 0
      },
      "text/plain": [
       "Map:   0%|          | 0/365 [00:00<?, ? examples/s]"
      ]
     },
     "metadata": {},
     "output_type": "display_data"
    },
    {
     "name": "stderr",
     "output_type": "stream",
     "text": [
      "Asking to truncate to max_length but no maximum length is provided and the model has no predefined maximum length. Default to no truncation.\n"
     ]
    }
   ],
   "source": [
    "def one_hot_encode_emotion(emotion, emotion_cols):\n",
    "    emotions = emotion.replace(\" \", \"\").split(\",\")\n",
    "    one_hot_emotion = [1.0 if emotion_col in emotions else 0.0 for emotion_col in emotion_cols] # Ensure that the label is float, not int\n",
    "    return one_hot_emotion\n",
    "\n",
    "def preprocess_function(data):\n",
    "   text = data['text']\n",
    "   emotion = data['emotion']\n",
    "   labels = one_hot_encode_emotion(emotion, emotion_cols)\n",
    "   data = tokenizer(text, truncation=True)\n",
    "   data['labels'] = labels\n",
    "   return data\n",
    "\n",
    "tokenized_datasets = {split: datasets[split].map(preprocess_function) for split in splits}"
   ]
  },
  {
   "cell_type": "code",
   "execution_count": 9,
   "metadata": {},
   "outputs": [
    {
     "name": "stdout",
     "output_type": "stream",
     "text": [
      "Text: Sigana anjeun lalaki sejen anu henteu resep ka legion ;D\n",
      "Emotion(s): marah, jijik\n",
      "Labels: [1.0, 1.0, 0.0, 0.0, 0.0, 0.0, 0.0] --> ['marah', 'jijik', 'takut', 'senang', 'sedih', 'terkejut', 'biasa']\n"
     ]
    }
   ],
   "source": [
    "# Sanity check\n",
    "data = tokenized_datasets['train'][5]\n",
    "\n",
    "print(\"Text:\", data['text'])\n",
    "print(\"Emotion(s):\", data['emotion'])\n",
    "print(\"Labels:\", data['labels'], '-->', emotion_cols)"
   ]
  },
  {
   "cell_type": "code",
   "execution_count": 10,
   "metadata": {},
   "outputs": [],
   "source": [
    "data_collator = DataCollatorWithPadding(tokenizer)"
   ]
  },
  {
   "cell_type": "markdown",
   "metadata": {},
   "source": [
    "# Finetuning"
   ]
  },
  {
   "cell_type": "code",
   "execution_count": 11,
   "metadata": {},
   "outputs": [],
   "source": [
    "def sigmoid(x):\n",
    "   return 1/(1 + np.exp(-x))\n",
    "\n",
    "def compute_metrics(eval_pred):\n",
    "    predictions, labels = eval_pred\n",
    "    probs = sigmoid(predictions)\n",
    "    y_pred = (probs > 0.5).astype(int)\n",
    "    y_true = labels.astype(int)\n",
    "\n",
    "    # Compute F1 score for each type of averaging method\n",
    "    f1_micro = f1_score(y_true, y_pred, average='micro', zero_division=0.0)\n",
    "    f1_macro = f1_score(y_true, y_pred, average='macro', zero_division=0.0)\n",
    "    f1_weighted = f1_score(y_true, y_pred, average='weighted', zero_division=0.0)\n",
    "    f1_samples = f1_score(y_true, y_pred, average='samples', zero_division=0.0)\n",
    "    f1_labels = f1_score(y_true, y_pred, average=None, zero_division=0.0)\n",
    "    f1_labels_dict = {f'f1_label_{emotion_cols[i]}': f1_labels[i] for i in range(len(f1_labels))}\n",
    "\n",
    "    return {\n",
    "        'f1_macro': f1_macro,\n",
    "        'f1_micro': f1_micro,\n",
    "        'f1_weighted': f1_weighted,\n",
    "        'f1_samples': f1_samples,\n",
    "        **f1_labels_dict,\n",
    "    }"
   ]
  },
  {
   "cell_type": "code",
   "execution_count": 12,
   "metadata": {},
   "outputs": [
    {
     "name": "stdout",
     "output_type": "stream",
     "text": [
      "================================================================\n",
      "NUM_EPOCHS: 10\n",
      "PROJECT_NAME: RoBERTa-Base-SE2025T11A-sun-v20250113130658\n",
      "================================================================\n"
     ]
    },
    {
     "name": "stderr",
     "output_type": "stream",
     "text": [
      "\u001b[34m\u001b[1mwandb\u001b[0m: \u001b[33mWARNING\u001b[0m The `run_name` is currently set to the same value as `TrainingArguments.output_dir`. If this was not intended, please specify a different run name by setting the `TrainingArguments.run_name` parameter.\n",
      "\u001b[34m\u001b[1mwandb\u001b[0m: Using wandb-core as the SDK backend.  Please refer to https://wandb.me/wandb-core for more information.\n",
      "\u001b[34m\u001b[1mwandb\u001b[0m: Currently logged in as: \u001b[33malimtegar\u001b[0m. Use \u001b[1m`wandb login --relogin`\u001b[0m to force relogin\n"
     ]
    },
    {
     "data": {
      "text/html": [
       "Tracking run with wandb version 0.19.1"
      ],
      "text/plain": [
       "<IPython.core.display.HTML object>"
      ]
     },
     "metadata": {},
     "output_type": "display_data"
    },
    {
     "data": {
      "text/html": [
       "Run data is saved locally in <code>/content/wandb/run-20250113_130705-z3ehoqc1</code>"
      ],
      "text/plain": [
       "<IPython.core.display.HTML object>"
      ]
     },
     "metadata": {},
     "output_type": "display_data"
    },
    {
     "data": {
      "text/html": [
       "Syncing run <strong><a href='https://wandb.ai/alimtegar/huggingface/runs/z3ehoqc1' target=\"_blank\">RoBERTa-Base-SE2025T11A-sun-v20250113130658</a></strong> to <a href='https://wandb.ai/alimtegar/huggingface' target=\"_blank\">Weights & Biases</a> (<a href='https://wandb.me/developer-guide' target=\"_blank\">docs</a>)<br>"
      ],
      "text/plain": [
       "<IPython.core.display.HTML object>"
      ]
     },
     "metadata": {},
     "output_type": "display_data"
    },
    {
     "data": {
      "text/html": [
       " View project at <a href='https://wandb.ai/alimtegar/huggingface' target=\"_blank\">https://wandb.ai/alimtegar/huggingface</a>"
      ],
      "text/plain": [
       "<IPython.core.display.HTML object>"
      ]
     },
     "metadata": {},
     "output_type": "display_data"
    },
    {
     "data": {
      "text/html": [
       " View run at <a href='https://wandb.ai/alimtegar/huggingface/runs/z3ehoqc1' target=\"_blank\">https://wandb.ai/alimtegar/huggingface/runs/z3ehoqc1</a>"
      ],
      "text/plain": [
       "<IPython.core.display.HTML object>"
      ]
     },
     "metadata": {},
     "output_type": "display_data"
    },
    {
     "data": {
      "text/html": [
       "\n",
       "    <div>\n",
       "      \n",
       "      <progress value='8820' max='8820' style='width:300px; height:20px; vertical-align: middle;'></progress>\n",
       "      [8820/8820 13:39, Epoch 10/10]\n",
       "    </div>\n",
       "    <table border=\"1\" class=\"dataframe\">\n",
       "  <thead>\n",
       " <tr style=\"text-align: left;\">\n",
       "      <th>Epoch</th>\n",
       "      <th>Training Loss</th>\n",
       "      <th>Validation Loss</th>\n",
       "      <th>F1 Macro</th>\n",
       "      <th>F1 Micro</th>\n",
       "      <th>F1 Weighted</th>\n",
       "      <th>F1 Samples</th>\n",
       "      <th>F1 Label Marah</th>\n",
       "      <th>F1 Label Jijik</th>\n",
       "      <th>F1 Label Takut</th>\n",
       "      <th>F1 Label Senang</th>\n",
       "      <th>F1 Label Sedih</th>\n",
       "      <th>F1 Label Terkejut</th>\n",
       "      <th>F1 Label Biasa</th>\n",
       "    </tr>\n",
       "  </thead>\n",
       "  <tbody>\n",
       "    <tr>\n",
       "      <td>1</td>\n",
       "      <td>0.367300</td>\n",
       "      <td>0.301842</td>\n",
       "      <td>0.527032</td>\n",
       "      <td>0.598106</td>\n",
       "      <td>0.573360</td>\n",
       "      <td>0.532877</td>\n",
       "      <td>0.558140</td>\n",
       "      <td>0.435897</td>\n",
       "      <td>0.543210</td>\n",
       "      <td>0.782609</td>\n",
       "      <td>0.707965</td>\n",
       "      <td>0.561404</td>\n",
       "      <td>0.100000</td>\n",
       "    </tr>\n",
       "    <tr>\n",
       "      <td>2</td>\n",
       "      <td>0.278500</td>\n",
       "      <td>0.304163</td>\n",
       "      <td>0.592439</td>\n",
       "      <td>0.624096</td>\n",
       "      <td>0.620611</td>\n",
       "      <td>0.607763</td>\n",
       "      <td>0.549296</td>\n",
       "      <td>0.553571</td>\n",
       "      <td>0.600000</td>\n",
       "      <td>0.784530</td>\n",
       "      <td>0.708661</td>\n",
       "      <td>0.580645</td>\n",
       "      <td>0.370370</td>\n",
       "    </tr>\n",
       "    <tr>\n",
       "      <td>3</td>\n",
       "      <td>0.184900</td>\n",
       "      <td>0.357601</td>\n",
       "      <td>0.592433</td>\n",
       "      <td>0.617925</td>\n",
       "      <td>0.616135</td>\n",
       "      <td>0.616530</td>\n",
       "      <td>0.487395</td>\n",
       "      <td>0.495726</td>\n",
       "      <td>0.547170</td>\n",
       "      <td>0.811111</td>\n",
       "      <td>0.757143</td>\n",
       "      <td>0.533333</td>\n",
       "      <td>0.515152</td>\n",
       "    </tr>\n",
       "    <tr>\n",
       "      <td>4</td>\n",
       "      <td>0.158100</td>\n",
       "      <td>0.377999</td>\n",
       "      <td>0.619828</td>\n",
       "      <td>0.645238</td>\n",
       "      <td>0.638383</td>\n",
       "      <td>0.644292</td>\n",
       "      <td>0.522523</td>\n",
       "      <td>0.540541</td>\n",
       "      <td>0.554217</td>\n",
       "      <td>0.835979</td>\n",
       "      <td>0.727273</td>\n",
       "      <td>0.540984</td>\n",
       "      <td>0.617284</td>\n",
       "    </tr>\n",
       "    <tr>\n",
       "      <td>5</td>\n",
       "      <td>0.094200</td>\n",
       "      <td>0.429534</td>\n",
       "      <td>0.611287</td>\n",
       "      <td>0.640371</td>\n",
       "      <td>0.636219</td>\n",
       "      <td>0.642283</td>\n",
       "      <td>0.569231</td>\n",
       "      <td>0.558140</td>\n",
       "      <td>0.571429</td>\n",
       "      <td>0.812183</td>\n",
       "      <td>0.755906</td>\n",
       "      <td>0.545455</td>\n",
       "      <td>0.466667</td>\n",
       "    </tr>\n",
       "    <tr>\n",
       "      <td>6</td>\n",
       "      <td>0.059000</td>\n",
       "      <td>0.471385</td>\n",
       "      <td>0.597307</td>\n",
       "      <td>0.627063</td>\n",
       "      <td>0.622197</td>\n",
       "      <td>0.637443</td>\n",
       "      <td>0.528000</td>\n",
       "      <td>0.564885</td>\n",
       "      <td>0.523810</td>\n",
       "      <td>0.827225</td>\n",
       "      <td>0.723926</td>\n",
       "      <td>0.520548</td>\n",
       "      <td>0.492754</td>\n",
       "    </tr>\n",
       "    <tr>\n",
       "      <td>7</td>\n",
       "      <td>0.033400</td>\n",
       "      <td>0.482311</td>\n",
       "      <td>0.620386</td>\n",
       "      <td>0.642534</td>\n",
       "      <td>0.640863</td>\n",
       "      <td>0.649498</td>\n",
       "      <td>0.556391</td>\n",
       "      <td>0.569231</td>\n",
       "      <td>0.577320</td>\n",
       "      <td>0.827225</td>\n",
       "      <td>0.733813</td>\n",
       "      <td>0.528000</td>\n",
       "      <td>0.550725</td>\n",
       "    </tr>\n",
       "    <tr>\n",
       "      <td>8</td>\n",
       "      <td>0.035000</td>\n",
       "      <td>0.511574</td>\n",
       "      <td>0.629008</td>\n",
       "      <td>0.646600</td>\n",
       "      <td>0.648051</td>\n",
       "      <td>0.649954</td>\n",
       "      <td>0.525547</td>\n",
       "      <td>0.562500</td>\n",
       "      <td>0.623656</td>\n",
       "      <td>0.819149</td>\n",
       "      <td>0.750000</td>\n",
       "      <td>0.558824</td>\n",
       "      <td>0.563380</td>\n",
       "    </tr>\n",
       "    <tr>\n",
       "      <td>9</td>\n",
       "      <td>0.023300</td>\n",
       "      <td>0.535451</td>\n",
       "      <td>0.617682</td>\n",
       "      <td>0.640969</td>\n",
       "      <td>0.639851</td>\n",
       "      <td>0.652146</td>\n",
       "      <td>0.557143</td>\n",
       "      <td>0.545455</td>\n",
       "      <td>0.595745</td>\n",
       "      <td>0.839378</td>\n",
       "      <td>0.705882</td>\n",
       "      <td>0.542857</td>\n",
       "      <td>0.537313</td>\n",
       "    </tr>\n",
       "    <tr>\n",
       "      <td>10</td>\n",
       "      <td>0.019100</td>\n",
       "      <td>0.538506</td>\n",
       "      <td>0.621294</td>\n",
       "      <td>0.642303</td>\n",
       "      <td>0.641989</td>\n",
       "      <td>0.652146</td>\n",
       "      <td>0.550725</td>\n",
       "      <td>0.558140</td>\n",
       "      <td>0.595745</td>\n",
       "      <td>0.831579</td>\n",
       "      <td>0.724832</td>\n",
       "      <td>0.537313</td>\n",
       "      <td>0.550725</td>\n",
       "    </tr>\n",
       "  </tbody>\n",
       "</table><p>"
      ],
      "text/plain": [
       "<IPython.core.display.HTML object>"
      ]
     },
     "metadata": {},
     "output_type": "display_data"
    },
    {
     "data": {
      "application/vnd.jupyter.widget-view+json": {
       "model_id": "689f182933334715ba1e14469f2683a0",
       "version_major": 2,
       "version_minor": 0
      },
      "text/plain": [
       "Upload 3 LFS files:   0%|          | 0/3 [00:00<?, ?it/s]"
      ]
     },
     "metadata": {},
     "output_type": "display_data"
    },
    {
     "data": {
      "application/vnd.jupyter.widget-view+json": {
       "model_id": "7e13bcbf355746819bca251345100170",
       "version_major": 2,
       "version_minor": 0
      },
      "text/plain": [
       "events.out.tfevents.1736773620.5f2e6c9c6f3a.5626.0:   0%|          | 0.00/33.4k [00:00<?, ?B/s]"
      ]
     },
     "metadata": {},
     "output_type": "display_data"
    },
    {
     "data": {
      "application/vnd.jupyter.widget-view+json": {
       "model_id": "fc3cfd62486040b69e999323b3413048",
       "version_major": 2,
       "version_minor": 0
      },
      "text/plain": [
       "model.safetensors:   0%|          | 0.00/499M [00:00<?, ?B/s]"
      ]
     },
     "metadata": {},
     "output_type": "display_data"
    },
    {
     "data": {
      "application/vnd.jupyter.widget-view+json": {
       "model_id": "c498405a74544699b5e384643c8c425f",
       "version_major": 2,
       "version_minor": 0
      },
      "text/plain": [
       "training_args.bin:   0%|          | 0.00/5.37k [00:00<?, ?B/s]"
      ]
     },
     "metadata": {},
     "output_type": "display_data"
    },
    {
     "data": {
      "text/html": [
       "\n",
       "    <div>\n",
       "      \n",
       "      <progress value='183' max='183' style='width:300px; height:20px; vertical-align: middle;'></progress>\n",
       "      [183/183 00:01]\n",
       "    </div>\n",
       "    "
      ],
      "text/plain": [
       "<IPython.core.display.HTML object>"
      ]
     },
     "metadata": {},
     "output_type": "display_data"
    },
    {
     "name": "stdout",
     "output_type": "stream",
     "text": [
      "Evaluation to copy:\n",
      "0.5130354257141918\t0.5826558265582655\t0.5550287188258658\t0.5236529680365296\t0.5483870967741935\t0.33766233766233766\t0.7045454545454546\t0.7403314917127072\t0.6666666666666666\t0.5423728813559322\t0.05128205128205128\n",
      "\n",
      "Evaluation full results:\n",
      "{'epoch': 10.0,\n",
      " 'eval_f1_label_biasa': 0.05128205128205128,\n",
      " 'eval_f1_label_jijik': 0.33766233766233766,\n",
      " 'eval_f1_label_marah': 0.5483870967741935,\n",
      " 'eval_f1_label_sedih': 0.6666666666666666,\n",
      " 'eval_f1_label_senang': 0.7403314917127072,\n",
      " 'eval_f1_label_takut': 0.7045454545454546,\n",
      " 'eval_f1_label_terkejut': 0.5423728813559322,\n",
      " 'eval_f1_macro': 0.5130354257141918,\n",
      " 'eval_f1_micro': 0.5826558265582655,\n",
      " 'eval_f1_samples': 0.5236529680365296,\n",
      " 'eval_f1_weighted': 0.5550287188258658,\n",
      " 'eval_loss': 0.31920620799064636,\n",
      " 'eval_runtime': 1.8843,\n",
      " 'eval_samples_per_second': 193.706,\n",
      " 'eval_steps_per_second': 97.118}\n",
      "================================================================\n",
      "NUM_EPOCHS: 8\n",
      "PROJECT_NAME: RoBERTa-Base-SE2025T11A-sun-v20250113132115\n",
      "================================================================\n"
     ]
    },
    {
     "data": {
      "text/html": [
       "\n",
       "    <div>\n",
       "      \n",
       "      <progress value='7056' max='7056' style='width:300px; height:20px; vertical-align: middle;'></progress>\n",
       "      [7056/7056 11:05, Epoch 8/8]\n",
       "    </div>\n",
       "    <table border=\"1\" class=\"dataframe\">\n",
       "  <thead>\n",
       " <tr style=\"text-align: left;\">\n",
       "      <th>Epoch</th>\n",
       "      <th>Training Loss</th>\n",
       "      <th>Validation Loss</th>\n",
       "      <th>F1 Macro</th>\n",
       "      <th>F1 Micro</th>\n",
       "      <th>F1 Weighted</th>\n",
       "      <th>F1 Samples</th>\n",
       "      <th>F1 Label Marah</th>\n",
       "      <th>F1 Label Jijik</th>\n",
       "      <th>F1 Label Takut</th>\n",
       "      <th>F1 Label Senang</th>\n",
       "      <th>F1 Label Sedih</th>\n",
       "      <th>F1 Label Terkejut</th>\n",
       "      <th>F1 Label Biasa</th>\n",
       "    </tr>\n",
       "  </thead>\n",
       "  <tbody>\n",
       "    <tr>\n",
       "      <td>1</td>\n",
       "      <td>0.357700</td>\n",
       "      <td>0.298225</td>\n",
       "      <td>0.533174</td>\n",
       "      <td>0.606711</td>\n",
       "      <td>0.578882</td>\n",
       "      <td>0.550411</td>\n",
       "      <td>0.582677</td>\n",
       "      <td>0.455696</td>\n",
       "      <td>0.556962</td>\n",
       "      <td>0.787234</td>\n",
       "      <td>0.699187</td>\n",
       "      <td>0.550459</td>\n",
       "      <td>0.100000</td>\n",
       "    </tr>\n",
       "    <tr>\n",
       "      <td>2</td>\n",
       "      <td>0.265700</td>\n",
       "      <td>0.308457</td>\n",
       "      <td>0.599263</td>\n",
       "      <td>0.627879</td>\n",
       "      <td>0.623190</td>\n",
       "      <td>0.607763</td>\n",
       "      <td>0.557143</td>\n",
       "      <td>0.631579</td>\n",
       "      <td>0.577778</td>\n",
       "      <td>0.757062</td>\n",
       "      <td>0.703125</td>\n",
       "      <td>0.576000</td>\n",
       "      <td>0.392157</td>\n",
       "    </tr>\n",
       "    <tr>\n",
       "      <td>3</td>\n",
       "      <td>0.167900</td>\n",
       "      <td>0.358454</td>\n",
       "      <td>0.592006</td>\n",
       "      <td>0.611374</td>\n",
       "      <td>0.611717</td>\n",
       "      <td>0.609132</td>\n",
       "      <td>0.504202</td>\n",
       "      <td>0.532258</td>\n",
       "      <td>0.560748</td>\n",
       "      <td>0.774566</td>\n",
       "      <td>0.740741</td>\n",
       "      <td>0.517241</td>\n",
       "      <td>0.514286</td>\n",
       "    </tr>\n",
       "    <tr>\n",
       "      <td>4</td>\n",
       "      <td>0.143500</td>\n",
       "      <td>0.367489</td>\n",
       "      <td>0.642257</td>\n",
       "      <td>0.661955</td>\n",
       "      <td>0.653517</td>\n",
       "      <td>0.668219</td>\n",
       "      <td>0.591304</td>\n",
       "      <td>0.622951</td>\n",
       "      <td>0.531646</td>\n",
       "      <td>0.793814</td>\n",
       "      <td>0.721088</td>\n",
       "      <td>0.559322</td>\n",
       "      <td>0.675676</td>\n",
       "    </tr>\n",
       "    <tr>\n",
       "      <td>5</td>\n",
       "      <td>0.086000</td>\n",
       "      <td>0.429535</td>\n",
       "      <td>0.608290</td>\n",
       "      <td>0.640462</td>\n",
       "      <td>0.633923</td>\n",
       "      <td>0.640913</td>\n",
       "      <td>0.544118</td>\n",
       "      <td>0.561983</td>\n",
       "      <td>0.580645</td>\n",
       "      <td>0.817308</td>\n",
       "      <td>0.692913</td>\n",
       "      <td>0.596774</td>\n",
       "      <td>0.464286</td>\n",
       "    </tr>\n",
       "    <tr>\n",
       "      <td>6</td>\n",
       "      <td>0.041500</td>\n",
       "      <td>0.458470</td>\n",
       "      <td>0.626805</td>\n",
       "      <td>0.648107</td>\n",
       "      <td>0.645782</td>\n",
       "      <td>0.654703</td>\n",
       "      <td>0.564516</td>\n",
       "      <td>0.593750</td>\n",
       "      <td>0.602151</td>\n",
       "      <td>0.814815</td>\n",
       "      <td>0.735484</td>\n",
       "      <td>0.531469</td>\n",
       "      <td>0.545455</td>\n",
       "    </tr>\n",
       "    <tr>\n",
       "      <td>7</td>\n",
       "      <td>0.033900</td>\n",
       "      <td>0.469836</td>\n",
       "      <td>0.631952</td>\n",
       "      <td>0.650388</td>\n",
       "      <td>0.648589</td>\n",
       "      <td>0.662922</td>\n",
       "      <td>0.588235</td>\n",
       "      <td>0.576000</td>\n",
       "      <td>0.580000</td>\n",
       "      <td>0.821053</td>\n",
       "      <td>0.709677</td>\n",
       "      <td>0.542636</td>\n",
       "      <td>0.606061</td>\n",
       "    </tr>\n",
       "    <tr>\n",
       "      <td>8</td>\n",
       "      <td>0.032200</td>\n",
       "      <td>0.474611</td>\n",
       "      <td>0.627005</td>\n",
       "      <td>0.647125</td>\n",
       "      <td>0.644718</td>\n",
       "      <td>0.654977</td>\n",
       "      <td>0.571429</td>\n",
       "      <td>0.580645</td>\n",
       "      <td>0.583333</td>\n",
       "      <td>0.808511</td>\n",
       "      <td>0.738255</td>\n",
       "      <td>0.535433</td>\n",
       "      <td>0.571429</td>\n",
       "    </tr>\n",
       "  </tbody>\n",
       "</table><p>"
      ],
      "text/plain": [
       "<IPython.core.display.HTML object>"
      ]
     },
     "metadata": {},
     "output_type": "display_data"
    },
    {
     "data": {
      "application/vnd.jupyter.widget-view+json": {
       "model_id": "baa071361dc54625aee9d1e0f0679769",
       "version_major": 2,
       "version_minor": 0
      },
      "text/plain": [
       "Upload 3 LFS files:   0%|          | 0/3 [00:00<?, ?it/s]"
      ]
     },
     "metadata": {},
     "output_type": "display_data"
    },
    {
     "data": {
      "application/vnd.jupyter.widget-view+json": {
       "model_id": "35870e6eef0c4703b01a43631e316686",
       "version_major": 2,
       "version_minor": 0
      },
      "text/plain": [
       "events.out.tfevents.1736774476.5f2e6c9c6f3a.5626.2:   0%|          | 0.00/27.9k [00:00<?, ?B/s]"
      ]
     },
     "metadata": {},
     "output_type": "display_data"
    },
    {
     "data": {
      "application/vnd.jupyter.widget-view+json": {
       "model_id": "d919520cbbfb49a6ae9ea82288014cd0",
       "version_major": 2,
       "version_minor": 0
      },
      "text/plain": [
       "model.safetensors:   0%|          | 0.00/499M [00:00<?, ?B/s]"
      ]
     },
     "metadata": {},
     "output_type": "display_data"
    },
    {
     "data": {
      "application/vnd.jupyter.widget-view+json": {
       "model_id": "fa90ac78dad249c1a97f9a4ec1c729f3",
       "version_major": 2,
       "version_minor": 0
      },
      "text/plain": [
       "training_args.bin:   0%|          | 0.00/5.37k [00:00<?, ?B/s]"
      ]
     },
     "metadata": {},
     "output_type": "display_data"
    },
    {
     "data": {
      "text/html": [
       "\n",
       "    <div>\n",
       "      \n",
       "      <progress value='183' max='183' style='width:300px; height:20px; vertical-align: middle;'></progress>\n",
       "      [183/183 00:01]\n",
       "    </div>\n",
       "    "
      ],
      "text/plain": [
       "<IPython.core.display.HTML object>"
      ]
     },
     "metadata": {},
     "output_type": "display_data"
    },
    {
     "name": "stdout",
     "output_type": "stream",
     "text": [
      "Evaluation to copy:\n",
      "0.5060836536205995\t0.5877659574468085\t0.5525652867247695\t0.539269406392694\t0.5833333333333334\t0.3076923076923077\t0.6896551724137931\t0.7619047619047619\t0.7\t0.5\t0.0\n",
      "\n",
      "Evaluation full results:\n",
      "{'epoch': 8.0,\n",
      " 'eval_f1_label_biasa': 0.0,\n",
      " 'eval_f1_label_jijik': 0.3076923076923077,\n",
      " 'eval_f1_label_marah': 0.5833333333333334,\n",
      " 'eval_f1_label_sedih': 0.7,\n",
      " 'eval_f1_label_senang': 0.7619047619047619,\n",
      " 'eval_f1_label_takut': 0.6896551724137931,\n",
      " 'eval_f1_label_terkejut': 0.5,\n",
      " 'eval_f1_macro': 0.5060836536205995,\n",
      " 'eval_f1_micro': 0.5877659574468085,\n",
      " 'eval_f1_samples': 0.539269406392694,\n",
      " 'eval_f1_weighted': 0.5525652867247695,\n",
      " 'eval_loss': 0.3110816478729248,\n",
      " 'eval_runtime': 1.8537,\n",
      " 'eval_samples_per_second': 196.908,\n",
      " 'eval_steps_per_second': 98.724}\n",
      "================================================================\n",
      "NUM_EPOCHS: 5\n",
      "PROJECT_NAME: RoBERTa-Base-SE2025T11A-sun-v20250113133244\n",
      "================================================================\n"
     ]
    },
    {
     "data": {
      "text/html": [
       "\n",
       "    <div>\n",
       "      \n",
       "      <progress value='4410' max='4410' style='width:300px; height:20px; vertical-align: middle;'></progress>\n",
       "      [4410/4410 07:11, Epoch 5/5]\n",
       "    </div>\n",
       "    <table border=\"1\" class=\"dataframe\">\n",
       "  <thead>\n",
       " <tr style=\"text-align: left;\">\n",
       "      <th>Epoch</th>\n",
       "      <th>Training Loss</th>\n",
       "      <th>Validation Loss</th>\n",
       "      <th>F1 Macro</th>\n",
       "      <th>F1 Micro</th>\n",
       "      <th>F1 Weighted</th>\n",
       "      <th>F1 Samples</th>\n",
       "      <th>F1 Label Marah</th>\n",
       "      <th>F1 Label Jijik</th>\n",
       "      <th>F1 Label Takut</th>\n",
       "      <th>F1 Label Senang</th>\n",
       "      <th>F1 Label Sedih</th>\n",
       "      <th>F1 Label Terkejut</th>\n",
       "      <th>F1 Label Biasa</th>\n",
       "    </tr>\n",
       "  </thead>\n",
       "  <tbody>\n",
       "    <tr>\n",
       "      <td>1</td>\n",
       "      <td>0.363700</td>\n",
       "      <td>0.297130</td>\n",
       "      <td>0.533579</td>\n",
       "      <td>0.606398</td>\n",
       "      <td>0.579559</td>\n",
       "      <td>0.536530</td>\n",
       "      <td>0.586207</td>\n",
       "      <td>0.461538</td>\n",
       "      <td>0.554217</td>\n",
       "      <td>0.795699</td>\n",
       "      <td>0.709091</td>\n",
       "      <td>0.528302</td>\n",
       "      <td>0.100000</td>\n",
       "    </tr>\n",
       "    <tr>\n",
       "      <td>2</td>\n",
       "      <td>0.277500</td>\n",
       "      <td>0.307094</td>\n",
       "      <td>0.594427</td>\n",
       "      <td>0.622991</td>\n",
       "      <td>0.618506</td>\n",
       "      <td>0.605205</td>\n",
       "      <td>0.549618</td>\n",
       "      <td>0.568627</td>\n",
       "      <td>0.586957</td>\n",
       "      <td>0.750000</td>\n",
       "      <td>0.727273</td>\n",
       "      <td>0.578512</td>\n",
       "      <td>0.400000</td>\n",
       "    </tr>\n",
       "    <tr>\n",
       "      <td>3</td>\n",
       "      <td>0.158600</td>\n",
       "      <td>0.344259</td>\n",
       "      <td>0.604208</td>\n",
       "      <td>0.629321</td>\n",
       "      <td>0.625737</td>\n",
       "      <td>0.628037</td>\n",
       "      <td>0.512000</td>\n",
       "      <td>0.578125</td>\n",
       "      <td>0.589474</td>\n",
       "      <td>0.789189</td>\n",
       "      <td>0.731343</td>\n",
       "      <td>0.545455</td>\n",
       "      <td>0.483871</td>\n",
       "    </tr>\n",
       "    <tr>\n",
       "      <td>4</td>\n",
       "      <td>0.137800</td>\n",
       "      <td>0.363546</td>\n",
       "      <td>0.616994</td>\n",
       "      <td>0.637749</td>\n",
       "      <td>0.633620</td>\n",
       "      <td>0.645479</td>\n",
       "      <td>0.545455</td>\n",
       "      <td>0.578512</td>\n",
       "      <td>0.574713</td>\n",
       "      <td>0.785340</td>\n",
       "      <td>0.684564</td>\n",
       "      <td>0.578947</td>\n",
       "      <td>0.571429</td>\n",
       "    </tr>\n",
       "    <tr>\n",
       "      <td>5</td>\n",
       "      <td>0.095500</td>\n",
       "      <td>0.375345</td>\n",
       "      <td>0.634318</td>\n",
       "      <td>0.652874</td>\n",
       "      <td>0.651609</td>\n",
       "      <td>0.658447</td>\n",
       "      <td>0.551181</td>\n",
       "      <td>0.595041</td>\n",
       "      <td>0.606742</td>\n",
       "      <td>0.791444</td>\n",
       "      <td>0.702703</td>\n",
       "      <td>0.625954</td>\n",
       "      <td>0.567164</td>\n",
       "    </tr>\n",
       "  </tbody>\n",
       "</table><p>"
      ],
      "text/plain": [
       "<IPython.core.display.HTML object>"
      ]
     },
     "metadata": {},
     "output_type": "display_data"
    },
    {
     "data": {
      "application/vnd.jupyter.widget-view+json": {
       "model_id": "4a297c1dba054446b671ecf85a1670ff",
       "version_major": 2,
       "version_minor": 0
      },
      "text/plain": [
       "model.safetensors:   0%|          | 0.00/499M [00:00<?, ?B/s]"
      ]
     },
     "metadata": {},
     "output_type": "display_data"
    },
    {
     "data": {
      "application/vnd.jupyter.widget-view+json": {
       "model_id": "8fe25bbadddf4eeca2093c0c84f1d62e",
       "version_major": 2,
       "version_minor": 0
      },
      "text/plain": [
       "events.out.tfevents.1736775164.5f2e6c9c6f3a.5626.4:   0%|          | 0.00/19.7k [00:00<?, ?B/s]"
      ]
     },
     "metadata": {},
     "output_type": "display_data"
    },
    {
     "data": {
      "application/vnd.jupyter.widget-view+json": {
       "model_id": "f2a72d15854848faba4bba51856197ed",
       "version_major": 2,
       "version_minor": 0
      },
      "text/plain": [
       "Upload 3 LFS files:   0%|          | 0/3 [00:00<?, ?it/s]"
      ]
     },
     "metadata": {},
     "output_type": "display_data"
    },
    {
     "data": {
      "application/vnd.jupyter.widget-view+json": {
       "model_id": "f5034cd04387468aa33bb478640ca304",
       "version_major": 2,
       "version_minor": 0
      },
      "text/plain": [
       "training_args.bin:   0%|          | 0.00/5.37k [00:00<?, ?B/s]"
      ]
     },
     "metadata": {},
     "output_type": "display_data"
    },
    {
     "data": {
      "text/html": [
       "\n",
       "    <div>\n",
       "      \n",
       "      <progress value='183' max='183' style='width:300px; height:20px; vertical-align: middle;'></progress>\n",
       "      [183/183 00:02]\n",
       "    </div>\n",
       "    "
      ],
      "text/plain": [
       "<IPython.core.display.HTML object>"
      ]
     },
     "metadata": {},
     "output_type": "display_data"
    },
    {
     "name": "stdout",
     "output_type": "stream",
     "text": [
      "Evaluation to copy:\n",
      "0.484746011581034\t0.5647382920110193\t0.5298585340920339\t0.5025570776255708\t0.5178571428571429\t0.2972972972972973\t0.6966292134831461\t0.7513227513227513\t0.6605504587155964\t0.46956521739130436\t0.0\n",
      "\n",
      "Evaluation full results:\n",
      "{'epoch': 5.0,\n",
      " 'eval_f1_label_biasa': 0.0,\n",
      " 'eval_f1_label_jijik': 0.2972972972972973,\n",
      " 'eval_f1_label_marah': 0.5178571428571429,\n",
      " 'eval_f1_label_sedih': 0.6605504587155964,\n",
      " 'eval_f1_label_senang': 0.7513227513227513,\n",
      " 'eval_f1_label_takut': 0.6966292134831461,\n",
      " 'eval_f1_label_terkejut': 0.46956521739130436,\n",
      " 'eval_f1_macro': 0.484746011581034,\n",
      " 'eval_f1_micro': 0.5647382920110193,\n",
      " 'eval_f1_samples': 0.5025570776255708,\n",
      " 'eval_f1_weighted': 0.5298585340920339,\n",
      " 'eval_loss': 0.3209816813468933,\n",
      " 'eval_runtime': 2.1437,\n",
      " 'eval_samples_per_second': 170.266,\n",
      " 'eval_steps_per_second': 85.366}\n",
      "================================================================\n",
      "NUM_EPOCHS: 3\n",
      "PROJECT_NAME: RoBERTa-Base-SE2025T11A-sun-v20250113134023\n",
      "================================================================\n"
     ]
    },
    {
     "data": {
      "text/html": [
       "\n",
       "    <div>\n",
       "      \n",
       "      <progress value='2646' max='2646' style='width:300px; height:20px; vertical-align: middle;'></progress>\n",
       "      [2646/2646 04:19, Epoch 3/3]\n",
       "    </div>\n",
       "    <table border=\"1\" class=\"dataframe\">\n",
       "  <thead>\n",
       " <tr style=\"text-align: left;\">\n",
       "      <th>Epoch</th>\n",
       "      <th>Training Loss</th>\n",
       "      <th>Validation Loss</th>\n",
       "      <th>F1 Macro</th>\n",
       "      <th>F1 Micro</th>\n",
       "      <th>F1 Weighted</th>\n",
       "      <th>F1 Samples</th>\n",
       "      <th>F1 Label Marah</th>\n",
       "      <th>F1 Label Jijik</th>\n",
       "      <th>F1 Label Takut</th>\n",
       "      <th>F1 Label Senang</th>\n",
       "      <th>F1 Label Sedih</th>\n",
       "      <th>F1 Label Terkejut</th>\n",
       "      <th>F1 Label Biasa</th>\n",
       "    </tr>\n",
       "  </thead>\n",
       "  <tbody>\n",
       "    <tr>\n",
       "      <td>1</td>\n",
       "      <td>0.352300</td>\n",
       "      <td>0.298090</td>\n",
       "      <td>0.503795</td>\n",
       "      <td>0.587280</td>\n",
       "      <td>0.554333</td>\n",
       "      <td>0.532877</td>\n",
       "      <td>0.516667</td>\n",
       "      <td>0.314286</td>\n",
       "      <td>0.550000</td>\n",
       "      <td>0.818653</td>\n",
       "      <td>0.678571</td>\n",
       "      <td>0.548387</td>\n",
       "      <td>0.100000</td>\n",
       "    </tr>\n",
       "    <tr>\n",
       "      <td>2</td>\n",
       "      <td>0.265600</td>\n",
       "      <td>0.299350</td>\n",
       "      <td>0.597056</td>\n",
       "      <td>0.624079</td>\n",
       "      <td>0.618988</td>\n",
       "      <td>0.611142</td>\n",
       "      <td>0.566667</td>\n",
       "      <td>0.601770</td>\n",
       "      <td>0.623656</td>\n",
       "      <td>0.766667</td>\n",
       "      <td>0.661538</td>\n",
       "      <td>0.544000</td>\n",
       "      <td>0.415094</td>\n",
       "    </tr>\n",
       "    <tr>\n",
       "      <td>3</td>\n",
       "      <td>0.182900</td>\n",
       "      <td>0.299410</td>\n",
       "      <td>0.622019</td>\n",
       "      <td>0.642686</td>\n",
       "      <td>0.639522</td>\n",
       "      <td>0.638174</td>\n",
       "      <td>0.556522</td>\n",
       "      <td>0.623853</td>\n",
       "      <td>0.645161</td>\n",
       "      <td>0.775956</td>\n",
       "      <td>0.690141</td>\n",
       "      <td>0.562500</td>\n",
       "      <td>0.500000</td>\n",
       "    </tr>\n",
       "  </tbody>\n",
       "</table><p>"
      ],
      "text/plain": [
       "<IPython.core.display.HTML object>"
      ]
     },
     "metadata": {},
     "output_type": "display_data"
    },
    {
     "data": {
      "application/vnd.jupyter.widget-view+json": {
       "model_id": "96fc7dbd0dd9415ba335c1083c1329c7",
       "version_major": 2,
       "version_minor": 0
      },
      "text/plain": [
       "model.safetensors:   0%|          | 0.00/499M [00:00<?, ?B/s]"
      ]
     },
     "metadata": {},
     "output_type": "display_data"
    },
    {
     "data": {
      "application/vnd.jupyter.widget-view+json": {
       "model_id": "abdc776f12ed4f2da86e414097c9b40f",
       "version_major": 2,
       "version_minor": 0
      },
      "text/plain": [
       "training_args.bin:   0%|          | 0.00/5.37k [00:00<?, ?B/s]"
      ]
     },
     "metadata": {},
     "output_type": "display_data"
    },
    {
     "data": {
      "application/vnd.jupyter.widget-view+json": {
       "model_id": "01f939ac5d1c4ad49568f87b688d4b4c",
       "version_major": 2,
       "version_minor": 0
      },
      "text/plain": [
       "events.out.tfevents.1736775624.5f2e6c9c6f3a.5626.6:   0%|          | 0.00/14.1k [00:00<?, ?B/s]"
      ]
     },
     "metadata": {},
     "output_type": "display_data"
    },
    {
     "data": {
      "application/vnd.jupyter.widget-view+json": {
       "model_id": "641487a26726414b8b4e718c48fba5b1",
       "version_major": 2,
       "version_minor": 0
      },
      "text/plain": [
       "Upload 3 LFS files:   0%|          | 0/3 [00:00<?, ?it/s]"
      ]
     },
     "metadata": {},
     "output_type": "display_data"
    },
    {
     "data": {
      "text/html": [
       "\n",
       "    <div>\n",
       "      \n",
       "      <progress value='183' max='183' style='width:300px; height:20px; vertical-align: middle;'></progress>\n",
       "      [183/183 00:01]\n",
       "    </div>\n",
       "    "
      ],
      "text/plain": [
       "<IPython.core.display.HTML object>"
      ]
     },
     "metadata": {},
     "output_type": "display_data"
    },
    {
     "name": "stdout",
     "output_type": "stream",
     "text": [
      "Evaluation to copy:\n",
      "0.4935079128869173\t0.5802968960863698\t0.540544935440443\t0.5255707762557077\t0.5565217391304348\t0.22857142857142856\t0.6896551724137931\t0.7448979591836735\t0.6909090909090909\t0.544\t0.0\n",
      "\n",
      "Evaluation full results:\n",
      "{'epoch': 3.0,\n",
      " 'eval_f1_label_biasa': 0.0,\n",
      " 'eval_f1_label_jijik': 0.22857142857142856,\n",
      " 'eval_f1_label_marah': 0.5565217391304348,\n",
      " 'eval_f1_label_sedih': 0.6909090909090909,\n",
      " 'eval_f1_label_senang': 0.7448979591836735,\n",
      " 'eval_f1_label_takut': 0.6896551724137931,\n",
      " 'eval_f1_label_terkejut': 0.544,\n",
      " 'eval_f1_macro': 0.4935079128869173,\n",
      " 'eval_f1_micro': 0.5802968960863698,\n",
      " 'eval_f1_samples': 0.5255707762557077,\n",
      " 'eval_f1_weighted': 0.540544935440443,\n",
      " 'eval_loss': 0.31171366572380066,\n",
      " 'eval_runtime': 1.8866,\n",
      " 'eval_samples_per_second': 193.47,\n",
      " 'eval_steps_per_second': 97.0}\n",
      "================================================================\n",
      "NUM_EPOCHS: 2\n",
      "PROJECT_NAME: RoBERTa-Base-SE2025T11A-sun-v20250113134514\n",
      "================================================================\n"
     ]
    },
    {
     "data": {
      "text/html": [
       "\n",
       "    <div>\n",
       "      \n",
       "      <progress value='1764' max='1764' style='width:300px; height:20px; vertical-align: middle;'></progress>\n",
       "      [1764/1764 02:54, Epoch 2/2]\n",
       "    </div>\n",
       "    <table border=\"1\" class=\"dataframe\">\n",
       "  <thead>\n",
       " <tr style=\"text-align: left;\">\n",
       "      <th>Epoch</th>\n",
       "      <th>Training Loss</th>\n",
       "      <th>Validation Loss</th>\n",
       "      <th>F1 Macro</th>\n",
       "      <th>F1 Micro</th>\n",
       "      <th>F1 Weighted</th>\n",
       "      <th>F1 Samples</th>\n",
       "      <th>F1 Label Marah</th>\n",
       "      <th>F1 Label Jijik</th>\n",
       "      <th>F1 Label Takut</th>\n",
       "      <th>F1 Label Senang</th>\n",
       "      <th>F1 Label Sedih</th>\n",
       "      <th>F1 Label Terkejut</th>\n",
       "      <th>F1 Label Biasa</th>\n",
       "    </tr>\n",
       "  </thead>\n",
       "  <tbody>\n",
       "    <tr>\n",
       "      <td>1</td>\n",
       "      <td>0.357700</td>\n",
       "      <td>0.292677</td>\n",
       "      <td>0.504010</td>\n",
       "      <td>0.593838</td>\n",
       "      <td>0.555572</td>\n",
       "      <td>0.524201</td>\n",
       "      <td>0.553571</td>\n",
       "      <td>0.268657</td>\n",
       "      <td>0.545455</td>\n",
       "      <td>0.822917</td>\n",
       "      <td>0.701754</td>\n",
       "      <td>0.535714</td>\n",
       "      <td>0.100000</td>\n",
       "    </tr>\n",
       "    <tr>\n",
       "      <td>2</td>\n",
       "      <td>0.245600</td>\n",
       "      <td>0.284916</td>\n",
       "      <td>0.626229</td>\n",
       "      <td>0.659148</td>\n",
       "      <td>0.649469</td>\n",
       "      <td>0.643105</td>\n",
       "      <td>0.571429</td>\n",
       "      <td>0.632653</td>\n",
       "      <td>0.622222</td>\n",
       "      <td>0.820513</td>\n",
       "      <td>0.713178</td>\n",
       "      <td>0.559322</td>\n",
       "      <td>0.464286</td>\n",
       "    </tr>\n",
       "  </tbody>\n",
       "</table><p>"
      ],
      "text/plain": [
       "<IPython.core.display.HTML object>"
      ]
     },
     "metadata": {},
     "output_type": "display_data"
    },
    {
     "data": {
      "application/vnd.jupyter.widget-view+json": {
       "model_id": "b13ee5fe7f2d44eca8e79432d100c55b",
       "version_major": 2,
       "version_minor": 0
      },
      "text/plain": [
       "Upload 3 LFS files:   0%|          | 0/3 [00:00<?, ?it/s]"
      ]
     },
     "metadata": {},
     "output_type": "display_data"
    },
    {
     "data": {
      "application/vnd.jupyter.widget-view+json": {
       "model_id": "f2a7aa49962a46178819bd742b1f7a40",
       "version_major": 2,
       "version_minor": 0
      },
      "text/plain": [
       "events.out.tfevents.1736775914.5f2e6c9c6f3a.5626.8:   0%|          | 0.00/11.3k [00:00<?, ?B/s]"
      ]
     },
     "metadata": {},
     "output_type": "display_data"
    },
    {
     "data": {
      "application/vnd.jupyter.widget-view+json": {
       "model_id": "ec0af75e2f584f11a5bede424fd8e99f",
       "version_major": 2,
       "version_minor": 0
      },
      "text/plain": [
       "model.safetensors:   0%|          | 0.00/499M [00:00<?, ?B/s]"
      ]
     },
     "metadata": {},
     "output_type": "display_data"
    },
    {
     "data": {
      "application/vnd.jupyter.widget-view+json": {
       "model_id": "938c28c9851149ea8646315ef30ddc76",
       "version_major": 2,
       "version_minor": 0
      },
      "text/plain": [
       "training_args.bin:   0%|          | 0.00/5.37k [00:00<?, ?B/s]"
      ]
     },
     "metadata": {},
     "output_type": "display_data"
    },
    {
     "data": {
      "text/html": [
       "\n",
       "    <div>\n",
       "      \n",
       "      <progress value='183' max='183' style='width:300px; height:20px; vertical-align: middle;'></progress>\n",
       "      [183/183 00:01]\n",
       "    </div>\n",
       "    "
      ],
      "text/plain": [
       "<IPython.core.display.HTML object>"
      ]
     },
     "metadata": {},
     "output_type": "display_data"
    },
    {
     "name": "stdout",
     "output_type": "stream",
     "text": [
      "Evaluation to copy:\n",
      "0.6232560071995624\t0.644918444165621\t0.6377842823215462\t0.628675799086758\t0.6346153846153846\t0.4946236559139785\t0.6947368421052632\t0.7448979591836735\t0.6829268292682927\t0.59375\t0.5172413793103449\n",
      "\n",
      "Evaluation full results:\n",
      "{'epoch': 2.0,\n",
      " 'eval_f1_label_biasa': 0.5172413793103449,\n",
      " 'eval_f1_label_jijik': 0.4946236559139785,\n",
      " 'eval_f1_label_marah': 0.6346153846153846,\n",
      " 'eval_f1_label_sedih': 0.6829268292682927,\n",
      " 'eval_f1_label_senang': 0.7448979591836735,\n",
      " 'eval_f1_label_takut': 0.6947368421052632,\n",
      " 'eval_f1_label_terkejut': 0.59375,\n",
      " 'eval_f1_macro': 0.6232560071995624,\n",
      " 'eval_f1_micro': 0.644918444165621,\n",
      " 'eval_f1_samples': 0.628675799086758,\n",
      " 'eval_f1_weighted': 0.6377842823215462,\n",
      " 'eval_loss': 0.30483126640319824,\n",
      " 'eval_runtime': 1.9022,\n",
      " 'eval_samples_per_second': 191.885,\n",
      " 'eval_steps_per_second': 96.205}\n"
     ]
    }
   ],
   "source": [
    "for num_epochs in num_epochs_list:\n",
    "    project_name = f'RoBERTa-Base-SE2025T11A-{lang}-v{datetime.now().strftime(\"%Y%m%d%H%M%S\")}'\n",
    "\n",
    "    print(\"=\" * 64)\n",
    "    print(f\"NUM_EPOCHS: {num_epochs}\")\n",
    "    print(f\"PROJECT_NAME: {project_name}\")\n",
    "    print(\"=\" * 64)\n",
    "\n",
    "    # MODEL\n",
    "    # model = AutoModelForSequenceClassification.from_pretrained(\n",
    "    #     hf_model_id, \n",
    "    #     num_labels=len(emotion_cols),\n",
    "    #     id2label=id2class, \n",
    "    #     label2id=class2id,\n",
    "    #     problem_type = \"multi_label_classification\",\n",
    "    # )\n",
    "\n",
    "    # ================================ \n",
    "    # TRANSFER LEARNING \n",
    "    # ================================\n",
    "    model = AutoModelForSequenceClassification.from_pretrained(\n",
    "        hf_model_id, \n",
    "        # num_labels=len(emotion_cols),\n",
    "        # id2label=id2class, \n",
    "        # label2id=class2id,\n",
    "        problem_type = \"multi_label_classification\",\n",
    "    )\n",
    "    # print(model.classifier)\n",
    "\n",
    "    model.classifier.out_proj = torch.nn.Linear(in_features=768, out_features=len(emotion_cols), bias=True)\n",
    "    # print(model.classifier)\n",
    "\n",
    "    model.config._name_or_path = 'alxxtexxr/' + project_name\n",
    "    model.config.num_labels = len(emotion_cols)\n",
    "    model.config.id2label = id2class\n",
    "    model.config.label2id = class2id\n",
    "\n",
    "    # Freeze the rest of the layers for transfer learning\n",
    "    # for param in model.parameters():\n",
    "    #     param.requires_grad = False\n",
    "\n",
    "    # TRAINING\n",
    "    train_args = TrainingArguments(\n",
    "        # Training config\n",
    "        per_device_train_batch_size=2,\n",
    "        num_train_epochs=num_epochs,\n",
    "        learning_rate=2e-5,\n",
    "        weight_decay=0.01,\n",
    "\n",
    "        # Logging config for training\n",
    "        logging_strategy='steps',\n",
    "        logging_steps=100,\n",
    "\n",
    "        # Evaluation config during training\n",
    "        per_device_eval_batch_size=2,\n",
    "        # eval_strategy='steps',\n",
    "        # eval_steps=100,\n",
    "        eval_strategy='epoch',\n",
    "        eval_steps=1,\n",
    "\n",
    "        # Model saving config\n",
    "        output_dir=project_name,\n",
    "        save_strategy='epoch',\n",
    "        save_steps=save_steps,\n",
    "        load_best_model_at_end=True,\n",
    "    )\n",
    "\n",
    "    trainer = Trainer(\n",
    "        model=model,\n",
    "        args=train_args,\n",
    "        train_dataset=tokenized_datasets['train'],\n",
    "        eval_dataset=tokenized_datasets['val'],\n",
    "        processing_class=tokenizer,\n",
    "        data_collator=data_collator,\n",
    "        compute_metrics=compute_metrics,\n",
    "    )\n",
    "\n",
    "    trainer.train()\n",
    "    trainer.push_to_hub()\n",
    "\n",
    "    # EVALUATION\n",
    "    eval = trainer.evaluate(eval_dataset=tokenized_datasets['test'])\n",
    "\n",
    "    print(\"Evaluation to copy:\")\n",
    "    f1_keys = [eval_key for eval_key in eval.keys() if 'f1' in eval_key]\n",
    "    for i, k in enumerate(f1_keys): print(eval[k], end=\"\\t\" if i + 1 < len(f1_keys) else \"\")\n",
    "    print()\n",
    "    print()\n",
    "    print(\"Evaluation full results:\")\n",
    "    pprint(eval)"
   ]
  },
  {
   "cell_type": "markdown",
   "metadata": {},
   "source": [
    "# Evaluation"
   ]
  },
  {
   "cell_type": "code",
   "execution_count": 13,
   "metadata": {},
   "outputs": [],
   "source": [
    "# eval = trainer.evaluate(eval_dataset=tokenized_datasets['test'])\n",
    "\n",
    "# print(\"Evaluation to copy:\")\n",
    "# f1_keys = [eval_key for eval_key in eval.keys() if 'f1' in eval_key]\n",
    "# for i, k in enumerate(f1_keys): print(eval[k], end=\"\\t\" if i + 1 < len(f1_keys) else \"\")\n",
    "# print()\n",
    "# print()\n",
    "# print(\"Evaluation full results:\")\n",
    "# pprint(eval)"
   ]
  },
  {
   "cell_type": "markdown",
   "metadata": {},
   "source": [
    "# Inference"
   ]
  },
  {
   "cell_type": "code",
   "execution_count": 14,
   "metadata": {},
   "outputs": [
    {
     "name": "stdout",
     "output_type": "stream",
     "text": [
      "Text: Abdi hanjakal pisan\n",
      "True emotion(s): sedih\n",
      "Predicted emotion(s): sedih\n"
     ]
    }
   ],
   "source": [
    "data = datasets['val'][1]\n",
    "text = data['text']\n",
    "emotion_true = data['emotion']\n",
    "\n",
    "inputs = tokenizer(text, return_tensors='pt').to(model.device)\n",
    "\n",
    "outputs = trainer.model(**inputs)\n",
    "logits = outputs.logits\n",
    "probs = sigmoid(logits.squeeze().detach().cpu().numpy()) # apply sigmoid + threshold\n",
    "labels_pred = (probs > 0.5).astype(int)\n",
    "emotion_pred = [id2class[idx] for idx, label in enumerate(labels_pred) if label == 1.0] # turn predicted id's into actual label names\n",
    "\n",
    "print(\"Text:\", text)\n",
    "print(\"True emotion(s):\", emotion_true)\n",
    "print(\"Predicted emotion(s):\", \", \".join(emotion_pred))"
   ]
  }
 ],
 "metadata": {
  "kernelspec": {
   "display_name": "Python 3",
   "language": "python",
   "name": "python3"
  }
 },
 "nbformat": 4,
 "nbformat_minor": 2
}

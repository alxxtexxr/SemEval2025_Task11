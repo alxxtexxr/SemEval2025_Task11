{
 "cells": [
  {
   "cell_type": "markdown",
   "metadata": {},
   "source": [
    "### References\n",
    "- Multi-Label Classification Model From Scratch: Step-by-Step Tutorial (https://huggingface.co/blog/Valerii-Knowledgator/multi-label-classification)\n",
    "- https://github.com/NielsRogge/Transformers-Tutorials/blob/master/BERT/Fine_tuning_BERT_(and_friends)_for_multi_label_text_classification.ipynb\n",
    "- https://github.com/huggingface/notebooks/blob/main/examples/text_classification.ipynb"
   ]
  },
  {
   "cell_type": "markdown",
   "metadata": {},
   "source": [
    "# Libraries"
   ]
  },
  {
   "cell_type": "code",
   "execution_count": 1,
   "metadata": {},
   "outputs": [],
   "source": [
    "%pip install -q -U datasets transformers accelerate sentencepiece"
   ]
  },
  {
   "cell_type": "code",
   "execution_count": 2,
   "metadata": {},
   "outputs": [],
   "source": [
    "import os\n",
    "import random\n",
    "import numpy as np\n",
    "import torch\n",
    "import transformers\n",
    "from pprint import pprint\n",
    "from datetime import datetime\n",
    "from datasets import load_dataset\n",
    "from transformers import AutoModelForSequenceClassification, AutoTokenizer, DataCollatorWithPadding, Trainer, TrainingArguments\n",
    "from sklearn.metrics import f1_score"
   ]
  },
  {
   "cell_type": "markdown",
   "metadata": {},
   "source": [
    "# Config"
   ]
  },
  {
   "cell_type": "code",
   "execution_count": 4,
   "metadata": {},
   "outputs": [
    {
     "name": "stdout",
     "output_type": "stream",
     "text": [
      "Project name: RoBERTa-Base-SE2025T11A-sun-v20250111112049\n"
     ]
    }
   ],
   "source": [
    "seed = 42\n",
    "lang = 'sun'\n",
    "project_name = f'RoBERTa-Base-SE2025T11A-{lang}-v{datetime.now().strftime(\"%Y%m%d%H%M%S\")}'\n",
    "print(\"Project name:\", project_name)\n",
    "\n",
    "# hf_model_id = 'bhadresh-savani/roberta-base-emotion'\n",
    "# hf_model_id = 'bhadresh-savani/bert-base-uncased-emotion'\n",
    "# hf_model_id = 'w11wo/sundanese-bert-base-emotion-classifier'\n",
    "hf_model_id = 'w11wo/sundanese-roberta-base-emotion-classifier'\n",
    "# hf_model_id = 'w11wo/sundanese-roberta-base'\n",
    "# hf_model_id = 'alxxtexxr/XLM-RoBERTa-Base-Sundanese-Emotion-Classifier-v20241222170134'\n",
    "hf_tokenizer_id = hf_model_id\n",
    "hf_data_id = 'alxxtexxr/SemEval2025-Task11-Dataset'\n",
    "# hf_data_config = 'track_a_sun_70_15_15_stratify_v2'\n",
    "hf_data_config = 'track_a_sun_go_emotions_80_10_10'\n",
    "# hf_data_config = 'track_a_sun_go_emotions_70_15_15_balanced'\n",
    "\n",
    "num_epochs = 2"
   ]
  },
  {
   "cell_type": "code",
   "execution_count": 5,
   "metadata": {},
   "outputs": [
    {
     "name": "stdout",
     "output_type": "stream",
     "text": [
      "Random seed set to: 42\n"
     ]
    }
   ],
   "source": [
    "def set_seed(seed):\n",
    "    # Set random seed for NumPy\n",
    "    np.random.seed(seed)\n",
    "\n",
    "    # Set random seed for Torch\n",
    "    torch.manual_seed(seed)\n",
    "    torch.cuda.manual_seed(seed)\n",
    "    torch.cuda.manual_seed_all(seed)  # if using multi-GPU\n",
    "    torch.backends.cudnn.deterministic = True  # Ensures deterministic results\n",
    "    torch.backends.cudnn.benchmark = False  # Avoids non-deterministic algorithms\n",
    "\n",
    "    # Set random seed for Transformers\n",
    "    transformers.set_seed(seed)\n",
    "\n",
    "    # Optionally set random seed for sklearn and Python's own random module\n",
    "    random.seed(seed)\n",
    "\n",
    "    # Set random seed for os\n",
    "    os.environ['PYTHONHASHSEED'] = str(seed)\n",
    "\n",
    "    print(f\"Random seed set to: {seed}\")\n",
    "\n",
    "set_seed(seed)"
   ]
  },
  {
   "cell_type": "markdown",
   "metadata": {},
   "source": [
    "# Data"
   ]
  },
  {
   "cell_type": "markdown",
   "metadata": {},
   "source": [
    "## Load Data"
   ]
  },
  {
   "cell_type": "code",
   "execution_count": 6,
   "metadata": {},
   "outputs": [
    {
     "name": "stderr",
     "output_type": "stream",
     "text": [
      "/usr/local/lib/python3.10/dist-packages/huggingface_hub/utils/_auth.py:104: UserWarning: \n",
      "Error while fetching `HF_TOKEN` secret value from your vault: 'Requesting secret HF_TOKEN timed out. Secrets can only be fetched when running from the Colab UI.'.\n",
      "You are not authenticated with the Hugging Face Hub in this notebook.\n",
      "If the error persists, please let us know by opening an issue on GitHub (https://github.com/huggingface/huggingface_hub/issues/new).\n",
      "  warnings.warn(\n"
     ]
    },
    {
     "name": "stdout",
     "output_type": "stream",
     "text": [
      "Data columns: ['text', 'emotion', 'marah', 'jijik', 'takut', 'senang', 'sedih', 'terkejut', 'biasa', 'aug_go_emotions', 'stratify']\n",
      "Emotions columns: ['marah', 'jijik', 'takut', 'senang', 'sedih', 'terkejut', 'biasa']\n"
     ]
    }
   ],
   "source": [
    "datasets = load_dataset(hf_data_id, hf_data_config)\n",
    "\n",
    "cols = list(datasets['train'].features)\n",
    "emotion_cols = [col for col in cols if col not in ['Unnamed: 0', 'text', 'emotion', 'stratify', 'aug_go_emotions']]\n",
    "splits = [*datasets.keys()]\n",
    "\n",
    "print(\"Data columns:\", cols)\n",
    "print(\"Emotions columns:\", emotion_cols)"
   ]
  },
  {
   "cell_type": "code",
   "execution_count": 7,
   "metadata": {},
   "outputs": [
    {
     "name": "stdout",
     "output_type": "stream",
     "text": [
      "Class to ID:\n",
      "{'biasa': 6,\n",
      " 'jijik': 1,\n",
      " 'marah': 0,\n",
      " 'sedih': 4,\n",
      " 'senang': 3,\n",
      " 'takut': 2,\n",
      " 'terkejut': 5}\n",
      "\n",
      "ID to Class:\n",
      "{0: 'marah',\n",
      " 1: 'jijik',\n",
      " 2: 'takut',\n",
      " 3: 'senang',\n",
      " 4: 'sedih',\n",
      " 5: 'terkejut',\n",
      " 6: 'biasa'}\n"
     ]
    }
   ],
   "source": [
    "class2id = {class_:id for id, class_ in enumerate(emotion_cols)}\n",
    "id2class = {id:class_ for class_, id in class2id.items()}\n",
    "\n",
    "print(\"Class to ID:\")\n",
    "pprint(class2id, width=1)\n",
    "print()\n",
    "print(\"ID to Class:\")\n",
    "pprint(id2class, width=1)"
   ]
  },
  {
   "cell_type": "markdown",
   "metadata": {},
   "source": [
    "## Preprocess Data"
   ]
  },
  {
   "cell_type": "code",
   "execution_count": 8,
   "metadata": {},
   "outputs": [],
   "source": [
    "tokenizer = AutoTokenizer.from_pretrained(hf_tokenizer_id)"
   ]
  },
  {
   "cell_type": "code",
   "execution_count": 9,
   "metadata": {},
   "outputs": [
    {
     "data": {
      "application/vnd.jupyter.widget-view+json": {
       "model_id": "b48eb42d22504fd1bfcef7644b0ea0b0",
       "version_major": 2,
       "version_minor": 0
      },
      "text/plain": [
       "Map:   0%|          | 0/3599 [00:00<?, ? examples/s]"
      ]
     },
     "metadata": {},
     "output_type": "display_data"
    },
    {
     "name": "stderr",
     "output_type": "stream",
     "text": [
      "Asking to truncate to max_length but no maximum length is provided and the model has no predefined maximum length. Default to no truncation.\n"
     ]
    },
    {
     "data": {
      "application/vnd.jupyter.widget-view+json": {
       "model_id": "312eeb3986f0421a98b911b90f30a8f2",
       "version_major": 2,
       "version_minor": 0
      },
      "text/plain": [
       "Map:   0%|          | 0/406 [00:00<?, ? examples/s]"
      ]
     },
     "metadata": {},
     "output_type": "display_data"
    },
    {
     "data": {
      "application/vnd.jupyter.widget-view+json": {
       "model_id": "4f804878f271444aa4ed7f3c076735b4",
       "version_major": 2,
       "version_minor": 0
      },
      "text/plain": [
       "Map:   0%|          | 0/406 [00:00<?, ? examples/s]"
      ]
     },
     "metadata": {},
     "output_type": "display_data"
    }
   ],
   "source": [
    "def one_hot_encode_emotion(emotion, emotion_cols):\n",
    "    emotions = emotion.replace(\" \", \"\").split(\",\")\n",
    "    one_hot_emotion = [1.0 if emotion_col in emotions else 0.0 for emotion_col in emotion_cols] # Ensure that the label is float, not int\n",
    "    return one_hot_emotion\n",
    "\n",
    "def preprocess_function(data):\n",
    "   text = data['text']\n",
    "   emotion = data['emotion']\n",
    "   labels = one_hot_encode_emotion(emotion, emotion_cols)\n",
    "   data = tokenizer(text, truncation=True)\n",
    "   data['labels'] = labels\n",
    "   return data\n",
    "\n",
    "tokenized_datasets = {split: datasets[split].map(preprocess_function) for split in splits}"
   ]
  },
  {
   "cell_type": "code",
   "execution_count": 10,
   "metadata": {},
   "outputs": [
    {
     "name": "stdout",
     "output_type": "stream",
     "text": [
      "Text: A fiksi ieu lokasi di sekeloa nya?\n",
      "Emotion(s): senang\n",
      "Labels: [0.0, 0.0, 0.0, 1.0, 0.0, 0.0, 0.0] --> ['marah', 'jijik', 'takut', 'senang', 'sedih', 'terkejut', 'biasa']\n"
     ]
    }
   ],
   "source": [
    "# Sanity check\n",
    "data = tokenized_datasets['train'][5]\n",
    "\n",
    "print(\"Text:\", data['text'])\n",
    "print(\"Emotion(s):\", data['emotion'])\n",
    "print(\"Labels:\", data['labels'], '-->', emotion_cols)"
   ]
  },
  {
   "cell_type": "code",
   "execution_count": 11,
   "metadata": {},
   "outputs": [],
   "source": [
    "data_collator = DataCollatorWithPadding(tokenizer)"
   ]
  },
  {
   "cell_type": "markdown",
   "metadata": {},
   "source": [
    "# Model"
   ]
  },
  {
   "cell_type": "code",
   "execution_count": 12,
   "metadata": {},
   "outputs": [
    {
     "name": "stdout",
     "output_type": "stream",
     "text": [
      "RobertaClassificationHead(\n",
      "  (dense): Linear(in_features=768, out_features=768, bias=True)\n",
      "  (dropout): Dropout(p=0.1, inplace=False)\n",
      "  (out_proj): Linear(in_features=768, out_features=4, bias=True)\n",
      ")\n",
      "RobertaClassificationHead(\n",
      "  (dense): Linear(in_features=768, out_features=768, bias=True)\n",
      "  (dropout): Dropout(p=0.1, inplace=False)\n",
      "  (out_proj): Linear(in_features=768, out_features=7, bias=True)\n",
      ")\n"
     ]
    }
   ],
   "source": [
    "# model = AutoModelForSequenceClassification.from_pretrained(\n",
    "#     hf_model_id, \n",
    "#     num_labels=len(emotion_cols),\n",
    "#     id2label=id2class, \n",
    "#     label2id=class2id,\n",
    "#     problem_type = \"multi_label_classification\",\n",
    "# )\n",
    "\n",
    "################ TRANSFER LEARNING ################\n",
    "model = AutoModelForSequenceClassification.from_pretrained(\n",
    "    hf_model_id, \n",
    "    # num_labels=len(emotion_cols),\n",
    "    # id2label=id2class, \n",
    "    # label2id=class2id,\n",
    "    problem_type = \"multi_label_classification\",\n",
    ")\n",
    "print(model.classifier)\n",
    "\n",
    "model.classifier.out_proj = torch.nn.Linear(in_features=768, out_features=len(emotion_cols), bias=True)\n",
    "print(model.classifier)\n",
    "\n",
    "# Freeze the rest of the layers for transfer learning\n",
    "# for param in model.parameters():\n",
    "#     param.requires_grad = False"
   ]
  },
  {
   "cell_type": "markdown",
   "metadata": {},
   "source": [
    "# Finetuning"
   ]
  },
  {
   "cell_type": "code",
   "execution_count": 13,
   "metadata": {},
   "outputs": [],
   "source": [
    "def sigmoid(x):\n",
    "   return 1/(1 + np.exp(-x))\n",
    "\n",
    "def compute_metrics(eval_pred):\n",
    "    predictions, labels = eval_pred\n",
    "    probs = sigmoid(predictions)\n",
    "    y_pred = (probs > 0.5).astype(int)\n",
    "    y_true = labels.astype(int)\n",
    "\n",
    "    # Compute F1 score for each type of averaging method\n",
    "    f1_micro = f1_score(y_true, y_pred, average='micro', zero_division=0.0)\n",
    "    f1_macro = f1_score(y_true, y_pred, average='macro', zero_division=0.0)\n",
    "    f1_weighted = f1_score(y_true, y_pred, average='weighted', zero_division=0.0)\n",
    "    f1_samples = f1_score(y_true, y_pred, average='samples', zero_division=0.0)\n",
    "    f1_labels = f1_score(y_true, y_pred, average=None, zero_division=0.0)\n",
    "    f1_labels_dict = {f'f1_label_{emotion_cols[i]}': f1_labels[i] for i in range(len(f1_labels))}\n",
    "\n",
    "    return {\n",
    "        'f1_macro': f1_macro,\n",
    "        'f1_micro': f1_micro,\n",
    "        'f1_weighted': f1_weighted,\n",
    "        'f1_samples': f1_samples,\n",
    "        **f1_labels_dict,\n",
    "    }"
   ]
  },
  {
   "cell_type": "code",
   "execution_count": 14,
   "metadata": {},
   "outputs": [
    {
     "name": "stderr",
     "output_type": "stream",
     "text": [
      "<ipython-input-14-dc5948f208f6>:23: FutureWarning: `tokenizer` is deprecated and will be removed in version 5.0.0 for `Trainer.__init__`. Use `processing_class` instead.\n",
      "  trainer = Trainer(\n"
     ]
    }
   ],
   "source": [
    "train_args = TrainingArguments(\n",
    "    # Training config\n",
    "    per_device_train_batch_size=2,\n",
    "    num_train_epochs=num_epochs,\n",
    "    learning_rate=2e-5,\n",
    "    weight_decay=0.01,\n",
    "\n",
    "    # Logging config for training\n",
    "    logging_strategy='steps',\n",
    "    logging_steps=100,\n",
    "\n",
    "    # Evaluation config during training\n",
    "    per_device_eval_batch_size=2,\n",
    "    eval_strategy='steps',\n",
    "    eval_steps=100,\n",
    "\n",
    "    # Model saving config\n",
    "    output_dir=project_name,\n",
    "    save_strategy='epoch',\n",
    "    # load_best_model_at_end=True,\n",
    ")\n",
    "\n",
    "trainer = Trainer(\n",
    "    model=model,\n",
    "    args=train_args,\n",
    "    train_dataset=tokenized_datasets['train'],\n",
    "    eval_dataset=tokenized_datasets['val'],\n",
    "    tokenizer=tokenizer,\n",
    "    data_collator=data_collator,\n",
    "    compute_metrics=compute_metrics,\n",
    ")"
   ]
  },
  {
   "cell_type": "code",
   "execution_count": 15,
   "metadata": {},
   "outputs": [
    {
     "name": "stderr",
     "output_type": "stream",
     "text": [
      "\u001b[34m\u001b[1mwandb\u001b[0m: \u001b[33mWARNING\u001b[0m The `run_name` is currently set to the same value as `TrainingArguments.output_dir`. If this was not intended, please specify a different run name by setting the `TrainingArguments.run_name` parameter.\n",
      "\u001b[34m\u001b[1mwandb\u001b[0m: Using wandb-core as the SDK backend.  Please refer to https://wandb.me/wandb-core for more information.\n",
      "\u001b[34m\u001b[1mwandb\u001b[0m: Currently logged in as: \u001b[33malimtegar\u001b[0m. Use \u001b[1m`wandb login --relogin`\u001b[0m to force relogin\n"
     ]
    },
    {
     "data": {
      "text/html": [
       "Tracking run with wandb version 0.19.1"
      ],
      "text/plain": [
       "<IPython.core.display.HTML object>"
      ]
     },
     "metadata": {},
     "output_type": "display_data"
    },
    {
     "data": {
      "text/html": [
       "Run data is saved locally in <code>/content/wandb/run-20250111_112132-vt15bci7</code>"
      ],
      "text/plain": [
       "<IPython.core.display.HTML object>"
      ]
     },
     "metadata": {},
     "output_type": "display_data"
    },
    {
     "data": {
      "text/html": [
       "Syncing run <strong><a href='https://wandb.ai/alimtegar/huggingface/runs/vt15bci7' target=\"_blank\">RoBERTa-Base-SE2025T11A-sun-v20250111112049</a></strong> to <a href='https://wandb.ai/alimtegar/huggingface' target=\"_blank\">Weights & Biases</a> (<a href='https://wandb.me/developer-guide' target=\"_blank\">docs</a>)<br>"
      ],
      "text/plain": [
       "<IPython.core.display.HTML object>"
      ]
     },
     "metadata": {},
     "output_type": "display_data"
    },
    {
     "data": {
      "text/html": [
       " View project at <a href='https://wandb.ai/alimtegar/huggingface' target=\"_blank\">https://wandb.ai/alimtegar/huggingface</a>"
      ],
      "text/plain": [
       "<IPython.core.display.HTML object>"
      ]
     },
     "metadata": {},
     "output_type": "display_data"
    },
    {
     "data": {
      "text/html": [
       " View run at <a href='https://wandb.ai/alimtegar/huggingface/runs/vt15bci7' target=\"_blank\">https://wandb.ai/alimtegar/huggingface/runs/vt15bci7</a>"
      ],
      "text/plain": [
       "<IPython.core.display.HTML object>"
      ]
     },
     "metadata": {},
     "output_type": "display_data"
    },
    {
     "data": {
      "text/html": [
       "\n",
       "    <div>\n",
       "      \n",
       "      <progress value='3600' max='3600' style='width:300px; height:20px; vertical-align: middle;'></progress>\n",
       "      [3600/3600 07:07, Epoch 2/2]\n",
       "    </div>\n",
       "    <table border=\"1\" class=\"dataframe\">\n",
       "  <thead>\n",
       " <tr style=\"text-align: left;\">\n",
       "      <th>Step</th>\n",
       "      <th>Training Loss</th>\n",
       "      <th>Validation Loss</th>\n",
       "      <th>F1 Macro</th>\n",
       "      <th>F1 Micro</th>\n",
       "      <th>F1 Weighted</th>\n",
       "      <th>F1 Samples</th>\n",
       "      <th>F1 Label Marah</th>\n",
       "      <th>F1 Label Jijik</th>\n",
       "      <th>F1 Label Takut</th>\n",
       "      <th>F1 Label Senang</th>\n",
       "      <th>F1 Label Sedih</th>\n",
       "      <th>F1 Label Terkejut</th>\n",
       "      <th>F1 Label Biasa</th>\n",
       "    </tr>\n",
       "  </thead>\n",
       "  <tbody>\n",
       "    <tr>\n",
       "      <td>100</td>\n",
       "      <td>0.470400</td>\n",
       "      <td>0.420481</td>\n",
       "      <td>0.066334</td>\n",
       "      <td>0.070175</td>\n",
       "      <td>0.066357</td>\n",
       "      <td>0.036711</td>\n",
       "      <td>0.072289</td>\n",
       "      <td>0.000000</td>\n",
       "      <td>0.106667</td>\n",
       "      <td>0.259740</td>\n",
       "      <td>0.000000</td>\n",
       "      <td>0.025641</td>\n",
       "      <td>0.000000</td>\n",
       "    </tr>\n",
       "    <tr>\n",
       "      <td>200</td>\n",
       "      <td>0.414000</td>\n",
       "      <td>0.371897</td>\n",
       "      <td>0.311427</td>\n",
       "      <td>0.387755</td>\n",
       "      <td>0.322333</td>\n",
       "      <td>0.269622</td>\n",
       "      <td>0.587302</td>\n",
       "      <td>0.000000</td>\n",
       "      <td>0.510638</td>\n",
       "      <td>0.728477</td>\n",
       "      <td>0.175000</td>\n",
       "      <td>0.178571</td>\n",
       "      <td>0.000000</td>\n",
       "    </tr>\n",
       "    <tr>\n",
       "      <td>300</td>\n",
       "      <td>0.368500</td>\n",
       "      <td>0.339540</td>\n",
       "      <td>0.381085</td>\n",
       "      <td>0.437592</td>\n",
       "      <td>0.397058</td>\n",
       "      <td>0.337028</td>\n",
       "      <td>0.534247</td>\n",
       "      <td>0.123457</td>\n",
       "      <td>0.417582</td>\n",
       "      <td>0.695652</td>\n",
       "      <td>0.574074</td>\n",
       "      <td>0.322581</td>\n",
       "      <td>0.000000</td>\n",
       "    </tr>\n",
       "    <tr>\n",
       "      <td>400</td>\n",
       "      <td>0.351400</td>\n",
       "      <td>0.322915</td>\n",
       "      <td>0.456515</td>\n",
       "      <td>0.517520</td>\n",
       "      <td>0.464568</td>\n",
       "      <td>0.436782</td>\n",
       "      <td>0.181818</td>\n",
       "      <td>0.450450</td>\n",
       "      <td>0.588235</td>\n",
       "      <td>0.807692</td>\n",
       "      <td>0.607407</td>\n",
       "      <td>0.440000</td>\n",
       "      <td>0.120000</td>\n",
       "    </tr>\n",
       "    <tr>\n",
       "      <td>500</td>\n",
       "      <td>0.320900</td>\n",
       "      <td>0.302480</td>\n",
       "      <td>0.522568</td>\n",
       "      <td>0.591022</td>\n",
       "      <td>0.543674</td>\n",
       "      <td>0.534483</td>\n",
       "      <td>0.637363</td>\n",
       "      <td>0.247191</td>\n",
       "      <td>0.642202</td>\n",
       "      <td>0.802817</td>\n",
       "      <td>0.704918</td>\n",
       "      <td>0.581818</td>\n",
       "      <td>0.041667</td>\n",
       "    </tr>\n",
       "    <tr>\n",
       "      <td>600</td>\n",
       "      <td>0.325900</td>\n",
       "      <td>0.285919</td>\n",
       "      <td>0.643190</td>\n",
       "      <td>0.652074</td>\n",
       "      <td>0.645190</td>\n",
       "      <td>0.633415</td>\n",
       "      <td>0.626667</td>\n",
       "      <td>0.560606</td>\n",
       "      <td>0.672727</td>\n",
       "      <td>0.807947</td>\n",
       "      <td>0.736000</td>\n",
       "      <td>0.560748</td>\n",
       "      <td>0.537634</td>\n",
       "    </tr>\n",
       "    <tr>\n",
       "      <td>700</td>\n",
       "      <td>0.283200</td>\n",
       "      <td>0.284230</td>\n",
       "      <td>0.595799</td>\n",
       "      <td>0.623786</td>\n",
       "      <td>0.599074</td>\n",
       "      <td>0.584565</td>\n",
       "      <td>0.602941</td>\n",
       "      <td>0.282828</td>\n",
       "      <td>0.754098</td>\n",
       "      <td>0.816901</td>\n",
       "      <td>0.642857</td>\n",
       "      <td>0.644737</td>\n",
       "      <td>0.426230</td>\n",
       "    </tr>\n",
       "    <tr>\n",
       "      <td>800</td>\n",
       "      <td>0.285700</td>\n",
       "      <td>0.261476</td>\n",
       "      <td>0.671591</td>\n",
       "      <td>0.666667</td>\n",
       "      <td>0.667152</td>\n",
       "      <td>0.644089</td>\n",
       "      <td>0.641791</td>\n",
       "      <td>0.565789</td>\n",
       "      <td>0.730435</td>\n",
       "      <td>0.765625</td>\n",
       "      <td>0.689655</td>\n",
       "      <td>0.610169</td>\n",
       "      <td>0.697674</td>\n",
       "    </tr>\n",
       "    <tr>\n",
       "      <td>900</td>\n",
       "      <td>0.293300</td>\n",
       "      <td>0.251445</td>\n",
       "      <td>0.693945</td>\n",
       "      <td>0.695150</td>\n",
       "      <td>0.690869</td>\n",
       "      <td>0.680213</td>\n",
       "      <td>0.716981</td>\n",
       "      <td>0.560606</td>\n",
       "      <td>0.678899</td>\n",
       "      <td>0.823529</td>\n",
       "      <td>0.721311</td>\n",
       "      <td>0.650407</td>\n",
       "      <td>0.705882</td>\n",
       "    </tr>\n",
       "    <tr>\n",
       "      <td>1000</td>\n",
       "      <td>0.280500</td>\n",
       "      <td>0.242011</td>\n",
       "      <td>0.710204</td>\n",
       "      <td>0.710648</td>\n",
       "      <td>0.704879</td>\n",
       "      <td>0.701478</td>\n",
       "      <td>0.661538</td>\n",
       "      <td>0.596774</td>\n",
       "      <td>0.745763</td>\n",
       "      <td>0.826087</td>\n",
       "      <td>0.735294</td>\n",
       "      <td>0.661290</td>\n",
       "      <td>0.744681</td>\n",
       "    </tr>\n",
       "    <tr>\n",
       "      <td>1100</td>\n",
       "      <td>0.263700</td>\n",
       "      <td>0.251251</td>\n",
       "      <td>0.691579</td>\n",
       "      <td>0.694444</td>\n",
       "      <td>0.690439</td>\n",
       "      <td>0.684729</td>\n",
       "      <td>0.719512</td>\n",
       "      <td>0.590909</td>\n",
       "      <td>0.690909</td>\n",
       "      <td>0.702703</td>\n",
       "      <td>0.784314</td>\n",
       "      <td>0.650000</td>\n",
       "      <td>0.702703</td>\n",
       "    </tr>\n",
       "    <tr>\n",
       "      <td>1200</td>\n",
       "      <td>0.279800</td>\n",
       "      <td>0.229201</td>\n",
       "      <td>0.725635</td>\n",
       "      <td>0.729574</td>\n",
       "      <td>0.724693</td>\n",
       "      <td>0.719622</td>\n",
       "      <td>0.741722</td>\n",
       "      <td>0.588235</td>\n",
       "      <td>0.752137</td>\n",
       "      <td>0.827068</td>\n",
       "      <td>0.762590</td>\n",
       "      <td>0.707692</td>\n",
       "      <td>0.700000</td>\n",
       "    </tr>\n",
       "    <tr>\n",
       "      <td>1300</td>\n",
       "      <td>0.308100</td>\n",
       "      <td>0.221805</td>\n",
       "      <td>0.739907</td>\n",
       "      <td>0.742529</td>\n",
       "      <td>0.737525</td>\n",
       "      <td>0.734811</td>\n",
       "      <td>0.736842</td>\n",
       "      <td>0.593220</td>\n",
       "      <td>0.736842</td>\n",
       "      <td>0.830769</td>\n",
       "      <td>0.786207</td>\n",
       "      <td>0.751880</td>\n",
       "      <td>0.743590</td>\n",
       "    </tr>\n",
       "    <tr>\n",
       "      <td>1400</td>\n",
       "      <td>0.231600</td>\n",
       "      <td>0.214902</td>\n",
       "      <td>0.760156</td>\n",
       "      <td>0.762222</td>\n",
       "      <td>0.760679</td>\n",
       "      <td>0.764614</td>\n",
       "      <td>0.779874</td>\n",
       "      <td>0.701299</td>\n",
       "      <td>0.736842</td>\n",
       "      <td>0.840580</td>\n",
       "      <td>0.775194</td>\n",
       "      <td>0.757576</td>\n",
       "      <td>0.729730</td>\n",
       "    </tr>\n",
       "    <tr>\n",
       "      <td>1500</td>\n",
       "      <td>0.272600</td>\n",
       "      <td>0.209670</td>\n",
       "      <td>0.767704</td>\n",
       "      <td>0.768018</td>\n",
       "      <td>0.763432</td>\n",
       "      <td>0.772167</td>\n",
       "      <td>0.732824</td>\n",
       "      <td>0.693878</td>\n",
       "      <td>0.730435</td>\n",
       "      <td>0.863014</td>\n",
       "      <td>0.827586</td>\n",
       "      <td>0.721311</td>\n",
       "      <td>0.804878</td>\n",
       "    </tr>\n",
       "    <tr>\n",
       "      <td>1600</td>\n",
       "      <td>0.266100</td>\n",
       "      <td>0.195607</td>\n",
       "      <td>0.779593</td>\n",
       "      <td>0.780652</td>\n",
       "      <td>0.777923</td>\n",
       "      <td>0.783662</td>\n",
       "      <td>0.816327</td>\n",
       "      <td>0.666667</td>\n",
       "      <td>0.777778</td>\n",
       "      <td>0.844444</td>\n",
       "      <td>0.778626</td>\n",
       "      <td>0.782609</td>\n",
       "      <td>0.790698</td>\n",
       "    </tr>\n",
       "    <tr>\n",
       "      <td>1700</td>\n",
       "      <td>0.264700</td>\n",
       "      <td>0.183310</td>\n",
       "      <td>0.814114</td>\n",
       "      <td>0.811594</td>\n",
       "      <td>0.808890</td>\n",
       "      <td>0.819704</td>\n",
       "      <td>0.851351</td>\n",
       "      <td>0.723077</td>\n",
       "      <td>0.790698</td>\n",
       "      <td>0.857143</td>\n",
       "      <td>0.812030</td>\n",
       "      <td>0.765625</td>\n",
       "      <td>0.898876</td>\n",
       "    </tr>\n",
       "    <tr>\n",
       "      <td>1800</td>\n",
       "      <td>0.214900</td>\n",
       "      <td>0.183740</td>\n",
       "      <td>0.794920</td>\n",
       "      <td>0.794216</td>\n",
       "      <td>0.790395</td>\n",
       "      <td>0.812397</td>\n",
       "      <td>0.768116</td>\n",
       "      <td>0.736842</td>\n",
       "      <td>0.741379</td>\n",
       "      <td>0.848921</td>\n",
       "      <td>0.859259</td>\n",
       "      <td>0.755556</td>\n",
       "      <td>0.854369</td>\n",
       "    </tr>\n",
       "    <tr>\n",
       "      <td>1900</td>\n",
       "      <td>0.177400</td>\n",
       "      <td>0.179793</td>\n",
       "      <td>0.818012</td>\n",
       "      <td>0.817372</td>\n",
       "      <td>0.813345</td>\n",
       "      <td>0.830460</td>\n",
       "      <td>0.847222</td>\n",
       "      <td>0.708661</td>\n",
       "      <td>0.803279</td>\n",
       "      <td>0.853147</td>\n",
       "      <td>0.859259</td>\n",
       "      <td>0.765625</td>\n",
       "      <td>0.888889</td>\n",
       "    </tr>\n",
       "    <tr>\n",
       "      <td>2000</td>\n",
       "      <td>0.170600</td>\n",
       "      <td>0.179527</td>\n",
       "      <td>0.808780</td>\n",
       "      <td>0.805310</td>\n",
       "      <td>0.802225</td>\n",
       "      <td>0.819294</td>\n",
       "      <td>0.750000</td>\n",
       "      <td>0.736842</td>\n",
       "      <td>0.813008</td>\n",
       "      <td>0.865248</td>\n",
       "      <td>0.835821</td>\n",
       "      <td>0.771654</td>\n",
       "      <td>0.888889</td>\n",
       "    </tr>\n",
       "    <tr>\n",
       "      <td>2100</td>\n",
       "      <td>0.181300</td>\n",
       "      <td>0.166284</td>\n",
       "      <td>0.826496</td>\n",
       "      <td>0.826135</td>\n",
       "      <td>0.823547</td>\n",
       "      <td>0.843021</td>\n",
       "      <td>0.878378</td>\n",
       "      <td>0.785714</td>\n",
       "      <td>0.793388</td>\n",
       "      <td>0.861314</td>\n",
       "      <td>0.830769</td>\n",
       "      <td>0.755906</td>\n",
       "      <td>0.880000</td>\n",
       "    </tr>\n",
       "    <tr>\n",
       "      <td>2200</td>\n",
       "      <td>0.182400</td>\n",
       "      <td>0.160362</td>\n",
       "      <td>0.824602</td>\n",
       "      <td>0.821310</td>\n",
       "      <td>0.818940</td>\n",
       "      <td>0.838259</td>\n",
       "      <td>0.834532</td>\n",
       "      <td>0.794702</td>\n",
       "      <td>0.793388</td>\n",
       "      <td>0.869565</td>\n",
       "      <td>0.800000</td>\n",
       "      <td>0.763359</td>\n",
       "      <td>0.916667</td>\n",
       "    </tr>\n",
       "    <tr>\n",
       "      <td>2300</td>\n",
       "      <td>0.192700</td>\n",
       "      <td>0.160728</td>\n",
       "      <td>0.827707</td>\n",
       "      <td>0.827051</td>\n",
       "      <td>0.824199</td>\n",
       "      <td>0.839901</td>\n",
       "      <td>0.861111</td>\n",
       "      <td>0.740157</td>\n",
       "      <td>0.806202</td>\n",
       "      <td>0.869565</td>\n",
       "      <td>0.854962</td>\n",
       "      <td>0.781955</td>\n",
       "      <td>0.880000</td>\n",
       "    </tr>\n",
       "    <tr>\n",
       "      <td>2400</td>\n",
       "      <td>0.143500</td>\n",
       "      <td>0.167940</td>\n",
       "      <td>0.821545</td>\n",
       "      <td>0.820287</td>\n",
       "      <td>0.818231</td>\n",
       "      <td>0.837767</td>\n",
       "      <td>0.814286</td>\n",
       "      <td>0.797101</td>\n",
       "      <td>0.786885</td>\n",
       "      <td>0.853147</td>\n",
       "      <td>0.846154</td>\n",
       "      <td>0.781955</td>\n",
       "      <td>0.871287</td>\n",
       "    </tr>\n",
       "    <tr>\n",
       "      <td>2500</td>\n",
       "      <td>0.157500</td>\n",
       "      <td>0.150849</td>\n",
       "      <td>0.847486</td>\n",
       "      <td>0.845564</td>\n",
       "      <td>0.843908</td>\n",
       "      <td>0.855419</td>\n",
       "      <td>0.864516</td>\n",
       "      <td>0.800000</td>\n",
       "      <td>0.806452</td>\n",
       "      <td>0.848485</td>\n",
       "      <td>0.892086</td>\n",
       "      <td>0.805970</td>\n",
       "      <td>0.914894</td>\n",
       "    </tr>\n",
       "    <tr>\n",
       "      <td>2600</td>\n",
       "      <td>0.169600</td>\n",
       "      <td>0.143927</td>\n",
       "      <td>0.848581</td>\n",
       "      <td>0.848087</td>\n",
       "      <td>0.847080</td>\n",
       "      <td>0.862479</td>\n",
       "      <td>0.857143</td>\n",
       "      <td>0.847222</td>\n",
       "      <td>0.803279</td>\n",
       "      <td>0.865672</td>\n",
       "      <td>0.865672</td>\n",
       "      <td>0.823529</td>\n",
       "      <td>0.877551</td>\n",
       "    </tr>\n",
       "    <tr>\n",
       "      <td>2700</td>\n",
       "      <td>0.188600</td>\n",
       "      <td>0.142142</td>\n",
       "      <td>0.857216</td>\n",
       "      <td>0.855895</td>\n",
       "      <td>0.853879</td>\n",
       "      <td>0.868637</td>\n",
       "      <td>0.841379</td>\n",
       "      <td>0.845070</td>\n",
       "      <td>0.789916</td>\n",
       "      <td>0.874074</td>\n",
       "      <td>0.909091</td>\n",
       "      <td>0.826087</td>\n",
       "      <td>0.914894</td>\n",
       "    </tr>\n",
       "    <tr>\n",
       "      <td>2800</td>\n",
       "      <td>0.138900</td>\n",
       "      <td>0.147886</td>\n",
       "      <td>0.844929</td>\n",
       "      <td>0.843507</td>\n",
       "      <td>0.841822</td>\n",
       "      <td>0.858374</td>\n",
       "      <td>0.823529</td>\n",
       "      <td>0.817518</td>\n",
       "      <td>0.816000</td>\n",
       "      <td>0.867647</td>\n",
       "      <td>0.888889</td>\n",
       "      <td>0.812030</td>\n",
       "      <td>0.888889</td>\n",
       "    </tr>\n",
       "    <tr>\n",
       "      <td>2900</td>\n",
       "      <td>0.173300</td>\n",
       "      <td>0.138245</td>\n",
       "      <td>0.851408</td>\n",
       "      <td>0.847682</td>\n",
       "      <td>0.846418</td>\n",
       "      <td>0.862890</td>\n",
       "      <td>0.845638</td>\n",
       "      <td>0.808824</td>\n",
       "      <td>0.816000</td>\n",
       "      <td>0.869565</td>\n",
       "      <td>0.870229</td>\n",
       "      <td>0.814815</td>\n",
       "      <td>0.934783</td>\n",
       "    </tr>\n",
       "    <tr>\n",
       "      <td>3000</td>\n",
       "      <td>0.173600</td>\n",
       "      <td>0.138592</td>\n",
       "      <td>0.850413</td>\n",
       "      <td>0.847947</td>\n",
       "      <td>0.845843</td>\n",
       "      <td>0.863629</td>\n",
       "      <td>0.840580</td>\n",
       "      <td>0.820896</td>\n",
       "      <td>0.872180</td>\n",
       "      <td>0.877698</td>\n",
       "      <td>0.818898</td>\n",
       "      <td>0.805970</td>\n",
       "      <td>0.916667</td>\n",
       "    </tr>\n",
       "    <tr>\n",
       "      <td>3100</td>\n",
       "      <td>0.150500</td>\n",
       "      <td>0.135302</td>\n",
       "      <td>0.852278</td>\n",
       "      <td>0.850549</td>\n",
       "      <td>0.848907</td>\n",
       "      <td>0.870197</td>\n",
       "      <td>0.872483</td>\n",
       "      <td>0.800000</td>\n",
       "      <td>0.854962</td>\n",
       "      <td>0.877698</td>\n",
       "      <td>0.834646</td>\n",
       "      <td>0.820896</td>\n",
       "      <td>0.905263</td>\n",
       "    </tr>\n",
       "    <tr>\n",
       "      <td>3200</td>\n",
       "      <td>0.135600</td>\n",
       "      <td>0.130793</td>\n",
       "      <td>0.857981</td>\n",
       "      <td>0.855568</td>\n",
       "      <td>0.854271</td>\n",
       "      <td>0.872660</td>\n",
       "      <td>0.859155</td>\n",
       "      <td>0.814815</td>\n",
       "      <td>0.880597</td>\n",
       "      <td>0.869565</td>\n",
       "      <td>0.837209</td>\n",
       "      <td>0.829630</td>\n",
       "      <td>0.914894</td>\n",
       "    </tr>\n",
       "    <tr>\n",
       "      <td>3300</td>\n",
       "      <td>0.141800</td>\n",
       "      <td>0.130531</td>\n",
       "      <td>0.862772</td>\n",
       "      <td>0.860619</td>\n",
       "      <td>0.859330</td>\n",
       "      <td>0.878407</td>\n",
       "      <td>0.896552</td>\n",
       "      <td>0.812030</td>\n",
       "      <td>0.863636</td>\n",
       "      <td>0.867647</td>\n",
       "      <td>0.846154</td>\n",
       "      <td>0.827068</td>\n",
       "      <td>0.926316</td>\n",
       "    </tr>\n",
       "    <tr>\n",
       "      <td>3400</td>\n",
       "      <td>0.167600</td>\n",
       "      <td>0.127657</td>\n",
       "      <td>0.867550</td>\n",
       "      <td>0.864686</td>\n",
       "      <td>0.863495</td>\n",
       "      <td>0.883333</td>\n",
       "      <td>0.882759</td>\n",
       "      <td>0.805970</td>\n",
       "      <td>0.872180</td>\n",
       "      <td>0.877698</td>\n",
       "      <td>0.863636</td>\n",
       "      <td>0.835821</td>\n",
       "      <td>0.934783</td>\n",
       "    </tr>\n",
       "    <tr>\n",
       "      <td>3500</td>\n",
       "      <td>0.183000</td>\n",
       "      <td>0.125852</td>\n",
       "      <td>0.869256</td>\n",
       "      <td>0.865639</td>\n",
       "      <td>0.864569</td>\n",
       "      <td>0.884154</td>\n",
       "      <td>0.867133</td>\n",
       "      <td>0.823529</td>\n",
       "      <td>0.880597</td>\n",
       "      <td>0.877698</td>\n",
       "      <td>0.854962</td>\n",
       "      <td>0.835821</td>\n",
       "      <td>0.945055</td>\n",
       "    </tr>\n",
       "    <tr>\n",
       "      <td>3600</td>\n",
       "      <td>0.163400</td>\n",
       "      <td>0.124815</td>\n",
       "      <td>0.871379</td>\n",
       "      <td>0.868132</td>\n",
       "      <td>0.867183</td>\n",
       "      <td>0.887438</td>\n",
       "      <td>0.890411</td>\n",
       "      <td>0.823529</td>\n",
       "      <td>0.872180</td>\n",
       "      <td>0.877698</td>\n",
       "      <td>0.854962</td>\n",
       "      <td>0.835821</td>\n",
       "      <td>0.945055</td>\n",
       "    </tr>\n",
       "  </tbody>\n",
       "</table><p>"
      ],
      "text/plain": [
       "<IPython.core.display.HTML object>"
      ]
     },
     "metadata": {},
     "output_type": "display_data"
    },
    {
     "data": {
      "text/plain": [
       "TrainOutput(global_step=3600, training_loss=0.23574076890945433, metrics={'train_runtime': 440.4033, 'train_samples_per_second': 16.344, 'train_steps_per_second': 8.174, 'total_flos': 76357022673000.0, 'train_loss': 0.23574076890945433, 'epoch': 2.0})"
      ]
     },
     "execution_count": 15,
     "metadata": {},
     "output_type": "execute_result"
    }
   ],
   "source": [
    "trainer.train()"
   ]
  },
  {
   "cell_type": "code",
   "execution_count": 16,
   "metadata": {},
   "outputs": [
    {
     "data": {
      "application/vnd.jupyter.widget-view+json": {
       "model_id": "6b2bcf381957403ea58139df96032a10",
       "version_major": 2,
       "version_minor": 0
      },
      "text/plain": [
       "Upload 3 LFS files:   0%|          | 0/3 [00:00<?, ?it/s]"
      ]
     },
     "metadata": {},
     "output_type": "display_data"
    },
    {
     "data": {
      "application/vnd.jupyter.widget-view+json": {
       "model_id": "33ac5f91002f447a84333eb1559e1709",
       "version_major": 2,
       "version_minor": 0
      },
      "text/plain": [
       "events.out.tfevents.1736594487.79d0abb9de53.6272.0:   0%|          | 0.00/45.6k [00:00<?, ?B/s]"
      ]
     },
     "metadata": {},
     "output_type": "display_data"
    },
    {
     "data": {
      "application/vnd.jupyter.widget-view+json": {
       "model_id": "263cb3f2417e4940ba369b972f8df5d6",
       "version_major": 2,
       "version_minor": 0
      },
      "text/plain": [
       "model.safetensors:   0%|          | 0.00/499M [00:00<?, ?B/s]"
      ]
     },
     "metadata": {},
     "output_type": "display_data"
    },
    {
     "data": {
      "application/vnd.jupyter.widget-view+json": {
       "model_id": "248bc856e18c437091999e95a210b5a6",
       "version_major": 2,
       "version_minor": 0
      },
      "text/plain": [
       "training_args.bin:   0%|          | 0.00/5.37k [00:00<?, ?B/s]"
      ]
     },
     "metadata": {},
     "output_type": "display_data"
    },
    {
     "data": {
      "application/vnd.google.colaboratory.intrinsic+json": {
       "type": "string"
      },
      "text/plain": [
       "CommitInfo(commit_url='https://huggingface.co/alxxtexxr/RoBERTa-Base-SE2025T11A-sun-v20250111112049/commit/1d24210439fefc0db33849e974dde98927706896', commit_message='End of training', commit_description='', oid='1d24210439fefc0db33849e974dde98927706896', pr_url=None, repo_url=RepoUrl('https://huggingface.co/alxxtexxr/RoBERTa-Base-SE2025T11A-sun-v20250111112049', endpoint='https://huggingface.co', repo_type='model', repo_id='alxxtexxr/RoBERTa-Base-SE2025T11A-sun-v20250111112049'), pr_revision=None, pr_num=None)"
      ]
     },
     "execution_count": 16,
     "metadata": {},
     "output_type": "execute_result"
    }
   ],
   "source": [
    "trainer.push_to_hub()"
   ]
  },
  {
   "cell_type": "markdown",
   "metadata": {},
   "source": [
    "# Evaluation"
   ]
  },
  {
   "cell_type": "code",
   "execution_count": 19,
   "metadata": {},
   "outputs": [
    {
     "name": "stdout",
     "output_type": "stream",
     "text": [
      "Evaluation to copy:\n",
      "0.8219416111660612\t0.8194905869324474\t0.8175312876101986\t0.833743842364532\t0.8378378378378378\t0.7272727272727273\t0.8676470588235294\t0.8633093525179856\t0.8062015503875969\t0.7703703703703704\t0.8809523809523809\n",
      "\n",
      "Evaluation full results:\n",
      "{'epoch': 2.0,\n",
      " 'eval_f1_label_biasa': 0.8809523809523809,\n",
      " 'eval_f1_label_jijik': 0.7272727272727273,\n",
      " 'eval_f1_label_marah': 0.8378378378378378,\n",
      " 'eval_f1_label_sedih': 0.8062015503875969,\n",
      " 'eval_f1_label_senang': 0.8633093525179856,\n",
      " 'eval_f1_label_takut': 0.8676470588235294,\n",
      " 'eval_f1_label_terkejut': 0.7703703703703704,\n",
      " 'eval_f1_macro': 0.8219416111660612,\n",
      " 'eval_f1_micro': 0.8194905869324474,\n",
      " 'eval_f1_samples': 0.833743842364532,\n",
      " 'eval_f1_weighted': 0.8175312876101986,\n",
      " 'eval_loss': 0.18756256997585297,\n",
      " 'eval_runtime': 2.4936,\n",
      " 'eval_samples_per_second': 162.818,\n",
      " 'eval_steps_per_second': 81.409}\n"
     ]
    }
   ],
   "source": [
    "eval = trainer.evaluate(eval_dataset=tokenized_datasets['test'])\n",
    "\n",
    "print(\"Evaluation to copy:\")\n",
    "f1_keys = [eval_key for eval_key in eval.keys() if 'f1' in eval_key]\n",
    "for i, k in enumerate(f1_keys): print(eval[k], end=\"\\t\" if i + 1 < len(f1_keys) else \"\")\n",
    "print()\n",
    "print()\n",
    "print(\"Evaluation full results:\")\n",
    "pprint(eval)"
   ]
  },
  {
   "cell_type": "markdown",
   "metadata": {},
   "source": [
    "# Inference"
   ]
  },
  {
   "cell_type": "code",
   "execution_count": 18,
   "metadata": {},
   "outputs": [
    {
     "name": "stdout",
     "output_type": "stream",
     "text": [
      "Text: Hah. Aneh.\n",
      "True emotion(s): jijik\n",
      "Predicted emotion(s): jijik\n"
     ]
    }
   ],
   "source": [
    "data = datasets['val'][1]\n",
    "text = data['text']\n",
    "emotion_true = data['emotion']\n",
    "\n",
    "inputs = tokenizer(text, return_tensors='pt').to(model.device)\n",
    "\n",
    "outputs = trainer.model(**inputs)\n",
    "logits = outputs.logits\n",
    "probs = sigmoid(logits.squeeze().detach().cpu().numpy()) # apply sigmoid + threshold\n",
    "labels_pred = (probs > 0.5).astype(int)\n",
    "emotion_pred = [id2class[idx] for idx, label in enumerate(labels_pred) if label == 1.0] # turn predicted id's into actual label names\n",
    "\n",
    "print(\"Text:\", text)\n",
    "print(\"True emotion(s):\", emotion_true)\n",
    "print(\"Predicted emotion(s):\", \", \".join(emotion_pred))"
   ]
  }
 ],
 "metadata": {
  "kernelspec": {
   "display_name": "Python 3",
   "language": "python",
   "name": "python3"
  },
  "language_info": {
   "codemirror_mode": {
    "name": "ipython",
    "version": 3
   },
   "file_extension": ".py",
   "mimetype": "text/x-python",
   "name": "python",
   "nbconvert_exporter": "python",
   "pygments_lexer": "ipython3",
   "version": "3.10.12"
  }
 },
 "nbformat": 4,
 "nbformat_minor": 2
}

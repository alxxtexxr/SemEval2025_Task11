{
 "cells": [
  {
   "cell_type": "markdown",
   "metadata": {},
   "source": [
    "# Libraries"
   ]
  },
  {
   "cell_type": "code",
   "execution_count": 1,
   "metadata": {},
   "outputs": [],
   "source": [
    "import os\n",
    "import random\n",
    "import numpy as np\n",
    "import pandas as pd\n",
    "import torch\n",
    "import transformers\n",
    "from datasets import load_dataset"
   ]
  },
  {
   "cell_type": "markdown",
   "metadata": {},
   "source": [
    "# Config"
   ]
  },
  {
   "cell_type": "code",
   "execution_count": 226,
   "metadata": {},
   "outputs": [],
   "source": [
    "seed = 1337\n",
    "\n",
    "hf_data_id = 'alxxtexxr/SemEval2025-Task11-Dataset'\n",
    "hf_data_config = 'track_a_sun_70_15_15_stratify_v2'\n",
    "prev_sampled_data_paths = [\n",
    "    # \n",
    "]\n",
    "\n",
    "# eng2idn_emotion_map = {\n",
    "#     'anger': 'marah', \n",
    "#     'disgust': 'jijik', \n",
    "#     'fear': 'takut', \n",
    "#     'joy': 'senang', \n",
    "#     'sadness': 'sedih', \n",
    "#     'surprise': 'terkejut', \n",
    "#     'neutral': 'biasa',\n",
    "# }\n",
    "# emotions = ['admiration', 'amusement', 'anger', 'annoyance', 'approval', 'caring', 'confusion', 'curiosity', \n",
    "#             'desire', 'disappointment', 'disapproval', 'disgust', 'embarrassment', 'excitement', 'fear', \n",
    "#             'gratitude', 'grief', 'joy', 'love', 'nervousness', 'optimism', 'pride', 'realization', 'relief', \n",
    "#             'remorse', 'sadness', 'surprise', 'neutral']\n",
    "# valid_emotions = ['anger', 'disgust', 'fear', 'joy', 'sadness', 'surprise', 'neutral']\n",
    "# selected_emotion = 'neutral'\n",
    "# prev_selected_emotions = ['anger', 'disgust', 'fear', 'joy', 'sadness', 'surprise']\n",
    "\n",
    "num_samples_single = 10 * 5 # if greather than 100, times 1.5; if lesser than 100 times 2; if lesser than 50 times 3; if lesser than 10 times 5\n",
    "num_samples_comb = 0"
   ]
  },
  {
   "cell_type": "code",
   "execution_count": 227,
   "metadata": {},
   "outputs": [
    {
     "name": "stdout",
     "output_type": "stream",
     "text": [
      "Random seed set to: 1337\n"
     ]
    }
   ],
   "source": [
    "def set_seed(seed):\n",
    "    # Set random seed for NumPy\n",
    "    np.random.seed(seed)\n",
    "\n",
    "    # Set random seed for Torch\n",
    "    torch.manual_seed(seed)\n",
    "    torch.cuda.manual_seed(seed)\n",
    "    torch.cuda.manual_seed_all(seed)  # if using multi-GPU\n",
    "    torch.backends.cudnn.deterministic = True  # Ensures deterministic results\n",
    "    torch.backends.cudnn.benchmark = False  # Avoids non-deterministic algorithms\n",
    "\n",
    "    # Set random seed for Transformers\n",
    "    transformers.set_seed(seed)\n",
    "\n",
    "    # Optionally set random seed for sklearn and Python's own random module\n",
    "    random.seed(seed)\n",
    "\n",
    "    # Set random seed for os\n",
    "    os.environ['PYTHONHASHSEED'] = str(seed)\n",
    "\n",
    "    print(f\"Random seed set to: {seed}\")\n",
    "\n",
    "set_seed(seed)"
   ]
  },
  {
   "cell_type": "markdown",
   "metadata": {},
   "source": [
    "# Data"
   ]
  },
  {
   "cell_type": "markdown",
   "metadata": {},
   "source": [
    "## Load Data"
   ]
  },
  {
   "cell_type": "code",
   "execution_count": 228,
   "metadata": {},
   "outputs": [],
   "source": [
    "# dataset = load_dataset(hf_data_id, hf_data_config, split='train')\n",
    "# print(dataset)"
   ]
  },
  {
   "cell_type": "code",
   "execution_count": 229,
   "metadata": {},
   "outputs": [],
   "source": [
    "# df = pd.DataFrame(dataset)\n",
    "# print(\"DF size:\", len(df))\n",
    "# df.head()"
   ]
  },
  {
   "cell_type": "code",
   "execution_count": 230,
   "metadata": {},
   "outputs": [],
   "source": [
    "# # One-hot encode column labels into emotion columns\n",
    "# for label, emotion in enumerate(emotions):\n",
    "#     df[emotion] = df['labels'].apply(lambda labels: 1 if label in labels else 0)\n",
    "\n",
    "# df.head()"
   ]
  },
  {
   "cell_type": "markdown",
   "metadata": {},
   "source": [
    "## Filter Data with Invalid Emotions"
   ]
  },
  {
   "cell_type": "code",
   "execution_count": 231,
   "metadata": {},
   "outputs": [],
   "source": [
    "# invalid_emotions = list(set(emotions) - set(valid_emotions))\n",
    "\n",
    "# print(\"Valid emotions:\", valid_emotions)\n",
    "# print(\"Invalid emotions:\", invalid_emotions)"
   ]
  },
  {
   "cell_type": "code",
   "execution_count": 232,
   "metadata": {},
   "outputs": [],
   "source": [
    "# df_filtered = df[~df[invalid_emotions].eq(1).any(axis=1)]\n",
    "# print(\"Filtered DF size:\", len(df_filtered))"
   ]
  },
  {
   "cell_type": "code",
   "execution_count": 233,
   "metadata": {},
   "outputs": [
    {
     "name": "stdout",
     "output_type": "stream",
     "text": [
      "Filtered DF size: 17529\n"
     ]
    }
   ],
   "source": [
    "# df_filtered.to_csv('data/go_emotions_sun/filtered.csv', index=False)\n",
    "df_filtered = pd.read_csv('data/go_emotions_sun/filtered.csv')\n",
    "print(\"Filtered DF size:\", len(df_filtered))"
   ]
  },
  {
   "cell_type": "markdown",
   "metadata": {},
   "source": [
    "## Select Data with Specified Emotion"
   ]
  },
  {
   "cell_type": "code",
   "execution_count": 234,
   "metadata": {},
   "outputs": [
    {
     "name": "stdout",
     "output_type": "stream",
     "text": [
      "Selected DF size: 13061\n"
     ]
    },
    {
     "data": {
      "text/html": [
       "<div>\n",
       "<style scoped>\n",
       "    .dataframe tbody tr th:only-of-type {\n",
       "        vertical-align: middle;\n",
       "    }\n",
       "\n",
       "    .dataframe tbody tr th {\n",
       "        vertical-align: top;\n",
       "    }\n",
       "\n",
       "    .dataframe thead th {\n",
       "        text-align: right;\n",
       "    }\n",
       "</style>\n",
       "<table border=\"1\" class=\"dataframe\">\n",
       "  <thead>\n",
       "    <tr style=\"text-align: right;\">\n",
       "      <th></th>\n",
       "      <th>id</th>\n",
       "      <th>text</th>\n",
       "      <th>anger</th>\n",
       "      <th>disgust</th>\n",
       "      <th>fear</th>\n",
       "      <th>joy</th>\n",
       "      <th>sadness</th>\n",
       "      <th>surprise</th>\n",
       "      <th>neutral</th>\n",
       "    </tr>\n",
       "  </thead>\n",
       "  <tbody>\n",
       "    <tr>\n",
       "      <th>0</th>\n",
       "      <td>eebbqej</td>\n",
       "      <td>My favourite food is anything I didn't have to...</td>\n",
       "      <td>0</td>\n",
       "      <td>0</td>\n",
       "      <td>0</td>\n",
       "      <td>0</td>\n",
       "      <td>0</td>\n",
       "      <td>0</td>\n",
       "      <td>1</td>\n",
       "    </tr>\n",
       "    <tr>\n",
       "      <th>1</th>\n",
       "      <td>ed00q6i</td>\n",
       "      <td>Now if he does off himself, everyone will thin...</td>\n",
       "      <td>0</td>\n",
       "      <td>0</td>\n",
       "      <td>0</td>\n",
       "      <td>0</td>\n",
       "      <td>0</td>\n",
       "      <td>0</td>\n",
       "      <td>1</td>\n",
       "    </tr>\n",
       "    <tr>\n",
       "      <th>5</th>\n",
       "      <td>eczgv1o</td>\n",
       "      <td>It might be linked to the trust factor of your...</td>\n",
       "      <td>0</td>\n",
       "      <td>0</td>\n",
       "      <td>0</td>\n",
       "      <td>0</td>\n",
       "      <td>0</td>\n",
       "      <td>0</td>\n",
       "      <td>1</td>\n",
       "    </tr>\n",
       "    <tr>\n",
       "      <th>6</th>\n",
       "      <td>ef83m1s</td>\n",
       "      <td>Hello everyone. Im from Toronto as well. Can c...</td>\n",
       "      <td>0</td>\n",
       "      <td>0</td>\n",
       "      <td>0</td>\n",
       "      <td>0</td>\n",
       "      <td>0</td>\n",
       "      <td>0</td>\n",
       "      <td>1</td>\n",
       "    </tr>\n",
       "    <tr>\n",
       "      <th>8</th>\n",
       "      <td>eeb9aft</td>\n",
       "      <td>that is what retardation looks like</td>\n",
       "      <td>0</td>\n",
       "      <td>0</td>\n",
       "      <td>0</td>\n",
       "      <td>0</td>\n",
       "      <td>0</td>\n",
       "      <td>0</td>\n",
       "      <td>1</td>\n",
       "    </tr>\n",
       "  </tbody>\n",
       "</table>\n",
       "</div>"
      ],
      "text/plain": [
       "        id                                               text  anger  disgust  \\\n",
       "0  eebbqej  My favourite food is anything I didn't have to...      0        0   \n",
       "1  ed00q6i  Now if he does off himself, everyone will thin...      0        0   \n",
       "5  eczgv1o  It might be linked to the trust factor of your...      0        0   \n",
       "6  ef83m1s  Hello everyone. Im from Toronto as well. Can c...      0        0   \n",
       "8  eeb9aft                that is what retardation looks like      0        0   \n",
       "\n",
       "   fear  joy  sadness  surprise  neutral  \n",
       "0     0    0        0         0        1  \n",
       "1     0    0        0         0        1  \n",
       "5     0    0        0         0        1  \n",
       "6     0    0        0         0        1  \n",
       "8     0    0        0         0        1  "
      ]
     },
     "execution_count": 234,
     "metadata": {},
     "output_type": "execute_result"
    }
   ],
   "source": [
    "df_selected = df_filtered[df_filtered[selected_emotion] == 1][['id', 'text'] + valid_emotions]\n",
    "print(\"Selected DF size:\", len(df_selected))\n",
    "df_selected.head()"
   ]
  },
  {
   "cell_type": "markdown",
   "metadata": {},
   "source": [
    "## Clean Data Before Sampling"
   ]
  },
  {
   "cell_type": "code",
   "execution_count": 235,
   "metadata": {},
   "outputs": [
    {
     "name": "stdout",
     "output_type": "stream",
     "text": [
      "Cleaned DF size (after cleaning prev. sampled data): 12562\n"
     ]
    }
   ],
   "source": [
    "if len(prev_sampled_data_paths):\n",
    "    df_sampled_prev = pd.concat([pd.read_csv(prev_sampled_data_path) for prev_sampled_data_path in prev_sampled_data_paths])\n",
    "    df_cleaned = df_selected[~df_selected['id'].isin(df_sampled_prev['id'])]\n",
    "    print(\"Cleaned DF size (after cleaning prev. sampled data):\", len(df_cleaned))\n",
    "else:\n",
    "    df_cleaned = df_selected"
   ]
  },
  {
   "cell_type": "code",
   "execution_count": 236,
   "metadata": {},
   "outputs": [
    {
     "name": "stdout",
     "output_type": "stream",
     "text": [
      "anger          68\n",
      "disgust        28\n",
      "fear           17\n",
      "joy            43\n",
      "sadness        53\n",
      "surprise       31\n",
      "neutral     12562\n",
      "dtype: int64\n",
      "\n",
      "anger           0\n",
      "disgust         0\n",
      "fear            0\n",
      "joy             0\n",
      "sadness         0\n",
      "surprise        0\n",
      "neutral     12324\n",
      "dtype: int64\n"
     ]
    }
   ],
   "source": [
    "print(df_cleaned[valid_emotions].sum())\n",
    "print()\n",
    "\n",
    "df_cleaned = df_cleaned[(df_cleaned[prev_selected_emotions] == 0).all(axis=1)]\n",
    "print(df_cleaned[valid_emotions].sum())"
   ]
  },
  {
   "cell_type": "code",
   "execution_count": 237,
   "metadata": {},
   "outputs": [
    {
     "name": "stdout",
     "output_type": "stream",
     "text": [
      "Total duplicates by ID: 0\n",
      "Total duplicates by text: 25\n",
      "\n",
      "Total duplicates by ID (after cleaning duplicates): 0\n",
      "Total duplicates by text (after cleaning duplicates): 0\n",
      "\n",
      "Cleaned DF size (after cleaning duplicates): 12299\n"
     ]
    }
   ],
   "source": [
    "print(\"Total duplicates by ID:\", df_cleaned['id'].duplicated().sum())\n",
    "print(\"Total duplicates by text:\", df_cleaned['text'].duplicated().sum())\n",
    "print()\n",
    "\n",
    "df_cleaned = df_cleaned.drop_duplicates(subset=['text'], keep='first')\n",
    "\n",
    "print(\"Total duplicates by ID (after cleaning duplicates):\", df_cleaned['id'].duplicated().sum())\n",
    "print(\"Total duplicates by text (after cleaning duplicates):\", df_cleaned['text'].duplicated().sum())\n",
    "print()\n",
    "\n",
    "print(\"Cleaned DF size (after cleaning duplicates):\", len(df_cleaned))"
   ]
  },
  {
   "cell_type": "code",
   "execution_count": 238,
   "metadata": {},
   "outputs": [
    {
     "name": "stdout",
     "output_type": "stream",
     "text": [
      "Cleaned DF size (after cleaning with specific conditions): 9936\n"
     ]
    }
   ],
   "source": [
    "cond_r = df_cleaned['text'].str.contains(\"r/\")\n",
    "cond_u = df_cleaned['text'].str.contains(\"/u/\")\n",
    "cond_name = df_cleaned['text'].str.contains(\"NAME]\")\n",
    "cond_religion = df_cleaned['text'].str.contains(\"RELIGION]\")\n",
    "cond_downvot = df_cleaned['text'].str.contains(\"downvot\")\n",
    "cond_upvot = df_cleaned['text'].str.contains(\"upvot\")\n",
    "# cond_double = df_cleaned['text'].str.contains(r'(.)\\1{2,}')\n",
    "\n",
    "df_cleaned = df_cleaned[~(cond_r | cond_u | cond_name | cond_religion | cond_downvot | cond_upvot)]\n",
    "print(\"Cleaned DF size (after cleaning with specific conditions):\", len(df_cleaned))"
   ]
  },
  {
   "cell_type": "markdown",
   "metadata": {},
   "source": [
    "## Sample Data"
   ]
  },
  {
   "cell_type": "code",
   "execution_count": 239,
   "metadata": {},
   "outputs": [
    {
     "name": "stdout",
     "output_type": "stream",
     "text": [
      "Total data with single emotion: 9936\n",
      "Total data with combined emotions: 0\n"
     ]
    }
   ],
   "source": [
    "df_cleaned['num_emotions'] = df_cleaned.apply(lambda row: int(sum(row[valid_emotions].tolist())), axis=1)\n",
    "\n",
    "df_single = df_cleaned[(df_cleaned[selected_emotion] == 1) & (df_cleaned['num_emotions'] == 1)]\n",
    "df_comb = df_cleaned[(df_cleaned[selected_emotion] == 1) & (df_cleaned['num_emotions'] > 1)]\n",
    "\n",
    "print(\"Total data with single emotion:\", len(df_single))\n",
    "print(\"Total data with combined emotions:\", len(df_comb))"
   ]
  },
  {
   "cell_type": "code",
   "execution_count": 240,
   "metadata": {},
   "outputs": [
    {
     "name": "stdout",
     "output_type": "stream",
     "text": [
      "Total sampled data with single emotion: 50\n",
      "Total sampled data with combined emotions: 0\n",
      "Total sampled data: 50\n"
     ]
    },
    {
     "data": {
      "text/html": [
       "<div>\n",
       "<style scoped>\n",
       "    .dataframe tbody tr th:only-of-type {\n",
       "        vertical-align: middle;\n",
       "    }\n",
       "\n",
       "    .dataframe tbody tr th {\n",
       "        vertical-align: top;\n",
       "    }\n",
       "\n",
       "    .dataframe thead th {\n",
       "        text-align: right;\n",
       "    }\n",
       "</style>\n",
       "<table border=\"1\" class=\"dataframe\">\n",
       "  <thead>\n",
       "    <tr style=\"text-align: right;\">\n",
       "      <th></th>\n",
       "      <th>id</th>\n",
       "      <th>text</th>\n",
       "      <th>anger</th>\n",
       "      <th>disgust</th>\n",
       "      <th>fear</th>\n",
       "      <th>joy</th>\n",
       "      <th>sadness</th>\n",
       "      <th>surprise</th>\n",
       "      <th>neutral</th>\n",
       "    </tr>\n",
       "  </thead>\n",
       "  <tbody>\n",
       "    <tr>\n",
       "      <th>12509</th>\n",
       "      <td>ee54dcb</td>\n",
       "      <td>haha, rape</td>\n",
       "      <td>0</td>\n",
       "      <td>0</td>\n",
       "      <td>0</td>\n",
       "      <td>0</td>\n",
       "      <td>0</td>\n",
       "      <td>0</td>\n",
       "      <td>1</td>\n",
       "    </tr>\n",
       "    <tr>\n",
       "      <th>3211</th>\n",
       "      <td>edkr19d</td>\n",
       "      <td>That's what they're for! I wouldn't use it for...</td>\n",
       "      <td>0</td>\n",
       "      <td>0</td>\n",
       "      <td>0</td>\n",
       "      <td>0</td>\n",
       "      <td>0</td>\n",
       "      <td>0</td>\n",
       "      <td>1</td>\n",
       "    </tr>\n",
       "    <tr>\n",
       "      <th>379</th>\n",
       "      <td>efcsmiw</td>\n",
       "      <td>Damn, hoped i had missed some fan translations...</td>\n",
       "      <td>0</td>\n",
       "      <td>0</td>\n",
       "      <td>0</td>\n",
       "      <td>0</td>\n",
       "      <td>0</td>\n",
       "      <td>0</td>\n",
       "      <td>1</td>\n",
       "    </tr>\n",
       "    <tr>\n",
       "      <th>11076</th>\n",
       "      <td>ee43fc3</td>\n",
       "      <td>Kid has profanity on the front of his shirt......</td>\n",
       "      <td>0</td>\n",
       "      <td>0</td>\n",
       "      <td>0</td>\n",
       "      <td>0</td>\n",
       "      <td>0</td>\n",
       "      <td>0</td>\n",
       "      <td>1</td>\n",
       "    </tr>\n",
       "    <tr>\n",
       "      <th>5103</th>\n",
       "      <td>ef4fl50</td>\n",
       "      <td>reddit was having server issues</td>\n",
       "      <td>0</td>\n",
       "      <td>0</td>\n",
       "      <td>0</td>\n",
       "      <td>0</td>\n",
       "      <td>0</td>\n",
       "      <td>0</td>\n",
       "      <td>1</td>\n",
       "    </tr>\n",
       "  </tbody>\n",
       "</table>\n",
       "</div>"
      ],
      "text/plain": [
       "            id                                               text  anger  \\\n",
       "12509  ee54dcb                                         haha, rape      0   \n",
       "3211   edkr19d  That's what they're for! I wouldn't use it for...      0   \n",
       "379    efcsmiw  Damn, hoped i had missed some fan translations...      0   \n",
       "11076  ee43fc3  Kid has profanity on the front of his shirt......      0   \n",
       "5103   ef4fl50                    reddit was having server issues      0   \n",
       "\n",
       "       disgust  fear  joy  sadness  surprise  neutral  \n",
       "12509        0     0    0        0         0        1  \n",
       "3211         0     0    0        0         0        1  \n",
       "379          0     0    0        0         0        1  \n",
       "11076        0     0    0        0         0        1  \n",
       "5103         0     0    0        0         0        1  "
      ]
     },
     "execution_count": 240,
     "metadata": {},
     "output_type": "execute_result"
    }
   ],
   "source": [
    "num_samples_single = min(int(num_samples_single), len(df_single))\n",
    "num_samples_comb = min(int(num_samples_comb), len(df_comb))\n",
    "\n",
    "df_sampled_single = df_single.sample(n=num_samples_single, random_state=seed)\n",
    "df_sampled_comb = df_comb.sample(n=num_samples_comb, random_state=seed)\n",
    "df_sampled = pd.concat([df_sampled_single, df_sampled_comb])[['id', 'text'] + valid_emotions]\n",
    "# df_sampled['neutral'] = 0\n",
    "\n",
    "print(\"Total sampled data with single emotion:\", len(df_sampled_single))\n",
    "print(\"Total sampled data with combined emotions:\", len(df_sampled_comb))\n",
    "print(\"Total sampled data:\", len(df_sampled))\n",
    "df_sampled.head()"
   ]
  },
  {
   "cell_type": "markdown",
   "metadata": {},
   "source": [
    "## Save Data"
   ]
  },
  {
   "cell_type": "code",
   "execution_count": 241,
   "metadata": {},
   "outputs": [
    {
     "data": {
      "text/plain": [
       "emotion\n",
       "biasa    50\n",
       "Name: count, dtype: int64"
      ]
     },
     "execution_count": 241,
     "metadata": {},
     "output_type": "execute_result"
    }
   ],
   "source": [
    "df_sampled = df_sampled.rename(columns=eng2idn_emotion_map)\n",
    "df_sampled['emotion'] = df_sampled.apply(lambda row: ', '.join([eng2idn_emotion_map[emotion] for emotion in valid_emotions if row[eng2idn_emotion_map[emotion]] == 1]), axis=1)\n",
    "df_sampled['emotion'].value_counts()"
   ]
  },
  {
   "cell_type": "code",
   "execution_count": 242,
   "metadata": {},
   "outputs": [
    {
     "name": "stdout",
     "output_type": "stream",
     "text": [
      "Saved to: ./data/go_emotions_sun/neutral_single_50_comb_0.csv\n"
     ]
    }
   ],
   "source": [
    "save_path = f'./data/go_emotions_sun/{selected_emotion}_single_{num_samples_single}_comb_{num_samples_comb}.csv'\n",
    "df_sampled.to_csv(save_path, index=False)\n",
    "print(\"Saved to:\", save_path)"
   ]
  }
 ],
 "metadata": {
  "kernelspec": {
   "display_name": "alxxtexxr_py312",
   "language": "python",
   "name": "python3"
  },
  "language_info": {
   "codemirror_mode": {
    "name": "ipython",
    "version": 3
   },
   "file_extension": ".py",
   "mimetype": "text/x-python",
   "name": "python",
   "nbconvert_exporter": "python",
   "pygments_lexer": "ipython3",
   "version": "3.12.4"
  }
 },
 "nbformat": 4,
 "nbformat_minor": 2
}

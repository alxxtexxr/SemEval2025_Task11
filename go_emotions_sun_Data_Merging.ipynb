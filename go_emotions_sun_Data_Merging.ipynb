{
 "cells": [
  {
   "cell_type": "code",
   "execution_count": 32,
   "metadata": {},
   "outputs": [],
   "source": [
    "import pandas as pd"
   ]
  },
  {
   "cell_type": "code",
   "execution_count": 33,
   "metadata": {},
   "outputs": [],
   "source": [
    "data_paths = [\n",
    "    'data/go_emotions_sun/neutral_single_200_comb_0_translated_cleaned_curated_merged.csv',\n",
    "    'data/go_emotions_sun/neutral_single_10_comb_0_translated_cleaned_curated.csv',\n",
    "]\n",
    "\n",
    "valid_emotions = ['marah', 'jijik', 'takut', 'senang', 'sedih', 'terkejut', 'biasa']\n",
    "selected_emotion = 'biasa'"
   ]
  },
  {
   "cell_type": "code",
   "execution_count": 34,
   "metadata": {},
   "outputs": [
    {
     "name": "stdout",
     "output_type": "stream",
     "text": [
      "Merged DF size: 214\n"
     ]
    }
   ],
   "source": [
    "df_merged = pd.concat([pd.read_csv(data_path) for data_path in data_paths])\n",
    "print(\"Merged DF size:\", len(df_merged))"
   ]
  },
  {
   "cell_type": "code",
   "execution_count": 35,
   "metadata": {},
   "outputs": [
    {
     "name": "stdout",
     "output_type": "stream",
     "text": [
      "Total cleaned data with single emotion: 210\n",
      "Total cleaned data with combined emotions: 0\n"
     ]
    }
   ],
   "source": [
    "df_merged.loc[:, 'num_emotions'] = df_merged.apply(lambda row: int(sum(row[valid_emotions].tolist())), axis=1)\n",
    "\n",
    "df_single = df_merged[(df_merged[selected_emotion] == 1) & (df_merged['num_emotions'] == 1)]\n",
    "df_comb = df_merged[(df_merged[selected_emotion] == 1) & (df_merged['num_emotions'] > 1)]\n",
    "\n",
    "print(\"Total cleaned data with single emotion:\", len(df_single))\n",
    "print(\"Total cleaned data with combined emotions:\", len(df_comb))"
   ]
  },
  {
   "cell_type": "code",
   "execution_count": 36,
   "metadata": {},
   "outputs": [
    {
     "name": "stdout",
     "output_type": "stream",
     "text": [
      "Saved to: data/go_emotions_sun/biasa_single_210_comb_0_translated_cleaned_curated_merged.csv\n"
     ]
    }
   ],
   "source": [
    "save_path = f'data/go_emotions_sun/{selected_emotion}_single_{len(df_single)}_comb_{len(df_comb)}_translated_cleaned_curated_merged.csv'\n",
    "df_merged.to_csv(save_path, index=False)\n",
    "print(\"Saved to:\", save_path)"
   ]
  }
 ],
 "metadata": {
  "kernelspec": {
   "display_name": "alxxtexxr_py312",
   "language": "python",
   "name": "python3"
  },
  "language_info": {
   "codemirror_mode": {
    "name": "ipython",
    "version": 3
   },
   "file_extension": ".py",
   "mimetype": "text/x-python",
   "name": "python",
   "nbconvert_exporter": "python",
   "pygments_lexer": "ipython3",
   "version": "3.12.4"
  }
 },
 "nbformat": 4,
 "nbformat_minor": 2
}

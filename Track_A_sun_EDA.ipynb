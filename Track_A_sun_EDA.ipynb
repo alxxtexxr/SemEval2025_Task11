{
 "cells": [
  {
   "cell_type": "markdown",
   "metadata": {},
   "source": [
    "# Libraries"
   ]
  },
  {
   "cell_type": "code",
   "execution_count": 19,
   "metadata": {},
   "outputs": [],
   "source": [
    "import os\n",
    "import random\n",
    "import numpy as np\n",
    "import pandas as pd\n",
    "import torch\n",
    "import transformers\n",
    "import unicodedata\n",
    "from datasets import load_dataset"
   ]
  },
  {
   "cell_type": "markdown",
   "metadata": {},
   "source": [
    "# Config"
   ]
  },
  {
   "cell_type": "code",
   "execution_count": 20,
   "metadata": {},
   "outputs": [],
   "source": [
    "seed = 42\n",
    "\n",
    "hf_data_id = 'alxxtexxr/SemEval2025-Task11-Dataset'\n",
    "# hf_data_config = 'track_a_sun_70_15_15_stratify_v2'\n",
    "hf_data_config = 'track_a_sun_go_emotions_70_15_15_stratify_v2'\n",
    "\n",
    "add_type = 'go_emotions'\n",
    "add_data_paths = [\n",
    "    'data/go_emotions_sun/fear_single_242_comb_79_translated_cleaned_curated_merged_final.csv',\n",
    "    'data/go_emotions_sun/anger_single_237_comb_73_translated_cleaned_curated_merged_final.csv',\n",
    "    'data/go_emotions_sun/disgust_single_210_comb_35_translated_cleaned_curated_merged_final.csv',\n",
    "    'data/go_emotions_sun/sadness_single_183_comb_20_translated_cleaned_curated_merged_final.csv',\n",
    "    'data/go_emotions_sun/surprise_single_240_comb_22_translated_cleaned_curated_merged_final.csv',\n",
    "    'data/go_emotions_sun/neutral_single_210_comb_0_translated_cleaned_curated_merged_final.csv',\n",
    "]"
   ]
  },
  {
   "cell_type": "code",
   "execution_count": 21,
   "metadata": {},
   "outputs": [
    {
     "name": "stdout",
     "output_type": "stream",
     "text": [
      "Random seed set to: 42\n"
     ]
    }
   ],
   "source": [
    "def set_seed(seed):\n",
    "    # Set random seed for NumPy\n",
    "    np.random.seed(seed)\n",
    "\n",
    "    # Set random seed for Torch\n",
    "    torch.manual_seed(seed)\n",
    "    torch.cuda.manual_seed(seed)\n",
    "    torch.cuda.manual_seed_all(seed)  # if using multi-GPU\n",
    "    torch.backends.cudnn.deterministic = True  # Ensures deterministic results\n",
    "    torch.backends.cudnn.benchmark = False  # Avoids non-deterministic algorithms\n",
    "\n",
    "    # Set random seed for Transformers\n",
    "    transformers.set_seed(seed)\n",
    "\n",
    "    # Optionally set random seed for sklearn and Python's own random module\n",
    "    random.seed(seed)\n",
    "\n",
    "    # Set random seed for os\n",
    "    os.environ['PYTHONHASHSEED'] = str(seed)\n",
    "\n",
    "    print(f\"Random seed set to: {seed}\")\n",
    "\n",
    "set_seed(seed)"
   ]
  },
  {
   "cell_type": "markdown",
   "metadata": {},
   "source": [
    "# Data"
   ]
  },
  {
   "cell_type": "markdown",
   "metadata": {},
   "source": [
    "## Load Data"
   ]
  },
  {
   "cell_type": "code",
   "execution_count": 22,
   "metadata": {},
   "outputs": [
    {
     "name": "stdout",
     "output_type": "stream",
     "text": [
      "Splits: ['train', 'val', 'test']\n",
      "Data columns: ['text', 'emotion', 'marah', 'jijik', 'takut', 'senang', 'sedih', 'terkejut', 'biasa']\n",
      "Emotions columns: ['marah', 'jijik', 'takut', 'senang', 'sedih', 'terkejut', 'biasa']\n"
     ]
    }
   ],
   "source": [
    "datasets = load_dataset(hf_data_id, hf_data_config)\n",
    "\n",
    "cols = list(datasets['train'].features)\n",
    "emotion_cols = [col for col in cols if col not in ['Unnamed: 0', 'text', 'emotion']]\n",
    "splits = [*datasets.keys()]\n",
    "\n",
    "print(\"Splits:\", splits)\n",
    "print(\"Data columns:\", cols)\n",
    "print(\"Emotions columns:\", emotion_cols)"
   ]
  },
  {
   "cell_type": "code",
   "execution_count": 23,
   "metadata": {},
   "outputs": [
    {
     "name": "stdout",
     "output_type": "stream",
     "text": [
      "Full DF size: 2495\n"
     ]
    },
    {
     "data": {
      "text/html": [
       "<div>\n",
       "<style scoped>\n",
       "    .dataframe tbody tr th:only-of-type {\n",
       "        vertical-align: middle;\n",
       "    }\n",
       "\n",
       "    .dataframe tbody tr th {\n",
       "        vertical-align: top;\n",
       "    }\n",
       "\n",
       "    .dataframe thead th {\n",
       "        text-align: right;\n",
       "    }\n",
       "</style>\n",
       "<table border=\"1\" class=\"dataframe\">\n",
       "  <thead>\n",
       "    <tr style=\"text-align: right;\">\n",
       "      <th></th>\n",
       "      <th>text</th>\n",
       "      <th>emotion</th>\n",
       "      <th>marah</th>\n",
       "      <th>jijik</th>\n",
       "      <th>takut</th>\n",
       "      <th>senang</th>\n",
       "      <th>sedih</th>\n",
       "      <th>terkejut</th>\n",
       "      <th>biasa</th>\n",
       "    </tr>\n",
       "  </thead>\n",
       "  <tbody>\n",
       "    <tr>\n",
       "      <th>0</th>\n",
       "      <td>Ngobrol ka kolotna meureun lamun éta pilihan.</td>\n",
       "      <td>biasa</td>\n",
       "      <td>0</td>\n",
       "      <td>0</td>\n",
       "      <td>0</td>\n",
       "      <td>0</td>\n",
       "      <td>0</td>\n",
       "      <td>0</td>\n",
       "      <td>1</td>\n",
       "    </tr>\n",
       "    <tr>\n",
       "      <th>1</th>\n",
       "      <td>Urang mah sok bingung ka batur anu ngomong nye...</td>\n",
       "      <td>senang, sedih</td>\n",
       "      <td>0</td>\n",
       "      <td>0</td>\n",
       "      <td>0</td>\n",
       "      <td>1</td>\n",
       "      <td>1</td>\n",
       "      <td>0</td>\n",
       "      <td>0</td>\n",
       "    </tr>\n",
       "    <tr>\n",
       "      <th>2</th>\n",
       "      <td>\"Bédana téh lantaran abdi pantes narimana.\" Ie...</td>\n",
       "      <td>marah</td>\n",
       "      <td>1</td>\n",
       "      <td>0</td>\n",
       "      <td>0</td>\n",
       "      <td>0</td>\n",
       "      <td>0</td>\n",
       "      <td>0</td>\n",
       "      <td>0</td>\n",
       "    </tr>\n",
       "    <tr>\n",
       "      <th>3</th>\n",
       "      <td>Aranjeun téh barudak teuweul anu ambek sabab m...</td>\n",
       "      <td>marah, jijik</td>\n",
       "      <td>1</td>\n",
       "      <td>1</td>\n",
       "      <td>0</td>\n",
       "      <td>0</td>\n",
       "      <td>0</td>\n",
       "      <td>0</td>\n",
       "      <td>0</td>\n",
       "    </tr>\n",
       "    <tr>\n",
       "      <th>4</th>\n",
       "      <td>Anjeun teu nyaho naon fakta téh?</td>\n",
       "      <td>biasa</td>\n",
       "      <td>0</td>\n",
       "      <td>0</td>\n",
       "      <td>0</td>\n",
       "      <td>0</td>\n",
       "      <td>0</td>\n",
       "      <td>0</td>\n",
       "      <td>1</td>\n",
       "    </tr>\n",
       "  </tbody>\n",
       "</table>\n",
       "</div>"
      ],
      "text/plain": [
       "                                                text        emotion  marah  \\\n",
       "0      Ngobrol ka kolotna meureun lamun éta pilihan.          biasa      0   \n",
       "1  Urang mah sok bingung ka batur anu ngomong nye...  senang, sedih      0   \n",
       "2  \"Bédana téh lantaran abdi pantes narimana.\" Ie...          marah      1   \n",
       "3  Aranjeun téh barudak teuweul anu ambek sabab m...   marah, jijik      1   \n",
       "4                   Anjeun teu nyaho naon fakta téh?          biasa      0   \n",
       "\n",
       "   jijik  takut  senang  sedih  terkejut  biasa  \n",
       "0      0      0       0      0         0      1  \n",
       "1      0      0       1      1         0      0  \n",
       "2      0      0       0      0         0      0  \n",
       "3      1      0       0      0         0      0  \n",
       "4      0      0       0      0         0      1  "
      ]
     },
     "execution_count": 23,
     "metadata": {},
     "output_type": "execute_result"
    }
   ],
   "source": [
    "df = {split: pd.DataFrame(datasets[split]) for split in splits}\n",
    "full_df_ = pd.concat(df.values())\n",
    "print(\"Full DF size:\", len(full_df_))\n",
    "full_df_.head()"
   ]
  },
  {
   "cell_type": "code",
   "execution_count": 24,
   "metadata": {},
   "outputs": [
    {
     "name": "stdout",
     "output_type": "stream",
     "text": [
      "Additional DF size: 1571\n",
      "Full DF size (with additional data): 4066\n"
     ]
    },
    {
     "data": {
      "text/html": [
       "<div>\n",
       "<style scoped>\n",
       "    .dataframe tbody tr th:only-of-type {\n",
       "        vertical-align: middle;\n",
       "    }\n",
       "\n",
       "    .dataframe tbody tr th {\n",
       "        vertical-align: top;\n",
       "    }\n",
       "\n",
       "    .dataframe thead th {\n",
       "        text-align: right;\n",
       "    }\n",
       "</style>\n",
       "<table border=\"1\" class=\"dataframe\">\n",
       "  <thead>\n",
       "    <tr style=\"text-align: right;\">\n",
       "      <th></th>\n",
       "      <th>text</th>\n",
       "      <th>emotion</th>\n",
       "      <th>marah</th>\n",
       "      <th>jijik</th>\n",
       "      <th>takut</th>\n",
       "      <th>senang</th>\n",
       "      <th>sedih</th>\n",
       "      <th>terkejut</th>\n",
       "      <th>biasa</th>\n",
       "      <th>aug_go_emotions</th>\n",
       "    </tr>\n",
       "  </thead>\n",
       "  <tbody>\n",
       "    <tr>\n",
       "      <th>0</th>\n",
       "      <td>Ngobrol ka kolotna meureun lamun éta pilihan.</td>\n",
       "      <td>biasa</td>\n",
       "      <td>0</td>\n",
       "      <td>0</td>\n",
       "      <td>0</td>\n",
       "      <td>0</td>\n",
       "      <td>0</td>\n",
       "      <td>0</td>\n",
       "      <td>1</td>\n",
       "      <td>0</td>\n",
       "    </tr>\n",
       "    <tr>\n",
       "      <th>1</th>\n",
       "      <td>Urang mah sok bingung ka batur anu ngomong nye...</td>\n",
       "      <td>senang, sedih</td>\n",
       "      <td>0</td>\n",
       "      <td>0</td>\n",
       "      <td>0</td>\n",
       "      <td>1</td>\n",
       "      <td>1</td>\n",
       "      <td>0</td>\n",
       "      <td>0</td>\n",
       "      <td>0</td>\n",
       "    </tr>\n",
       "    <tr>\n",
       "      <th>2</th>\n",
       "      <td>\"Bédana téh lantaran abdi pantes narimana.\" Ie...</td>\n",
       "      <td>marah</td>\n",
       "      <td>1</td>\n",
       "      <td>0</td>\n",
       "      <td>0</td>\n",
       "      <td>0</td>\n",
       "      <td>0</td>\n",
       "      <td>0</td>\n",
       "      <td>0</td>\n",
       "      <td>0</td>\n",
       "    </tr>\n",
       "    <tr>\n",
       "      <th>3</th>\n",
       "      <td>Aranjeun téh barudak teuweul anu ambek sabab m...</td>\n",
       "      <td>marah, jijik</td>\n",
       "      <td>1</td>\n",
       "      <td>1</td>\n",
       "      <td>0</td>\n",
       "      <td>0</td>\n",
       "      <td>0</td>\n",
       "      <td>0</td>\n",
       "      <td>0</td>\n",
       "      <td>0</td>\n",
       "    </tr>\n",
       "    <tr>\n",
       "      <th>4</th>\n",
       "      <td>Anjeun teu nyaho naon fakta téh?</td>\n",
       "      <td>biasa</td>\n",
       "      <td>0</td>\n",
       "      <td>0</td>\n",
       "      <td>0</td>\n",
       "      <td>0</td>\n",
       "      <td>0</td>\n",
       "      <td>0</td>\n",
       "      <td>1</td>\n",
       "      <td>0</td>\n",
       "    </tr>\n",
       "  </tbody>\n",
       "</table>\n",
       "</div>"
      ],
      "text/plain": [
       "                                                text        emotion  marah  \\\n",
       "0      Ngobrol ka kolotna meureun lamun éta pilihan.          biasa      0   \n",
       "1  Urang mah sok bingung ka batur anu ngomong nye...  senang, sedih      0   \n",
       "2  \"Bédana téh lantaran abdi pantes narimana.\" Ie...          marah      1   \n",
       "3  Aranjeun téh barudak teuweul anu ambek sabab m...   marah, jijik      1   \n",
       "4                   Anjeun teu nyaho naon fakta téh?          biasa      0   \n",
       "\n",
       "   jijik  takut  senang  sedih  terkejut  biasa  aug_go_emotions  \n",
       "0      0      0       0      0         0      1                0  \n",
       "1      0      0       1      1         0      0                0  \n",
       "2      0      0       0      0         0      0                0  \n",
       "3      1      0       0      0         0      0                0  \n",
       "4      0      0       0      0         0      1                0  "
      ]
     },
     "execution_count": 24,
     "metadata": {},
     "output_type": "execute_result"
    }
   ],
   "source": [
    "if 'add_data_paths' in globals():\n",
    "    add_df = pd.concat([pd.read_csv(add_data_path) for add_data_path in globals()['add_data_paths']])\n",
    "    add_df.drop(['id', 'curation_status', 'text', 'num_emotions'], axis=1, inplace=True)\n",
    "    add_df.rename(columns={'text_translated': 'text'}, inplace=True)\n",
    "    add_df['emotion'] = add_df.apply(lambda row: ', '.join([col for col in emotion_cols if row[col] == 1]), axis=1)\n",
    "    add_df[f'aug_{add_type}'] = 1\n",
    "    print(\"Additional DF size:\", len(add_df))\n",
    "    \n",
    "    full_df_[f'aug_{add_type}'] = 0\n",
    "    full_df = pd.concat([full_df_, add_df])\n",
    "    print(\"Full DF size (with additional data):\", len(full_df))\n",
    "else:\n",
    "    full_df = full_df_\n",
    "\n",
    "full_df.head()"
   ]
  },
  {
   "cell_type": "markdown",
   "metadata": {},
   "source": [
    "## EDA"
   ]
  },
  {
   "cell_type": "code",
   "execution_count": 25,
   "metadata": {},
   "outputs": [
    {
     "name": "stdout",
     "output_type": "stream",
     "text": [
      "Total data with non-ASCII chars: 1933\n"
     ]
    }
   ],
   "source": [
    "def contains_non_ascii(text):\n",
    "    try:\n",
    "        text.encode('ascii')\n",
    "    except UnicodeEncodeError:\n",
    "        return True\n",
    "    return False\n",
    "\n",
    "print(\"Total data with non-ASCII chars:\", int(full_df['text'].apply(contains_non_ascii).sum()))"
   ]
  },
  {
   "cell_type": "code",
   "execution_count": 26,
   "metadata": {},
   "outputs": [
    {
     "name": "stdout",
     "output_type": "stream",
     "text": [
      "Total data with non-ASCII chars (after normalizing them): 0\n"
     ]
    }
   ],
   "source": [
    "def normalize_to_ascii(text):\n",
    "    return unicodedata.normalize('NFKD', text).encode('ascii', 'ignore').decode('ascii')\n",
    "\n",
    "# Normalize to ASCII equivalents\n",
    "full_df['text'] = full_df['text'].apply(normalize_to_ascii)\n",
    "print(\"Total data with non-ASCII chars (after normalizing them):\", int(full_df['text'].apply(contains_non_ascii).sum()))"
   ]
  },
  {
   "cell_type": "code",
   "execution_count": 27,
   "metadata": {},
   "outputs": [
    {
     "name": "stdout",
     "output_type": "stream",
     "text": [
      "Distribution of emotions:\n"
     ]
    },
    {
     "data": {
      "text/plain": [
       "marah       834\n",
       "terkejut    792\n",
       "jijik       768\n",
       "sedih       752\n",
       "takut       709\n",
       "senang      682\n",
       "biasa       463\n",
       "dtype: int64"
      ]
     },
     "execution_count": 27,
     "metadata": {},
     "output_type": "execute_result"
    }
   ],
   "source": [
    "print(\"Distribution of emotions:\")\n",
    "full_df[emotion_cols].sum().sort_values(ascending=False)"
   ]
  },
  {
   "cell_type": "code",
   "execution_count": 28,
   "metadata": {},
   "outputs": [
    {
     "name": "stdout",
     "output_type": "stream",
     "text": [
      "Emotion combinations distribution:\n"
     ]
    },
    {
     "data": {
      "text/plain": [
       "emotion\n",
       "terkejut                                496\n",
       "takut                                   491\n",
       "marah                                   484\n",
       "biasa                                   463\n",
       "sedih                                   450\n",
       "jijik                                   441\n",
       "senang                                  434\n",
       "marah, jijik                            173\n",
       "senang, terkejut                        133\n",
       "takut, sedih                             77\n",
       "marah, sedih                             53\n",
       "senang, sedih                            48\n",
       "jijik, takut                             40\n",
       "jijik, sedih                             35\n",
       "marah, takut                             27\n",
       "marah, terkejut                          26\n",
       "takut, terkejut                          26\n",
       "sedih, terkejut                          24\n",
       "jijik, terkejut                          18\n",
       "senang, sedih, terkejut                  11\n",
       "jijik, senang                            10\n",
       "marah, jijik, terkejut                    8\n",
       "marah, sedih, terkejut                    8\n",
       "takut, senang, terkejut                   8\n",
       "takut, senang                             7\n",
       "marah, jijik, takut                       7\n",
       "marah, jijik, sedih                       7\n",
       "marah, takut, sedih                       6\n",
       "marah, jijik, senang                      6\n",
       "marah, senang, terkejut                   6\n",
       "takut, sedih, terkejut                    5\n",
       "jijik, senang, terkejut                   4\n",
       "marah, jijik, sedih, terkejut             4\n",
       "jijik, sedih, terkejut                    4\n",
       "marah, senang, sedih                      4\n",
       "marah, takut, sedih, terkejut             4\n",
       "marah, senang                             2\n",
       "takut, senang, sedih                      2\n",
       "marah, jijik, takut, sedih, terkejut      2\n",
       "jijik, takut, sedih                       2\n",
       "marah, jijik, takut, sedih                2\n",
       "marah, jijik, senang, terkejut            2\n",
       "jijik, takut, senang                      1\n",
       "marah, takut, terkejut                    1\n",
       "takut, senang, sedih, terkejut            1\n",
       "jijik, senang, sedih                      1\n",
       "marah, senang, sedih, terkejut            1\n",
       "marah, jijik, senang, sedih               1\n",
       "Name: count, dtype: int64"
      ]
     },
     "execution_count": 28,
     "metadata": {},
     "output_type": "execute_result"
    }
   ],
   "source": [
    "print(\"Emotion combinations distribution:\")\n",
    "full_df['emotion'].value_counts()"
   ]
  },
  {
   "cell_type": "code",
   "execution_count": 29,
   "metadata": {},
   "outputs": [
    {
     "name": "stdout",
     "output_type": "stream",
     "text": [
      "Distribution of data with single emotion and combined emotions:\n",
      "\n",
      "marah          : 484 \t-> Difference from max: -134\n",
      "marah + ...    : 350\t-> Difference from max: 0\n",
      "---------------\n",
      "Total: 834\n",
      "Ratio: 138.286%\n",
      "\n",
      "jijik          : 441 \t-> Difference from max: -91\n",
      "jijik + ...    : 327\t-> Difference from max: 23\n",
      "---------------\n",
      "Total: 768\n",
      "Ratio: 134.862%\n",
      "\n",
      "takut          : 491 \t-> Difference from max: -141\n",
      "takut + ...    : 218\t-> Difference from max: 132\n",
      "---------------\n",
      "Total: 709\n",
      "Ratio: 225.229%\n",
      "\n",
      "senang         : 434 \t-> Difference from max: -84\n",
      "senang + ...   : 248\t-> Difference from max: 102\n",
      "---------------\n",
      "Total: 682\n",
      "Ratio: 175.000%\n",
      "\n",
      "sedih          : 450 \t-> Difference from max: -100\n",
      "sedih + ...    : 302\t-> Difference from max: 48\n",
      "---------------\n",
      "Total: 752\n",
      "Ratio: 149.007%\n",
      "\n",
      "terkejut       : 496 \t-> Difference from max: -146\n",
      "terkejut + ... : 296\t-> Difference from max: 54\n",
      "---------------\n",
      "Total: 792\n",
      "Ratio: 167.568%\n",
      "\n",
      "biasa          : 463 \t-> Difference from max: -113\n",
      "biasa + ...    : 0\n",
      "---------------\n",
      "Total: 463\n",
      "\n",
      "Min. single emotion total: 434\n"
     ]
    }
   ],
   "source": [
    "full_df['num_emotions'] = full_df.apply(lambda row: int(sum(row[emotion_cols].tolist())), axis=1)\n",
    "\n",
    "single_emotion_totals = [len(full_df[(full_df[emotion_col] == 1) & (full_df['num_emotions'] == 1)]) for emotion_col in emotion_cols]\n",
    "comb_emotion_totals = [len(full_df[(full_df[emotion_col] == 1) & (full_df['num_emotions'] > 1)]) for emotion_col in emotion_cols]\n",
    "\n",
    "min_single_emotion_total = float('inf')\n",
    "\n",
    "print(\"Distribution of data with single emotion and combined emotions:\\n\")\n",
    "for emotion, single_emotion_total, comb_emotion_total in zip(emotion_cols, single_emotion_totals, comb_emotion_totals):\n",
    "    if single_emotion_total < min_single_emotion_total:\n",
    "        min_single_emotion_total = single_emotion_total\n",
    "\n",
    "    diff_from_max_single = max(comb_emotion_totals) - single_emotion_total\n",
    "    diff_from_max_comb = max(comb_emotion_totals) - comb_emotion_total\n",
    "    ratio = single_emotion_total / (comb_emotion_total if comb_emotion_total else 1) * 100\n",
    "    total = single_emotion_total + comb_emotion_total\n",
    "\n",
    "    print(f\"{emotion:<15}:\", single_emotion_total, \"\\t-> Difference from max:\", diff_from_max_single, end=\"\")\n",
    "    print()\n",
    "\n",
    "    print(f\"{emotion + ' + ...':<15}:\", comb_emotion_total, end=\"\")\n",
    "    if emotion != \"biasa\":\n",
    "        print(\"\\t-> Difference from max:\", diff_from_max_comb, end=\"\")\n",
    "    print()\n",
    "\n",
    "    print(\"-\"*15)\n",
    "    print(\"Total:\", total)\n",
    "\n",
    "    if emotion != \"biasa\":\n",
    "        print(f\"Ratio: {ratio:.3f}%\")\n",
    "    print()\n",
    "\n",
    "print(\"Min. single emotion total:\", min_single_emotion_total)"
   ]
  },
  {
   "cell_type": "markdown",
   "metadata": {},
   "source": [
    "## Balance Data"
   ]
  },
  {
   "cell_type": "code",
   "execution_count": 30,
   "metadata": {},
   "outputs": [],
   "source": [
    "# balanced_dfs = []\n",
    "\n",
    "# for emotion in emotion_cols:\n",
    "#     single_emotion_df = full_df[(full_df[emotion] == 1) & (full_df['num_emotions'] == 1)]\n",
    "#     print(f\"Single {emotion} DF:\", len(single_emotion_df))\n",
    "#     single_emotion_df_balanced = single_emotion_df.sample(n=min_single_emotion_total, random_state=seed)\n",
    "#     print(f\"Single {emotion} DF (after balancing):\", len(single_emotion_df_balanced))\n",
    "\n",
    "#     comb_emotion_df = full_df[(full_df[emotion] == 1) & (full_df['num_emotions'] > 1)]\n",
    "#     print(f\"Combination {emotion} DF:\", len(comb_emotion_df))\n",
    "#     comb_emotion_df_balanced = comb_emotion_df.sample(n=min_single_emotion_total, random_state=seed) if len(comb_emotion_df) > min_single_emotion_total else comb_emotion_df\n",
    "#     print(f\"Combination {emotion} DF (after balancing):\", len(comb_emotion_df_balanced))\n",
    "\n",
    "#     total = len(single_emotion_df_balanced) + len(comb_emotion_df_balanced)\n",
    "\n",
    "#     print(\"-\" * 46)\n",
    "#     print(\"Total:\", total)\n",
    "\n",
    "#     balanced_dfs += [single_emotion_df_balanced, comb_emotion_df_balanced]\n",
    "\n",
    "#     print()\n",
    "\n",
    "# assert len(balanced_dfs) == len(emotion_cols) * 2"
   ]
  },
  {
   "cell_type": "code",
   "execution_count": 31,
   "metadata": {},
   "outputs": [],
   "source": [
    "# balanced_df = pd.concat(balanced_dfs)\n",
    "# balanced_df = balanced_df[~balanced_df.index.duplicated(keep='first')]\n",
    "\n",
    "# print(\"DF size:\", len(full_df))\n",
    "# print(\"DF size (after balancing)\", len(balanced_df))"
   ]
  },
  {
   "cell_type": "code",
   "execution_count": 32,
   "metadata": {},
   "outputs": [],
   "source": [
    "# save_df = balanced_df.drop('num_emotions', axis=1)\n",
    "# save_df.to_csv('sun_go_emotions_balanced.csv', index=False)"
   ]
  },
  {
   "cell_type": "markdown",
   "metadata": {},
   "source": [
    "## Save Data"
   ]
  },
  {
   "cell_type": "code",
   "execution_count": 35,
   "metadata": {},
   "outputs": [
    {
     "name": "stdout",
     "output_type": "stream",
     "text": [
      "Saved to: sun_go_emotions_v2.csv\n"
     ]
    }
   ],
   "source": [
    "save_path = 'sun_go_emotions_v2.csv'\n",
    "save_df = full_df.drop('num_emotions', axis=1)\n",
    "save_df.to_csv(save_path, index=False)\n",
    "print(\"Saved to:\", save_path)"
   ]
  }
 ],
 "metadata": {
  "kernelspec": {
   "display_name": "Python 3",
   "language": "python",
   "name": "python3"
  },
  "language_info": {
   "codemirror_mode": {
    "name": "ipython",
    "version": 3
   },
   "file_extension": ".py",
   "mimetype": "text/x-python",
   "name": "python",
   "nbconvert_exporter": "python",
   "pygments_lexer": "ipython3",
   "version": "3.12.4"
  }
 },
 "nbformat": 4,
 "nbformat_minor": 2
}

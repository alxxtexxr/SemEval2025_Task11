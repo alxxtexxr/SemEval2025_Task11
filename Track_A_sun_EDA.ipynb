{
 "cells": [
  {
   "cell_type": "markdown",
   "metadata": {},
   "source": [
    "# Libraries"
   ]
  },
  {
   "cell_type": "code",
   "execution_count": 1,
   "metadata": {},
   "outputs": [],
   "source": [
    "import os\n",
    "import random\n",
    "import numpy as np\n",
    "import pandas as pd\n",
    "import torch\n",
    "import transformers\n",
    "from datasets import load_dataset"
   ]
  },
  {
   "cell_type": "code",
   "execution_count": 2,
   "metadata": {},
   "outputs": [],
   "source": [
    "seed = 42\n",
    "lang = 'sun'\n",
    "\n",
    "hf_data_id = 'alxxtexxr/SemEval2025-Task11-Dataset'\n",
    "hf_data_config = 'track_a_sun_70_15_15_stratify_v2'"
   ]
  },
  {
   "cell_type": "code",
   "execution_count": 3,
   "metadata": {},
   "outputs": [
    {
     "name": "stdout",
     "output_type": "stream",
     "text": [
      "Random seed set to: 42\n"
     ]
    }
   ],
   "source": [
    "def set_seed(seed):\n",
    "    # Set random seed for NumPy\n",
    "    np.random.seed(seed)\n",
    "\n",
    "    # Set random seed for Torch\n",
    "    torch.manual_seed(seed)\n",
    "    torch.cuda.manual_seed(seed)\n",
    "    torch.cuda.manual_seed_all(seed)  # if using multi-GPU\n",
    "    torch.backends.cudnn.deterministic = True  # Ensures deterministic results\n",
    "    torch.backends.cudnn.benchmark = False  # Avoids non-deterministic algorithms\n",
    "\n",
    "    # Set random seed for Transformers\n",
    "    transformers.set_seed(seed)\n",
    "\n",
    "    # Optionally set random seed for sklearn and Python's own random module\n",
    "    random.seed(seed)\n",
    "\n",
    "    # Set random seed for os\n",
    "    os.environ['PYTHONHASHSEED'] = str(seed)\n",
    "\n",
    "    print(f\"Random seed set to: {seed}\")\n",
    "\n",
    "set_seed(seed)"
   ]
  },
  {
   "cell_type": "markdown",
   "metadata": {},
   "source": [
    "# Data"
   ]
  },
  {
   "cell_type": "markdown",
   "metadata": {},
   "source": [
    "## Load Data"
   ]
  },
  {
   "cell_type": "code",
   "execution_count": 4,
   "metadata": {},
   "outputs": [
    {
     "name": "stdout",
     "output_type": "stream",
     "text": [
      "Splits: ['train', 'val', 'test']\n",
      "Data columns: ['text', 'emotion', 'marah', 'jijik', 'takut', 'senang', 'sedih', 'terkejut', 'biasa']\n",
      "Emotions columns: ['marah', 'jijik', 'takut', 'senang', 'sedih', 'terkejut', 'biasa']\n"
     ]
    }
   ],
   "source": [
    "datasets = load_dataset(hf_data_id, hf_data_config)\n",
    "\n",
    "cols = list(datasets['train'].features)\n",
    "emotion_cols = [col for col in cols if col not in ['Unnamed: 0', 'text', 'emotion']]\n",
    "splits = [*datasets.keys()]\n",
    "\n",
    "print(\"Splits:\", splits)\n",
    "print(\"Data columns:\", cols)\n",
    "print(\"Emotions columns:\", emotion_cols)"
   ]
  },
  {
   "cell_type": "code",
   "execution_count": 5,
   "metadata": {},
   "outputs": [
    {
     "data": {
      "text/html": [
       "<div>\n",
       "<style scoped>\n",
       "    .dataframe tbody tr th:only-of-type {\n",
       "        vertical-align: middle;\n",
       "    }\n",
       "\n",
       "    .dataframe tbody tr th {\n",
       "        vertical-align: top;\n",
       "    }\n",
       "\n",
       "    .dataframe thead th {\n",
       "        text-align: right;\n",
       "    }\n",
       "</style>\n",
       "<table border=\"1\" class=\"dataframe\">\n",
       "  <thead>\n",
       "    <tr style=\"text-align: right;\">\n",
       "      <th></th>\n",
       "      <th>text</th>\n",
       "      <th>emotion</th>\n",
       "      <th>marah</th>\n",
       "      <th>jijik</th>\n",
       "      <th>takut</th>\n",
       "      <th>senang</th>\n",
       "      <th>sedih</th>\n",
       "      <th>terkejut</th>\n",
       "      <th>biasa</th>\n",
       "    </tr>\n",
       "  </thead>\n",
       "  <tbody>\n",
       "    <tr>\n",
       "      <th>0</th>\n",
       "      <td>Aya randa ker nguseup Pantun sunda meuni reuseup</td>\n",
       "      <td>senang</td>\n",
       "      <td>0</td>\n",
       "      <td>0</td>\n",
       "      <td>0</td>\n",
       "      <td>1</td>\n",
       "      <td>0</td>\n",
       "      <td>0</td>\n",
       "      <td>0</td>\n",
       "    </tr>\n",
       "    <tr>\n",
       "      <th>1</th>\n",
       "      <td>pastina ath mang ku abdi shere ken knu grup + SW</td>\n",
       "      <td>biasa</td>\n",
       "      <td>0</td>\n",
       "      <td>0</td>\n",
       "      <td>0</td>\n",
       "      <td>0</td>\n",
       "      <td>0</td>\n",
       "      <td>0</td>\n",
       "      <td>1</td>\n",
       "    </tr>\n",
       "    <tr>\n",
       "      <th>2</th>\n",
       "      <td>Mang Fiksi téh urang Majalengka ogé?</td>\n",
       "      <td>senang</td>\n",
       "      <td>0</td>\n",
       "      <td>0</td>\n",
       "      <td>0</td>\n",
       "      <td>1</td>\n",
       "      <td>0</td>\n",
       "      <td>0</td>\n",
       "      <td>0</td>\n",
       "    </tr>\n",
       "    <tr>\n",
       "      <th>3</th>\n",
       "      <td>mang dana ,uing can ngopi, kumaha ieu?</td>\n",
       "      <td>senang</td>\n",
       "      <td>0</td>\n",
       "      <td>0</td>\n",
       "      <td>0</td>\n",
       "      <td>1</td>\n",
       "      <td>0</td>\n",
       "      <td>0</td>\n",
       "      <td>0</td>\n",
       "    </tr>\n",
       "    <tr>\n",
       "      <th>4</th>\n",
       "      <td>Sedih Mang Ai kudu D Caritakeun Mah😄🙏</td>\n",
       "      <td>senang, sedih</td>\n",
       "      <td>0</td>\n",
       "      <td>0</td>\n",
       "      <td>0</td>\n",
       "      <td>1</td>\n",
       "      <td>1</td>\n",
       "      <td>0</td>\n",
       "      <td>0</td>\n",
       "    </tr>\n",
       "  </tbody>\n",
       "</table>\n",
       "</div>"
      ],
      "text/plain": [
       "                                               text        emotion  marah  \\\n",
       "0  Aya randa ker nguseup Pantun sunda meuni reuseup         senang      0   \n",
       "1  pastina ath mang ku abdi shere ken knu grup + SW          biasa      0   \n",
       "2              Mang Fiksi téh urang Majalengka ogé?         senang      0   \n",
       "3            mang dana ,uing can ngopi, kumaha ieu?         senang      0   \n",
       "4             Sedih Mang Ai kudu D Caritakeun Mah😄🙏  senang, sedih      0   \n",
       "\n",
       "   jijik  takut  senang  sedih  terkejut  biasa  \n",
       "0      0      0       1      0         0      0  \n",
       "1      0      0       0      0         0      1  \n",
       "2      0      0       1      0         0      0  \n",
       "3      0      0       1      0         0      0  \n",
       "4      0      0       1      1         0      0  "
      ]
     },
     "execution_count": 5,
     "metadata": {},
     "output_type": "execute_result"
    }
   ],
   "source": [
    "df = {split: pd.DataFrame(datasets[split]) for split in splits}\n",
    "df_all = pd.concat(df.values())\n",
    "df_all.head()"
   ]
  },
  {
   "cell_type": "markdown",
   "metadata": {},
   "source": [
    "## EDA"
   ]
  },
  {
   "cell_type": "code",
   "execution_count": 6,
   "metadata": {},
   "outputs": [
    {
     "name": "stdout",
     "output_type": "stream",
     "text": [
      "Training dataset size: 924\n"
     ]
    }
   ],
   "source": [
    "print(\"Training dataset size:\", len(df_all))"
   ]
  },
  {
   "cell_type": "code",
   "execution_count": 7,
   "metadata": {},
   "outputs": [
    {
     "name": "stdout",
     "output_type": "stream",
     "text": [
      "Emotion combinations distribution:\n"
     ]
    },
    {
     "data": {
      "text/plain": [
       "emotion\n",
       "senang                                  434\n",
       "senang, terkejut                        131\n",
       "sedih                                    82\n",
       "biasa                                    43\n",
       "senang, sedih                            42\n",
       "terkejut                                 16\n",
       "sedih, terkejut                          16\n",
       "marah, jijik                             15\n",
       "senang, sedih, terkejut                  11\n",
       "takut, sedih                             11\n",
       "jijik, senang                            10\n",
       "marah, sedih                              9\n",
       "marah, jijik, terkejut                    8\n",
       "marah                                     8\n",
       "marah, sedih, terkejut                    8\n",
       "takut, senang                             7\n",
       "marah, jijik, senang                      6\n",
       "takut, senang, terkejut                   6\n",
       "marah, senang, terkejut                   6\n",
       "takut                                     5\n",
       "jijik, sedih                              5\n",
       "marah, jijik, sedih                       5\n",
       "takut, sedih, terkejut                    5\n",
       "jijik, senang, terkejut                   4\n",
       "marah, senang, sedih                      4\n",
       "marah, jijik, sedih, terkejut             2\n",
       "takut, terkejut                           2\n",
       "marah, senang                             2\n",
       "jijik, terkejut                           2\n",
       "takut, senang, sedih                      2\n",
       "marah, jijik, takut, sedih, terkejut      2\n",
       "marah, jijik, senang, terkejut            2\n",
       "marah, takut, sedih                       2\n",
       "jijik, sedih, terkejut                    2\n",
       "jijik, takut, senang                      1\n",
       "jijik, senang, sedih                      1\n",
       "jijik                                     1\n",
       "marah, takut, terkejut                    1\n",
       "takut, senang, sedih, terkejut            1\n",
       "marah, jijik, takut                       1\n",
       "marah, senang, sedih, terkejut            1\n",
       "marah, jijik, senang, sedih               1\n",
       "marah, takut                              1\n",
       "Name: count, dtype: int64"
      ]
     },
     "execution_count": 7,
     "metadata": {},
     "output_type": "execute_result"
    }
   ],
   "source": [
    "print(\"Emotion combinations distribution:\")\n",
    "df_all['emotion'].value_counts()"
   ]
  },
  {
   "cell_type": "code",
   "execution_count": 8,
   "metadata": {},
   "outputs": [],
   "source": [
    "# for emotion_col in emotion_cols:\n",
    "#     comb_emotion_total = 0\n",
    "#     for single_emotion, single_emotion_total in df['train'][df['train'][emotion_col] == 1]['emotion'].value_counts().items():\n",
    "#         if single_emotion == emotion_col:\n",
    "#             print(f\"{single_emotion}:\", single_emotion_total)\n",
    "#         else:\n",
    "#             comb_emotion_total += single_emotion_total\n",
    "#     print(f\"{emotion_col}~:\", comb_emotion_total)\n",
    "#     print()"
   ]
  },
  {
   "cell_type": "code",
   "execution_count": 11,
   "metadata": {},
   "outputs": [
    {
     "data": {
      "text/html": [
       "<div>\n",
       "<style scoped>\n",
       "    .dataframe tbody tr th:only-of-type {\n",
       "        vertical-align: middle;\n",
       "    }\n",
       "\n",
       "    .dataframe tbody tr th {\n",
       "        vertical-align: top;\n",
       "    }\n",
       "\n",
       "    .dataframe thead th {\n",
       "        text-align: right;\n",
       "    }\n",
       "</style>\n",
       "<table border=\"1\" class=\"dataframe\">\n",
       "  <thead>\n",
       "    <tr style=\"text-align: right;\">\n",
       "      <th></th>\n",
       "      <th>text</th>\n",
       "      <th>emotion</th>\n",
       "      <th>marah</th>\n",
       "      <th>jijik</th>\n",
       "      <th>takut</th>\n",
       "      <th>senang</th>\n",
       "      <th>sedih</th>\n",
       "      <th>terkejut</th>\n",
       "      <th>biasa</th>\n",
       "      <th>num_emotions</th>\n",
       "    </tr>\n",
       "  </thead>\n",
       "  <tbody>\n",
       "    <tr>\n",
       "      <th>0</th>\n",
       "      <td>Aya randa ker nguseup Pantun sunda meuni reuseup</td>\n",
       "      <td>senang</td>\n",
       "      <td>0</td>\n",
       "      <td>0</td>\n",
       "      <td>0</td>\n",
       "      <td>1</td>\n",
       "      <td>0</td>\n",
       "      <td>0</td>\n",
       "      <td>0</td>\n",
       "      <td>1</td>\n",
       "    </tr>\n",
       "    <tr>\n",
       "      <th>1</th>\n",
       "      <td>pastina ath mang ku abdi shere ken knu grup + SW</td>\n",
       "      <td>biasa</td>\n",
       "      <td>0</td>\n",
       "      <td>0</td>\n",
       "      <td>0</td>\n",
       "      <td>0</td>\n",
       "      <td>0</td>\n",
       "      <td>0</td>\n",
       "      <td>1</td>\n",
       "      <td>1</td>\n",
       "    </tr>\n",
       "    <tr>\n",
       "      <th>2</th>\n",
       "      <td>Mang Fiksi téh urang Majalengka ogé?</td>\n",
       "      <td>senang</td>\n",
       "      <td>0</td>\n",
       "      <td>0</td>\n",
       "      <td>0</td>\n",
       "      <td>1</td>\n",
       "      <td>0</td>\n",
       "      <td>0</td>\n",
       "      <td>0</td>\n",
       "      <td>1</td>\n",
       "    </tr>\n",
       "    <tr>\n",
       "      <th>3</th>\n",
       "      <td>mang dana ,uing can ngopi, kumaha ieu?</td>\n",
       "      <td>senang</td>\n",
       "      <td>0</td>\n",
       "      <td>0</td>\n",
       "      <td>0</td>\n",
       "      <td>1</td>\n",
       "      <td>0</td>\n",
       "      <td>0</td>\n",
       "      <td>0</td>\n",
       "      <td>1</td>\n",
       "    </tr>\n",
       "    <tr>\n",
       "      <th>4</th>\n",
       "      <td>Sedih Mang Ai kudu D Caritakeun Mah😄🙏</td>\n",
       "      <td>senang, sedih</td>\n",
       "      <td>0</td>\n",
       "      <td>0</td>\n",
       "      <td>0</td>\n",
       "      <td>1</td>\n",
       "      <td>1</td>\n",
       "      <td>0</td>\n",
       "      <td>0</td>\n",
       "      <td>2</td>\n",
       "    </tr>\n",
       "  </tbody>\n",
       "</table>\n",
       "</div>"
      ],
      "text/plain": [
       "                                               text        emotion  marah  \\\n",
       "0  Aya randa ker nguseup Pantun sunda meuni reuseup         senang      0   \n",
       "1  pastina ath mang ku abdi shere ken knu grup + SW          biasa      0   \n",
       "2              Mang Fiksi téh urang Majalengka ogé?         senang      0   \n",
       "3            mang dana ,uing can ngopi, kumaha ieu?         senang      0   \n",
       "4             Sedih Mang Ai kudu D Caritakeun Mah😄🙏  senang, sedih      0   \n",
       "\n",
       "   jijik  takut  senang  sedih  terkejut  biasa  num_emotions  \n",
       "0      0      0       1      0         0      0             1  \n",
       "1      0      0       0      0         0      1             1  \n",
       "2      0      0       1      0         0      0             1  \n",
       "3      0      0       1      0         0      0             1  \n",
       "4      0      0       1      1         0      0             2  "
      ]
     },
     "execution_count": 11,
     "metadata": {},
     "output_type": "execute_result"
    }
   ],
   "source": [
    "def create_num_emotions_col(row):\n",
    "    return sum(row[emotion_cols].tolist())\n",
    "\n",
    "df_all.apply(create_num_emotions_col, axis=1)\n",
    "df_all['num_emotions'] = df_all.apply(create_num_emotions_col, axis=1)\n",
    "df_all.head()"
   ]
  },
  {
   "cell_type": "code",
   "execution_count": 61,
   "metadata": {},
   "outputs": [
    {
     "name": "stdout",
     "output_type": "stream",
     "text": [
      "marah: 8 \t -> diff. from max.: 230\n",
      "marah~: 76 \t -> diff. from max.: 162\n",
      "----------------\n",
      "ratio: 10.526%\n",
      "\n",
      "jijik: 1 \t -> diff. from max.: 237\n",
      "jijik~: 67 \t -> diff. from max.: 171\n",
      "----------------\n",
      "ratio: 1.493%\n",
      "\n",
      "takut: 5 \t -> diff. from max.: 233\n",
      "takut~: 42 \t -> diff. from max.: 196\n",
      "----------------\n",
      "ratio: 11.905%\n",
      "\n",
      "senang: 434 \t -> diff. from max.: -196\n",
      "senang~: 238 \t -> diff. from max.: 0\n",
      "----------------\n",
      "ratio: 182.353%\n",
      "\n",
      "sedih: 82 \t -> diff. from max.: 156\n",
      "sedih~: 130 \t -> diff. from max.: 108\n",
      "----------------\n",
      "ratio: 63.077%\n",
      "\n",
      "terkejut: 16 \t -> diff. from max.: 222\n",
      "terkejut~: 210 \t -> diff. from max.: 28\n",
      "----------------\n",
      "ratio: 7.619%\n",
      "\n",
      "biasa: 43 \t -> diff. from max.: 195\n",
      "biasa~: 0 \t -> diff. from max.: 238\n",
      "----------------\n",
      "ratio: 4300.000%\n",
      "\n"
     ]
    }
   ],
   "source": [
    "single_emotion_totals = [len(df_all[(df_all[emotion_col] == 1) & (df_all['num_emotions'] == 1)]) for emotion_col in emotion_cols]\n",
    "comb_emotion_totals = [len(df_all[(df_all[emotion_col] == 1) & (df_all['num_emotions'] > 1)]) for emotion_col in emotion_cols]\n",
    "\n",
    "\n",
    "for emotion, single_emotion_total, comb_emotion_total in zip(emotion_cols, single_emotion_totals, comb_emotion_totals):\n",
    "    diff_from_max_single = max(comb_emotion_totals) - single_emotion_total\n",
    "    diff_from_max_comb = max(comb_emotion_totals) - comb_emotion_total\n",
    "    ratio = single_emotion_total / (comb_emotion_total if comb_emotion_total else 1) * 100\n",
    "\n",
    "    print(f\"{emotion}:\", single_emotion_total, '\\t', '-> diff. from max.:', diff_from_max_single)\n",
    "    print(f\"{emotion}~:\", comb_emotion_total, '\\t', '-> diff. from max.:', diff_from_max_comb)\n",
    "    print(\"----------------\")\n",
    "    print(f\"ratio: {ratio:.3f}%\")\n",
    "    print()"
   ]
  },
  {
   "cell_type": "code",
   "execution_count": 38,
   "metadata": {},
   "outputs": [
    {
     "name": "stdout",
     "output_type": "stream",
     "text": [
      "Emotions distribution:\n"
     ]
    },
    {
     "data": {
      "text/plain": [
       "senang      481\n",
       "terkejut    170\n",
       "sedih       158\n",
       "marah        70\n",
       "jijik        58\n",
       "takut        42\n",
       "biasa        30\n",
       "dtype: int64"
      ]
     },
     "execution_count": 38,
     "metadata": {},
     "output_type": "execute_result"
    }
   ],
   "source": [
    "print(\"Emotions distribution:\")\n",
    "df['train'][emotion_cols].sum().sort_values(ascending=False)"
   ]
  }
 ],
 "metadata": {
  "kernelspec": {
   "display_name": "alxxtexxr_py312",
   "language": "python",
   "name": "python3"
  },
  "language_info": {
   "codemirror_mode": {
    "name": "ipython",
    "version": 3
   },
   "file_extension": ".py",
   "mimetype": "text/x-python",
   "name": "python",
   "nbconvert_exporter": "python",
   "pygments_lexer": "ipython3",
   "version": "3.12.4"
  }
 },
 "nbformat": 4,
 "nbformat_minor": 2
}

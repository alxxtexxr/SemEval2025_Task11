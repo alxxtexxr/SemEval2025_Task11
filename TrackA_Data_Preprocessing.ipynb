{
 "cells": [
  {
   "cell_type": "markdown",
   "metadata": {},
   "source": [
    "# Libraries"
   ]
  },
  {
   "cell_type": "code",
   "execution_count": 20,
   "metadata": {},
   "outputs": [],
   "source": [
    "import os\n",
    "import random\n",
    "import numpy as np\n",
    "import pandas as pd\n",
    "from sklearn.model_selection import train_test_split\n",
    "from huggingface_hub import HfApi"
   ]
  },
  {
   "cell_type": "markdown",
   "metadata": {},
   "source": [
    "# Config"
   ]
  },
  {
   "cell_type": "code",
   "execution_count": 21,
   "metadata": {},
   "outputs": [],
   "source": [
    "seed = 42\n",
    "lang = 'eng'\n",
    "raw_data_dir = './data/public_data/'\n",
    "preprocessed_data_dir = './data/preprocessed_data/'\n",
    "repo_id = 'alxxtexxr/SemEval2025-Task11-Dataset'"
   ]
  },
  {
   "cell_type": "code",
   "execution_count": 14,
   "metadata": {},
   "outputs": [
    {
     "name": "stdout",
     "output_type": "stream",
     "text": [
      "Random seed set to: 42\n"
     ]
    }
   ],
   "source": [
    "def set_seed(seed):\n",
    "    # Set random seed for NumPy\n",
    "    np.random.seed(seed)\n",
    "\n",
    "    # Optionally set random seed for sklearn and Python's own random module\n",
    "    random.seed(seed)\n",
    "\n",
    "    # Set random seed for os\n",
    "    os.environ['PYTHONHASHSEED'] = str(seed)\n",
    "\n",
    "    print(f\"Random seed set to: {seed}\")\n",
    "\n",
    "set_seed(seed)"
   ]
  },
  {
   "cell_type": "markdown",
   "metadata": {},
   "source": [
    "# Data"
   ]
  },
  {
   "cell_type": "markdown",
   "metadata": {},
   "source": [
    "## Preprocess Data"
   ]
  },
  {
   "cell_type": "code",
   "execution_count": 15,
   "metadata": {},
   "outputs": [
    {
     "name": "stdout",
     "output_type": "stream",
     "text": [
      "Training DF length: 2768\n",
      "\n"
     ]
    },
    {
     "data": {
      "text/html": [
       "<div>\n",
       "<style scoped>\n",
       "    .dataframe tbody tr th:only-of-type {\n",
       "        vertical-align: middle;\n",
       "    }\n",
       "\n",
       "    .dataframe tbody tr th {\n",
       "        vertical-align: top;\n",
       "    }\n",
       "\n",
       "    .dataframe thead th {\n",
       "        text-align: right;\n",
       "    }\n",
       "</style>\n",
       "<table border=\"1\" class=\"dataframe\">\n",
       "  <thead>\n",
       "    <tr style=\"text-align: right;\">\n",
       "      <th></th>\n",
       "      <th>id</th>\n",
       "      <th>text</th>\n",
       "      <th>Anger</th>\n",
       "      <th>Fear</th>\n",
       "      <th>Joy</th>\n",
       "      <th>Sadness</th>\n",
       "      <th>Surprise</th>\n",
       "    </tr>\n",
       "  </thead>\n",
       "  <tbody>\n",
       "    <tr>\n",
       "      <th>0</th>\n",
       "      <td>eng_train_track_a_00001</td>\n",
       "      <td>But not very happy.</td>\n",
       "      <td>0</td>\n",
       "      <td>0</td>\n",
       "      <td>1</td>\n",
       "      <td>1</td>\n",
       "      <td>0</td>\n",
       "    </tr>\n",
       "    <tr>\n",
       "      <th>1</th>\n",
       "      <td>eng_train_track_a_00002</td>\n",
       "      <td>Well she's not gon na last the whole song like...</td>\n",
       "      <td>0</td>\n",
       "      <td>0</td>\n",
       "      <td>1</td>\n",
       "      <td>0</td>\n",
       "      <td>0</td>\n",
       "    </tr>\n",
       "    <tr>\n",
       "      <th>2</th>\n",
       "      <td>eng_train_track_a_00003</td>\n",
       "      <td>She sat at her Papa's recliner sofa only to mo...</td>\n",
       "      <td>0</td>\n",
       "      <td>0</td>\n",
       "      <td>0</td>\n",
       "      <td>0</td>\n",
       "      <td>0</td>\n",
       "    </tr>\n",
       "    <tr>\n",
       "      <th>3</th>\n",
       "      <td>eng_train_track_a_00004</td>\n",
       "      <td>Yes, the Oklahoma city bombing.</td>\n",
       "      <td>1</td>\n",
       "      <td>1</td>\n",
       "      <td>0</td>\n",
       "      <td>1</td>\n",
       "      <td>1</td>\n",
       "    </tr>\n",
       "    <tr>\n",
       "      <th>4</th>\n",
       "      <td>eng_train_track_a_00005</td>\n",
       "      <td>They were dancing to Bolero.</td>\n",
       "      <td>0</td>\n",
       "      <td>0</td>\n",
       "      <td>1</td>\n",
       "      <td>0</td>\n",
       "      <td>0</td>\n",
       "    </tr>\n",
       "    <tr>\n",
       "      <th>...</th>\n",
       "      <td>...</td>\n",
       "      <td>...</td>\n",
       "      <td>...</td>\n",
       "      <td>...</td>\n",
       "      <td>...</td>\n",
       "      <td>...</td>\n",
       "      <td>...</td>\n",
       "    </tr>\n",
       "    <tr>\n",
       "      <th>2763</th>\n",
       "      <td>eng_train_track_a_02764</td>\n",
       "      <td>\"Yeah, but did you just find that?</td>\n",
       "      <td>0</td>\n",
       "      <td>1</td>\n",
       "      <td>0</td>\n",
       "      <td>0</td>\n",
       "      <td>1</td>\n",
       "    </tr>\n",
       "    <tr>\n",
       "      <th>2764</th>\n",
       "      <td>eng_train_track_a_02765</td>\n",
       "      <td>I did as little as possible with my right hand...</td>\n",
       "      <td>0</td>\n",
       "      <td>0</td>\n",
       "      <td>0</td>\n",
       "      <td>0</td>\n",
       "      <td>0</td>\n",
       "    </tr>\n",
       "    <tr>\n",
       "      <th>2765</th>\n",
       "      <td>eng_train_track_a_02766</td>\n",
       "      <td>Okay that sucks, right?</td>\n",
       "      <td>1</td>\n",
       "      <td>0</td>\n",
       "      <td>0</td>\n",
       "      <td>1</td>\n",
       "      <td>0</td>\n",
       "    </tr>\n",
       "    <tr>\n",
       "      <th>2766</th>\n",
       "      <td>eng_train_track_a_02767</td>\n",
       "      <td>The spark leaped through his body into mine, a...</td>\n",
       "      <td>0</td>\n",
       "      <td>1</td>\n",
       "      <td>0</td>\n",
       "      <td>0</td>\n",
       "      <td>1</td>\n",
       "    </tr>\n",
       "    <tr>\n",
       "      <th>2767</th>\n",
       "      <td>eng_train_track_a_02768</td>\n",
       "      <td>He had 4 inches and 40 pounds on me and I stil...</td>\n",
       "      <td>0</td>\n",
       "      <td>0</td>\n",
       "      <td>1</td>\n",
       "      <td>0</td>\n",
       "      <td>1</td>\n",
       "    </tr>\n",
       "  </tbody>\n",
       "</table>\n",
       "<p>2768 rows × 7 columns</p>\n",
       "</div>"
      ],
      "text/plain": [
       "                           id  \\\n",
       "0     eng_train_track_a_00001   \n",
       "1     eng_train_track_a_00002   \n",
       "2     eng_train_track_a_00003   \n",
       "3     eng_train_track_a_00004   \n",
       "4     eng_train_track_a_00005   \n",
       "...                       ...   \n",
       "2763  eng_train_track_a_02764   \n",
       "2764  eng_train_track_a_02765   \n",
       "2765  eng_train_track_a_02766   \n",
       "2766  eng_train_track_a_02767   \n",
       "2767  eng_train_track_a_02768   \n",
       "\n",
       "                                                   text  Anger  Fear  Joy  \\\n",
       "0                                   But not very happy.      0     0    1   \n",
       "1     Well she's not gon na last the whole song like...      0     0    1   \n",
       "2     She sat at her Papa's recliner sofa only to mo...      0     0    0   \n",
       "3                       Yes, the Oklahoma city bombing.      1     1    0   \n",
       "4                          They were dancing to Bolero.      0     0    1   \n",
       "...                                                 ...    ...   ...  ...   \n",
       "2763                 \"Yeah, but did you just find that?      0     1    0   \n",
       "2764  I did as little as possible with my right hand...      0     0    0   \n",
       "2765                            Okay that sucks, right?      1     0    0   \n",
       "2766  The spark leaped through his body into mine, a...      0     1    0   \n",
       "2767  He had 4 inches and 40 pounds on me and I stil...      0     0    1   \n",
       "\n",
       "      Sadness  Surprise  \n",
       "0           1         0  \n",
       "1           0         0  \n",
       "2           0         0  \n",
       "3           1         1  \n",
       "4           0         0  \n",
       "...       ...       ...  \n",
       "2763        0         1  \n",
       "2764        0         0  \n",
       "2765        1         0  \n",
       "2766        0         1  \n",
       "2767        0         1  \n",
       "\n",
       "[2768 rows x 7 columns]"
      ]
     },
     "execution_count": 15,
     "metadata": {},
     "output_type": "execute_result"
    }
   ],
   "source": [
    "train_df = pd.read_csv(os.path.join(raw_data_dir, f'train/track_a/{lang}.csv'))\n",
    "print(\"Training DF length:\", len(train_df))\n",
    "print()\n",
    "train_df"
   ]
  },
  {
   "cell_type": "code",
   "execution_count": 17,
   "metadata": {},
   "outputs": [
    {
     "name": "stdout",
     "output_type": "stream",
     "text": [
      "emotion\n",
      "joy                                429\n",
      "fear, sad                          412\n",
      "fear                               411\n",
      "fear, surprise                     324\n",
      "neutral                            239\n",
      "sad                                133\n",
      "fear, sad, surprise                124\n",
      "surprise                           114\n",
      "joy, surprise                      108\n",
      "anger, fear, sad                    77\n",
      "anger, fear                         66\n",
      "anger                               54\n",
      "anger, fear, sad, surprise          51\n",
      "fear, joy                           49\n",
      "anger, fear, surprise               42\n",
      "fear, joy, surprise                 37\n",
      "joy, sad                            25\n",
      "anger, sad                          20\n",
      "anger, surprise                     13\n",
      "sad, surprise                       11\n",
      "fear, joy, sad                      10\n",
      "fear, joy, sad, surprise             5\n",
      "joy, sad, surprise                   4\n",
      "anger, joy                           3\n",
      "anger, sad, surprise                 3\n",
      "anger, fear, joy, sad, surprise      2\n",
      "anger, joy, surprise                 1\n",
      "anger, fear, joy, sad                1\n",
      "Name: count, dtype: int64\n",
      "\n",
      "Training DF length (splitted): 2214\n",
      "Validation DF length: 554\n",
      "Testing DF length: 116\n"
     ]
    }
   ],
   "source": [
    "emotion_col_map = {\n",
    "    'eng': { 'Anger': 'anger', 'Fear': 'fear', 'Joy': 'joy', 'Sadness': 'sad', 'Surprise': 'surprise' },\n",
    "    'deu': { 'Anger': 'wut', 'Disgust': 'ekel', 'Fear': 'angst', 'Joy': 'freude', 'Sadness': 'trauer', 'Surprise': 'überraschung' },\n",
    "    'sun': { 'Anger': 'marah', 'Disgust': 'jijik', 'Fear': 'takut', 'Joy': 'senang', 'Sadness': 'sedih', 'Surprise': 'terkejut' },\n",
    "}\n",
    "emotion_cols = list(emotion_col_map[lang].values())\n",
    "\n",
    "empty_emotion_map = {\n",
    "    'eng': 'neutral',\n",
    "    'deu': 'neutral',\n",
    "    'sun': 'biasa',\n",
    "}\n",
    "\n",
    "# Rename emotion columns\n",
    "train_df = train_df.rename(columns=emotion_col_map[lang])\n",
    "\n",
    "# Create 'emotion' column by combining the positive emotions\n",
    "train_df['emotion'] = train_df.apply(lambda row: ', '.join([col for col in emotion_cols if row[col] == 1]), axis=1)\n",
    "train_df['emotion'] = train_df['emotion'].replace('', empty_emotion_map[lang]) # Fill empty emotion\n",
    "print(train_df['emotion'].value_counts())\n",
    "print()\n",
    "\n",
    "# Create 'stratify' column for stratified split\n",
    "train_df['stratify'] = train_df['emotion']\n",
    "\n",
    "# Identify classes with only one member\n",
    "single_class = train_df['emotion'].value_counts()[train_df['emotion'].value_counts() == 1].index\n",
    "\n",
    "# Assign a dummy value for the 'stratify' column for these classes\n",
    "train_df.loc[train_df['emotion'].isin(single_class), 'stratify'] = 'dummy'\n",
    "\n",
    "# Split training DF into training and validation DFs\n",
    "train_df_, val_df = train_test_split(train_df[['text', 'emotion'] + emotion_cols],\n",
    "                                     test_size=0.2,\n",
    "                                     stratify=train_df['stratify'],\n",
    "                                     random_state=seed)\n",
    "print(\"Training DF length (splitted):\", len(train_df_))\n",
    "print(\"Validation DF length:\", len(val_df))\n",
    "\n",
    "test_df = pd.read_csv(os.path.join(raw_data_dir, f'dev/track_a/{lang}_a.csv'))\n",
    "test_df['emotion'] = None\n",
    "test_df = test_df[['text', 'emotion']]\n",
    "print(\"Testing DF length:\", len(test_df))"
   ]
  },
  {
   "cell_type": "markdown",
   "metadata": {},
   "source": [
    "## Save Preprocessed Data"
   ]
  },
  {
   "cell_type": "code",
   "execution_count": 19,
   "metadata": {},
   "outputs": [],
   "source": [
    "# Save preprocessed data\n",
    "lang_dir = os.path.join(preprocessed_data_dir, lang)\n",
    "\n",
    "!mkdir -p $lang_dir\n",
    "\n",
    "train_df_.to_csv(os.path.join(lang_dir, 'train.csv'))\n",
    "val_df.to_csv(os.path.join(lang_dir, 'val.csv'))\n",
    "test_df.to_csv(os.path.join(lang_dir, 'test.csv'))"
   ]
  },
  {
   "cell_type": "markdown",
   "metadata": {},
   "source": [
    "## Upload Preprocessed Data to Hugging Face"
   ]
  },
  {
   "cell_type": "code",
   "execution_count": 24,
   "metadata": {},
   "outputs": [
    {
     "data": {
      "text/plain": [
       "CommitInfo(commit_url='https://huggingface.co/datasets/alxxtexxr/SemEval2025-Task11-Dataset/commit/22411f10528c0870454fb9efc25c6ecb3ca4e6d8', commit_message='Upload folder using huggingface_hub', commit_description='', oid='22411f10528c0870454fb9efc25c6ecb3ca4e6d8', pr_url=None, pr_revision=None, pr_num=None)"
      ]
     },
     "execution_count": 24,
     "metadata": {},
     "output_type": "execute_result"
    }
   ],
   "source": [
    "hf_api = HfApi()\n",
    "hf_api.upload_folder(\n",
    "    repo_id=repo_id,\n",
    "    repo_type='dataset',\n",
    "    folder_path=lang_dir,\n",
    "    path_in_repo=os.path.join('preprocessed_data', lang),\n",
    ")"
   ]
  }
 ],
 "metadata": {
  "kernelspec": {
   "display_name": "alxxtexxr_py312",
   "language": "python",
   "name": "python3"
  },
  "language_info": {
   "codemirror_mode": {
    "name": "ipython",
    "version": 3
   },
   "file_extension": ".py",
   "mimetype": "text/x-python",
   "name": "python",
   "nbconvert_exporter": "python",
   "pygments_lexer": "ipython3",
   "version": "3.12.4"
  }
 },
 "nbformat": 4,
 "nbformat_minor": 2
}

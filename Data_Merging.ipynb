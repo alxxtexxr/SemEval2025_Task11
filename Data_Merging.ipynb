{
 "cells": [
  {
   "cell_type": "code",
   "execution_count": 12,
   "metadata": {},
   "outputs": [],
   "source": [
    "import pandas as pd"
   ]
  },
  {
   "cell_type": "code",
   "execution_count": 11,
   "metadata": {},
   "outputs": [],
   "source": [
    "data1_path = 'go_emotions_fear_single_227_comb_183_translated_cleaned_curated.csv'\n",
    "data2_path = 'go_emotions_fear_single_9_comb_13_translated_cleaned_curated.csv'\n",
    "selected_emotion = 'fear'"
   ]
  },
  {
   "cell_type": "code",
   "execution_count": 13,
   "metadata": {},
   "outputs": [
    {
     "name": "stdout",
     "output_type": "stream",
     "text": [
      "DF-1 size: 410\n",
      "DF-2 size: 22\n",
      "Merged DF size: 432\n"
     ]
    }
   ],
   "source": [
    "df1 = pd.read_csv(data1_path)\n",
    "df2 = pd.read_csv(data2_path)\n",
    "df_merged = pd.concat([df1, df2])\n",
    "\n",
    "print(\"DF-1 size:\", len(df1))\n",
    "print(\"DF-2 size:\", len(df2))\n",
    "print(\"Merged DF size:\", len(df_merged))"
   ]
  },
  {
   "cell_type": "code",
   "execution_count": 15,
   "metadata": {},
   "outputs": [
    {
     "name": "stdout",
     "output_type": "stream",
     "text": [
      "Total cleaned data with single emotion: 236\n",
      "Total cleaned data with combined emotions: 196\n"
     ]
    }
   ],
   "source": [
    "df_single = df_merged[(df_merged[selected_emotion] == 1) & (df_merged['num_emotions'] == 1)]\n",
    "df_comb = df_merged[(df_merged[selected_emotion] == 1) & (df_merged['num_emotions'] > 1)]\n",
    "\n",
    "print(\"Total cleaned data with single emotion:\", len(df_single))\n",
    "print(\"Total cleaned data with combined emotions:\", len(df_comb))"
   ]
  },
  {
   "cell_type": "code",
   "execution_count": 16,
   "metadata": {},
   "outputs": [
    {
     "name": "stdout",
     "output_type": "stream",
     "text": [
      "Saved to: go_emotions_fear_single_236_comb_196_translated_cleaned_curated.csv\n"
     ]
    }
   ],
   "source": [
    "save_path = f'go_emotions_{selected_emotion}_single_{len(df_single)}_comb_{len(df_comb)}_translated_cleaned_curated.csv'\n",
    "df_merged.to_csv(save_path, index=False)\n",
    "print(\"Saved to:\", save_path)"
   ]
  }
 ],
 "metadata": {
  "kernelspec": {
   "display_name": "alxxtexxr_py312",
   "language": "python",
   "name": "python3"
  },
  "language_info": {
   "codemirror_mode": {
    "name": "ipython",
    "version": 3
   },
   "file_extension": ".py",
   "mimetype": "text/x-python",
   "name": "python",
   "nbconvert_exporter": "python",
   "pygments_lexer": "ipython3",
   "version": "3.12.4"
  }
 },
 "nbformat": 4,
 "nbformat_minor": 2
}

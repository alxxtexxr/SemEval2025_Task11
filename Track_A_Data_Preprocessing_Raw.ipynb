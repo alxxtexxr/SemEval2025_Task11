{
 "cells": [
  {
   "cell_type": "markdown",
   "metadata": {},
   "source": [
    "# Libraries"
   ]
  },
  {
   "cell_type": "code",
   "execution_count": 29,
   "metadata": {},
   "outputs": [],
   "source": [
    "import os\n",
    "import random\n",
    "import numpy as np\n",
    "import pandas as pd\n",
    "import unicodedata\n",
    "from huggingface_hub import HfApi\n",
    "\n",
    "pd.set_option('max_colwidth', None)"
   ]
  },
  {
   "cell_type": "markdown",
   "metadata": {},
   "source": [
    "# Config"
   ]
  },
  {
   "cell_type": "code",
   "execution_count": 30,
   "metadata": {},
   "outputs": [
    {
     "name": "stdout",
     "output_type": "stream",
     "text": [
      "Hugging Face dataset config: sun_back_translated_dev\n"
     ]
    }
   ],
   "source": [
    "seed = 42\n",
    "lang = 'sun'\n",
    "\n",
    "split = 'train' \n",
    "raw_data_path = f'data/public_data_dev/track_a/{split}/sun.csv'\n",
    "# raw_data_path = 'data/back_translated_data_raw/track_a/sun/dev_final.csv'\n",
    "preprocessed_data_dir = './data/preprocessed_data_raw/'\n",
    "\n",
    "hf_data_id = 'alxxtexxr/SemEval2025-Task11-Dataset'\n",
    "hf_data_config = lang + '_back_translated_dev'\n",
    "print(\"Hugging Face dataset config:\", hf_data_config)\n",
    "\n",
    "save_dir = os.path.join(preprocessed_data_dir, 'track_a', hf_data_config)\n",
    "save_path = os.path.join(save_dir, f'{split}.csv')"
   ]
  },
  {
   "cell_type": "code",
   "execution_count": 31,
   "metadata": {},
   "outputs": [
    {
     "name": "stdout",
     "output_type": "stream",
     "text": [
      "Random seed set to: 42\n"
     ]
    }
   ],
   "source": [
    "def set_seed(seed):\n",
    "    # Set random seed for NumPy\n",
    "    np.random.seed(seed)\n",
    "\n",
    "    # Optionally set random seed for sklearn and Python's own random module\n",
    "    random.seed(seed)\n",
    "\n",
    "    # Set random seed for os\n",
    "    os.environ['PYTHONHASHSEED'] = str(seed)\n",
    "\n",
    "    print(f\"Random seed set to: {seed}\")\n",
    "\n",
    "set_seed(seed)"
   ]
  },
  {
   "cell_type": "markdown",
   "metadata": {},
   "source": [
    "# Data"
   ]
  },
  {
   "cell_type": "markdown",
   "metadata": {},
   "source": [
    "## Load Data"
   ]
  },
  {
   "cell_type": "code",
   "execution_count": 32,
   "metadata": {},
   "outputs": [
    {
     "name": "stdout",
     "output_type": "stream",
     "text": [
      "Raw DF length: 924\n"
     ]
    },
    {
     "data": {
      "text/html": [
       "<div>\n",
       "<style scoped>\n",
       "    .dataframe tbody tr th:only-of-type {\n",
       "        vertical-align: middle;\n",
       "    }\n",
       "\n",
       "    .dataframe tbody tr th {\n",
       "        vertical-align: top;\n",
       "    }\n",
       "\n",
       "    .dataframe thead th {\n",
       "        text-align: right;\n",
       "    }\n",
       "</style>\n",
       "<table border=\"1\" class=\"dataframe\">\n",
       "  <thead>\n",
       "    <tr style=\"text-align: right;\">\n",
       "      <th></th>\n",
       "      <th>id</th>\n",
       "      <th>text</th>\n",
       "      <th>anger</th>\n",
       "      <th>disgust</th>\n",
       "      <th>fear</th>\n",
       "      <th>joy</th>\n",
       "      <th>sadness</th>\n",
       "      <th>surprise</th>\n",
       "    </tr>\n",
       "  </thead>\n",
       "  <tbody>\n",
       "    <tr>\n",
       "      <th>0</th>\n",
       "      <td>sun_train_track_a_00001</td>\n",
       "      <td>Kumaha mang fiksi engke ka sabilulungan mang salam bandung soreang</td>\n",
       "      <td>0</td>\n",
       "      <td>0</td>\n",
       "      <td>0</td>\n",
       "      <td>1</td>\n",
       "      <td>0</td>\n",
       "      <td>1</td>\n",
       "    </tr>\n",
       "    <tr>\n",
       "      <th>1</th>\n",
       "      <td>sun_train_track_a_00002</td>\n",
       "      <td>tapi domba anakan namah lain ku kuring mreun. 😂 ku domba dai nyh</td>\n",
       "      <td>0</td>\n",
       "      <td>0</td>\n",
       "      <td>0</td>\n",
       "      <td>1</td>\n",
       "      <td>0</td>\n",
       "      <td>1</td>\n",
       "    </tr>\n",
       "    <tr>\n",
       "      <th>2</th>\n",
       "      <td>sun_train_track_a_00003</td>\n",
       "      <td>Aduh mang naha bet kudu penting di upload ma😂😂</td>\n",
       "      <td>0</td>\n",
       "      <td>0</td>\n",
       "      <td>0</td>\n",
       "      <td>1</td>\n",
       "      <td>0</td>\n",
       "      <td>0</td>\n",
       "    </tr>\n",
       "    <tr>\n",
       "      <th>3</th>\n",
       "      <td>sun_train_track_a_00004</td>\n",
       "      <td>pokonamah nuhun sabandungeun , kita terus tingkatkeun skill babarengan mang :) KAPAN NIKAH ? :(</td>\n",
       "      <td>0</td>\n",
       "      <td>0</td>\n",
       "      <td>0</td>\n",
       "      <td>1</td>\n",
       "      <td>1</td>\n",
       "      <td>0</td>\n",
       "    </tr>\n",
       "    <tr>\n",
       "      <th>4</th>\n",
       "      <td>sun_train_track_a_00005</td>\n",
       "      <td>Kang eta teu isin?? Apa emng tukang ngisinkeun wkwk😅</td>\n",
       "      <td>0</td>\n",
       "      <td>0</td>\n",
       "      <td>0</td>\n",
       "      <td>1</td>\n",
       "      <td>0</td>\n",
       "      <td>1</td>\n",
       "    </tr>\n",
       "  </tbody>\n",
       "</table>\n",
       "</div>"
      ],
      "text/plain": [
       "                        id  \\\n",
       "0  sun_train_track_a_00001   \n",
       "1  sun_train_track_a_00002   \n",
       "2  sun_train_track_a_00003   \n",
       "3  sun_train_track_a_00004   \n",
       "4  sun_train_track_a_00005   \n",
       "\n",
       "                                                                                              text  \\\n",
       "0                               Kumaha mang fiksi engke ka sabilulungan mang salam bandung soreang   \n",
       "1                                 tapi domba anakan namah lain ku kuring mreun. 😂 ku domba dai nyh   \n",
       "2                                                   Aduh mang naha bet kudu penting di upload ma😂😂   \n",
       "3  pokonamah nuhun sabandungeun , kita terus tingkatkeun skill babarengan mang :) KAPAN NIKAH ? :(   \n",
       "4                                             Kang eta teu isin?? Apa emng tukang ngisinkeun wkwk😅   \n",
       "\n",
       "   anger  disgust  fear  joy  sadness  surprise  \n",
       "0      0        0     0    1        0         1  \n",
       "1      0        0     0    1        0         1  \n",
       "2      0        0     0    1        0         0  \n",
       "3      0        0     0    1        1         0  \n",
       "4      0        0     0    1        0         1  "
      ]
     },
     "execution_count": 32,
     "metadata": {},
     "output_type": "execute_result"
    }
   ],
   "source": [
    "df = pd.read_csv(raw_data_path)\n",
    "print(\"Raw DF length:\", len(df))\n",
    "df.head()"
   ]
  },
  {
   "cell_type": "markdown",
   "metadata": {},
   "source": [
    "## Preprocess Data"
   ]
  },
  {
   "cell_type": "code",
   "execution_count": 33,
   "metadata": {},
   "outputs": [
    {
     "data": {
      "text/html": [
       "<div>\n",
       "<style scoped>\n",
       "    .dataframe tbody tr th:only-of-type {\n",
       "        vertical-align: middle;\n",
       "    }\n",
       "\n",
       "    .dataframe tbody tr th {\n",
       "        vertical-align: top;\n",
       "    }\n",
       "\n",
       "    .dataframe thead th {\n",
       "        text-align: right;\n",
       "    }\n",
       "</style>\n",
       "<table border=\"1\" class=\"dataframe\">\n",
       "  <thead>\n",
       "    <tr style=\"text-align: right;\">\n",
       "      <th></th>\n",
       "      <th>id</th>\n",
       "      <th>text</th>\n",
       "      <th>anger</th>\n",
       "      <th>disgust</th>\n",
       "      <th>fear</th>\n",
       "      <th>joy</th>\n",
       "      <th>sadness</th>\n",
       "      <th>surprise</th>\n",
       "    </tr>\n",
       "  </thead>\n",
       "  <tbody>\n",
       "    <tr>\n",
       "      <th>0</th>\n",
       "      <td>sun_train_track_a_00001</td>\n",
       "      <td>Kumaha mang fiksi engke ka sabilulungan mang salam bandung soreang</td>\n",
       "      <td>0</td>\n",
       "      <td>0</td>\n",
       "      <td>0</td>\n",
       "      <td>1</td>\n",
       "      <td>0</td>\n",
       "      <td>1</td>\n",
       "    </tr>\n",
       "    <tr>\n",
       "      <th>1</th>\n",
       "      <td>sun_train_track_a_00002</td>\n",
       "      <td>tapi domba anakan namah lain ku kuring mreun. 😂 ku domba dai nyh</td>\n",
       "      <td>0</td>\n",
       "      <td>0</td>\n",
       "      <td>0</td>\n",
       "      <td>1</td>\n",
       "      <td>0</td>\n",
       "      <td>1</td>\n",
       "    </tr>\n",
       "    <tr>\n",
       "      <th>2</th>\n",
       "      <td>sun_train_track_a_00003</td>\n",
       "      <td>Aduh mang naha bet kudu penting di upload ma😂😂</td>\n",
       "      <td>0</td>\n",
       "      <td>0</td>\n",
       "      <td>0</td>\n",
       "      <td>1</td>\n",
       "      <td>0</td>\n",
       "      <td>0</td>\n",
       "    </tr>\n",
       "    <tr>\n",
       "      <th>3</th>\n",
       "      <td>sun_train_track_a_00004</td>\n",
       "      <td>pokonamah nuhun sabandungeun , kita terus tingkatkeun skill babarengan mang :) KAPAN NIKAH ? :(</td>\n",
       "      <td>0</td>\n",
       "      <td>0</td>\n",
       "      <td>0</td>\n",
       "      <td>1</td>\n",
       "      <td>1</td>\n",
       "      <td>0</td>\n",
       "    </tr>\n",
       "    <tr>\n",
       "      <th>4</th>\n",
       "      <td>sun_train_track_a_00005</td>\n",
       "      <td>Kang eta teu isin?? Apa emng tukang ngisinkeun wkwk😅</td>\n",
       "      <td>0</td>\n",
       "      <td>0</td>\n",
       "      <td>0</td>\n",
       "      <td>1</td>\n",
       "      <td>0</td>\n",
       "      <td>1</td>\n",
       "    </tr>\n",
       "  </tbody>\n",
       "</table>\n",
       "</div>"
      ],
      "text/plain": [
       "                        id  \\\n",
       "0  sun_train_track_a_00001   \n",
       "1  sun_train_track_a_00002   \n",
       "2  sun_train_track_a_00003   \n",
       "3  sun_train_track_a_00004   \n",
       "4  sun_train_track_a_00005   \n",
       "\n",
       "                                                                                              text  \\\n",
       "0                               Kumaha mang fiksi engke ka sabilulungan mang salam bandung soreang   \n",
       "1                                 tapi domba anakan namah lain ku kuring mreun. 😂 ku domba dai nyh   \n",
       "2                                                   Aduh mang naha bet kudu penting di upload ma😂😂   \n",
       "3  pokonamah nuhun sabandungeun , kita terus tingkatkeun skill babarengan mang :) KAPAN NIKAH ? :(   \n",
       "4                                             Kang eta teu isin?? Apa emng tukang ngisinkeun wkwk😅   \n",
       "\n",
       "   anger  disgust  fear  joy  sadness  surprise  \n",
       "0      0        0     0    1        0         1  \n",
       "1      0        0     0    1        0         1  \n",
       "2      0        0     0    1        0         0  \n",
       "3      0        0     0    1        1         0  \n",
       "4      0        0     0    1        0         1  "
      ]
     },
     "execution_count": 33,
     "metadata": {},
     "output_type": "execute_result"
    }
   ],
   "source": [
    "# df['text'] = df['text'].str.replace(r'(?<!menit\\s)\\b\\d{1,2}:\\s?\\d{2}\\b', '', regex=True) # Remove timestamps\n",
    "\n",
    "# # # df['text'] = df['text'].str.replace(r'^#\\w+', '', regex=True) # Remove hashtags at the start of the text\n",
    "# df['text'] = df['text'].str.replace(r'#(\\w+)', r'\\1', regex=True) # Remove # from the remaining hashtags\n",
    "\n",
    "# # Convert dialogue formats to use ':'\n",
    "# df['text'] = df['text'].str.replace(r'<(\\w+)>', r'\\1:', regex=True)\n",
    "# df['text'] = df['text'].str.replace(r'([A-Z])-', r'\\1:', regex=True)\n",
    "# df['text'] = df['text'].str.replace(r'([A-Z]) -', r'\\1:', regex=True)\n",
    "# df['text'] = df['text'].str.replace(r'([A-Z])=', r'\\1:', regex=True)\n",
    "# df['text'] = df['text'].str.replace(r'([A-Z]) =', r'\\1:', regex=True)\n",
    "\n",
    "# # Replace dialogue names\n",
    "# df['text'] = df['text'].str.replace(r'\\b[Qq]:', 'Batur:', regex=True)\n",
    "# df['text'] = df['text'].apply(lambda x: x.replace('A:', 'Urang:') if 'Batur:' in x else x)\n",
    "\n",
    "# df['text'] = df['text'].str.replace(r'\\b[Aa]:', 'Batur:', regex=True)\n",
    "# df['text'] = df['text'].str.replace(r'\\b[Bb]:', 'Urang:', regex=True)\n",
    "\n",
    "# df['text'] = df['text'].str.replace(r'-(?=\\w*[0-9])\\w+', '', regex=True) # Remove patterns like -ic3rd4ow4d\n",
    "# # # df = df[df['text'].str.count(r'\\s+') > 0] # Remove rows with only one word\n",
    "\n",
    "# df['text'] = df['text'].str.strip()\n",
    "# df['text'] = df['text'].str.lstrip(',.!:$%^&*+') # Remove leading punctuation marks (comma, dot, etc.)\n",
    "# df['text'] = df['text'].str.strip()\n",
    "\n",
    "df.head()"
   ]
  },
  {
   "cell_type": "code",
   "execution_count": 34,
   "metadata": {},
   "outputs": [
    {
     "name": "stdout",
     "output_type": "stream",
     "text": [
      "Total data with non-ASCII chars: 375\n"
     ]
    }
   ],
   "source": [
    "def contains_non_ascii(text):\n",
    "    try:\n",
    "        text.encode('ascii')\n",
    "    except UnicodeEncodeError:\n",
    "        return True\n",
    "    return False\n",
    "\n",
    "print(\"Total data with non-ASCII chars:\", int(df['text'].apply(contains_non_ascii).sum()))"
   ]
  },
  {
   "cell_type": "code",
   "execution_count": 35,
   "metadata": {},
   "outputs": [
    {
     "name": "stdout",
     "output_type": "stream",
     "text": [
      "Total data with non-ASCII chars (after normalizing them): 0\n"
     ]
    },
    {
     "data": {
      "text/html": [
       "<div>\n",
       "<style scoped>\n",
       "    .dataframe tbody tr th:only-of-type {\n",
       "        vertical-align: middle;\n",
       "    }\n",
       "\n",
       "    .dataframe tbody tr th {\n",
       "        vertical-align: top;\n",
       "    }\n",
       "\n",
       "    .dataframe thead th {\n",
       "        text-align: right;\n",
       "    }\n",
       "</style>\n",
       "<table border=\"1\" class=\"dataframe\">\n",
       "  <thead>\n",
       "    <tr style=\"text-align: right;\">\n",
       "      <th></th>\n",
       "      <th>id</th>\n",
       "      <th>text</th>\n",
       "      <th>anger</th>\n",
       "      <th>disgust</th>\n",
       "      <th>fear</th>\n",
       "      <th>joy</th>\n",
       "      <th>sadness</th>\n",
       "      <th>surprise</th>\n",
       "    </tr>\n",
       "  </thead>\n",
       "  <tbody>\n",
       "    <tr>\n",
       "      <th>0</th>\n",
       "      <td>sun_train_track_a_00001</td>\n",
       "      <td>Kumaha mang fiksi engke ka sabilulungan mang salam bandung soreang</td>\n",
       "      <td>0</td>\n",
       "      <td>0</td>\n",
       "      <td>0</td>\n",
       "      <td>1</td>\n",
       "      <td>0</td>\n",
       "      <td>1</td>\n",
       "    </tr>\n",
       "    <tr>\n",
       "      <th>1</th>\n",
       "      <td>sun_train_track_a_00002</td>\n",
       "      <td>tapi domba anakan namah lain ku kuring mreun.  ku domba dai nyh</td>\n",
       "      <td>0</td>\n",
       "      <td>0</td>\n",
       "      <td>0</td>\n",
       "      <td>1</td>\n",
       "      <td>0</td>\n",
       "      <td>1</td>\n",
       "    </tr>\n",
       "    <tr>\n",
       "      <th>2</th>\n",
       "      <td>sun_train_track_a_00003</td>\n",
       "      <td>Aduh mang naha bet kudu penting di upload ma</td>\n",
       "      <td>0</td>\n",
       "      <td>0</td>\n",
       "      <td>0</td>\n",
       "      <td>1</td>\n",
       "      <td>0</td>\n",
       "      <td>0</td>\n",
       "    </tr>\n",
       "    <tr>\n",
       "      <th>3</th>\n",
       "      <td>sun_train_track_a_00004</td>\n",
       "      <td>pokonamah nuhun sabandungeun , kita terus tingkatkeun skill babarengan mang :) KAPAN NIKAH ? :(</td>\n",
       "      <td>0</td>\n",
       "      <td>0</td>\n",
       "      <td>0</td>\n",
       "      <td>1</td>\n",
       "      <td>1</td>\n",
       "      <td>0</td>\n",
       "    </tr>\n",
       "    <tr>\n",
       "      <th>4</th>\n",
       "      <td>sun_train_track_a_00005</td>\n",
       "      <td>Kang eta teu isin?? Apa emng tukang ngisinkeun wkwk</td>\n",
       "      <td>0</td>\n",
       "      <td>0</td>\n",
       "      <td>0</td>\n",
       "      <td>1</td>\n",
       "      <td>0</td>\n",
       "      <td>1</td>\n",
       "    </tr>\n",
       "  </tbody>\n",
       "</table>\n",
       "</div>"
      ],
      "text/plain": [
       "                        id  \\\n",
       "0  sun_train_track_a_00001   \n",
       "1  sun_train_track_a_00002   \n",
       "2  sun_train_track_a_00003   \n",
       "3  sun_train_track_a_00004   \n",
       "4  sun_train_track_a_00005   \n",
       "\n",
       "                                                                                              text  \\\n",
       "0                               Kumaha mang fiksi engke ka sabilulungan mang salam bandung soreang   \n",
       "1                                  tapi domba anakan namah lain ku kuring mreun.  ku domba dai nyh   \n",
       "2                                                     Aduh mang naha bet kudu penting di upload ma   \n",
       "3  pokonamah nuhun sabandungeun , kita terus tingkatkeun skill babarengan mang :) KAPAN NIKAH ? :(   \n",
       "4                                              Kang eta teu isin?? Apa emng tukang ngisinkeun wkwk   \n",
       "\n",
       "   anger  disgust  fear  joy  sadness  surprise  \n",
       "0      0        0     0    1        0         1  \n",
       "1      0        0     0    1        0         1  \n",
       "2      0        0     0    1        0         0  \n",
       "3      0        0     0    1        1         0  \n",
       "4      0        0     0    1        0         1  "
      ]
     },
     "execution_count": 35,
     "metadata": {},
     "output_type": "execute_result"
    }
   ],
   "source": [
    "def normalize_to_ascii(text):\n",
    "    return unicodedata.normalize('NFKD', text).encode('ascii', 'ignore').decode('ascii')\n",
    "\n",
    "# def normalize_to_ascii(text):\n",
    "#     # Normalize the text to decompose accented characters\n",
    "#     text = unicodedata.normalize('NFKD', text)\n",
    "#     # Remove only combining marks (like accents) while keeping emojis and other symbols\n",
    "#     text = ''.join(char for char in text if not unicodedata.combining(char))\n",
    "#     return text\n",
    "\n",
    "# Normalize to ASCII equivalents\n",
    "df['text'] = df['text'].apply(normalize_to_ascii)\n",
    "print(\"Total data with non-ASCII chars (after normalizing them):\", int(df['text'].apply(contains_non_ascii).sum()))\n",
    "\n",
    "df.head()"
   ]
  },
  {
   "cell_type": "markdown",
   "metadata": {},
   "source": [
    "## Save Preprocessed Data"
   ]
  },
  {
   "cell_type": "code",
   "execution_count": 36,
   "metadata": {},
   "outputs": [
    {
     "name": "stdout",
     "output_type": "stream",
     "text": [
      "Saved to: ./data/preprocessed_data_raw/track_a/sun_back_translated_dev/train.csv\n"
     ]
    }
   ],
   "source": [
    "!mkdir -p $save_dir\n",
    "\n",
    "df.to_csv(save_path, index=False)\n",
    "\n",
    "print(\"Saved to:\", save_path)"
   ]
  },
  {
   "cell_type": "markdown",
   "metadata": {},
   "source": [
    "## Upload Preprocessed Data to Hugging Face"
   ]
  },
  {
   "cell_type": "code",
   "execution_count": 37,
   "metadata": {},
   "outputs": [
    {
     "data": {
      "text/plain": [
       "CommitInfo(commit_url='https://huggingface.co/datasets/alxxtexxr/SemEval2025-Task11-Dataset/commit/052594e61014022a7ac584ffd6a88c298119c724', commit_message='Upload folder using huggingface_hub', commit_description='', oid='052594e61014022a7ac584ffd6a88c298119c724', pr_url=None, repo_url=RepoUrl('https://huggingface.co/datasets/alxxtexxr/SemEval2025-Task11-Dataset', endpoint='https://huggingface.co', repo_type='dataset', repo_id='alxxtexxr/SemEval2025-Task11-Dataset'), pr_revision=None, pr_num=None)"
      ]
     },
     "execution_count": 37,
     "metadata": {},
     "output_type": "execute_result"
    }
   ],
   "source": [
    "hf_api = HfApi()\n",
    "hf_api.upload_folder(\n",
    "    repo_id=hf_data_id,\n",
    "    repo_type='dataset',\n",
    "    folder_path=save_dir,\n",
    "    path_in_repo=os.path.join('preprocessed_data_raw/track_a', hf_data_config),\n",
    ")"
   ]
  }
 ],
 "metadata": {
  "kernelspec": {
   "display_name": "Python 3",
   "language": "python",
   "name": "python3"
  },
  "language_info": {
   "codemirror_mode": {
    "name": "ipython",
    "version": 3
   },
   "file_extension": ".py",
   "mimetype": "text/x-python",
   "name": "python",
   "nbconvert_exporter": "python",
   "pygments_lexer": "ipython3",
   "version": "3.12.4"
  }
 },
 "nbformat": 4,
 "nbformat_minor": 2
}

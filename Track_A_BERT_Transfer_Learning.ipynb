{
 "cells": [
  {
   "cell_type": "markdown",
   "metadata": {},
   "source": [
    "### Reference\n",
    "- Multi-Label Classification Model From Scratch: Step-by-Step Tutorial (https://huggingface.co/blog/Valerii-Knowledgator/multi-label-classification)\n",
    "- https://github.com/NielsRogge/Transformers-Tutorials/blob/master/BERT/Fine_tuning_BERT_(and_friends)_for_multi_label_text_classification.ipynb\n",
    "- https://github.com/huggingface/notebooks/blob/main/examples/text_classification.ipynb"
   ]
  },
  {
   "cell_type": "markdown",
   "metadata": {},
   "source": [
    "# Libraries"
   ]
  },
  {
   "cell_type": "code",
   "execution_count": 1,
   "metadata": {},
   "outputs": [],
   "source": [
    "%pip install -q -U datasets transformers accelerate sentencepiece # evaluate"
   ]
  },
  {
   "cell_type": "code",
   "execution_count": 2,
   "metadata": {},
   "outputs": [],
   "source": [
    "import os\n",
    "import random\n",
    "import numpy as np\n",
    "# import pandas as pd\n",
    "import torch\n",
    "import transformers\n",
    "# import evaluate\n",
    "from pprint import pprint\n",
    "from datasets import load_dataset\n",
    "from transformers import AutoModelForSequenceClassification, AutoTokenizer, DataCollatorWithPadding, Trainer, TrainingArguments\n",
    "from sklearn.metrics import f1_score"
   ]
  },
  {
   "cell_type": "markdown",
   "metadata": {},
   "source": [
    "# Config"
   ]
  },
  {
   "cell_type": "code",
   "execution_count": 30,
   "metadata": {},
   "outputs": [],
   "source": [
    "seed = 42\n",
    "lang = 'eng'\n",
    "# hf_model_id = 'google-bert/bert-base-uncased'\n",
    "# hf_model_id = 'google-bert/bert-large-uncased'\n",
    "hf_model_id = 'bhadresh-savani/bert-base-uncased-emotion'\n",
    "hf_data_id = 'alxxtexxr/SemEval2025-Task11-Dataset'\n",
    "hf_data_config = 'track_a_eng_70_15_15'\n",
    "project_name = f'BERT-Base-SE2025T11A-{lang}-v0.5'"
   ]
  },
  {
   "cell_type": "code",
   "execution_count": 4,
   "metadata": {},
   "outputs": [
    {
     "name": "stdout",
     "output_type": "stream",
     "text": [
      "Random seed set to: 42\n"
     ]
    }
   ],
   "source": [
    "def set_seed(seed):\n",
    "    # Set random seed for NumPy\n",
    "    np.random.seed(seed)\n",
    "\n",
    "    # Set random seed for Torch\n",
    "    torch.manual_seed(seed)\n",
    "    torch.cuda.manual_seed(seed)\n",
    "    torch.cuda.manual_seed_all(seed)  # if using multi-GPU\n",
    "    torch.backends.cudnn.deterministic = True  # Ensures deterministic results\n",
    "    torch.backends.cudnn.benchmark = False  # Avoids non-deterministic algorithms\n",
    "\n",
    "    # Set random seed for Transformers\n",
    "    transformers.set_seed(seed)\n",
    "\n",
    "    # Optionally set random seed for sklearn and Python's own random module\n",
    "    random.seed(seed)\n",
    "\n",
    "    # Set random seed for os\n",
    "    os.environ['PYTHONHASHSEED'] = str(seed)\n",
    "\n",
    "    print(f\"Random seed set to: {seed}\")\n",
    "\n",
    "set_seed(seed)"
   ]
  },
  {
   "cell_type": "markdown",
   "metadata": {},
   "source": [
    "# Data"
   ]
  },
  {
   "cell_type": "markdown",
   "metadata": {},
   "source": [
    "## Load Data"
   ]
  },
  {
   "cell_type": "code",
   "execution_count": 5,
   "metadata": {},
   "outputs": [
    {
     "name": "stderr",
     "output_type": "stream",
     "text": [
      "/usr/local/lib/python3.10/dist-packages/huggingface_hub/utils/_token.py:99: UserWarning: \n",
      "Error while fetching `HF_TOKEN` secret value from your vault: 'Requesting secret HF_TOKEN timed out. Secrets can only be fetched when running from the Colab UI.'.\n",
      "You are not authenticated with the Hugging Face Hub in this notebook.\n",
      "If the error persists, please let us know by opening an issue on GitHub (https://github.com/huggingface/huggingface_hub/issues/new).\n",
      "  warnings.warn(\n"
     ]
    },
    {
     "name": "stdout",
     "output_type": "stream",
     "text": [
      "Data columns: ['text', 'emotion', 'anger', 'fear', 'joy', 'sad', 'surprise']\n",
      "Emotions columns: ['anger', 'fear', 'joy', 'sad', 'surprise']\n"
     ]
    }
   ],
   "source": [
    "datasets = load_dataset(hf_data_id, hf_data_config)\n",
    "\n",
    "cols = list(datasets['train'].features)\n",
    "emotion_cols = [col for col in cols if col not in ['Unnamed: 0', 'text', 'emotion']]\n",
    "\n",
    "# splits = data_files.keys()\n",
    "# df = {split: pd.DataFrame(datasets[split]) for split in splits}\n",
    "\n",
    "# cols = list(df['train'].columns)\n",
    "print(\"Data columns:\", cols)\n",
    "\n",
    "# emotion_cols = [col for col in cols if col not in ['Unnamed: 0', 'text', 'emotion']]\n",
    "# # neutral_emotion = df['train'][df['train'][emotion_cols].sum(axis=1) == 0]['emotion'].iloc[0]\n",
    "# # emotions = emotion_cols + [neutral_emotion]\n",
    "print(\"Emotions columns:\", emotion_cols)\n",
    "# print()\n",
    "\n",
    "# print(\"Train DF size:\", len(df['train']))\n",
    "# print(\"Validation DF size:\", len(df['val']))\n",
    "# print(\"Testing DF size:\", len(df['test']))"
   ]
  },
  {
   "cell_type": "code",
   "execution_count": 6,
   "metadata": {},
   "outputs": [
    {
     "name": "stdout",
     "output_type": "stream",
     "text": [
      "Class to ID:\n",
      "\n",
      "{'anger': 0,\n",
      " 'fear': 1,\n",
      " 'joy': 2,\n",
      " 'sad': 3,\n",
      " 'surprise': 4}\n",
      "\n",
      "ID to Class:\n",
      "\n",
      "{0: 'anger',\n",
      " 1: 'fear',\n",
      " 2: 'joy',\n",
      " 3: 'sad',\n",
      " 4: 'surprise'}\n"
     ]
    }
   ],
   "source": [
    "class2id = {class_:id for id, class_ in enumerate(emotion_cols)}\n",
    "id2class = {id:class_ for class_, id in class2id.items()}\n",
    "\n",
    "print(\"Class to ID:\\n\")\n",
    "pprint(class2id, width=1)\n",
    "print()\n",
    "print(\"ID to Class:\\n\")\n",
    "pprint(id2class, width=1)"
   ]
  },
  {
   "cell_type": "markdown",
   "metadata": {},
   "source": [
    "## Preprocess Data"
   ]
  },
  {
   "cell_type": "code",
   "execution_count": 7,
   "metadata": {},
   "outputs": [],
   "source": [
    "tokenizer = AutoTokenizer.from_pretrained(hf_model_id)"
   ]
  },
  {
   "cell_type": "code",
   "execution_count": 8,
   "metadata": {},
   "outputs": [
    {
     "data": {
      "application/vnd.jupyter.widget-view+json": {
       "model_id": "fe481b372ed94ae4bdfe20cac707d194",
       "version_major": 2,
       "version_minor": 0
      },
      "text/plain": [
       "Map:   0%|          | 0/1937 [00:00<?, ? examples/s]"
      ]
     },
     "metadata": {},
     "output_type": "display_data"
    },
    {
     "data": {
      "application/vnd.jupyter.widget-view+json": {
       "model_id": "20ab420efb7f4109aac2bcafec3c5558",
       "version_major": 2,
       "version_minor": 0
      },
      "text/plain": [
       "Map:   0%|          | 0/415 [00:00<?, ? examples/s]"
      ]
     },
     "metadata": {},
     "output_type": "display_data"
    },
    {
     "data": {
      "application/vnd.jupyter.widget-view+json": {
       "model_id": "7827c9ba691b45c891130acdf4f0ef0f",
       "version_major": 2,
       "version_minor": 0
      },
      "text/plain": [
       "Map:   0%|          | 0/416 [00:00<?, ? examples/s]"
      ]
     },
     "metadata": {},
     "output_type": "display_data"
    }
   ],
   "source": [
    "def one_hot_encode_emotion(emotion, emotion_cols):\n",
    "    emotions = emotion.replace(\" \", \"\").split(\",\")\n",
    "    one_hot_emotion = [1.0 if emotion_col in emotions else 0.0 for emotion_col in emotion_cols] # Ensure that the label is float, not int\n",
    "    return one_hot_emotion\n",
    "\n",
    "def preprocess_function(data):\n",
    "   text = data['text']\n",
    "   emotion = data['emotion']\n",
    "   labels = one_hot_encode_emotion(emotion, emotion_cols)\n",
    "   data = tokenizer(text, truncation=True)\n",
    "   data['labels'] = labels\n",
    "   return data\n",
    "\n",
    "tokenized_datasets = {split: datasets[split].map(preprocess_function) for split in ['train', 'val', 'test']}"
   ]
  },
  {
   "cell_type": "code",
   "execution_count": 9,
   "metadata": {},
   "outputs": [
    {
     "name": "stdout",
     "output_type": "stream",
     "text": [
      "Text: My knuckles growing whiter and whiter, my mind screaming at me that we should be out of here, we should almost be home.\n",
      "Emotion(s): anger, fear\n",
      "Labels: [1.0, 1.0, 0.0, 0.0, 0.0] --> ['anger', 'fear', 'joy', 'sad', 'surprise']\n"
     ]
    }
   ],
   "source": [
    "# Sanity check\n",
    "data = tokenized_datasets['train'][0]\n",
    "\n",
    "print(\"Text:\", data['text'])\n",
    "print(\"Emotion(s):\", data['emotion'])\n",
    "print(\"Labels:\", data['labels'], '-->', emotion_cols)"
   ]
  },
  {
   "cell_type": "code",
   "execution_count": 10,
   "metadata": {},
   "outputs": [],
   "source": [
    "data_collator = DataCollatorWithPadding(tokenizer)"
   ]
  },
  {
   "cell_type": "markdown",
   "metadata": {},
   "source": [
    "# Model"
   ]
  },
  {
   "cell_type": "code",
   "execution_count": 22,
   "metadata": {},
   "outputs": [],
   "source": [
    "model = AutoModelForSequenceClassification.from_pretrained(\n",
    "    hf_model_id, \n",
    "    # num_labels=len(emotion_cols),\n",
    "    # id2label=id2class, label2id=class2id,\n",
    "    problem_type = \"multi_label_classification\",\n",
    ")"
   ]
  },
  {
   "cell_type": "code",
   "execution_count": 23,
   "metadata": {},
   "outputs": [],
   "source": [
    "# for param in model.parameters():\n",
    "#     param.requires_grad = False\n",
    "model.classifier = torch.nn.Linear(in_features=768, out_features=len(emotion_cols), bias=True)"
   ]
  },
  {
   "cell_type": "markdown",
   "metadata": {},
   "source": [
    "# Finetuning"
   ]
  },
  {
   "cell_type": "code",
   "execution_count": 24,
   "metadata": {},
   "outputs": [],
   "source": [
    "def sigmoid(x):\n",
    "   return 1/(1 + np.exp(-x))\n",
    "\n",
    "def compute_metrics(eval_pred):\n",
    "    predictions, labels = eval_pred\n",
    "    probs = sigmoid(predictions)\n",
    "    y_pred = (probs > 0.5).astype(int)\n",
    "    y_true = labels.astype(int)\n",
    "\n",
    "    # Compute F1 score for each type of averaging method\n",
    "    f1_micro = f1_score(y_true, y_pred, average='micro', zero_division=0.0)\n",
    "    f1_macro = f1_score(y_true, y_pred, average='macro', zero_division=0.0)\n",
    "    # f1_weighted = f1_score(y_true, y_pred, average='weighted', zero_division=0.0)\n",
    "    # f1_samples = f1_score(y_true, y_pred, average='samples', zero_division=0.0)\n",
    "    f1_labels = f1_score(y_true, y_pred, average=None, zero_division=0.0)\n",
    "    f1_labels_dict = {f'f1_label_{emotion_cols[i]}': f1_labels[i] for i in range(len(f1_labels))}\n",
    "\n",
    "    return {\n",
    "        'f1_micro': f1_micro,\n",
    "        'f1_macro': f1_macro,\n",
    "        **f1_labels_dict,\n",
    "    }"
   ]
  },
  {
   "cell_type": "code",
   "execution_count": 26,
   "metadata": {},
   "outputs": [
    {
     "name": "stderr",
     "output_type": "stream",
     "text": [
      "<ipython-input-26-d7f5c93b8dd2>:23: FutureWarning: `tokenizer` is deprecated and will be removed in version 5.0.0 for `Trainer.__init__`. Use `processing_class` instead.\n",
      "  trainer = Trainer(\n"
     ]
    }
   ],
   "source": [
    "train_args = TrainingArguments(\n",
    "    # Training config\n",
    "    per_device_train_batch_size=2,\n",
    "    num_train_epochs=2,\n",
    "    learning_rate=2e-5,\n",
    "    weight_decay=0.01,\n",
    "\n",
    "    # Logging config for training\n",
    "    logging_strategy='steps',\n",
    "    logging_steps=50,\n",
    "\n",
    "    # Evaluation config during training\n",
    "    per_device_eval_batch_size=2,\n",
    "    eval_strategy='steps',\n",
    "    eval_steps=50,\n",
    "\n",
    "    # Model saving config\n",
    "    output_dir=project_name,\n",
    "    save_strategy='epoch',\n",
    "    # load_best_model_at_end=True,\n",
    ")\n",
    "\n",
    "trainer = Trainer(\n",
    "    model=model,\n",
    "    args=train_args,\n",
    "    train_dataset=tokenized_datasets['train'],\n",
    "    eval_dataset=tokenized_datasets['val'],\n",
    "    tokenizer=tokenizer,\n",
    "    data_collator=data_collator,\n",
    "    compute_metrics=compute_metrics,\n",
    ")"
   ]
  },
  {
   "cell_type": "code",
   "execution_count": 27,
   "metadata": {},
   "outputs": [
    {
     "data": {
      "text/html": [
       "\n",
       "    <div>\n",
       "      \n",
       "      <progress value='1938' max='1938' style='width:300px; height:20px; vertical-align: middle;'></progress>\n",
       "      [1938/1938 04:20, Epoch 2/2]\n",
       "    </div>\n",
       "    <table border=\"1\" class=\"dataframe\">\n",
       "  <thead>\n",
       " <tr style=\"text-align: left;\">\n",
       "      <th>Step</th>\n",
       "      <th>Training Loss</th>\n",
       "      <th>Validation Loss</th>\n",
       "      <th>F1 Micro</th>\n",
       "      <th>F1 Macro</th>\n",
       "      <th>F1 Label Anger</th>\n",
       "      <th>F1 Label Fear</th>\n",
       "      <th>F1 Label Joy</th>\n",
       "      <th>F1 Label Sad</th>\n",
       "      <th>F1 Label Surprise</th>\n",
       "    </tr>\n",
       "  </thead>\n",
       "  <tbody>\n",
       "    <tr>\n",
       "      <td>50</td>\n",
       "      <td>0.618700</td>\n",
       "      <td>0.565652</td>\n",
       "      <td>0.466235</td>\n",
       "      <td>0.176883</td>\n",
       "      <td>0.000000</td>\n",
       "      <td>0.734756</td>\n",
       "      <td>0.000000</td>\n",
       "      <td>0.149660</td>\n",
       "      <td>0.000000</td>\n",
       "    </tr>\n",
       "    <tr>\n",
       "      <td>100</td>\n",
       "      <td>0.561000</td>\n",
       "      <td>0.528863</td>\n",
       "      <td>0.510259</td>\n",
       "      <td>0.250003</td>\n",
       "      <td>0.000000</td>\n",
       "      <td>0.733945</td>\n",
       "      <td>0.000000</td>\n",
       "      <td>0.454054</td>\n",
       "      <td>0.062016</td>\n",
       "    </tr>\n",
       "    <tr>\n",
       "      <td>150</td>\n",
       "      <td>0.527100</td>\n",
       "      <td>0.504681</td>\n",
       "      <td>0.559353</td>\n",
       "      <td>0.304708</td>\n",
       "      <td>0.039216</td>\n",
       "      <td>0.778157</td>\n",
       "      <td>0.000000</td>\n",
       "      <td>0.644628</td>\n",
       "      <td>0.061538</td>\n",
       "    </tr>\n",
       "    <tr>\n",
       "      <td>200</td>\n",
       "      <td>0.490200</td>\n",
       "      <td>0.495451</td>\n",
       "      <td>0.619048</td>\n",
       "      <td>0.422537</td>\n",
       "      <td>0.075472</td>\n",
       "      <td>0.799308</td>\n",
       "      <td>0.306452</td>\n",
       "      <td>0.664789</td>\n",
       "      <td>0.266667</td>\n",
       "    </tr>\n",
       "    <tr>\n",
       "      <td>250</td>\n",
       "      <td>0.502600</td>\n",
       "      <td>0.455279</td>\n",
       "      <td>0.603464</td>\n",
       "      <td>0.467929</td>\n",
       "      <td>0.107143</td>\n",
       "      <td>0.746835</td>\n",
       "      <td>0.606383</td>\n",
       "      <td>0.669492</td>\n",
       "      <td>0.209790</td>\n",
       "    </tr>\n",
       "    <tr>\n",
       "      <td>300</td>\n",
       "      <td>0.457000</td>\n",
       "      <td>0.455153</td>\n",
       "      <td>0.666667</td>\n",
       "      <td>0.516915</td>\n",
       "      <td>0.172414</td>\n",
       "      <td>0.785358</td>\n",
       "      <td>0.306452</td>\n",
       "      <td>0.718310</td>\n",
       "      <td>0.602041</td>\n",
       "    </tr>\n",
       "    <tr>\n",
       "      <td>350</td>\n",
       "      <td>0.404000</td>\n",
       "      <td>0.423405</td>\n",
       "      <td>0.674138</td>\n",
       "      <td>0.548277</td>\n",
       "      <td>0.111111</td>\n",
       "      <td>0.796992</td>\n",
       "      <td>0.588235</td>\n",
       "      <td>0.618182</td>\n",
       "      <td>0.626866</td>\n",
       "    </tr>\n",
       "    <tr>\n",
       "      <td>400</td>\n",
       "      <td>0.401600</td>\n",
       "      <td>0.408826</td>\n",
       "      <td>0.694650</td>\n",
       "      <td>0.581457</td>\n",
       "      <td>0.140351</td>\n",
       "      <td>0.801527</td>\n",
       "      <td>0.654762</td>\n",
       "      <td>0.674699</td>\n",
       "      <td>0.635945</td>\n",
       "    </tr>\n",
       "    <tr>\n",
       "      <td>450</td>\n",
       "      <td>0.437000</td>\n",
       "      <td>0.416980</td>\n",
       "      <td>0.685714</td>\n",
       "      <td>0.579983</td>\n",
       "      <td>0.175439</td>\n",
       "      <td>0.800805</td>\n",
       "      <td>0.680203</td>\n",
       "      <td>0.582524</td>\n",
       "      <td>0.660944</td>\n",
       "    </tr>\n",
       "    <tr>\n",
       "      <td>500</td>\n",
       "      <td>0.414700</td>\n",
       "      <td>0.403341</td>\n",
       "      <td>0.708300</td>\n",
       "      <td>0.638705</td>\n",
       "      <td>0.432432</td>\n",
       "      <td>0.809074</td>\n",
       "      <td>0.647727</td>\n",
       "      <td>0.708333</td>\n",
       "      <td>0.595960</td>\n",
       "    </tr>\n",
       "    <tr>\n",
       "      <td>550</td>\n",
       "      <td>0.412900</td>\n",
       "      <td>0.403427</td>\n",
       "      <td>0.700240</td>\n",
       "      <td>0.606420</td>\n",
       "      <td>0.258065</td>\n",
       "      <td>0.804469</td>\n",
       "      <td>0.662983</td>\n",
       "      <td>0.626087</td>\n",
       "      <td>0.680498</td>\n",
       "    </tr>\n",
       "    <tr>\n",
       "      <td>600</td>\n",
       "      <td>0.453200</td>\n",
       "      <td>0.398783</td>\n",
       "      <td>0.683459</td>\n",
       "      <td>0.627444</td>\n",
       "      <td>0.465753</td>\n",
       "      <td>0.776000</td>\n",
       "      <td>0.633333</td>\n",
       "      <td>0.581281</td>\n",
       "      <td>0.680851</td>\n",
       "    </tr>\n",
       "    <tr>\n",
       "      <td>650</td>\n",
       "      <td>0.398600</td>\n",
       "      <td>0.399328</td>\n",
       "      <td>0.695722</td>\n",
       "      <td>0.629412</td>\n",
       "      <td>0.444444</td>\n",
       "      <td>0.798419</td>\n",
       "      <td>0.637363</td>\n",
       "      <td>0.701389</td>\n",
       "      <td>0.565445</td>\n",
       "    </tr>\n",
       "    <tr>\n",
       "      <td>700</td>\n",
       "      <td>0.408200</td>\n",
       "      <td>0.398414</td>\n",
       "      <td>0.692180</td>\n",
       "      <td>0.621594</td>\n",
       "      <td>0.480000</td>\n",
       "      <td>0.821293</td>\n",
       "      <td>0.595238</td>\n",
       "      <td>0.541872</td>\n",
       "      <td>0.669565</td>\n",
       "    </tr>\n",
       "    <tr>\n",
       "      <td>750</td>\n",
       "      <td>0.433800</td>\n",
       "      <td>0.400258</td>\n",
       "      <td>0.688552</td>\n",
       "      <td>0.622351</td>\n",
       "      <td>0.400000</td>\n",
       "      <td>0.791837</td>\n",
       "      <td>0.695238</td>\n",
       "      <td>0.614679</td>\n",
       "      <td>0.610000</td>\n",
       "    </tr>\n",
       "    <tr>\n",
       "      <td>800</td>\n",
       "      <td>0.425600</td>\n",
       "      <td>0.414874</td>\n",
       "      <td>0.715694</td>\n",
       "      <td>0.618748</td>\n",
       "      <td>0.298507</td>\n",
       "      <td>0.815884</td>\n",
       "      <td>0.583851</td>\n",
       "      <td>0.731861</td>\n",
       "      <td>0.663636</td>\n",
       "    </tr>\n",
       "    <tr>\n",
       "      <td>850</td>\n",
       "      <td>0.474300</td>\n",
       "      <td>0.404099</td>\n",
       "      <td>0.715385</td>\n",
       "      <td>0.666778</td>\n",
       "      <td>0.536585</td>\n",
       "      <td>0.804511</td>\n",
       "      <td>0.643678</td>\n",
       "      <td>0.660944</td>\n",
       "      <td>0.688172</td>\n",
       "    </tr>\n",
       "    <tr>\n",
       "      <td>900</td>\n",
       "      <td>0.374000</td>\n",
       "      <td>0.385243</td>\n",
       "      <td>0.723101</td>\n",
       "      <td>0.673738</td>\n",
       "      <td>0.518519</td>\n",
       "      <td>0.809981</td>\n",
       "      <td>0.687831</td>\n",
       "      <td>0.652361</td>\n",
       "      <td>0.700000</td>\n",
       "    </tr>\n",
       "    <tr>\n",
       "      <td>950</td>\n",
       "      <td>0.351300</td>\n",
       "      <td>0.394948</td>\n",
       "      <td>0.702352</td>\n",
       "      <td>0.612330</td>\n",
       "      <td>0.281250</td>\n",
       "      <td>0.807619</td>\n",
       "      <td>0.655172</td>\n",
       "      <td>0.666667</td>\n",
       "      <td>0.650943</td>\n",
       "    </tr>\n",
       "    <tr>\n",
       "      <td>1000</td>\n",
       "      <td>0.326900</td>\n",
       "      <td>0.389315</td>\n",
       "      <td>0.734196</td>\n",
       "      <td>0.673682</td>\n",
       "      <td>0.480000</td>\n",
       "      <td>0.819672</td>\n",
       "      <td>0.655172</td>\n",
       "      <td>0.700389</td>\n",
       "      <td>0.713178</td>\n",
       "    </tr>\n",
       "    <tr>\n",
       "      <td>1050</td>\n",
       "      <td>0.268400</td>\n",
       "      <td>0.383720</td>\n",
       "      <td>0.739062</td>\n",
       "      <td>0.687911</td>\n",
       "      <td>0.493506</td>\n",
       "      <td>0.805395</td>\n",
       "      <td>0.691892</td>\n",
       "      <td>0.738806</td>\n",
       "      <td>0.709957</td>\n",
       "    </tr>\n",
       "    <tr>\n",
       "      <td>1100</td>\n",
       "      <td>0.293200</td>\n",
       "      <td>0.378977</td>\n",
       "      <td>0.729412</td>\n",
       "      <td>0.688426</td>\n",
       "      <td>0.547619</td>\n",
       "      <td>0.798450</td>\n",
       "      <td>0.692308</td>\n",
       "      <td>0.693548</td>\n",
       "      <td>0.710204</td>\n",
       "    </tr>\n",
       "    <tr>\n",
       "      <td>1150</td>\n",
       "      <td>0.269600</td>\n",
       "      <td>0.390468</td>\n",
       "      <td>0.711538</td>\n",
       "      <td>0.660922</td>\n",
       "      <td>0.472222</td>\n",
       "      <td>0.783133</td>\n",
       "      <td>0.693878</td>\n",
       "      <td>0.709924</td>\n",
       "      <td>0.645455</td>\n",
       "    </tr>\n",
       "    <tr>\n",
       "      <td>1200</td>\n",
       "      <td>0.294900</td>\n",
       "      <td>0.394095</td>\n",
       "      <td>0.721440</td>\n",
       "      <td>0.659068</td>\n",
       "      <td>0.428571</td>\n",
       "      <td>0.797710</td>\n",
       "      <td>0.684783</td>\n",
       "      <td>0.726619</td>\n",
       "      <td>0.657658</td>\n",
       "    </tr>\n",
       "    <tr>\n",
       "      <td>1250</td>\n",
       "      <td>0.272300</td>\n",
       "      <td>0.386744</td>\n",
       "      <td>0.732658</td>\n",
       "      <td>0.687625</td>\n",
       "      <td>0.558140</td>\n",
       "      <td>0.811538</td>\n",
       "      <td>0.648045</td>\n",
       "      <td>0.719101</td>\n",
       "      <td>0.701299</td>\n",
       "    </tr>\n",
       "    <tr>\n",
       "      <td>1300</td>\n",
       "      <td>0.283900</td>\n",
       "      <td>0.383415</td>\n",
       "      <td>0.727421</td>\n",
       "      <td>0.674278</td>\n",
       "      <td>0.526316</td>\n",
       "      <td>0.814672</td>\n",
       "      <td>0.647727</td>\n",
       "      <td>0.651584</td>\n",
       "      <td>0.731092</td>\n",
       "    </tr>\n",
       "    <tr>\n",
       "      <td>1350</td>\n",
       "      <td>0.264000</td>\n",
       "      <td>0.398423</td>\n",
       "      <td>0.728958</td>\n",
       "      <td>0.677074</td>\n",
       "      <td>0.523810</td>\n",
       "      <td>0.808118</td>\n",
       "      <td>0.635294</td>\n",
       "      <td>0.700000</td>\n",
       "      <td>0.718147</td>\n",
       "    </tr>\n",
       "    <tr>\n",
       "      <td>1400</td>\n",
       "      <td>0.329900</td>\n",
       "      <td>0.385264</td>\n",
       "      <td>0.722539</td>\n",
       "      <td>0.660309</td>\n",
       "      <td>0.465753</td>\n",
       "      <td>0.814672</td>\n",
       "      <td>0.643678</td>\n",
       "      <td>0.657778</td>\n",
       "      <td>0.719665</td>\n",
       "    </tr>\n",
       "    <tr>\n",
       "      <td>1450</td>\n",
       "      <td>0.294200</td>\n",
       "      <td>0.381351</td>\n",
       "      <td>0.731785</td>\n",
       "      <td>0.682315</td>\n",
       "      <td>0.538462</td>\n",
       "      <td>0.812623</td>\n",
       "      <td>0.635838</td>\n",
       "      <td>0.720307</td>\n",
       "      <td>0.704348</td>\n",
       "    </tr>\n",
       "    <tr>\n",
       "      <td>1500</td>\n",
       "      <td>0.269600</td>\n",
       "      <td>0.384388</td>\n",
       "      <td>0.711921</td>\n",
       "      <td>0.658106</td>\n",
       "      <td>0.506667</td>\n",
       "      <td>0.804040</td>\n",
       "      <td>0.644444</td>\n",
       "      <td>0.606635</td>\n",
       "      <td>0.728745</td>\n",
       "    </tr>\n",
       "    <tr>\n",
       "      <td>1550</td>\n",
       "      <td>0.300700</td>\n",
       "      <td>0.379753</td>\n",
       "      <td>0.722581</td>\n",
       "      <td>0.662089</td>\n",
       "      <td>0.450704</td>\n",
       "      <td>0.808765</td>\n",
       "      <td>0.645161</td>\n",
       "      <td>0.683128</td>\n",
       "      <td>0.722689</td>\n",
       "    </tr>\n",
       "    <tr>\n",
       "      <td>1600</td>\n",
       "      <td>0.281700</td>\n",
       "      <td>0.384923</td>\n",
       "      <td>0.725973</td>\n",
       "      <td>0.674896</td>\n",
       "      <td>0.519481</td>\n",
       "      <td>0.813492</td>\n",
       "      <td>0.655738</td>\n",
       "      <td>0.666667</td>\n",
       "      <td>0.719101</td>\n",
       "    </tr>\n",
       "    <tr>\n",
       "      <td>1650</td>\n",
       "      <td>0.287000</td>\n",
       "      <td>0.380264</td>\n",
       "      <td>0.735341</td>\n",
       "      <td>0.681846</td>\n",
       "      <td>0.512821</td>\n",
       "      <td>0.817829</td>\n",
       "      <td>0.651163</td>\n",
       "      <td>0.693548</td>\n",
       "      <td>0.733871</td>\n",
       "    </tr>\n",
       "    <tr>\n",
       "      <td>1700</td>\n",
       "      <td>0.253300</td>\n",
       "      <td>0.381109</td>\n",
       "      <td>0.741835</td>\n",
       "      <td>0.692765</td>\n",
       "      <td>0.543210</td>\n",
       "      <td>0.819923</td>\n",
       "      <td>0.651429</td>\n",
       "      <td>0.717557</td>\n",
       "      <td>0.731707</td>\n",
       "    </tr>\n",
       "    <tr>\n",
       "      <td>1750</td>\n",
       "      <td>0.271200</td>\n",
       "      <td>0.380698</td>\n",
       "      <td>0.737834</td>\n",
       "      <td>0.682126</td>\n",
       "      <td>0.519481</td>\n",
       "      <td>0.822857</td>\n",
       "      <td>0.627907</td>\n",
       "      <td>0.715385</td>\n",
       "      <td>0.725000</td>\n",
       "    </tr>\n",
       "    <tr>\n",
       "      <td>1800</td>\n",
       "      <td>0.305300</td>\n",
       "      <td>0.378108</td>\n",
       "      <td>0.737089</td>\n",
       "      <td>0.680330</td>\n",
       "      <td>0.486486</td>\n",
       "      <td>0.818533</td>\n",
       "      <td>0.655914</td>\n",
       "      <td>0.710425</td>\n",
       "      <td>0.730290</td>\n",
       "    </tr>\n",
       "    <tr>\n",
       "      <td>1850</td>\n",
       "      <td>0.282000</td>\n",
       "      <td>0.376325</td>\n",
       "      <td>0.736842</td>\n",
       "      <td>0.686373</td>\n",
       "      <td>0.526316</td>\n",
       "      <td>0.820312</td>\n",
       "      <td>0.663158</td>\n",
       "      <td>0.699187</td>\n",
       "      <td>0.722892</td>\n",
       "    </tr>\n",
       "    <tr>\n",
       "      <td>1900</td>\n",
       "      <td>0.274400</td>\n",
       "      <td>0.376905</td>\n",
       "      <td>0.736842</td>\n",
       "      <td>0.685540</td>\n",
       "      <td>0.526316</td>\n",
       "      <td>0.819417</td>\n",
       "      <td>0.655914</td>\n",
       "      <td>0.688797</td>\n",
       "      <td>0.737255</td>\n",
       "    </tr>\n",
       "  </tbody>\n",
       "</table><p>"
      ],
      "text/plain": [
       "<IPython.core.display.HTML object>"
      ]
     },
     "metadata": {},
     "output_type": "display_data"
    },
    {
     "data": {
      "text/plain": [
       "TrainOutput(global_step=1938, training_loss=0.36503237713478176, metrics={'train_runtime': 260.9781, 'train_samples_per_second': 14.844, 'train_steps_per_second': 7.426, 'total_flos': 55199308434264.0, 'train_loss': 0.36503237713478176, 'epoch': 2.0})"
      ]
     },
     "execution_count": 27,
     "metadata": {},
     "output_type": "execute_result"
    }
   ],
   "source": [
    "trainer.train()"
   ]
  },
  {
   "cell_type": "code",
   "execution_count": 31,
   "metadata": {},
   "outputs": [
    {
     "data": {
      "application/vnd.jupyter.widget-view+json": {
       "model_id": "820e6ad5e8dc49c889384f6b9c23f99d",
       "version_major": 2,
       "version_minor": 0
      },
      "text/plain": [
       "events.out.tfevents.1730043424.53a70d13144a.21460.0:   0%|          | 0.00/38.9k [00:00<?, ?B/s]"
      ]
     },
     "metadata": {},
     "output_type": "display_data"
    },
    {
     "data": {
      "application/vnd.jupyter.widget-view+json": {
       "model_id": "17a85fa030464fc3827e68e5399300d9",
       "version_major": 2,
       "version_minor": 0
      },
      "text/plain": [
       "model.safetensors:   0%|          | 0.00/438M [00:00<?, ?B/s]"
      ]
     },
     "metadata": {},
     "output_type": "display_data"
    },
    {
     "data": {
      "application/vnd.jupyter.widget-view+json": {
       "model_id": "e5da45ed173a4adb864214594f31f3e8",
       "version_major": 2,
       "version_minor": 0
      },
      "text/plain": [
       "Upload 6 LFS files:   0%|          | 0/6 [00:00<?, ?it/s]"
      ]
     },
     "metadata": {},
     "output_type": "display_data"
    },
    {
     "data": {
      "application/vnd.jupyter.widget-view+json": {
       "model_id": "c3c0b202e3dc475a93c8c9ca8e817224",
       "version_major": 2,
       "version_minor": 0
      },
      "text/plain": [
       "events.out.tfevents.1730043586.53a70d13144a.21460.1:   0%|          | 0.00/751 [00:00<?, ?B/s]"
      ]
     },
     "metadata": {},
     "output_type": "display_data"
    },
    {
     "data": {
      "application/vnd.jupyter.widget-view+json": {
       "model_id": "b7917ef58d574bd8825be18de32d1754",
       "version_major": 2,
       "version_minor": 0
      },
      "text/plain": [
       "events.out.tfevents.1730043914.53a70d13144a.21460.3:   0%|          | 0.00/1.41k [00:00<?, ?B/s]"
      ]
     },
     "metadata": {},
     "output_type": "display_data"
    },
    {
     "data": {
      "application/vnd.jupyter.widget-view+json": {
       "model_id": "075cddc1fed44e5d9d9791117e2093f6",
       "version_major": 2,
       "version_minor": 0
      },
      "text/plain": [
       "events.out.tfevents.1730043646.53a70d13144a.21460.2:   0%|          | 0.00/38.9k [00:00<?, ?B/s]"
      ]
     },
     "metadata": {},
     "output_type": "display_data"
    },
    {
     "data": {
      "application/vnd.jupyter.widget-view+json": {
       "model_id": "d9a37456fa0746b3b5a29f0240b9a0bf",
       "version_major": 2,
       "version_minor": 0
      },
      "text/plain": [
       "training_args.bin:   0%|          | 0.00/5.24k [00:00<?, ?B/s]"
      ]
     },
     "metadata": {},
     "output_type": "display_data"
    },
    {
     "data": {
      "application/vnd.google.colaboratory.intrinsic+json": {
       "type": "string"
      },
      "text/plain": [
       "CommitInfo(commit_url='https://huggingface.co/alxxtexxr/BERT-Base-SE2025T11A-eng-v0.4/commit/543efe1e6aca7cc65e04297b9a78460d034e1be5', commit_message='End of training', commit_description='', oid='543efe1e6aca7cc65e04297b9a78460d034e1be5', pr_url=None, pr_revision=None, pr_num=None)"
      ]
     },
     "execution_count": 31,
     "metadata": {},
     "output_type": "execute_result"
    }
   ],
   "source": [
    "trainer.push_to_hub()"
   ]
  },
  {
   "cell_type": "markdown",
   "metadata": {},
   "source": [
    "# Evaluation"
   ]
  },
  {
   "cell_type": "code",
   "execution_count": 29,
   "metadata": {},
   "outputs": [
    {
     "data": {
      "text/plain": [
       "{'eval_loss': 0.4005555510520935,\n",
       " 'eval_f1_micro': 0.7371695178849145,\n",
       " 'eval_f1_macro': 0.6942271204292378,\n",
       " 'eval_f1_label_anger': 0.5783132530120482,\n",
       " 'eval_f1_label_fear': 0.8336673346693386,\n",
       " 'eval_f1_label_joy': 0.6764705882352942,\n",
       " 'eval_f1_label_sad': 0.6639344262295082,\n",
       " 'eval_f1_label_surprise': 0.71875,\n",
       " 'eval_runtime': 2.907,\n",
       " 'eval_samples_per_second': 143.101,\n",
       " 'eval_steps_per_second': 71.551,\n",
       " 'epoch': 2.0}"
      ]
     },
     "execution_count": 29,
     "metadata": {},
     "output_type": "execute_result"
    }
   ],
   "source": [
    "trainer.evaluate(eval_dataset=tokenized_datasets['test'])"
   ]
  },
  {
   "cell_type": "markdown",
   "metadata": {},
   "source": [
    "# Inference"
   ]
  },
  {
   "cell_type": "code",
   "execution_count": 32,
   "metadata": {},
   "outputs": [
    {
     "name": "stdout",
     "output_type": "stream",
     "text": [
      "Text: I live completely alone, and as I pull the popcorn out of the pantry, I hear an ominously distinct \"SSSSHHHH\" sound.\n",
      "True emotion(s): fear, surprise\n",
      "Predicted emotion(s): fear, surprise\n"
     ]
    }
   ],
   "source": [
    "data = datasets['val'][4]\n",
    "text = data['text']\n",
    "emotion_true = data['emotion']\n",
    "\n",
    "inputs = tokenizer(text, return_tensors='pt').to(model.device)\n",
    "\n",
    "outputs = trainer.model(**inputs)\n",
    "logits = outputs.logits\n",
    "probs = sigmoid(logits.squeeze().detach().cpu().numpy()) # apply sigmoid + threshold\n",
    "labels_pred = (probs > 0.5).astype(int)\n",
    "emotion_pred = [id2class[idx] for idx, label in enumerate(labels_pred) if label == 1.0] # turn predicted id's into actual label names\n",
    "\n",
    "print(\"Text:\", text)\n",
    "print(\"True emotion(s):\", emotion_true)\n",
    "print(\"Predicted emotion(s):\", \", \".join(emotion_pred))"
   ]
  }
 ],
 "metadata": {
  "kernelspec": {
   "display_name": "Python 3",
   "language": "python",
   "name": "python3"
  },
  "language_info": {
   "codemirror_mode": {
    "name": "ipython",
    "version": 3
   },
   "file_extension": ".py",
   "mimetype": "text/x-python",
   "name": "python",
   "nbconvert_exporter": "python",
   "pygments_lexer": "ipython3",
   "version": "3.10.12"
  }
 },
 "nbformat": 4,
 "nbformat_minor": 2
}
